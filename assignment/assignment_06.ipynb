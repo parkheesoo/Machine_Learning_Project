{
  "nbformat": 4,
  "nbformat_minor": 0,
  "metadata": {
    "colab": {
      "name": "assignment_02.ipynb",
      "provenance": [],
      "collapsed_sections": []
    },
    "interpreter": {
      "hash": "40d3a090f54c6569ab1632332b64b2c03c39dcf918b08424e98f38b5ae0af88f"
    },
    "kernelspec": {
      "display_name": "Python 3",
      "language": "python",
      "name": "python3"
    },
    "language_info": {
      "codemirror_mode": {
        "name": "ipython",
        "version": 3
      },
      "file_extension": ".py",
      "mimetype": "text/x-python",
      "name": "python",
      "nbconvert_exporter": "python",
      "pygments_lexer": "ipython3",
      "version": "3.8.5"
    }
  },
  "cells": [
    {
      "cell_type": "markdown",
      "metadata": {
        "id": "K29I-OwCEYzW",
        "outputId": "db8b297c-a4b8-457a-b43f-7570135306c7"
      },
      "source": [
        "# Multi-class classification based on Softmax and Cross-Entropy using pytorch"
      ]
    },
    {
      "cell_type": "markdown",
      "metadata": {
        "id": "pC10p9hA2Dq1"
      },
      "source": [
        "## import libraries"
      ]
    },
    {
      "cell_type": "code",
      "metadata": {
        "id": "fXEluXYG2Dq2"
      },
      "source": [
        "import torch\n",
        "import torch.nn as nn\n",
        "import torch.nn.functional as F\n",
        "import torchvision\n",
        "from torch.utils.data import Dataset\n",
        "from torchvision import datasets, transforms\n",
        "import torchvision.transforms.functional as F\n",
        "import numpy as np\n",
        "import matplotlib.pyplot as plt\n",
        "import math\n",
        "from tqdm import tqdm\n",
        "import random\n",
        "import os"
      ],
      "execution_count": 31,
      "outputs": []
    },
    {
      "cell_type": "markdown",
      "metadata": {
        "id": "4jnr5isU2Dq5"
      },
      "source": [
        "## load data"
      ]
    },
    {
      "cell_type": "code",
      "metadata": {
        "colab": {
          "base_uri": "https://localhost:8080/"
        },
        "id": "_YYx-t8e2Dq6",
        "outputId": "6e8a49b4-22c9-4d8b-c9c3-02400b1a1046"
      },
      "source": [
        "#directory_data  = '/assignment_06_data.npz'\n",
        "filename_data   = '/assignment_06_data.npz'\n",
        "data            = np.load(os.path.join(filename_data))\n",
        "\n",
        "x_train = data['x_train']\n",
        "y_train = data['y_train']\n",
        "\n",
        "x_test  = data['x_test']\n",
        "y_test  = data['y_test']\n",
        "\n",
        "num_data_train  = x_train.shape[0]\n",
        "num_data_test   = x_test.shape[0]\n",
        "\n",
        "print('*************************************************')\n",
        "print('size of x_train :', x_train.shape)\n",
        "print('size of y_train :', y_train.shape)\n",
        "print('*************************************************')\n",
        "print('size of x_test :', x_test.shape)\n",
        "print('size of y_test :', y_test.shape)\n",
        "print('*************************************************')\n",
        "print('number of training image :', x_train.shape[0])\n",
        "print('height of training image :', x_train.shape[1])\n",
        "print('width of training image :', x_train.shape[2])\n",
        "print('*************************************************')\n",
        "print('number of testing image :', x_test.shape[0])\n",
        "print('height of testing image :', x_test.shape[1])\n",
        "print('width of testing image :', x_test.shape[2])\n",
        "print('*************************************************')"
      ],
      "execution_count": 32,
      "outputs": [
        {
          "output_type": "stream",
          "name": "stdout",
          "text": [
            "*************************************************\n",
            "size of x_train : (20000, 32, 32)\n",
            "size of y_train : (20000,)\n",
            "*************************************************\n",
            "size of x_test : (8000, 32, 32)\n",
            "size of y_test : (8000,)\n",
            "*************************************************\n",
            "number of training image : 20000\n",
            "height of training image : 32\n",
            "width of training image : 32\n",
            "*************************************************\n",
            "number of testing image : 8000\n",
            "height of testing image : 32\n",
            "width of testing image : 32\n",
            "*************************************************\n"
          ]
        }
      ]
    },
    {
      "cell_type": "markdown",
      "metadata": {
        "id": "kQRI7M9W2Dq9"
      },
      "source": [
        "## number of classes"
      ]
    },
    {
      "cell_type": "code",
      "metadata": {
        "colab": {
          "base_uri": "https://localhost:8080/"
        },
        "id": "dlEXUMu52Dq9",
        "outputId": "30c31d1a-87ae-44ce-aa72-e5f0dbedf0d9"
      },
      "source": [
        "print('*************************************************')\n",
        "print('number of classes :', len(set(y_train)))\n",
        "print('*************************************************')"
      ],
      "execution_count": 33,
      "outputs": [
        {
          "output_type": "stream",
          "name": "stdout",
          "text": [
            "*************************************************\n",
            "number of classes : 10\n",
            "*************************************************\n"
          ]
        }
      ]
    },
    {
      "cell_type": "markdown",
      "metadata": {
        "id": "Gx_ui_2x2Dq-"
      },
      "source": [
        "## hyper-parameters"
      ]
    },
    {
      "cell_type": "code",
      "metadata": {
        "id": "Gq23V1Cj2Dq_"
      },
      "source": [
        "device          = torch.device('cuda' if torch.cuda.is_available() else 'cpu')\n",
        "\n",
        "number_epoch    = 100\n",
        "size_minibatch  = 32\n",
        "learning_rate   = 0.01\n",
        "weight_decay    = 1e-2"
      ],
      "execution_count": 34,
      "outputs": []
    },
    {
      "cell_type": "markdown",
      "metadata": {
        "id": "cEO1asOL2DrA"
      },
      "source": [
        "## custom data loader for the PyTorch framework"
      ]
    },
    {
      "cell_type": "code",
      "metadata": {
        "id": "px_vcFXJ2DrA"
      },
      "source": [
        "class dataset(Dataset):\n",
        "    \n",
        "    def __init__(self, image, label):\n",
        "        \n",
        "        self.image  = image\n",
        "        self.label  = label.astype(np.long)\n",
        "    \n",
        "    def __getitem__(self, index):\n",
        "        \n",
        "        image   = self.image[index, :, :]\n",
        "        label   = self.label[index, ]\n",
        "\n",
        "        image   = torch.FloatTensor(image).unsqueeze(dim=0)\n",
        "        label   = torch.LongTensor([label])\n",
        "\n",
        "        return image, label\n",
        "    \n",
        "    def __len__(self):\n",
        "        \n",
        "        return self.image.shape[0]\n",
        "\n",
        "    def collate_fn(self, batch):\n",
        "        images  = list()\n",
        "        labels  = list()\n",
        "\n",
        "        for b in batch:\n",
        "            images.append(b[0])\n",
        "            labels.append(b[1])\n",
        "\n",
        "        images  = torch.stack(images, dim=0)\n",
        "        labels  = torch.stack(labels, dim=0).squeeze()\n",
        "\n",
        "        return images, labels\n",
        "        "
      ],
      "execution_count": 35,
      "outputs": []
    },
    {
      "cell_type": "markdown",
      "metadata": {
        "id": "bFqR_JDO2DrC"
      },
      "source": [
        "## construct datasets and dataloaders for training and testing"
      ]
    },
    {
      "cell_type": "code",
      "metadata": {
        "id": "XrPWNIXx2DrC"
      },
      "source": [
        "dataset_train   = dataset(x_train, y_train)\n",
        "dataset_test    = dataset(x_test, y_test)\n",
        "\n",
        "dataloader_train    = torch.utils.data.DataLoader(dataset_train, batch_size=size_minibatch, shuffle=True, drop_last=True, collate_fn=dataset_train.collate_fn)\n",
        "dataloader_test     = torch.utils.data.DataLoader(dataset_test, batch_size=size_minibatch, shuffle=True, drop_last=True, collate_fn=dataset_test.collate_fn)"
      ],
      "execution_count": 36,
      "outputs": []
    },
    {
      "cell_type": "markdown",
      "metadata": {
        "id": "jilHpFSR2DrD"
      },
      "source": [
        "## shape of the data when using the data loader"
      ]
    },
    {
      "cell_type": "code",
      "metadata": {
        "colab": {
          "base_uri": "https://localhost:8080/"
        },
        "id": "3ATJBhl72DrE",
        "outputId": "b9b695c6-0d6c-4fd3-f029-cc515e277b97"
      },
      "source": [
        "image, label    = next(iter(dataloader_train))\n",
        "print('************************************************************')\n",
        "print('size of mini-batch of the image:', image.shape)\n",
        "print('************************************************************')\n",
        "print('size of mini-batch of the label:', label.shape)\n",
        "print('************************************************************')"
      ],
      "execution_count": 37,
      "outputs": [
        {
          "output_type": "stream",
          "name": "stdout",
          "text": [
            "************************************************************\n",
            "size of mini-batch of the image: torch.Size([32, 1, 32, 32])\n",
            "************************************************************\n",
            "size of mini-batch of the label: torch.Size([32])\n",
            "************************************************************\n"
          ]
        }
      ]
    },
    {
      "cell_type": "markdown",
      "metadata": {
        "id": "gQnCBDmd2DrE"
      },
      "source": [
        "## class for the neural network "
      ]
    },
    {
      "cell_type": "code",
      "metadata": {
        "id": "vtqo4EY_2DrF"
      },
      "source": [
        "class Classifier(nn.Module):\n",
        "    def __init__(self):\n",
        "        super(Classifier, self).__init__()\n",
        "\n",
        "        self.feature    = nn.Sequential(\n",
        "            nn.Conv2d(in_channels=1, out_channels=2, kernel_size=3, stride=1, padding=1, bias=True),\n",
        "            nn.MaxPool2d(kernel_size=2, stride=2),\n",
        "            nn.ReLU(),\n",
        "\n",
        "            nn.Conv2d(in_channels=2, out_channels=4, kernel_size=3, stride=1, padding=1, bias=True),\n",
        "            nn.MaxPool2d(kernel_size=2, stride=2),\n",
        "            nn.ReLU(),\n",
        "\n",
        "            nn.Conv2d(in_channels=4, out_channels=8, kernel_size=3, stride=1, padding=1, bias=True),\n",
        "            nn.MaxPool2d(kernel_size=2, stride=2),\n",
        "            nn.ReLU(),\n",
        "        )\n",
        "\n",
        "        self.classifier = nn.Sequential(\n",
        "            nn.Linear(128, 64, bias=True),\n",
        "            nn.ReLU(),\n",
        "            nn.Linear(64, 10, bias=True),\n",
        "        )\n",
        "\n",
        "        self.network    = nn.Sequential(\n",
        "            self.feature,\n",
        "            nn.Flatten(),\n",
        "            self.classifier,\n",
        "        )\n",
        "\n",
        "        self.initialize()\n",
        "\n",
        "\n",
        "    def initialize(self):\n",
        "\n",
        "        for m in self.network.modules():\n",
        "\n",
        "            if isinstance(m, nn.Conv2d):\n",
        "\n",
        "                nn.init.constant_(m.weight, 0.01)\n",
        "                nn.init.constant_(m.bias, 1)\n",
        "\n",
        "            elif isinstance(m, nn.Linear):\n",
        "\n",
        "                nn.init.constant_(m.weight, 0.01)\n",
        "                nn.init.constant_(m.bias, 1)\n",
        "\n",
        "\n",
        "    def forward(self, input):\n",
        "\n",
        "        output = self.network(input)\n",
        "\n",
        "        return output\n",
        "\n",
        "    "
      ],
      "execution_count": 38,
      "outputs": []
    },
    {
      "cell_type": "markdown",
      "metadata": {
        "id": "MDOO_tlX2DrG"
      },
      "source": [
        "## build network"
      ]
    },
    {
      "cell_type": "code",
      "metadata": {
        "id": "ElqtWN9a2DrH"
      },
      "source": [
        "classifier  = Classifier().to(device)\n",
        "optimizer   = torch.optim.SGD(classifier.parameters(), lr=learning_rate, weight_decay=weight_decay)"
      ],
      "execution_count": 39,
      "outputs": []
    },
    {
      "cell_type": "markdown",
      "metadata": {
        "id": "z6KOS3L-2DrI"
      },
      "source": [
        "## print the defined neural network"
      ]
    },
    {
      "cell_type": "code",
      "metadata": {
        "colab": {
          "base_uri": "https://localhost:8080/"
        },
        "id": "tdx9gJsD2DrI",
        "outputId": "1bb359cd-8bed-4dc3-839d-6afa11cc89d5"
      },
      "source": [
        "print(classifier)"
      ],
      "execution_count": 40,
      "outputs": [
        {
          "output_type": "stream",
          "name": "stdout",
          "text": [
            "Classifier(\n",
            "  (feature): Sequential(\n",
            "    (0): Conv2d(1, 2, kernel_size=(3, 3), stride=(1, 1), padding=(1, 1))\n",
            "    (1): MaxPool2d(kernel_size=2, stride=2, padding=0, dilation=1, ceil_mode=False)\n",
            "    (2): ReLU()\n",
            "    (3): Conv2d(2, 4, kernel_size=(3, 3), stride=(1, 1), padding=(1, 1))\n",
            "    (4): MaxPool2d(kernel_size=2, stride=2, padding=0, dilation=1, ceil_mode=False)\n",
            "    (5): ReLU()\n",
            "    (6): Conv2d(4, 8, kernel_size=(3, 3), stride=(1, 1), padding=(1, 1))\n",
            "    (7): MaxPool2d(kernel_size=2, stride=2, padding=0, dilation=1, ceil_mode=False)\n",
            "    (8): ReLU()\n",
            "  )\n",
            "  (classifier): Sequential(\n",
            "    (0): Linear(in_features=128, out_features=64, bias=True)\n",
            "    (1): ReLU()\n",
            "    (2): Linear(in_features=64, out_features=10, bias=True)\n",
            "  )\n",
            "  (network): Sequential(\n",
            "    (0): Sequential(\n",
            "      (0): Conv2d(1, 2, kernel_size=(3, 3), stride=(1, 1), padding=(1, 1))\n",
            "      (1): MaxPool2d(kernel_size=2, stride=2, padding=0, dilation=1, ceil_mode=False)\n",
            "      (2): ReLU()\n",
            "      (3): Conv2d(2, 4, kernel_size=(3, 3), stride=(1, 1), padding=(1, 1))\n",
            "      (4): MaxPool2d(kernel_size=2, stride=2, padding=0, dilation=1, ceil_mode=False)\n",
            "      (5): ReLU()\n",
            "      (6): Conv2d(4, 8, kernel_size=(3, 3), stride=(1, 1), padding=(1, 1))\n",
            "      (7): MaxPool2d(kernel_size=2, stride=2, padding=0, dilation=1, ceil_mode=False)\n",
            "      (8): ReLU()\n",
            "    )\n",
            "    (1): Flatten(start_dim=1, end_dim=-1)\n",
            "    (2): Sequential(\n",
            "      (0): Linear(in_features=128, out_features=64, bias=True)\n",
            "      (1): ReLU()\n",
            "      (2): Linear(in_features=64, out_features=10, bias=True)\n",
            "    )\n",
            "  )\n",
            ")\n"
          ]
        }
      ]
    },
    {
      "cell_type": "markdown",
      "metadata": {
        "id": "gGmCDXRJ2DrJ"
      },
      "source": [
        "## compute the prediction"
      ]
    },
    {
      "cell_type": "code",
      "metadata": {
        "id": "YHJkQxYl2DrJ"
      },
      "source": [
        "def compute_prediction(model, input):\n",
        "\n",
        "    prediction = model(input)\n",
        "\n",
        "    return prediction"
      ],
      "execution_count": 41,
      "outputs": []
    },
    {
      "cell_type": "markdown",
      "metadata": {
        "id": "BKdCRnrl2DrK"
      },
      "source": [
        "## compute the loss"
      ]
    },
    {
      "cell_type": "code",
      "metadata": {
        "id": "DAxUH3tG2DrL"
      },
      "source": [
        "def compute_loss(prediction, label):\n",
        "    criterion   = torch.nn.CrossEntropyLoss().to(device)\n",
        "    loss        = criterion(prediction, label)\n",
        "    loss_value  = loss.item()\n",
        "\n",
        "    return loss, loss_value"
      ],
      "execution_count": 77,
      "outputs": []
    },
    {
      "cell_type": "markdown",
      "metadata": {
        "id": "Zvk5p7J_2DrL"
      },
      "source": [
        "## compute the accuracy"
      ]
    },
    {
      "cell_type": "code",
      "metadata": {
        "id": "SxWekYNA2DrL"
      },
      "source": [
        "def compute_accuracy(prediction, label):\n",
        "    y_pred = torch.argmax(prediction, dim=1)\n",
        "    return (y_pred == label).to(torch.float).mean()"
      ],
      "execution_count": 78,
      "outputs": []
    },
    {
      "cell_type": "markdown",
      "metadata": {
        "id": "HsWoWPzN2DrM"
      },
      "source": [
        "## variables for the learning curve"
      ]
    },
    {
      "cell_type": "code",
      "metadata": {
        "id": "IVvnqfU-2DrM"
      },
      "source": [
        "loss_mean_train     = np.zeros(number_epoch)\n",
        "loss_std_train      = np.zeros(number_epoch)\n",
        "accuracy_mean_train = np.zeros(number_epoch)\n",
        "accuracy_std_train  = np.zeros(number_epoch)\n",
        "\n",
        "loss_mean_test      = np.zeros(number_epoch)\n",
        "loss_std_test       = np.zeros(number_epoch)\n",
        "accuracy_mean_test  = np.zeros(number_epoch)\n",
        "accuracy_std_test   = np.zeros(number_epoch)"
      ],
      "execution_count": 79,
      "outputs": []
    },
    {
      "cell_type": "markdown",
      "metadata": {
        "id": "Lz9yKHyJ2DrM"
      },
      "source": [
        "## train and test"
      ]
    },
    {
      "cell_type": "code",
      "metadata": {
        "colab": {
          "base_uri": "https://localhost:8080/",
          "height": 1000
        },
        "id": "tE-USYut2DrN",
        "outputId": "6f4cf88e-39bf-4cca-b8e0-edcb82c9d7c1"
      },
      "source": [
        "for i in tqdm(range(number_epoch)):\n",
        "    loss_train_epoch        = []\n",
        "    accuracy_train_epoch    = []\n",
        "\n",
        "    classifier.train()\n",
        "\n",
        "    for index_batch, (image_train, label_train) in enumerate(dataloader_train):\n",
        "\n",
        "        image_train = image_train.to(device)\n",
        "        label_train = label_train.to(device)\n",
        "        \n",
        "        prediction_train                = compute_prediction(classifier, image_train)\n",
        "        loss_train, loss_value_train    = compute_loss(prediction_train, label_train)\n",
        "        accuracy_train                  = compute_accuracy(prediction_train, image_train)\n",
        "        \n",
        "        optimizer.zero_grad()\n",
        "        loss_train.backward()\n",
        "        optimizer.step()\n",
        "        \n",
        "        loss_train_epoch.append(loss_value_train)\n",
        "        accuracy_train_epoch.append(accuracy_train)\n",
        "\n",
        "    loss_mean_train[i]      = np.mean(loss_train_epoch)\n",
        "    loss_std_train[i]       = np.std(loss_train_epoch)\n",
        "\n",
        "    accuracy_mean_train[i]  = np.mean(accuracy_train_epoch)\n",
        "    accuracy_std_train[i]   = np.std(accuracy_train_epoch)\n",
        "\n",
        "    # ================================================================================\n",
        "    # \n",
        "    # testing\n",
        "    #\n",
        "    # ================================================================================\n",
        "    loss_test_epoch        = []\n",
        "    accuracy_test_epoch    = []\n",
        "\n",
        "    classifier.eval()\n",
        "\n",
        "    for index_batch, (image_test, label_test) in enumerate(dataloader_test):\n",
        "\n",
        "        image_test = image_test.to(device)\n",
        "        label_test = label_test.to(device)\n",
        "        \n",
        "        prediction_test             = compute_prediction(classifier, image_test)\n",
        "        loss_test, loss_value_test  = compute_loss(prediction_test, label_test)\n",
        "        accuracy_test               = compute_accuracy(prediction_test, label_test)\n",
        "\n",
        "        loss_test_epoch.append(loss_value_test)\n",
        "        accuracy_test_epoch.append(accuracy_test)\n",
        "\n",
        "    loss_mean_test[i]      = np.mean(loss_test_epoch)\n",
        "    loss_std_test[i]       = np.std(loss_test_epoch)\n",
        "\n",
        "    accuracy_mean_test[i]  = np.mean(accuracy_test_epoch)\n",
        "    accuracy_std_test[i]   = np.std(accuracy_test_epoch)"
      ],
      "execution_count": 80,
      "outputs": [
        {
          "output_type": "stream",
          "name": "stderr",
          "text": [
            "\r  0%|          | 0/100 [00:00<?, ?it/s]"
          ]
        },
        {
          "output_type": "stream",
          "name": "stdout",
          "text": [
            "tensor(2.3034, grad_fn=<NllLossBackward>) 2.3033602237701416\n",
            "tensor(2.3017, grad_fn=<NllLossBackward>) 2.3017311096191406\n",
            "tensor(2.3031, grad_fn=<NllLossBackward>) 2.3030693531036377\n",
            "tensor(2.3010, grad_fn=<NllLossBackward>) 2.301006317138672\n",
            "tensor(2.3020, grad_fn=<NllLossBackward>) 2.301964282989502\n",
            "tensor(2.3025, grad_fn=<NllLossBackward>) 2.3024532794952393\n",
            "tensor(2.3025, grad_fn=<NllLossBackward>) 2.302504062652588\n",
            "tensor(2.3036, grad_fn=<NllLossBackward>) 2.303616762161255\n",
            "tensor(2.3022, grad_fn=<NllLossBackward>) 2.3022446632385254\n",
            "tensor(2.3016, grad_fn=<NllLossBackward>) 2.30161190032959\n",
            "tensor(2.3027, grad_fn=<NllLossBackward>) 2.3026750087738037\n",
            "tensor(2.3038, grad_fn=<NllLossBackward>) 2.303844451904297\n",
            "tensor(2.3041, grad_fn=<NllLossBackward>) 2.3040919303894043\n",
            "tensor(2.3044, grad_fn=<NllLossBackward>) 2.304394483566284\n",
            "tensor(2.3021, grad_fn=<NllLossBackward>) 2.3020591735839844\n",
            "tensor(2.3024, grad_fn=<NllLossBackward>) 2.302448034286499\n",
            "tensor(2.3025, grad_fn=<NllLossBackward>) 2.302457809448242\n",
            "tensor(2.3043, grad_fn=<NllLossBackward>) 2.304276704788208\n",
            "tensor(2.3031, grad_fn=<NllLossBackward>) 2.303070545196533\n",
            "tensor(2.3036, grad_fn=<NllLossBackward>) 2.3036067485809326\n",
            "tensor(2.3037, grad_fn=<NllLossBackward>) 2.303652763366699\n",
            "tensor(2.3016, grad_fn=<NllLossBackward>) 2.3016035556793213\n",
            "tensor(2.3039, grad_fn=<NllLossBackward>) 2.303873062133789\n",
            "tensor(2.3032, grad_fn=<NllLossBackward>) 2.3032240867614746\n",
            "tensor(2.3027, grad_fn=<NllLossBackward>) 2.302748918533325\n",
            "tensor(2.3030, grad_fn=<NllLossBackward>) 2.3029897212982178\n",
            "tensor(2.3012, grad_fn=<NllLossBackward>) 2.3012161254882812\n",
            "tensor(2.3033, grad_fn=<NllLossBackward>) 2.3032612800598145\n",
            "tensor(2.3046, grad_fn=<NllLossBackward>) 2.3045907020568848\n",
            "tensor(2.3029, grad_fn=<NllLossBackward>) 2.3029205799102783\n",
            "tensor(2.3032, grad_fn=<NllLossBackward>) 2.3031625747680664\n",
            "tensor(2.3031, grad_fn=<NllLossBackward>) 2.303133010864258\n",
            "tensor(2.3019, grad_fn=<NllLossBackward>) 2.3019471168518066\n",
            "tensor(2.3025, grad_fn=<NllLossBackward>) 2.302537202835083\n",
            "tensor(2.3030, grad_fn=<NllLossBackward>) 2.3029911518096924\n",
            "tensor(2.3034, grad_fn=<NllLossBackward>) 2.303410291671753\n",
            "tensor(2.3027, grad_fn=<NllLossBackward>) 2.3026859760284424\n",
            "tensor(2.3034, grad_fn=<NllLossBackward>) 2.3033597469329834\n",
            "tensor(2.3012, grad_fn=<NllLossBackward>) 2.301168441772461\n",
            "tensor(2.3045, grad_fn=<NllLossBackward>) 2.3044631481170654\n",
            "tensor(2.3039, grad_fn=<NllLossBackward>) 2.303945541381836\n",
            "tensor(2.3020, grad_fn=<NllLossBackward>) 2.3020102977752686\n",
            "tensor(2.3023, grad_fn=<NllLossBackward>) 2.302347421646118\n",
            "tensor(2.3035, grad_fn=<NllLossBackward>) 2.303450584411621\n",
            "tensor(2.3035, grad_fn=<NllLossBackward>) 2.303452253341675\n",
            "tensor(2.3025, grad_fn=<NllLossBackward>) 2.302510976791382\n",
            "tensor(2.3026, grad_fn=<NllLossBackward>) 2.3026015758514404\n",
            "tensor(2.3027, grad_fn=<NllLossBackward>) 2.302731513977051\n",
            "tensor(2.3027, grad_fn=<NllLossBackward>) 2.3026530742645264\n",
            "tensor(2.3025, grad_fn=<NllLossBackward>) 2.3024520874023438\n",
            "tensor(2.3020, grad_fn=<NllLossBackward>) 2.301957130432129\n",
            "tensor(2.3024, grad_fn=<NllLossBackward>) 2.3023622035980225\n",
            "tensor(2.3024, grad_fn=<NllLossBackward>) 2.30244517326355\n",
            "tensor(2.3033, grad_fn=<NllLossBackward>) 2.303295850753784\n",
            "tensor(2.3037, grad_fn=<NllLossBackward>) 2.3037233352661133\n",
            "tensor(2.3021, grad_fn=<NllLossBackward>) 2.3020620346069336\n",
            "tensor(2.3029, grad_fn=<NllLossBackward>) 2.3028762340545654\n",
            "tensor(2.3030, grad_fn=<NllLossBackward>) 2.302963972091675\n",
            "tensor(2.3022, grad_fn=<NllLossBackward>) 2.302189350128174\n",
            "tensor(2.3029, grad_fn=<NllLossBackward>) 2.302875518798828\n",
            "tensor(2.3027, grad_fn=<NllLossBackward>) 2.3027029037475586\n",
            "tensor(2.3036, grad_fn=<NllLossBackward>) 2.3035571575164795\n",
            "tensor(2.3031, grad_fn=<NllLossBackward>) 2.3031463623046875\n",
            "tensor(2.3018, grad_fn=<NllLossBackward>) 2.301758289337158\n",
            "tensor(2.3043, grad_fn=<NllLossBackward>) 2.3043112754821777\n",
            "tensor(2.3023, grad_fn=<NllLossBackward>) 2.3022751808166504\n",
            "tensor(2.3041, grad_fn=<NllLossBackward>) 2.304104804992676\n",
            "tensor(2.3041, grad_fn=<NllLossBackward>) 2.30411434173584\n",
            "tensor(2.3023, grad_fn=<NllLossBackward>) 2.3022847175598145\n",
            "tensor(2.3040, grad_fn=<NllLossBackward>) 2.3039934635162354\n",
            "tensor(2.3024, grad_fn=<NllLossBackward>) 2.3023641109466553\n",
            "tensor(2.3020, grad_fn=<NllLossBackward>) 2.302034378051758\n",
            "tensor(2.3009, grad_fn=<NllLossBackward>) 2.300854444503784\n",
            "tensor(2.3037, grad_fn=<NllLossBackward>) 2.3037290573120117\n",
            "tensor(2.3033, grad_fn=<NllLossBackward>) 2.303335428237915\n",
            "tensor(2.3022, grad_fn=<NllLossBackward>) 2.3022451400756836\n",
            "tensor(2.3006, grad_fn=<NllLossBackward>) 2.3006057739257812\n",
            "tensor(2.3035, grad_fn=<NllLossBackward>) 2.303461790084839\n",
            "tensor(2.3025, grad_fn=<NllLossBackward>) 2.3024661540985107\n",
            "tensor(2.3023, grad_fn=<NllLossBackward>) 2.3023362159729004\n",
            "tensor(2.3032, grad_fn=<NllLossBackward>) 2.30322003364563\n",
            "tensor(2.3020, grad_fn=<NllLossBackward>) 2.302002191543579\n",
            "tensor(2.3033, grad_fn=<NllLossBackward>) 2.303335428237915\n",
            "tensor(2.3017, grad_fn=<NllLossBackward>) 2.301682710647583\n",
            "tensor(2.3022, grad_fn=<NllLossBackward>) 2.3021795749664307\n",
            "tensor(2.3035, grad_fn=<NllLossBackward>) 2.303504467010498\n",
            "tensor(2.3031, grad_fn=<NllLossBackward>) 2.3031389713287354\n",
            "tensor(2.3039, grad_fn=<NllLossBackward>) 2.303929328918457\n",
            "tensor(2.3027, grad_fn=<NllLossBackward>) 2.3027358055114746\n",
            "tensor(2.3025, grad_fn=<NllLossBackward>) 2.3025007247924805\n",
            "tensor(2.3018, grad_fn=<NllLossBackward>) 2.301844358444214\n",
            "tensor(2.3012, grad_fn=<NllLossBackward>) 2.3011679649353027\n",
            "tensor(2.3017, grad_fn=<NllLossBackward>) 2.301744222640991\n",
            "tensor(2.3033, grad_fn=<NllLossBackward>) 2.303334951400757\n",
            "tensor(2.3039, grad_fn=<NllLossBackward>) 2.303863048553467\n",
            "tensor(2.3003, grad_fn=<NllLossBackward>) 2.3003334999084473\n",
            "tensor(2.3019, grad_fn=<NllLossBackward>) 2.301875352859497\n",
            "tensor(2.3025, grad_fn=<NllLossBackward>) 2.302516460418701\n",
            "tensor(2.3028, grad_fn=<NllLossBackward>) 2.30277156829834\n",
            "tensor(2.3012, grad_fn=<NllLossBackward>) 2.301212787628174\n",
            "tensor(2.3018, grad_fn=<NllLossBackward>) 2.3018293380737305\n",
            "tensor(2.3055, grad_fn=<NllLossBackward>) 2.3055145740509033\n",
            "tensor(2.3001, grad_fn=<NllLossBackward>) 2.3000617027282715\n",
            "tensor(2.3044, grad_fn=<NllLossBackward>) 2.3044466972351074\n",
            "tensor(2.3022, grad_fn=<NllLossBackward>) 2.3021979331970215\n",
            "tensor(2.3026, grad_fn=<NllLossBackward>) 2.3025732040405273\n",
            "tensor(2.3020, grad_fn=<NllLossBackward>) 2.302049160003662\n",
            "tensor(2.3033, grad_fn=<NllLossBackward>) 2.3032782077789307\n",
            "tensor(2.3025, grad_fn=<NllLossBackward>) 2.302513360977173\n",
            "tensor(2.3031, grad_fn=<NllLossBackward>) 2.303107976913452\n",
            "tensor(2.3025, grad_fn=<NllLossBackward>) 2.302539587020874\n",
            "tensor(2.3024, grad_fn=<NllLossBackward>) 2.302412271499634\n",
            "tensor(2.3040, grad_fn=<NllLossBackward>) 2.3039889335632324\n",
            "tensor(2.3030, grad_fn=<NllLossBackward>) 2.3029592037200928\n",
            "tensor(2.3021, grad_fn=<NllLossBackward>) 2.302098035812378\n",
            "tensor(2.3031, grad_fn=<NllLossBackward>) 2.303107261657715\n",
            "tensor(2.3022, grad_fn=<NllLossBackward>) 2.3022470474243164\n",
            "tensor(2.3024, grad_fn=<NllLossBackward>) 2.3023860454559326\n",
            "tensor(2.3030, grad_fn=<NllLossBackward>) 2.3029685020446777\n",
            "tensor(2.3028, grad_fn=<NllLossBackward>) 2.3027966022491455\n",
            "tensor(2.3029, grad_fn=<NllLossBackward>) 2.302858352661133\n",
            "tensor(2.3007, grad_fn=<NllLossBackward>) 2.3007240295410156\n",
            "tensor(2.3018, grad_fn=<NllLossBackward>) 2.30182147026062\n",
            "tensor(2.3028, grad_fn=<NllLossBackward>) 2.3028438091278076\n",
            "tensor(2.3007, grad_fn=<NllLossBackward>) 2.300736427307129\n",
            "tensor(2.3028, grad_fn=<NllLossBackward>) 2.3028368949890137\n",
            "tensor(2.3018, grad_fn=<NllLossBackward>) 2.3017520904541016\n",
            "tensor(2.3038, grad_fn=<NllLossBackward>) 2.303764581680298\n",
            "tensor(2.3043, grad_fn=<NllLossBackward>) 2.304269313812256\n",
            "tensor(2.3025, grad_fn=<NllLossBackward>) 2.302454948425293\n",
            "tensor(2.3011, grad_fn=<NllLossBackward>) 2.3011045455932617\n",
            "tensor(2.3024, grad_fn=<NllLossBackward>) 2.3023531436920166\n",
            "tensor(2.3026, grad_fn=<NllLossBackward>) 2.3025600910186768\n",
            "tensor(2.3012, grad_fn=<NllLossBackward>) 2.3011550903320312\n",
            "tensor(2.3017, grad_fn=<NllLossBackward>) 2.3017449378967285\n",
            "tensor(2.3021, grad_fn=<NllLossBackward>) 2.3021059036254883\n",
            "tensor(2.3005, grad_fn=<NllLossBackward>) 2.3005177974700928\n",
            "tensor(2.3032, grad_fn=<NllLossBackward>) 2.3032448291778564\n",
            "tensor(2.3007, grad_fn=<NllLossBackward>) 2.3007113933563232\n",
            "tensor(2.3038, grad_fn=<NllLossBackward>) 2.3038387298583984\n",
            "tensor(2.3037, grad_fn=<NllLossBackward>) 2.303740978240967\n",
            "tensor(2.3022, grad_fn=<NllLossBackward>) 2.302215814590454\n",
            "tensor(2.3004, grad_fn=<NllLossBackward>) 2.3004038333892822\n",
            "tensor(2.3013, grad_fn=<NllLossBackward>) 2.3012638092041016\n",
            "tensor(2.3020, grad_fn=<NllLossBackward>) 2.3019542694091797\n",
            "tensor(2.3001, grad_fn=<NllLossBackward>) 2.3000707626342773\n",
            "tensor(2.3043, grad_fn=<NllLossBackward>) 2.3043041229248047\n",
            "tensor(2.3009, grad_fn=<NllLossBackward>) 2.300924062728882\n",
            "tensor(2.3043, grad_fn=<NllLossBackward>) 2.3042898178100586\n",
            "tensor(2.3026, grad_fn=<NllLossBackward>) 2.302614450454712\n",
            "tensor(2.3014, grad_fn=<NllLossBackward>) 2.3013803958892822\n",
            "tensor(2.3041, grad_fn=<NllLossBackward>) 2.304053783416748\n",
            "tensor(2.3004, grad_fn=<NllLossBackward>) 2.3004205226898193\n",
            "tensor(2.3034, grad_fn=<NllLossBackward>) 2.30342173576355\n",
            "tensor(2.3046, grad_fn=<NllLossBackward>) 2.3045883178710938\n",
            "tensor(2.3026, grad_fn=<NllLossBackward>) 2.302598476409912\n",
            "tensor(2.3051, grad_fn=<NllLossBackward>) 2.305145740509033\n",
            "tensor(2.3022, grad_fn=<NllLossBackward>) 2.3022468090057373\n",
            "tensor(2.3016, grad_fn=<NllLossBackward>) 2.301562786102295\n",
            "tensor(2.3014, grad_fn=<NllLossBackward>) 2.3013803958892822\n",
            "tensor(2.3006, grad_fn=<NllLossBackward>) 2.300619602203369\n",
            "tensor(2.3035, grad_fn=<NllLossBackward>) 2.303509473800659\n",
            "tensor(2.3020, grad_fn=<NllLossBackward>) 2.302034854888916\n",
            "tensor(2.3023, grad_fn=<NllLossBackward>) 2.302288055419922\n",
            "tensor(2.3028, grad_fn=<NllLossBackward>) 2.302757740020752\n",
            "tensor(2.3040, grad_fn=<NllLossBackward>) 2.3040051460266113\n",
            "tensor(2.3000, grad_fn=<NllLossBackward>) 2.2999701499938965\n",
            "tensor(2.3039, grad_fn=<NllLossBackward>) 2.303947925567627\n",
            "tensor(2.3048, grad_fn=<NllLossBackward>) 2.3047640323638916\n",
            "tensor(2.3005, grad_fn=<NllLossBackward>) 2.300544261932373\n",
            "tensor(2.3033, grad_fn=<NllLossBackward>) 2.3032875061035156\n",
            "tensor(2.3029, grad_fn=<NllLossBackward>) 2.3028624057769775\n",
            "tensor(2.3036, grad_fn=<NllLossBackward>) 2.303640842437744\n",
            "tensor(2.3012, grad_fn=<NllLossBackward>) 2.3012120723724365\n",
            "tensor(2.3035, grad_fn=<NllLossBackward>) 2.3034698963165283\n",
            "tensor(2.3024, grad_fn=<NllLossBackward>) 2.302431583404541\n",
            "tensor(2.3040, grad_fn=<NllLossBackward>) 2.304007053375244\n",
            "tensor(2.2988, grad_fn=<NllLossBackward>) 2.298842668533325\n",
            "tensor(2.3051, grad_fn=<NllLossBackward>) 2.305149555206299\n",
            "tensor(2.3006, grad_fn=<NllLossBackward>) 2.3006200790405273\n",
            "tensor(2.3031, grad_fn=<NllLossBackward>) 2.3031415939331055\n",
            "tensor(2.3011, grad_fn=<NllLossBackward>) 2.3010520935058594\n",
            "tensor(2.2999, grad_fn=<NllLossBackward>) 2.2999444007873535\n",
            "tensor(2.3046, grad_fn=<NllLossBackward>) 2.304593086242676\n",
            "tensor(2.3020, grad_fn=<NllLossBackward>) 2.3020431995391846\n",
            "tensor(2.3034, grad_fn=<NllLossBackward>) 2.303385019302368\n",
            "tensor(2.3006, grad_fn=<NllLossBackward>) 2.300563097000122\n",
            "tensor(2.3021, grad_fn=<NllLossBackward>) 2.3021011352539062\n",
            "tensor(2.3018, grad_fn=<NllLossBackward>) 2.301807165145874\n",
            "tensor(2.3018, grad_fn=<NllLossBackward>) 2.301769495010376\n",
            "tensor(2.3018, grad_fn=<NllLossBackward>) 2.3017666339874268\n",
            "tensor(2.3020, grad_fn=<NllLossBackward>) 2.301987648010254\n",
            "tensor(2.3051, grad_fn=<NllLossBackward>) 2.3051013946533203\n",
            "tensor(2.3039, grad_fn=<NllLossBackward>) 2.303908348083496\n",
            "tensor(2.3046, grad_fn=<NllLossBackward>) 2.304564952850342\n",
            "tensor(2.3028, grad_fn=<NllLossBackward>) 2.302849054336548\n",
            "tensor(2.3032, grad_fn=<NllLossBackward>) 2.3032002449035645\n",
            "tensor(2.2984, grad_fn=<NllLossBackward>) 2.298436403274536\n",
            "tensor(2.3042, grad_fn=<NllLossBackward>) 2.3041672706604004\n",
            "tensor(2.3051, grad_fn=<NllLossBackward>) 2.3050684928894043\n",
            "tensor(2.3027, grad_fn=<NllLossBackward>) 2.3027191162109375\n",
            "tensor(2.3043, grad_fn=<NllLossBackward>) 2.304274320602417\n",
            "tensor(2.3006, grad_fn=<NllLossBackward>) 2.300626516342163\n",
            "tensor(2.3051, grad_fn=<NllLossBackward>) 2.30511474609375\n",
            "tensor(2.3054, grad_fn=<NllLossBackward>) 2.305431365966797\n",
            "tensor(2.3044, grad_fn=<NllLossBackward>) 2.304415464401245\n",
            "tensor(2.3012, grad_fn=<NllLossBackward>) 2.3012070655822754\n",
            "tensor(2.3020, grad_fn=<NllLossBackward>) 2.3019843101501465\n",
            "tensor(2.3018, grad_fn=<NllLossBackward>) 2.301845073699951\n",
            "tensor(2.3027, grad_fn=<NllLossBackward>) 2.302729606628418\n",
            "tensor(2.3023, grad_fn=<NllLossBackward>) 2.3023178577423096\n",
            "tensor(2.3026, grad_fn=<NllLossBackward>) 2.3025546073913574\n",
            "tensor(2.3034, grad_fn=<NllLossBackward>) 2.3033533096313477\n",
            "tensor(2.3060, grad_fn=<NllLossBackward>) 2.3059799671173096\n",
            "tensor(2.3036, grad_fn=<NllLossBackward>) 2.3036251068115234\n",
            "tensor(2.3004, grad_fn=<NllLossBackward>) 2.300396203994751\n",
            "tensor(2.2997, grad_fn=<NllLossBackward>) 2.299654006958008\n",
            "tensor(2.3015, grad_fn=<NllLossBackward>) 2.3015193939208984\n",
            "tensor(2.3016, grad_fn=<NllLossBackward>) 2.3015878200531006\n",
            "tensor(2.3015, grad_fn=<NllLossBackward>) 2.3015167713165283\n",
            "tensor(2.3027, grad_fn=<NllLossBackward>) 2.302654504776001\n",
            "tensor(2.3015, grad_fn=<NllLossBackward>) 2.3015451431274414\n",
            "tensor(2.3041, grad_fn=<NllLossBackward>) 2.3041419982910156\n",
            "tensor(2.3020, grad_fn=<NllLossBackward>) 2.302030086517334\n",
            "tensor(2.3024, grad_fn=<NllLossBackward>) 2.3023602962493896\n",
            "tensor(2.3029, grad_fn=<NllLossBackward>) 2.302889823913574\n",
            "tensor(2.3027, grad_fn=<NllLossBackward>) 2.302682638168335\n",
            "tensor(2.3005, grad_fn=<NllLossBackward>) 2.3005287647247314\n",
            "tensor(2.3011, grad_fn=<NllLossBackward>) 2.3010833263397217\n",
            "tensor(2.3019, grad_fn=<NllLossBackward>) 2.3019089698791504\n",
            "tensor(2.3029, grad_fn=<NllLossBackward>) 2.3028509616851807\n",
            "tensor(2.3012, grad_fn=<NllLossBackward>) 2.3012044429779053\n",
            "tensor(2.3028, grad_fn=<NllLossBackward>) 2.302807331085205\n",
            "tensor(2.3020, grad_fn=<NllLossBackward>) 2.301964282989502\n",
            "tensor(2.3053, grad_fn=<NllLossBackward>) 2.3052966594696045\n",
            "tensor(2.3025, grad_fn=<NllLossBackward>) 2.3025312423706055\n",
            "tensor(2.3003, grad_fn=<NllLossBackward>) 2.300346612930298\n",
            "tensor(2.3015, grad_fn=<NllLossBackward>) 2.301480293273926\n",
            "tensor(2.3030, grad_fn=<NllLossBackward>) 2.3030200004577637\n",
            "tensor(2.3032, grad_fn=<NllLossBackward>) 2.303222894668579\n",
            "tensor(2.3056, grad_fn=<NllLossBackward>) 2.3055808544158936\n",
            "tensor(2.2995, grad_fn=<NllLossBackward>) 2.299525260925293\n",
            "tensor(2.3008, grad_fn=<NllLossBackward>) 2.30081844329834\n",
            "tensor(2.3050, grad_fn=<NllLossBackward>) 2.30495285987854\n",
            "tensor(2.3061, grad_fn=<NllLossBackward>) 2.306105136871338\n",
            "tensor(2.3013, grad_fn=<NllLossBackward>) 2.301292896270752\n",
            "tensor(2.3029, grad_fn=<NllLossBackward>) 2.302885055541992\n",
            "tensor(2.3027, grad_fn=<NllLossBackward>) 2.302687168121338\n",
            "tensor(2.3037, grad_fn=<NllLossBackward>) 2.3037099838256836\n",
            "tensor(2.3048, grad_fn=<NllLossBackward>) 2.3048458099365234\n",
            "tensor(2.3020, grad_fn=<NllLossBackward>) 2.3019790649414062\n",
            "tensor(2.3052, grad_fn=<NllLossBackward>) 2.3052446842193604\n",
            "tensor(2.3024, grad_fn=<NllLossBackward>) 2.3023557662963867\n",
            "tensor(2.3019, grad_fn=<NllLossBackward>) 2.3018696308135986\n",
            "tensor(2.3015, grad_fn=<NllLossBackward>) 2.30151629447937\n",
            "tensor(2.3015, grad_fn=<NllLossBackward>) 2.301483392715454\n",
            "tensor(2.3037, grad_fn=<NllLossBackward>) 2.303708076477051\n",
            "tensor(2.3031, grad_fn=<NllLossBackward>) 2.3030803203582764\n",
            "tensor(2.3026, grad_fn=<NllLossBackward>) 2.3026022911071777\n",
            "tensor(2.3028, grad_fn=<NllLossBackward>) 2.3027961254119873\n",
            "tensor(2.3011, grad_fn=<NllLossBackward>) 2.301129102706909\n",
            "tensor(2.3004, grad_fn=<NllLossBackward>) 2.300372838973999\n",
            "tensor(2.3031, grad_fn=<NllLossBackward>) 2.3031156063079834\n",
            "tensor(2.3008, grad_fn=<NllLossBackward>) 2.3007619380950928\n",
            "tensor(2.3017, grad_fn=<NllLossBackward>) 2.3016855716705322\n",
            "tensor(2.3018, grad_fn=<NllLossBackward>) 2.301765203475952\n",
            "tensor(2.3024, grad_fn=<NllLossBackward>) 2.3023624420166016\n",
            "tensor(2.3019, grad_fn=<NllLossBackward>) 2.301910638809204\n",
            "tensor(2.3064, grad_fn=<NllLossBackward>) 2.306365728378296\n",
            "tensor(2.3041, grad_fn=<NllLossBackward>) 2.3040947914123535\n",
            "tensor(2.3035, grad_fn=<NllLossBackward>) 2.303496837615967\n",
            "tensor(2.3015, grad_fn=<NllLossBackward>) 2.3014938831329346\n",
            "tensor(2.3027, grad_fn=<NllLossBackward>) 2.3026933670043945\n",
            "tensor(2.3006, grad_fn=<NllLossBackward>) 2.300647020339966\n",
            "tensor(2.3025, grad_fn=<NllLossBackward>) 2.302499532699585\n",
            "tensor(2.2989, grad_fn=<NllLossBackward>) 2.2989284992218018\n",
            "tensor(2.3018, grad_fn=<NllLossBackward>) 2.3017609119415283\n",
            "tensor(2.3002, grad_fn=<NllLossBackward>) 2.3001883029937744\n",
            "tensor(2.3039, grad_fn=<NllLossBackward>) 2.303945779800415\n",
            "tensor(2.3031, grad_fn=<NllLossBackward>) 2.303126573562622\n",
            "tensor(2.3027, grad_fn=<NllLossBackward>) 2.3027451038360596\n",
            "tensor(2.3040, grad_fn=<NllLossBackward>) 2.304032325744629\n",
            "tensor(2.3012, grad_fn=<NllLossBackward>) 2.30120587348938\n",
            "tensor(2.3029, grad_fn=<NllLossBackward>) 2.3028628826141357\n",
            "tensor(2.3023, grad_fn=<NllLossBackward>) 2.3022749423980713\n",
            "tensor(2.3042, grad_fn=<NllLossBackward>) 2.3042266368865967\n",
            "tensor(2.2988, grad_fn=<NllLossBackward>) 2.2987706661224365\n",
            "tensor(2.2986, grad_fn=<NllLossBackward>) 2.2986271381378174\n",
            "tensor(2.3028, grad_fn=<NllLossBackward>) 2.3028461933135986\n",
            "tensor(2.3061, grad_fn=<NllLossBackward>) 2.306053400039673\n",
            "tensor(2.3017, grad_fn=<NllLossBackward>) 2.301654577255249\n",
            "tensor(2.3019, grad_fn=<NllLossBackward>) 2.301896572113037\n",
            "tensor(2.3015, grad_fn=<NllLossBackward>) 2.301469564437866\n",
            "tensor(2.3034, grad_fn=<NllLossBackward>) 2.3034415245056152\n",
            "tensor(2.3037, grad_fn=<NllLossBackward>) 2.3036551475524902\n",
            "tensor(2.3006, grad_fn=<NllLossBackward>) 2.3006432056427\n",
            "tensor(2.3049, grad_fn=<NllLossBackward>) 2.3048782348632812\n",
            "tensor(2.3023, grad_fn=<NllLossBackward>) 2.3022875785827637\n",
            "tensor(2.3034, grad_fn=<NllLossBackward>) 2.303391218185425\n",
            "tensor(2.3082, grad_fn=<NllLossBackward>) 2.3081817626953125\n",
            "tensor(2.3011, grad_fn=<NllLossBackward>) 2.3010849952697754\n",
            "tensor(2.3019, grad_fn=<NllLossBackward>) 2.3018505573272705\n",
            "tensor(2.3035, grad_fn=<NllLossBackward>) 2.303499460220337\n",
            "tensor(2.3028, grad_fn=<NllLossBackward>) 2.3028078079223633\n",
            "tensor(2.3009, grad_fn=<NllLossBackward>) 2.300886869430542\n",
            "tensor(2.3062, grad_fn=<NllLossBackward>) 2.306225538253784\n",
            "tensor(2.3016, grad_fn=<NllLossBackward>) 2.3015787601470947\n",
            "tensor(2.3005, grad_fn=<NllLossBackward>) 2.300537347793579\n",
            "tensor(2.3043, grad_fn=<NllLossBackward>) 2.3042545318603516\n",
            "tensor(2.2998, grad_fn=<NllLossBackward>) 2.2998197078704834\n",
            "tensor(2.3014, grad_fn=<NllLossBackward>) 2.301403045654297\n",
            "tensor(2.3025, grad_fn=<NllLossBackward>) 2.3025147914886475\n",
            "tensor(2.3011, grad_fn=<NllLossBackward>) 2.3010711669921875\n",
            "tensor(2.3036, grad_fn=<NllLossBackward>) 2.303605318069458\n",
            "tensor(2.3042, grad_fn=<NllLossBackward>) 2.304151773452759\n",
            "tensor(2.3028, grad_fn=<NllLossBackward>) 2.302823305130005\n",
            "tensor(2.3050, grad_fn=<NllLossBackward>) 2.304994821548462\n",
            "tensor(2.3011, grad_fn=<NllLossBackward>) 2.3011436462402344\n",
            "tensor(2.3036, grad_fn=<NllLossBackward>) 2.3035836219787598\n",
            "tensor(2.3013, grad_fn=<NllLossBackward>) 2.3013224601745605\n",
            "tensor(2.3033, grad_fn=<NllLossBackward>) 2.303252696990967\n",
            "tensor(2.3014, grad_fn=<NllLossBackward>) 2.3014137744903564\n",
            "tensor(2.3028, grad_fn=<NllLossBackward>) 2.302806854248047\n",
            "tensor(2.3038, grad_fn=<NllLossBackward>) 2.3038246631622314\n",
            "tensor(2.3033, grad_fn=<NllLossBackward>) 2.303251028060913\n",
            "tensor(2.3032, grad_fn=<NllLossBackward>) 2.3031864166259766\n",
            "tensor(2.2998, grad_fn=<NllLossBackward>) 2.299781322479248\n",
            "tensor(2.3016, grad_fn=<NllLossBackward>) 2.3015966415405273\n",
            "tensor(2.3044, grad_fn=<NllLossBackward>) 2.3044326305389404\n",
            "tensor(2.3035, grad_fn=<NllLossBackward>) 2.3035426139831543\n",
            "tensor(2.3049, grad_fn=<NllLossBackward>) 2.304872989654541\n",
            "tensor(2.3042, grad_fn=<NllLossBackward>) 2.304224967956543\n",
            "tensor(2.3031, grad_fn=<NllLossBackward>) 2.303128480911255\n",
            "tensor(2.3025, grad_fn=<NllLossBackward>) 2.3024778366088867\n",
            "tensor(2.3009, grad_fn=<NllLossBackward>) 2.300910472869873\n",
            "tensor(2.3043, grad_fn=<NllLossBackward>) 2.304286241531372\n",
            "tensor(2.3002, grad_fn=<NllLossBackward>) 2.3002264499664307\n",
            "tensor(2.3025, grad_fn=<NllLossBackward>) 2.3024544715881348\n",
            "tensor(2.3003, grad_fn=<NllLossBackward>) 2.3002915382385254\n",
            "tensor(2.3045, grad_fn=<NllLossBackward>) 2.3044514656066895\n",
            "tensor(2.3012, grad_fn=<NllLossBackward>) 2.301236152648926\n",
            "tensor(2.3044, grad_fn=<NllLossBackward>) 2.3044023513793945\n",
            "tensor(2.3053, grad_fn=<NllLossBackward>) 2.305335521697998\n",
            "tensor(2.3038, grad_fn=<NllLossBackward>) 2.3038206100463867\n",
            "tensor(2.3029, grad_fn=<NllLossBackward>) 2.3029112815856934\n",
            "tensor(2.3034, grad_fn=<NllLossBackward>) 2.3034489154815674\n",
            "tensor(2.3022, grad_fn=<NllLossBackward>) 2.302215576171875\n",
            "tensor(2.3016, grad_fn=<NllLossBackward>) 2.3015706539154053\n",
            "tensor(2.3049, grad_fn=<NllLossBackward>) 2.3048629760742188\n",
            "tensor(2.3004, grad_fn=<NllLossBackward>) 2.300416946411133\n",
            "tensor(2.3018, grad_fn=<NllLossBackward>) 2.3017899990081787\n",
            "tensor(2.3008, grad_fn=<NllLossBackward>) 2.3007614612579346\n",
            "tensor(2.3042, grad_fn=<NllLossBackward>) 2.304224967956543\n",
            "tensor(2.3039, grad_fn=<NllLossBackward>) 2.303864002227783\n",
            "tensor(2.3018, grad_fn=<NllLossBackward>) 2.3018240928649902\n",
            "tensor(2.3027, grad_fn=<NllLossBackward>) 2.302690267562866\n",
            "tensor(2.3046, grad_fn=<NllLossBackward>) 2.304624080657959\n",
            "tensor(2.3027, grad_fn=<NllLossBackward>) 2.3026933670043945\n",
            "tensor(2.3043, grad_fn=<NllLossBackward>) 2.3043477535247803\n",
            "tensor(2.3031, grad_fn=<NllLossBackward>) 2.303140878677368\n",
            "tensor(2.3038, grad_fn=<NllLossBackward>) 2.303750991821289\n",
            "tensor(2.3046, grad_fn=<NllLossBackward>) 2.304560661315918\n",
            "tensor(2.3036, grad_fn=<NllLossBackward>) 2.303558111190796\n",
            "tensor(2.3020, grad_fn=<NllLossBackward>) 2.3019895553588867\n",
            "tensor(2.3018, grad_fn=<NllLossBackward>) 2.301783800125122\n",
            "tensor(2.3038, grad_fn=<NllLossBackward>) 2.303764581680298\n",
            "tensor(2.3043, grad_fn=<NllLossBackward>) 2.3043293952941895\n",
            "tensor(2.3058, grad_fn=<NllLossBackward>) 2.305846691131592\n",
            "tensor(2.3012, grad_fn=<NllLossBackward>) 2.3012492656707764\n",
            "tensor(2.3027, grad_fn=<NllLossBackward>) 2.302694320678711\n",
            "tensor(2.3038, grad_fn=<NllLossBackward>) 2.303755044937134\n",
            "tensor(2.3032, grad_fn=<NllLossBackward>) 2.3032009601593018\n",
            "tensor(2.3067, grad_fn=<NllLossBackward>) 2.3066790103912354\n",
            "tensor(2.3001, grad_fn=<NllLossBackward>) 2.30005145072937\n",
            "tensor(2.3011, grad_fn=<NllLossBackward>) 2.3010542392730713\n",
            "tensor(2.3046, grad_fn=<NllLossBackward>) 2.30460262298584\n",
            "tensor(2.3048, grad_fn=<NllLossBackward>) 2.304753541946411\n",
            "tensor(2.3028, grad_fn=<NllLossBackward>) 2.3027892112731934\n",
            "tensor(2.3037, grad_fn=<NllLossBackward>) 2.303739547729492\n",
            "tensor(2.3046, grad_fn=<NllLossBackward>) 2.3045952320098877\n",
            "tensor(2.3051, grad_fn=<NllLossBackward>) 2.3051366806030273\n",
            "tensor(2.3051, grad_fn=<NllLossBackward>) 2.3051366806030273\n",
            "tensor(2.3028, grad_fn=<NllLossBackward>) 2.302823305130005\n",
            "tensor(2.3019, grad_fn=<NllLossBackward>) 2.3019161224365234\n",
            "tensor(2.3038, grad_fn=<NllLossBackward>) 2.303840160369873\n",
            "tensor(2.3034, grad_fn=<NllLossBackward>) 2.3034212589263916\n",
            "tensor(2.3026, grad_fn=<NllLossBackward>) 2.302588701248169\n",
            "tensor(2.3040, grad_fn=<NllLossBackward>) 2.303969383239746\n",
            "tensor(2.3016, grad_fn=<NllLossBackward>) 2.3015999794006348\n",
            "tensor(2.3033, grad_fn=<NllLossBackward>) 2.303311347961426\n",
            "tensor(2.3015, grad_fn=<NllLossBackward>) 2.3015177249908447\n",
            "tensor(2.3030, grad_fn=<NllLossBackward>) 2.302957773208618\n",
            "tensor(2.3012, grad_fn=<NllLossBackward>) 2.301176071166992\n",
            "tensor(2.3034, grad_fn=<NllLossBackward>) 2.3034322261810303\n",
            "tensor(2.3059, grad_fn=<NllLossBackward>) 2.305906057357788\n",
            "tensor(2.3032, grad_fn=<NllLossBackward>) 2.3032100200653076\n",
            "tensor(2.3031, grad_fn=<NllLossBackward>) 2.3031389713287354\n",
            "tensor(2.3020, grad_fn=<NllLossBackward>) 2.3020405769348145\n",
            "tensor(2.3041, grad_fn=<NllLossBackward>) 2.304137706756592\n",
            "tensor(2.3016, grad_fn=<NllLossBackward>) 2.3015525341033936\n",
            "tensor(2.3037, grad_fn=<NllLossBackward>) 2.303715705871582\n",
            "tensor(2.3030, grad_fn=<NllLossBackward>) 2.3030452728271484\n",
            "tensor(2.3028, grad_fn=<NllLossBackward>) 2.302767515182495\n",
            "tensor(2.3019, grad_fn=<NllLossBackward>) 2.3018553256988525\n",
            "tensor(2.3045, grad_fn=<NllLossBackward>) 2.30452823638916\n",
            "tensor(2.3005, grad_fn=<NllLossBackward>) 2.3004963397979736\n",
            "tensor(2.3037, grad_fn=<NllLossBackward>) 2.3037142753601074\n",
            "tensor(2.3022, grad_fn=<NllLossBackward>) 2.3021585941314697\n",
            "tensor(2.3011, grad_fn=<NllLossBackward>) 2.301085948944092\n",
            "tensor(2.3025, grad_fn=<NllLossBackward>) 2.3024532794952393\n",
            "tensor(2.3011, grad_fn=<NllLossBackward>) 2.301093578338623\n",
            "tensor(2.3034, grad_fn=<NllLossBackward>) 2.3033595085144043\n",
            "tensor(2.3017, grad_fn=<NllLossBackward>) 2.30167293548584\n",
            "tensor(2.3036, grad_fn=<NllLossBackward>) 2.3036491870880127\n",
            "tensor(2.3013, grad_fn=<NllLossBackward>) 2.3013110160827637\n",
            "tensor(2.3020, grad_fn=<NllLossBackward>) 2.30202054977417\n",
            "tensor(2.3030, grad_fn=<NllLossBackward>) 2.3030219078063965\n",
            "tensor(2.3034, grad_fn=<NllLossBackward>) 2.30342960357666\n",
            "tensor(2.3001, grad_fn=<NllLossBackward>) 2.300082206726074\n",
            "tensor(2.3025, grad_fn=<NllLossBackward>) 2.302537202835083\n",
            "tensor(2.3029, grad_fn=<NllLossBackward>) 2.302865982055664\n",
            "tensor(2.3008, grad_fn=<NllLossBackward>) 2.300821304321289\n",
            "tensor(2.3045, grad_fn=<NllLossBackward>) 2.3044919967651367\n",
            "tensor(2.3031, grad_fn=<NllLossBackward>) 2.30309796333313\n",
            "tensor(2.3051, grad_fn=<NllLossBackward>) 2.3050856590270996\n",
            "tensor(2.3008, grad_fn=<NllLossBackward>) 2.300827741622925\n",
            "tensor(2.2988, grad_fn=<NllLossBackward>) 2.298844814300537\n",
            "tensor(2.3065, grad_fn=<NllLossBackward>) 2.306488513946533\n",
            "tensor(2.3018, grad_fn=<NllLossBackward>) 2.3017771244049072\n",
            "tensor(2.3032, grad_fn=<NllLossBackward>) 2.3032312393188477\n",
            "tensor(2.3004, grad_fn=<NllLossBackward>) 2.300353765487671\n",
            "tensor(2.3029, grad_fn=<NllLossBackward>) 2.3028855323791504\n",
            "tensor(2.3056, grad_fn=<NllLossBackward>) 2.3055708408355713\n",
            "tensor(2.3004, grad_fn=<NllLossBackward>) 2.3003921508789062\n",
            "tensor(2.3023, grad_fn=<NllLossBackward>) 2.3023266792297363\n",
            "tensor(2.3028, grad_fn=<NllLossBackward>) 2.3028321266174316\n",
            "tensor(2.3046, grad_fn=<NllLossBackward>) 2.304572820663452\n",
            "tensor(2.3029, grad_fn=<NllLossBackward>) 2.3029041290283203\n",
            "tensor(2.3035, grad_fn=<NllLossBackward>) 2.3035333156585693\n",
            "tensor(2.3034, grad_fn=<NllLossBackward>) 2.3033642768859863\n",
            "tensor(2.3034, grad_fn=<NllLossBackward>) 2.3033766746520996\n",
            "tensor(2.3027, grad_fn=<NllLossBackward>) 2.302661180496216\n",
            "tensor(2.3018, grad_fn=<NllLossBackward>) 2.301839828491211\n",
            "tensor(2.3016, grad_fn=<NllLossBackward>) 2.301636219024658\n",
            "tensor(2.3031, grad_fn=<NllLossBackward>) 2.303135871887207\n",
            "tensor(2.3015, grad_fn=<NllLossBackward>) 2.3015003204345703\n",
            "tensor(2.3046, grad_fn=<NllLossBackward>) 2.304591655731201\n",
            "tensor(2.3027, grad_fn=<NllLossBackward>) 2.3027257919311523\n",
            "tensor(2.3051, grad_fn=<NllLossBackward>) 2.305081844329834\n",
            "tensor(2.3032, grad_fn=<NllLossBackward>) 2.303227424621582\n",
            "tensor(2.3038, grad_fn=<NllLossBackward>) 2.30377197265625\n",
            "tensor(2.3054, grad_fn=<NllLossBackward>) 2.305384874343872\n",
            "tensor(2.3036, grad_fn=<NllLossBackward>) 2.303647994995117\n",
            "tensor(2.3026, grad_fn=<NllLossBackward>) 2.3025670051574707\n",
            "tensor(2.3022, grad_fn=<NllLossBackward>) 2.302164077758789\n",
            "tensor(2.3028, grad_fn=<NllLossBackward>) 2.3027870655059814\n",
            "tensor(2.3049, grad_fn=<NllLossBackward>) 2.3048806190490723\n",
            "tensor(2.3044, grad_fn=<NllLossBackward>) 2.3043811321258545\n",
            "tensor(2.3034, grad_fn=<NllLossBackward>) 2.303438663482666\n",
            "tensor(2.3031, grad_fn=<NllLossBackward>) 2.303086519241333\n",
            "tensor(2.3038, grad_fn=<NllLossBackward>) 2.3037705421447754\n",
            "tensor(2.3032, grad_fn=<NllLossBackward>) 2.3031747341156006\n",
            "tensor(2.3017, grad_fn=<NllLossBackward>) 2.301673173904419\n",
            "tensor(2.3018, grad_fn=<NllLossBackward>) 2.3018250465393066\n",
            "tensor(2.3018, grad_fn=<NllLossBackward>) 2.301802396774292\n",
            "tensor(2.3032, grad_fn=<NllLossBackward>) 2.3031842708587646\n",
            "tensor(2.3047, grad_fn=<NllLossBackward>) 2.304749011993408\n",
            "tensor(2.3036, grad_fn=<NllLossBackward>) 2.3036365509033203\n",
            "tensor(2.3016, grad_fn=<NllLossBackward>) 2.301562786102295\n",
            "tensor(2.3002, grad_fn=<NllLossBackward>) 2.3002243041992188\n",
            "tensor(2.3037, grad_fn=<NllLossBackward>) 2.3036904335021973\n",
            "tensor(2.3032, grad_fn=<NllLossBackward>) 2.303241014480591\n",
            "tensor(2.3029, grad_fn=<NllLossBackward>) 2.302856206893921\n",
            "tensor(2.3041, grad_fn=<NllLossBackward>) 2.3041489124298096\n",
            "tensor(2.3028, grad_fn=<NllLossBackward>) 2.3027822971343994\n",
            "tensor(2.3025, grad_fn=<NllLossBackward>) 2.3024699687957764\n",
            "tensor(2.3038, grad_fn=<NllLossBackward>) 2.303840398788452\n",
            "tensor(2.3039, grad_fn=<NllLossBackward>) 2.3038997650146484\n",
            "tensor(2.3020, grad_fn=<NllLossBackward>) 2.3020002841949463\n",
            "tensor(2.3016, grad_fn=<NllLossBackward>) 2.3016371726989746\n",
            "tensor(2.3034, grad_fn=<NllLossBackward>) 2.3033952713012695\n",
            "tensor(2.3023, grad_fn=<NllLossBackward>) 2.3023085594177246\n",
            "tensor(2.3034, grad_fn=<NllLossBackward>) 2.3034205436706543\n",
            "tensor(2.3027, grad_fn=<NllLossBackward>) 2.302722692489624\n",
            "tensor(2.3032, grad_fn=<NllLossBackward>) 2.303168535232544\n",
            "tensor(2.3022, grad_fn=<NllLossBackward>) 2.3022377490997314\n",
            "tensor(2.3020, grad_fn=<NllLossBackward>) 2.302016496658325\n",
            "tensor(2.3029, grad_fn=<NllLossBackward>) 2.3029303550720215\n",
            "tensor(2.3019, grad_fn=<NllLossBackward>) 2.30194354057312\n",
            "tensor(2.3025, grad_fn=<NllLossBackward>) 2.3024823665618896\n",
            "tensor(2.3027, grad_fn=<NllLossBackward>) 2.3027117252349854\n",
            "tensor(2.3020, grad_fn=<NllLossBackward>) 2.3019814491271973\n",
            "tensor(2.3031, grad_fn=<NllLossBackward>) 2.303086042404175\n",
            "tensor(2.3031, grad_fn=<NllLossBackward>) 2.3030858039855957\n",
            "tensor(2.3036, grad_fn=<NllLossBackward>) 2.3036370277404785\n",
            "tensor(2.3021, grad_fn=<NllLossBackward>) 2.302100658416748\n",
            "tensor(2.3025, grad_fn=<NllLossBackward>) 2.302466630935669\n",
            "tensor(2.3022, grad_fn=<NllLossBackward>) 2.3022043704986572\n",
            "tensor(2.3029, grad_fn=<NllLossBackward>) 2.3029353618621826\n",
            "tensor(2.3033, grad_fn=<NllLossBackward>) 2.303258180618286\n",
            "tensor(2.3027, grad_fn=<NllLossBackward>) 2.3026821613311768\n",
            "tensor(2.3041, grad_fn=<NllLossBackward>) 2.304069757461548\n",
            "tensor(2.3025, grad_fn=<NllLossBackward>) 2.302515745162964\n",
            "tensor(2.3032, grad_fn=<NllLossBackward>) 2.303169012069702\n",
            "tensor(2.3024, grad_fn=<NllLossBackward>) 2.30241060256958\n",
            "tensor(2.3030, grad_fn=<NllLossBackward>) 2.302955389022827\n",
            "tensor(2.3036, grad_fn=<NllLossBackward>) 2.3036420345306396\n",
            "tensor(2.3024, grad_fn=<NllLossBackward>) 2.302380084991455\n",
            "tensor(2.3009, grad_fn=<NllLossBackward>) 2.300870418548584\n",
            "tensor(2.3028, grad_fn=<NllLossBackward>) 2.302767276763916\n",
            "tensor(2.3022, grad_fn=<NllLossBackward>) 2.3021907806396484\n",
            "tensor(2.3031, grad_fn=<NllLossBackward>) 2.303100109100342\n",
            "tensor(2.3023, grad_fn=<NllLossBackward>) 2.302264451980591\n",
            "tensor(2.3017, grad_fn=<NllLossBackward>) 2.3016905784606934\n",
            "tensor(2.3020, grad_fn=<NllLossBackward>) 2.302000045776367\n",
            "tensor(2.3028, grad_fn=<NllLossBackward>) 2.3027865886688232\n",
            "tensor(2.3038, grad_fn=<NllLossBackward>) 2.303760051727295\n",
            "tensor(2.3028, grad_fn=<NllLossBackward>) 2.302771806716919\n",
            "tensor(2.3012, grad_fn=<NllLossBackward>) 2.301185369491577\n",
            "tensor(2.3024, grad_fn=<NllLossBackward>) 2.302389144897461\n",
            "tensor(2.3044, grad_fn=<NllLossBackward>) 2.3044025897979736\n",
            "tensor(2.3017, grad_fn=<NllLossBackward>) 2.3016550540924072\n",
            "tensor(2.3031, grad_fn=<NllLossBackward>) 2.303126335144043\n",
            "tensor(2.3034, grad_fn=<NllLossBackward>) 2.3034465312957764\n",
            "tensor(2.3014, grad_fn=<NllLossBackward>) 2.301431655883789\n",
            "tensor(2.3026, grad_fn=<NllLossBackward>) 2.3025500774383545\n",
            "tensor(2.3029, grad_fn=<NllLossBackward>) 2.3028597831726074\n",
            "tensor(2.3023, grad_fn=<NllLossBackward>) 2.302267074584961\n",
            "tensor(2.3023, grad_fn=<NllLossBackward>) 2.3023462295532227\n",
            "tensor(2.3021, grad_fn=<NllLossBackward>) 2.3021183013916016\n",
            "tensor(2.3023, grad_fn=<NllLossBackward>) 2.3022849559783936\n",
            "tensor(2.3031, grad_fn=<NllLossBackward>) 2.303114891052246\n",
            "tensor(2.3043, grad_fn=<NllLossBackward>) 2.3043460845947266\n",
            "tensor(2.3017, grad_fn=<NllLossBackward>) 2.301699161529541\n",
            "tensor(2.3029, grad_fn=<NllLossBackward>) 2.3029181957244873\n",
            "tensor(2.3017, grad_fn=<NllLossBackward>) 2.301741123199463\n",
            "tensor(2.3026, grad_fn=<NllLossBackward>) 2.302607774734497\n",
            "tensor(2.3030, grad_fn=<NllLossBackward>) 2.303042411804199\n",
            "tensor(2.3022, grad_fn=<NllLossBackward>) 2.3022000789642334\n",
            "tensor(2.3026, grad_fn=<NllLossBackward>) 2.3026201725006104\n",
            "tensor(2.3020, grad_fn=<NllLossBackward>) 2.301957607269287\n",
            "tensor(2.3027, grad_fn=<NllLossBackward>) 2.3027336597442627\n",
            "tensor(2.3033, grad_fn=<NllLossBackward>) 2.303269386291504\n",
            "tensor(2.3034, grad_fn=<NllLossBackward>) 2.3034276962280273\n",
            "tensor(2.3034, grad_fn=<NllLossBackward>) 2.3034214973449707\n",
            "tensor(2.3023, grad_fn=<NllLossBackward>) 2.3023223876953125\n",
            "tensor(2.3036, grad_fn=<NllLossBackward>) 2.3035600185394287\n",
            "tensor(2.3014, grad_fn=<NllLossBackward>) 2.3014132976531982\n",
            "tensor(2.3033, grad_fn=<NllLossBackward>) 2.3032970428466797\n",
            "tensor(2.3028, grad_fn=<NllLossBackward>) 2.302816867828369\n",
            "tensor(2.3041, grad_fn=<NllLossBackward>) 2.3040595054626465\n",
            "tensor(2.3032, grad_fn=<NllLossBackward>) 2.3031859397888184\n",
            "tensor(2.3024, grad_fn=<NllLossBackward>) 2.302412748336792\n",
            "tensor(2.3037, grad_fn=<NllLossBackward>) 2.3037469387054443\n",
            "tensor(2.3038, grad_fn=<NllLossBackward>) 2.3038291931152344\n",
            "tensor(2.3016, grad_fn=<NllLossBackward>) 2.301645040512085\n",
            "tensor(2.3011, grad_fn=<NllLossBackward>) 2.30112624168396\n",
            "tensor(2.3021, grad_fn=<NllLossBackward>) 2.3020896911621094\n",
            "tensor(2.3018, grad_fn=<NllLossBackward>) 2.3017795085906982\n",
            "tensor(2.3022, grad_fn=<NllLossBackward>) 2.3021833896636963\n",
            "tensor(2.3050, grad_fn=<NllLossBackward>) 2.30501651763916\n",
            "tensor(2.3018, grad_fn=<NllLossBackward>) 2.301776647567749\n",
            "tensor(2.3043, grad_fn=<NllLossBackward>) 2.3043270111083984\n",
            "tensor(2.3028, grad_fn=<NllLossBackward>) 2.302842378616333\n",
            "tensor(2.3017, grad_fn=<NllLossBackward>) 2.3017032146453857\n",
            "tensor(2.3042, grad_fn=<NllLossBackward>) 2.304171085357666\n",
            "tensor(2.3020, grad_fn=<NllLossBackward>) 2.3020286560058594\n",
            "tensor(2.3034, grad_fn=<NllLossBackward>) 2.303436040878296\n",
            "tensor(2.3030, grad_fn=<NllLossBackward>) 2.3029818534851074\n",
            "tensor(2.3030, grad_fn=<NllLossBackward>) 2.302978277206421\n",
            "tensor(2.3033, grad_fn=<NllLossBackward>) 2.303250312805176\n",
            "tensor(2.3031, grad_fn=<NllLossBackward>) 2.303055763244629\n",
            "tensor(2.3019, grad_fn=<NllLossBackward>) 2.301936149597168\n",
            "tensor(2.3024, grad_fn=<NllLossBackward>) 2.3024470806121826\n",
            "tensor(2.3049, grad_fn=<NllLossBackward>) 2.304948329925537\n",
            "tensor(2.3027, grad_fn=<NllLossBackward>) 2.302748918533325\n",
            "tensor(2.3022, grad_fn=<NllLossBackward>) 2.302180528640747\n",
            "tensor(2.3027, grad_fn=<NllLossBackward>) 2.3026747703552246\n",
            "tensor(2.3025, grad_fn=<NllLossBackward>) 2.3025436401367188\n",
            "tensor(2.3030, grad_fn=<NllLossBackward>) 2.3029978275299072\n",
            "tensor(2.3023, grad_fn=<NllLossBackward>) 2.302337884902954\n",
            "tensor(2.3035, grad_fn=<NllLossBackward>) 2.303507089614868\n",
            "tensor(2.3023, grad_fn=<NllLossBackward>) 2.302283763885498\n",
            "tensor(2.3026, grad_fn=<NllLossBackward>) 2.3026351928710938\n",
            "tensor(2.3031, grad_fn=<NllLossBackward>) 2.3031294345855713\n",
            "tensor(2.3034, grad_fn=<NllLossBackward>) 2.3033528327941895\n",
            "tensor(2.3016, grad_fn=<NllLossBackward>) 2.301626205444336\n",
            "tensor(2.3019, grad_fn=<NllLossBackward>) 2.3018579483032227\n",
            "tensor(2.3030, grad_fn=<NllLossBackward>) 2.302983522415161\n",
            "tensor(2.3047, grad_fn=<NllLossBackward>) 2.3047475814819336\n",
            "tensor(2.3032, grad_fn=<NllLossBackward>) 2.303205728530884\n",
            "tensor(2.3021, grad_fn=<NllLossBackward>) 2.3020787239074707\n",
            "tensor(2.3025, grad_fn=<NllLossBackward>) 2.3024768829345703\n",
            "tensor(2.3021, grad_fn=<NllLossBackward>) 2.30208158493042\n",
            "tensor(2.3027, grad_fn=<NllLossBackward>) 2.3027241230010986\n",
            "tensor(2.3039, grad_fn=<NllLossBackward>) 2.3038594722747803\n",
            "tensor(2.3035, grad_fn=<NllLossBackward>) 2.303502321243286\n",
            "tensor(2.3025, grad_fn=<NllLossBackward>) 2.3024749755859375\n",
            "tensor(2.3020, grad_fn=<NllLossBackward>) 2.3019981384277344\n",
            "tensor(2.3037, grad_fn=<NllLossBackward>) 2.303739547729492\n",
            "tensor(2.3027, grad_fn=<NllLossBackward>) 2.302668333053589\n",
            "tensor(2.3022, grad_fn=<NllLossBackward>) 2.3022046089172363\n",
            "tensor(2.3026, grad_fn=<NllLossBackward>) 2.3025755882263184\n",
            "tensor(2.3030, grad_fn=<NllLossBackward>) 2.3029654026031494\n",
            "tensor(2.3028, grad_fn=<NllLossBackward>) 2.3028366565704346\n",
            "tensor(2.3035, grad_fn=<NllLossBackward>) 2.3034722805023193\n",
            "tensor(2.3033, grad_fn=<NllLossBackward>) 2.3033483028411865\n",
            "tensor(2.3020, grad_fn=<NllLossBackward>) 2.302034616470337\n",
            "tensor(2.3033, grad_fn=<NllLossBackward>) 2.303258180618286\n",
            "tensor(2.3037, grad_fn=<NllLossBackward>) 2.3036842346191406\n",
            "tensor(2.3022, grad_fn=<NllLossBackward>) 2.302194833755493\n",
            "tensor(2.3037, grad_fn=<NllLossBackward>) 2.303677797317505\n",
            "tensor(2.3032, grad_fn=<NllLossBackward>) 2.3031671047210693\n",
            "tensor(2.3022, grad_fn=<NllLossBackward>) 2.302233934402466\n",
            "tensor(2.3032, grad_fn=<NllLossBackward>) 2.3032450675964355\n",
            "tensor(2.3027, grad_fn=<NllLossBackward>) 2.302677631378174\n",
            "tensor(2.3028, grad_fn=<NllLossBackward>) 2.3027548789978027\n",
            "tensor(2.3019, grad_fn=<NllLossBackward>) 2.301887035369873\n",
            "tensor(2.3017, grad_fn=<NllLossBackward>) 2.3017313480377197\n",
            "tensor(2.3037, grad_fn=<NllLossBackward>) 2.3036954402923584\n",
            "tensor(2.3027, grad_fn=<NllLossBackward>) 2.302724599838257\n",
            "tensor(2.3025, grad_fn=<NllLossBackward>) 2.3024940490722656\n",
            "tensor(2.3019, grad_fn=<NllLossBackward>) 2.3019373416900635\n",
            "tensor(2.3023, grad_fn=<NllLossBackward>) 2.3023064136505127\n",
            "tensor(2.3025, grad_fn=<NllLossBackward>) 2.3025481700897217\n"
          ]
        },
        {
          "output_type": "stream",
          "name": "stderr",
          "text": [
            "\r  0%|          | 0/100 [00:06<?, ?it/s]\n"
          ]
        },
        {
          "output_type": "error",
          "ename": "KeyboardInterrupt",
          "evalue": "ignored",
          "traceback": [
            "\u001b[0;31m---------------------------------------------------------------------------\u001b[0m",
            "\u001b[0;31mKeyboardInterrupt\u001b[0m                         Traceback (most recent call last)",
            "\u001b[0;32m<ipython-input-80-3c70e0dd9ccc>\u001b[0m in \u001b[0;36m<module>\u001b[0;34m()\u001b[0m\n\u001b[1;32m     42\u001b[0m         \u001b[0mlabel_test\u001b[0m \u001b[0;34m=\u001b[0m \u001b[0mlabel_test\u001b[0m\u001b[0;34m.\u001b[0m\u001b[0mto\u001b[0m\u001b[0;34m(\u001b[0m\u001b[0mdevice\u001b[0m\u001b[0;34m)\u001b[0m\u001b[0;34m\u001b[0m\u001b[0;34m\u001b[0m\u001b[0m\n\u001b[1;32m     43\u001b[0m \u001b[0;34m\u001b[0m\u001b[0m\n\u001b[0;32m---> 44\u001b[0;31m         \u001b[0mprediction_test\u001b[0m             \u001b[0;34m=\u001b[0m \u001b[0mcompute_prediction\u001b[0m\u001b[0;34m(\u001b[0m\u001b[0mclassifier\u001b[0m\u001b[0;34m,\u001b[0m \u001b[0mimage_test\u001b[0m\u001b[0;34m)\u001b[0m\u001b[0;34m\u001b[0m\u001b[0;34m\u001b[0m\u001b[0m\n\u001b[0m\u001b[1;32m     45\u001b[0m         \u001b[0mloss_test\u001b[0m\u001b[0;34m,\u001b[0m \u001b[0mloss_value_test\u001b[0m  \u001b[0;34m=\u001b[0m \u001b[0mcompute_loss\u001b[0m\u001b[0;34m(\u001b[0m\u001b[0mprediction_test\u001b[0m\u001b[0;34m,\u001b[0m \u001b[0mlabel_test\u001b[0m\u001b[0;34m)\u001b[0m\u001b[0;34m\u001b[0m\u001b[0;34m\u001b[0m\u001b[0m\n\u001b[1;32m     46\u001b[0m         \u001b[0maccuracy_test\u001b[0m               \u001b[0;34m=\u001b[0m \u001b[0mcompute_accuracy\u001b[0m\u001b[0;34m(\u001b[0m\u001b[0mprediction_test\u001b[0m\u001b[0;34m,\u001b[0m \u001b[0mlabel_test\u001b[0m\u001b[0;34m)\u001b[0m\u001b[0;34m\u001b[0m\u001b[0;34m\u001b[0m\u001b[0m\n",
            "\u001b[0;32m<ipython-input-41-a383748ebda3>\u001b[0m in \u001b[0;36mcompute_prediction\u001b[0;34m(model, input)\u001b[0m\n\u001b[1;32m      1\u001b[0m \u001b[0;32mdef\u001b[0m \u001b[0mcompute_prediction\u001b[0m\u001b[0;34m(\u001b[0m\u001b[0mmodel\u001b[0m\u001b[0;34m,\u001b[0m \u001b[0minput\u001b[0m\u001b[0;34m)\u001b[0m\u001b[0;34m:\u001b[0m\u001b[0;34m\u001b[0m\u001b[0;34m\u001b[0m\u001b[0m\n\u001b[1;32m      2\u001b[0m \u001b[0;34m\u001b[0m\u001b[0m\n\u001b[0;32m----> 3\u001b[0;31m     \u001b[0mprediction\u001b[0m \u001b[0;34m=\u001b[0m \u001b[0mmodel\u001b[0m\u001b[0;34m(\u001b[0m\u001b[0minput\u001b[0m\u001b[0;34m)\u001b[0m\u001b[0;34m\u001b[0m\u001b[0;34m\u001b[0m\u001b[0m\n\u001b[0m\u001b[1;32m      4\u001b[0m \u001b[0;34m\u001b[0m\u001b[0m\n\u001b[1;32m      5\u001b[0m     \u001b[0;32mreturn\u001b[0m \u001b[0mprediction\u001b[0m\u001b[0;34m\u001b[0m\u001b[0;34m\u001b[0m\u001b[0m\n",
            "\u001b[0;32m/usr/local/lib/python3.7/dist-packages/torch/nn/modules/module.py\u001b[0m in \u001b[0;36m_call_impl\u001b[0;34m(self, *input, **kwargs)\u001b[0m\n\u001b[1;32m   1049\u001b[0m         if not (self._backward_hooks or self._forward_hooks or self._forward_pre_hooks or _global_backward_hooks\n\u001b[1;32m   1050\u001b[0m                 or _global_forward_hooks or _global_forward_pre_hooks):\n\u001b[0;32m-> 1051\u001b[0;31m             \u001b[0;32mreturn\u001b[0m \u001b[0mforward_call\u001b[0m\u001b[0;34m(\u001b[0m\u001b[0;34m*\u001b[0m\u001b[0minput\u001b[0m\u001b[0;34m,\u001b[0m \u001b[0;34m**\u001b[0m\u001b[0mkwargs\u001b[0m\u001b[0;34m)\u001b[0m\u001b[0;34m\u001b[0m\u001b[0;34m\u001b[0m\u001b[0m\n\u001b[0m\u001b[1;32m   1052\u001b[0m         \u001b[0;31m# Do not call functions when jit is used\u001b[0m\u001b[0;34m\u001b[0m\u001b[0;34m\u001b[0m\u001b[0;34m\u001b[0m\u001b[0m\n\u001b[1;32m   1053\u001b[0m         \u001b[0mfull_backward_hooks\u001b[0m\u001b[0;34m,\u001b[0m \u001b[0mnon_full_backward_hooks\u001b[0m \u001b[0;34m=\u001b[0m \u001b[0;34m[\u001b[0m\u001b[0;34m]\u001b[0m\u001b[0;34m,\u001b[0m \u001b[0;34m[\u001b[0m\u001b[0;34m]\u001b[0m\u001b[0;34m\u001b[0m\u001b[0;34m\u001b[0m\u001b[0m\n",
            "\u001b[0;32m<ipython-input-38-bdb3e1516e41>\u001b[0m in \u001b[0;36mforward\u001b[0;34m(self, input)\u001b[0m\n\u001b[1;32m     49\u001b[0m     \u001b[0;32mdef\u001b[0m \u001b[0mforward\u001b[0m\u001b[0;34m(\u001b[0m\u001b[0mself\u001b[0m\u001b[0;34m,\u001b[0m \u001b[0minput\u001b[0m\u001b[0;34m)\u001b[0m\u001b[0;34m:\u001b[0m\u001b[0;34m\u001b[0m\u001b[0;34m\u001b[0m\u001b[0m\n\u001b[1;32m     50\u001b[0m \u001b[0;34m\u001b[0m\u001b[0m\n\u001b[0;32m---> 51\u001b[0;31m         \u001b[0moutput\u001b[0m \u001b[0;34m=\u001b[0m \u001b[0mself\u001b[0m\u001b[0;34m.\u001b[0m\u001b[0mnetwork\u001b[0m\u001b[0;34m(\u001b[0m\u001b[0minput\u001b[0m\u001b[0;34m)\u001b[0m\u001b[0;34m\u001b[0m\u001b[0;34m\u001b[0m\u001b[0m\n\u001b[0m\u001b[1;32m     52\u001b[0m \u001b[0;34m\u001b[0m\u001b[0m\n\u001b[1;32m     53\u001b[0m         \u001b[0;32mreturn\u001b[0m \u001b[0moutput\u001b[0m\u001b[0;34m\u001b[0m\u001b[0;34m\u001b[0m\u001b[0m\n",
            "\u001b[0;32m/usr/local/lib/python3.7/dist-packages/torch/nn/modules/module.py\u001b[0m in \u001b[0;36m_call_impl\u001b[0;34m(self, *input, **kwargs)\u001b[0m\n\u001b[1;32m   1049\u001b[0m         if not (self._backward_hooks or self._forward_hooks or self._forward_pre_hooks or _global_backward_hooks\n\u001b[1;32m   1050\u001b[0m                 or _global_forward_hooks or _global_forward_pre_hooks):\n\u001b[0;32m-> 1051\u001b[0;31m             \u001b[0;32mreturn\u001b[0m \u001b[0mforward_call\u001b[0m\u001b[0;34m(\u001b[0m\u001b[0;34m*\u001b[0m\u001b[0minput\u001b[0m\u001b[0;34m,\u001b[0m \u001b[0;34m**\u001b[0m\u001b[0mkwargs\u001b[0m\u001b[0;34m)\u001b[0m\u001b[0;34m\u001b[0m\u001b[0;34m\u001b[0m\u001b[0m\n\u001b[0m\u001b[1;32m   1052\u001b[0m         \u001b[0;31m# Do not call functions when jit is used\u001b[0m\u001b[0;34m\u001b[0m\u001b[0;34m\u001b[0m\u001b[0;34m\u001b[0m\u001b[0m\n\u001b[1;32m   1053\u001b[0m         \u001b[0mfull_backward_hooks\u001b[0m\u001b[0;34m,\u001b[0m \u001b[0mnon_full_backward_hooks\u001b[0m \u001b[0;34m=\u001b[0m \u001b[0;34m[\u001b[0m\u001b[0;34m]\u001b[0m\u001b[0;34m,\u001b[0m \u001b[0;34m[\u001b[0m\u001b[0;34m]\u001b[0m\u001b[0;34m\u001b[0m\u001b[0;34m\u001b[0m\u001b[0m\n",
            "\u001b[0;32m/usr/local/lib/python3.7/dist-packages/torch/nn/modules/container.py\u001b[0m in \u001b[0;36mforward\u001b[0;34m(self, input)\u001b[0m\n\u001b[1;32m    137\u001b[0m     \u001b[0;32mdef\u001b[0m \u001b[0mforward\u001b[0m\u001b[0;34m(\u001b[0m\u001b[0mself\u001b[0m\u001b[0;34m,\u001b[0m \u001b[0minput\u001b[0m\u001b[0;34m)\u001b[0m\u001b[0;34m:\u001b[0m\u001b[0;34m\u001b[0m\u001b[0;34m\u001b[0m\u001b[0m\n\u001b[1;32m    138\u001b[0m         \u001b[0;32mfor\u001b[0m \u001b[0mmodule\u001b[0m \u001b[0;32min\u001b[0m \u001b[0mself\u001b[0m\u001b[0;34m:\u001b[0m\u001b[0;34m\u001b[0m\u001b[0;34m\u001b[0m\u001b[0m\n\u001b[0;32m--> 139\u001b[0;31m             \u001b[0minput\u001b[0m \u001b[0;34m=\u001b[0m \u001b[0mmodule\u001b[0m\u001b[0;34m(\u001b[0m\u001b[0minput\u001b[0m\u001b[0;34m)\u001b[0m\u001b[0;34m\u001b[0m\u001b[0;34m\u001b[0m\u001b[0m\n\u001b[0m\u001b[1;32m    140\u001b[0m         \u001b[0;32mreturn\u001b[0m \u001b[0minput\u001b[0m\u001b[0;34m\u001b[0m\u001b[0;34m\u001b[0m\u001b[0m\n\u001b[1;32m    141\u001b[0m \u001b[0;34m\u001b[0m\u001b[0m\n",
            "\u001b[0;32m/usr/local/lib/python3.7/dist-packages/torch/nn/modules/module.py\u001b[0m in \u001b[0;36m_call_impl\u001b[0;34m(self, *input, **kwargs)\u001b[0m\n\u001b[1;32m   1049\u001b[0m         if not (self._backward_hooks or self._forward_hooks or self._forward_pre_hooks or _global_backward_hooks\n\u001b[1;32m   1050\u001b[0m                 or _global_forward_hooks or _global_forward_pre_hooks):\n\u001b[0;32m-> 1051\u001b[0;31m             \u001b[0;32mreturn\u001b[0m \u001b[0mforward_call\u001b[0m\u001b[0;34m(\u001b[0m\u001b[0;34m*\u001b[0m\u001b[0minput\u001b[0m\u001b[0;34m,\u001b[0m \u001b[0;34m**\u001b[0m\u001b[0mkwargs\u001b[0m\u001b[0;34m)\u001b[0m\u001b[0;34m\u001b[0m\u001b[0;34m\u001b[0m\u001b[0m\n\u001b[0m\u001b[1;32m   1052\u001b[0m         \u001b[0;31m# Do not call functions when jit is used\u001b[0m\u001b[0;34m\u001b[0m\u001b[0;34m\u001b[0m\u001b[0;34m\u001b[0m\u001b[0m\n\u001b[1;32m   1053\u001b[0m         \u001b[0mfull_backward_hooks\u001b[0m\u001b[0;34m,\u001b[0m \u001b[0mnon_full_backward_hooks\u001b[0m \u001b[0;34m=\u001b[0m \u001b[0;34m[\u001b[0m\u001b[0;34m]\u001b[0m\u001b[0;34m,\u001b[0m \u001b[0;34m[\u001b[0m\u001b[0;34m]\u001b[0m\u001b[0;34m\u001b[0m\u001b[0;34m\u001b[0m\u001b[0m\n",
            "\u001b[0;32m/usr/local/lib/python3.7/dist-packages/torch/nn/modules/container.py\u001b[0m in \u001b[0;36mforward\u001b[0;34m(self, input)\u001b[0m\n\u001b[1;32m    137\u001b[0m     \u001b[0;32mdef\u001b[0m \u001b[0mforward\u001b[0m\u001b[0;34m(\u001b[0m\u001b[0mself\u001b[0m\u001b[0;34m,\u001b[0m \u001b[0minput\u001b[0m\u001b[0;34m)\u001b[0m\u001b[0;34m:\u001b[0m\u001b[0;34m\u001b[0m\u001b[0;34m\u001b[0m\u001b[0m\n\u001b[1;32m    138\u001b[0m         \u001b[0;32mfor\u001b[0m \u001b[0mmodule\u001b[0m \u001b[0;32min\u001b[0m \u001b[0mself\u001b[0m\u001b[0;34m:\u001b[0m\u001b[0;34m\u001b[0m\u001b[0;34m\u001b[0m\u001b[0m\n\u001b[0;32m--> 139\u001b[0;31m             \u001b[0minput\u001b[0m \u001b[0;34m=\u001b[0m \u001b[0mmodule\u001b[0m\u001b[0;34m(\u001b[0m\u001b[0minput\u001b[0m\u001b[0;34m)\u001b[0m\u001b[0;34m\u001b[0m\u001b[0;34m\u001b[0m\u001b[0m\n\u001b[0m\u001b[1;32m    140\u001b[0m         \u001b[0;32mreturn\u001b[0m \u001b[0minput\u001b[0m\u001b[0;34m\u001b[0m\u001b[0;34m\u001b[0m\u001b[0m\n\u001b[1;32m    141\u001b[0m \u001b[0;34m\u001b[0m\u001b[0m\n",
            "\u001b[0;32m/usr/local/lib/python3.7/dist-packages/torch/nn/modules/module.py\u001b[0m in \u001b[0;36m_call_impl\u001b[0;34m(self, *input, **kwargs)\u001b[0m\n\u001b[1;32m   1049\u001b[0m         if not (self._backward_hooks or self._forward_hooks or self._forward_pre_hooks or _global_backward_hooks\n\u001b[1;32m   1050\u001b[0m                 or _global_forward_hooks or _global_forward_pre_hooks):\n\u001b[0;32m-> 1051\u001b[0;31m             \u001b[0;32mreturn\u001b[0m \u001b[0mforward_call\u001b[0m\u001b[0;34m(\u001b[0m\u001b[0;34m*\u001b[0m\u001b[0minput\u001b[0m\u001b[0;34m,\u001b[0m \u001b[0;34m**\u001b[0m\u001b[0mkwargs\u001b[0m\u001b[0;34m)\u001b[0m\u001b[0;34m\u001b[0m\u001b[0;34m\u001b[0m\u001b[0m\n\u001b[0m\u001b[1;32m   1052\u001b[0m         \u001b[0;31m# Do not call functions when jit is used\u001b[0m\u001b[0;34m\u001b[0m\u001b[0;34m\u001b[0m\u001b[0;34m\u001b[0m\u001b[0m\n\u001b[1;32m   1053\u001b[0m         \u001b[0mfull_backward_hooks\u001b[0m\u001b[0;34m,\u001b[0m \u001b[0mnon_full_backward_hooks\u001b[0m \u001b[0;34m=\u001b[0m \u001b[0;34m[\u001b[0m\u001b[0;34m]\u001b[0m\u001b[0;34m,\u001b[0m \u001b[0;34m[\u001b[0m\u001b[0;34m]\u001b[0m\u001b[0;34m\u001b[0m\u001b[0;34m\u001b[0m\u001b[0m\n",
            "\u001b[0;32m/usr/local/lib/python3.7/dist-packages/torch/nn/modules/conv.py\u001b[0m in \u001b[0;36mforward\u001b[0;34m(self, input)\u001b[0m\n\u001b[1;32m    441\u001b[0m \u001b[0;34m\u001b[0m\u001b[0m\n\u001b[1;32m    442\u001b[0m     \u001b[0;32mdef\u001b[0m \u001b[0mforward\u001b[0m\u001b[0;34m(\u001b[0m\u001b[0mself\u001b[0m\u001b[0;34m,\u001b[0m \u001b[0minput\u001b[0m\u001b[0;34m:\u001b[0m \u001b[0mTensor\u001b[0m\u001b[0;34m)\u001b[0m \u001b[0;34m->\u001b[0m \u001b[0mTensor\u001b[0m\u001b[0;34m:\u001b[0m\u001b[0;34m\u001b[0m\u001b[0;34m\u001b[0m\u001b[0m\n\u001b[0;32m--> 443\u001b[0;31m         \u001b[0;32mreturn\u001b[0m \u001b[0mself\u001b[0m\u001b[0;34m.\u001b[0m\u001b[0m_conv_forward\u001b[0m\u001b[0;34m(\u001b[0m\u001b[0minput\u001b[0m\u001b[0;34m,\u001b[0m \u001b[0mself\u001b[0m\u001b[0;34m.\u001b[0m\u001b[0mweight\u001b[0m\u001b[0;34m,\u001b[0m \u001b[0mself\u001b[0m\u001b[0;34m.\u001b[0m\u001b[0mbias\u001b[0m\u001b[0;34m)\u001b[0m\u001b[0;34m\u001b[0m\u001b[0;34m\u001b[0m\u001b[0m\n\u001b[0m\u001b[1;32m    444\u001b[0m \u001b[0;34m\u001b[0m\u001b[0m\n\u001b[1;32m    445\u001b[0m \u001b[0;32mclass\u001b[0m \u001b[0mConv3d\u001b[0m\u001b[0;34m(\u001b[0m\u001b[0m_ConvNd\u001b[0m\u001b[0;34m)\u001b[0m\u001b[0;34m:\u001b[0m\u001b[0;34m\u001b[0m\u001b[0;34m\u001b[0m\u001b[0m\n",
            "\u001b[0;32m/usr/local/lib/python3.7/dist-packages/torch/nn/modules/conv.py\u001b[0m in \u001b[0;36m_conv_forward\u001b[0;34m(self, input, weight, bias)\u001b[0m\n\u001b[1;32m    438\u001b[0m                             _pair(0), self.dilation, self.groups)\n\u001b[1;32m    439\u001b[0m         return F.conv2d(input, weight, bias, self.stride,\n\u001b[0;32m--> 440\u001b[0;31m                         self.padding, self.dilation, self.groups)\n\u001b[0m\u001b[1;32m    441\u001b[0m \u001b[0;34m\u001b[0m\u001b[0m\n\u001b[1;32m    442\u001b[0m     \u001b[0;32mdef\u001b[0m \u001b[0mforward\u001b[0m\u001b[0;34m(\u001b[0m\u001b[0mself\u001b[0m\u001b[0;34m,\u001b[0m \u001b[0minput\u001b[0m\u001b[0;34m:\u001b[0m \u001b[0mTensor\u001b[0m\u001b[0;34m)\u001b[0m \u001b[0;34m->\u001b[0m \u001b[0mTensor\u001b[0m\u001b[0;34m:\u001b[0m\u001b[0;34m\u001b[0m\u001b[0;34m\u001b[0m\u001b[0m\n",
            "\u001b[0;31mKeyboardInterrupt\u001b[0m: "
          ]
        }
      ]
    },
    {
      "cell_type": "markdown",
      "metadata": {
        "id": "zcT-FVTP2DrO"
      },
      "source": [
        "## plot curve"
      ]
    },
    {
      "cell_type": "code",
      "metadata": {
        "id": "FL5UNgQU2DrO"
      },
      "source": [
        "def plot_curve_error(data_mean, data_std, x_label, y_label, title):\n",
        "\n",
        "    plt.figure(figsize=(8, 6))\n",
        "    plt.title(title)\n",
        "\n",
        "    alpha = 0.3\n",
        "    \n",
        "    plt.plot(range(len(data_mean)), data_mean, '-', color = 'red')\n",
        "    plt.fill_between(range(len(data_mean)), data_mean - data_std, data_mean + data_std, facecolor = 'blue', alpha = alpha) \n",
        "    \n",
        "    plt.xlabel(x_label)\n",
        "    plt.ylabel(y_label)\n",
        "\n",
        "    plt.tight_layout()\n",
        "    plt.show()"
      ],
      "execution_count": 55,
      "outputs": []
    },
    {
      "cell_type": "code",
      "metadata": {
        "id": "8sMBhubI2DrO"
      },
      "source": [
        "def print_curve(data, index):\n",
        "    \n",
        "    for i in range(len(index)):\n",
        "\n",
        "        idx = index[i]\n",
        "        val = data[idx]\n",
        "\n",
        "        print('index = %2d, value = %12.10f' % (idx, val))"
      ],
      "execution_count": 56,
      "outputs": []
    },
    {
      "cell_type": "code",
      "metadata": {
        "id": "sxzLlfUk2DrP"
      },
      "source": [
        "def get_data_last(data, index_start):\n",
        "\n",
        "    data_last = data[index_start:]\n",
        "\n",
        "    return data_last"
      ],
      "execution_count": 57,
      "outputs": []
    },
    {
      "cell_type": "code",
      "metadata": {
        "id": "lC7knYCP2DrP"
      },
      "source": [
        "def get_max_last_range(data, index_start):\n",
        "\n",
        "    data_range = get_data_last(data, index_start)\n",
        "    value = data_range.max()\n",
        "\n",
        "    return value"
      ],
      "execution_count": 58,
      "outputs": []
    },
    {
      "cell_type": "code",
      "metadata": {
        "id": "pjtrXsfo2DrQ"
      },
      "source": [
        "def get_min_last_range(data, index_start):\n",
        "\n",
        "    data_range = get_data_last(data, index_start)\n",
        "    value = data_range.min()\n",
        "\n",
        "    return value"
      ],
      "execution_count": 59,
      "outputs": []
    },
    {
      "cell_type": "markdown",
      "metadata": {
        "id": "947Y-Fjk2DrS"
      },
      "source": [
        "---"
      ]
    },
    {
      "cell_type": "markdown",
      "metadata": {
        "id": "x-MbJQ7e2DrS"
      },
      "source": [
        "# functions for presenting the results"
      ]
    },
    {
      "cell_type": "markdown",
      "metadata": {
        "id": "SU3V72Rc2DrS"
      },
      "source": [
        "---"
      ]
    },
    {
      "cell_type": "code",
      "metadata": {
        "id": "2-QkGGxd2DrT"
      },
      "source": [
        "def function_result_01():\n",
        "\n",
        "    plot_curve_error(loss_mean_train, loss_std_train, 'epoch', 'loss', 'loss (training)')"
      ],
      "execution_count": 60,
      "outputs": []
    },
    {
      "cell_type": "code",
      "metadata": {
        "id": "0H4QXO5U2DrT"
      },
      "source": [
        "def function_result_02():\n",
        "\n",
        "    plot_curve_error(accuracy_mean_train, accuracy_std_train, 'epoch', 'accuracy', 'accuracy (training)')"
      ],
      "execution_count": 61,
      "outputs": []
    },
    {
      "cell_type": "code",
      "metadata": {
        "id": "hGRSSmJ52DrT"
      },
      "source": [
        "def function_result_03():\n",
        "    \n",
        "    plot_curve_error(loss_mean_test, loss_std_test, 'epoch', 'loss', 'loss (testing)')"
      ],
      "execution_count": 62,
      "outputs": []
    },
    {
      "cell_type": "code",
      "metadata": {
        "id": "BQNsVzgz2DrU"
      },
      "source": [
        "def function_result_04():\n",
        "    \n",
        "    plot_curve_error(accuracy_mean_test, accuracy_std_test, 'epoch', 'accuracy', 'accuracy (testing)')"
      ],
      "execution_count": 63,
      "outputs": []
    },
    {
      "cell_type": "code",
      "metadata": {
        "id": "5ra0ZYL32DrU"
      },
      "source": [
        "def function_result_05():\n",
        "    \n",
        "    data_last = get_data_last(loss_mean_train, -10)\n",
        "    index = np.arange(0, 10)\n",
        "    print_curve(data_last, index)"
      ],
      "execution_count": 64,
      "outputs": []
    },
    {
      "cell_type": "code",
      "metadata": {
        "id": "fvCCwYJP2DrV"
      },
      "source": [
        "def function_result_06():\n",
        "    \n",
        "    data_last = get_data_last(accuracy_mean_train, -10)\n",
        "    index = np.arange(0, 10)\n",
        "    print_curve(data_last, index)"
      ],
      "execution_count": 65,
      "outputs": []
    },
    {
      "cell_type": "code",
      "metadata": {
        "id": "MJtPCgPE2DrV"
      },
      "source": [
        "def function_result_07():\n",
        "    \n",
        "    data_last = get_data_last(loss_mean_test, -10)\n",
        "    index = np.arange(0, 10)\n",
        "    print_curve(data_last, index)"
      ],
      "execution_count": 66,
      "outputs": []
    },
    {
      "cell_type": "code",
      "metadata": {
        "id": "gavJXVYG2DrW"
      },
      "source": [
        "def function_result_08():\n",
        "    \n",
        "    data_last = get_data_last(accuracy_mean_test, -10)\n",
        "    index = np.arange(0, 10)\n",
        "    print_curve(data_last, index)"
      ],
      "execution_count": 67,
      "outputs": []
    },
    {
      "cell_type": "code",
      "metadata": {
        "id": "dTH4mbpL2DrW"
      },
      "source": [
        "def function_result_09():\n",
        "    \n",
        "    value = get_max_last_range(accuracy_mean_train, -10)\n",
        "    print('best training accuracy = %12.10f' % (value))"
      ],
      "execution_count": 68,
      "outputs": []
    },
    {
      "cell_type": "code",
      "metadata": {
        "id": "nqe8d3K72DrW"
      },
      "source": [
        "def function_result_10():\n",
        "    \n",
        "    value = get_max_last_range(accuracy_mean_test, -10)\n",
        "    print('best testing accuracy = %12.10f' % (value))"
      ],
      "execution_count": 69,
      "outputs": []
    },
    {
      "cell_type": "markdown",
      "metadata": {
        "id": "CjQKHKdR2DrW"
      },
      "source": [
        "---"
      ]
    },
    {
      "cell_type": "markdown",
      "metadata": {
        "id": "d9VIX3CG2DrX"
      },
      "source": [
        "# RESULTS"
      ]
    },
    {
      "cell_type": "markdown",
      "metadata": {
        "id": "yuF4baYz2DrX"
      },
      "source": [
        "---"
      ]
    },
    {
      "cell_type": "markdown",
      "metadata": {
        "id": "aPz7Loki2DrX"
      },
      "source": [
        "## # 01. plot the training loss curve (mean, std)"
      ]
    },
    {
      "cell_type": "code",
      "metadata": {
        "colab": {
          "base_uri": "https://localhost:8080/",
          "height": 441
        },
        "id": "DbtYPcQT2DrY",
        "outputId": "10d7ae45-7a85-413d-aa0b-63cc6847e383"
      },
      "source": [
        "function_result_01()"
      ],
      "execution_count": 70,
      "outputs": [
        {
          "output_type": "display_data",
          "data": {
            "image/png": "[encoded data removed]",
            "text/plain": [
              "<Figure size 576x432 with 1 Axes>"
            ]
          },
          "metadata": {
            "needs_background": "light"
          }
        }
      ]
    },
    {
      "cell_type": "markdown",
      "metadata": {
        "id": "zVXleUrQ2DrY"
      },
      "source": [
        "## # 02. plot the training accuracy curve (mean, std)"
      ]
    },
    {
      "cell_type": "code",
      "metadata": {
        "colab": {
          "base_uri": "https://localhost:8080/",
          "height": 441
        },
        "id": "zoS6bN8E2DrY",
        "outputId": "90e66df6-ce1c-4fd7-fe46-e03cb925ab08"
      },
      "source": [
        "function_result_02()"
      ],
      "execution_count": 71,
      "outputs": [
        {
          "output_type": "display_data",
          "data": {
            "image/png": "[encoded data removed]",
            "text/plain": [
              "<Figure size 576x432 with 1 Axes>"
            ]
          },
          "metadata": {
            "needs_background": "light"
          }
        }
      ]
    },
    {
      "cell_type": "markdown",
      "metadata": {
        "id": "1ko0uYXL2DrZ"
      },
      "source": [
        "## # 03. plot the testing loss curve (mean, std)"
      ]
    },
    {
      "cell_type": "code",
      "metadata": {
        "colab": {
          "base_uri": "https://localhost:8080/",
          "height": 441
        },
        "id": "YyhWLhA82DrZ",
        "outputId": "62460c55-3fce-4314-f20c-9e5c07bed145"
      },
      "source": [
        "function_result_03()"
      ],
      "execution_count": 72,
      "outputs": [
        {
          "output_type": "display_data",
          "data": {
            "image/png": "[encoded data removed]",
            "text/plain": [
              "<Figure size 576x432 with 1 Axes>"
            ]
          },
          "metadata": {
            "needs_background": "light"
          }
        }
      ]
    },
    {
      "cell_type": "markdown",
      "metadata": {
        "id": "6tK2wxOV2Dra"
      },
      "source": [
        "## # 04. plot the testing accuracy curve (mean, std)"
      ]
    },
    {
      "cell_type": "code",
      "metadata": {
        "colab": {
          "base_uri": "https://localhost:8080/",
          "height": 441
        },
        "id": "0UQNEqnO2Dra",
        "outputId": "86133756-498b-49bc-c294-a0532018948b"
      },
      "source": [
        "function_result_04()"
      ],
      "execution_count": 73,
      "outputs": [
        {
          "output_type": "display_data",
          "data": {
            "image/png": "[encoded data removed]",
            "text/plain": [
              "<Figure size 576x432 with 1 Axes>"
            ]
          },
          "metadata": {
            "needs_background": "light"
          }
        }
      ]
    },
    {
      "cell_type": "markdown",
      "metadata": {
        "id": "LFx4eO5l2Drb"
      },
      "source": [
        "## # 05. print the training (mean) loss over batches at last 10 epochs"
      ]
    },
    {
      "cell_type": "code",
      "metadata": {
        "colab": {
          "base_uri": "https://localhost:8080/"
        },
        "id": "6ukgpn6J2Drb",
        "outputId": "27603e39-98a8-407d-8997-2cc4778cc0da"
      },
      "source": [
        "function_result_05()"
      ],
      "execution_count": 74,
      "outputs": [
        {
          "output_type": "stream",
          "name": "stdout",
          "text": [
            "index =  0, value = 2.3027137562\n",
            "index =  1, value = 2.3027171402\n",
            "index =  2, value = 2.3027055092\n",
            "index =  3, value = 2.3027019775\n",
            "index =  4, value = 2.3027155437\n",
            "index =  5, value = 2.3027140949\n",
            "index =  6, value = 2.3027120422\n",
            "index =  7, value = 2.3026969009\n",
            "index =  8, value = 2.3027053844\n",
            "index =  9, value = 2.3027153923\n"
          ]
        }
      ]
    },
    {
      "cell_type": "markdown",
      "metadata": {
        "id": "KyO0JA3x2Drb"
      },
      "source": [
        "## # 06. print the training (mean) accuracy over batches at last 10 epochs"
      ]
    },
    {
      "cell_type": "code",
      "metadata": {
        "id": "Pkq6_STw2Drc",
        "outputId": "e74a833f-476e-4a60-8315-2fc77aec2280"
      },
      "source": [
        "function_result_06()"
      ],
      "execution_count": null,
      "outputs": [
        {
          "name": "stdout",
          "output_type": "stream",
          "text": [
            "index =  0, value = 84.1250000000\n",
            "index =  1, value = 84.0500000000\n",
            "index =  2, value = 83.9700000000\n",
            "index =  3, value = 84.6100000000\n",
            "index =  4, value = 84.2950000000\n",
            "index =  5, value = 83.9000000000\n",
            "index =  6, value = 83.9650000000\n",
            "index =  7, value = 84.4350000000\n",
            "index =  8, value = 84.4700000000\n",
            "index =  9, value = 84.0200000000\n"
          ]
        }
      ]
    },
    {
      "cell_type": "markdown",
      "metadata": {
        "id": "d7bT-3y02Drc"
      },
      "source": [
        "## # 07. print the testing (mean) loss over batches at last 10 epochs"
      ]
    },
    {
      "cell_type": "code",
      "metadata": {
        "id": "E1gnqAOA2Drc",
        "outputId": "e42d0703-ebe3-4e32-e9bb-ad46503da054"
      },
      "source": [
        "function_result_07()"
      ],
      "execution_count": null,
      "outputs": [
        {
          "name": "stdout",
          "output_type": "stream",
          "text": [
            "index =  0, value = 0.7597044430\n",
            "index =  1, value = 0.9028162157\n",
            "index =  2, value = 0.8540167019\n",
            "index =  3, value = 0.8651684882\n",
            "index =  4, value = 0.8464944984\n",
            "index =  5, value = 0.7890436983\n",
            "index =  6, value = 0.8642735281\n",
            "index =  7, value = 0.8001650725\n",
            "index =  8, value = 0.8862085919\n",
            "index =  9, value = 0.7862651114\n"
          ]
        }
      ]
    },
    {
      "cell_type": "markdown",
      "metadata": {
        "id": "7h-ZN9yQ2Drd"
      },
      "source": [
        "## # 08. print the testing (mean) accuracy over batches at last 10 epochs"
      ]
    },
    {
      "cell_type": "code",
      "metadata": {
        "id": "_Q8s89Ou2Drd",
        "outputId": "4fae9eae-6cba-4bef-e0c3-0c156fb6c550"
      },
      "source": [
        "function_result_08()"
      ],
      "execution_count": null,
      "outputs": [
        {
          "name": "stdout",
          "output_type": "stream",
          "text": [
            "index =  0, value = 84.3750000000\n",
            "index =  1, value = 75.0000000000\n",
            "index =  2, value = 68.7500000000\n",
            "index =  3, value = 78.1250000000\n",
            "index =  4, value = 84.3750000000\n",
            "index =  5, value = 71.8750000000\n",
            "index =  6, value = 71.8750000000\n",
            "index =  7, value = 68.7500000000\n",
            "index =  8, value = 71.8750000000\n",
            "index =  9, value = 62.5000000000\n"
          ]
        }
      ]
    },
    {
      "cell_type": "markdown",
      "metadata": {
        "id": "PpBSW3Ab2Drd"
      },
      "source": [
        "## # 09. print the best training (mean) accuracy within the last 10 epochs"
      ]
    },
    {
      "cell_type": "code",
      "metadata": {
        "id": "Vtlz2YQ52Dre",
        "outputId": "1876ecde-ecb0-405e-8360-2947b3ed40cd"
      },
      "source": [
        "function_result_09()"
      ],
      "execution_count": null,
      "outputs": [
        {
          "name": "stdout",
          "output_type": "stream",
          "text": [
            "best training accuracy = 84.6100000000\n"
          ]
        }
      ]
    },
    {
      "cell_type": "markdown",
      "metadata": {
        "id": "sMSlMpps2Dre"
      },
      "source": [
        "## # 10. print the best testing (mean) accuracy within the last 10 epochs"
      ]
    },
    {
      "cell_type": "code",
      "metadata": {
        "id": "UoEoPqg42Dre",
        "outputId": "cfe9bc20-96cf-4778-d157-787e5a8afc68"
      },
      "source": [
        "function_result_10()"
      ],
      "execution_count": null,
      "outputs": [
        {
          "name": "stdout",
          "output_type": "stream",
          "text": [
            "best testing accuracy = 84.3750000000\n"
          ]
        }
      ]
    }
  ]
}