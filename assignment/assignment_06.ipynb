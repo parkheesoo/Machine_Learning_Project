{
  "nbformat": 4,
  "nbformat_minor": 0,
  "metadata": {
    "colab": {
<<<<<<< HEAD
     "base_uri": "https://localhost:8080/"
    },
    "executionInfo": {
     "elapsed": 5,
     "status": "ok",
     "timestamp": 1630597918894,
     "user": {
      "displayName": "Byung-Woo Hong",
      "photoUrl": "",
      "userId": "17273657108187629509"
     },
     "user_tz": -540
    },
    "id": "K29I-OwCEYzW",
    "outputId": "db8b297c-a4b8-457a-b43f-7570135306c7"
   },
   "source": [
    "# Multi-class classification based on Softmax and Cross-Entropy using pytorch"
   ]
  },
  {
   "cell_type": "markdown",
   "metadata": {},
   "source": [
    "## import libraries"
   ]
  },
  {
   "cell_type": "code",
   "execution_count": 18,
   "metadata": {},
   "outputs": [],
   "source": [
    "import torch\n",
    "import torch.nn as nn\n",
    "import torch.optim as optim\n",
    "import torchvision.datasets as dset\n",
    "import torchvision.transforms as transforms\n",
    "from torch.utils.data import Dataset\n",
    "from torchvision import datasets, transforms\n",
    "from torch.utils.data import DataLoader\n",
    "from torch.optim import lr_scheduler\n",
    "import numpy as np\n",
    "import matplotlib.pyplot as plt\n",
    "import math\n",
    "from tqdm import tqdm\n",
    "import random\n",
    "import os"
   ]
  },
  {
   "cell_type": "markdown",
   "metadata": {},
   "source": [
    "## load data"
   ]
  },
  {
   "cell_type": "code",
   "execution_count": 20,
   "metadata": {},
   "outputs": [
    {
     "name": "stdout",
     "output_type": "stream",
     "text": [
      "*************************************************\n",
      "size of x_train : (20000, 32, 32)\n",
      "size of y_train : (20000,)\n",
      "*************************************************\n",
      "size of x_test : (8000, 32, 32)\n",
      "size of y_test : (8000,)\n",
      "*************************************************\n",
      "number of training image : 20000\n",
      "height of training image : 32\n",
      "width of training image : 32\n",
      "*************************************************\n",
      "number of testing image : 8000\n",
      "height of testing image : 32\n",
      "width of testing image : 32\n",
      "*************************************************\n"
     ]
    }
   ],
   "source": [
    "#directory_data  = '/assignment_06_data.npz'\n",
    "filename_data   = 'assignment_06_data.npz'\n",
    "data            = np.load(os.path.join(filename_data))\n",
    "\n",
    "x_train = data['x_train']\n",
    "y_train = data['y_train']\n",
    "\n",
    "x_test  = data['x_test']\n",
    "y_test  = data['y_test']\n",
    "\n",
    "num_data_train  = x_train.shape[0]\n",
    "num_data_test   = x_test.shape[0]\n",
    "\n",
    "print('*************************************************')\n",
    "print('size of x_train :', x_train.shape)\n",
    "print('size of y_train :', y_train.shape)\n",
    "print('*************************************************')\n",
    "print('size of x_test :', x_test.shape)\n",
    "print('size of y_test :', y_test.shape)\n",
    "print('*************************************************')\n",
    "print('number of training image :', x_train.shape[0])\n",
    "print('height of training image :', x_train.shape[1])\n",
    "print('width of training image :', x_train.shape[2])\n",
    "print('*************************************************')\n",
    "print('number of testing image :', x_test.shape[0])\n",
    "print('height of testing image :', x_test.shape[1])\n",
    "print('width of testing image :', x_test.shape[2])\n",
    "print('*************************************************')"
   ]
  },
  {
   "cell_type": "markdown",
   "metadata": {},
   "source": [
    "## number of classes"
   ]
  },
  {
   "cell_type": "code",
   "execution_count": 21,
   "metadata": {},
   "outputs": [
    {
     "name": "stdout",
     "output_type": "stream",
     "text": [
      "*************************************************\n",
      "number of classes : 10\n",
      "*************************************************\n"
     ]
    }
   ],
   "source": [
    "print('*************************************************')\n",
    "print('number of classes :', len(set(y_train)))\n",
    "print('*************************************************')"
   ]
  },
  {
   "cell_type": "markdown",
   "metadata": {},
   "source": [
    "## hyper-parameters"
   ]
  },
  {
   "cell_type": "code",
   "execution_count": 23,
   "metadata": {},
   "outputs": [],
   "source": [
    "device          = torch.device('cuda' if torch.cuda.is_available() else 'cpu')\n",
    "\n",
    "batch_size = 100\n",
    "learning_rate = 0.001\n",
    "num_epoch = 100\n",
    "weight_decay    = 0.001"
   ]
  },
  {
   "cell_type": "markdown",
   "metadata": {},
   "source": [
    "## custom data loader for the PyTorch framework"
   ]
  },
  {
   "cell_type": "code",
   "execution_count": 24,
   "metadata": {},
   "outputs": [],
   "source": [
    "class dataset(Dataset):\n",
    "    \n",
    "    def __init__(self, image, label):\n",
    "        \n",
    "        self.image  = image\n",
    "        self.label  = label.astype(np.long)\n",
    "    \n",
    "    def __getitem__(self, index):\n",
    "        \n",
    "        image   = self.image[index, :, :]\n",
    "        label   = self.label[index, ]\n",
    "\n",
    "        image   = torch.FloatTensor(image).unsqueeze(dim=0)\n",
    "        label   = torch.LongTensor([label])\n",
    "\n",
    "        return image, label\n",
    "    \n",
    "    def __len__(self):\n",
    "        \n",
    "        return self.image.shape[0]\n",
    "\n",
    "    def collate_fn(self, batch):\n",
    "        images  = list()\n",
    "        labels  = list()\n",
    "\n",
    "        for b in batch:\n",
    "            images.append(b[0])\n",
    "            labels.append(b[1])\n",
    "\n",
    "        images  = torch.stack(images, dim=0)\n",
    "        labels  = torch.stack(labels, dim=0).squeeze()\n",
    "\n",
    "        return images, labels\n",
    "        "
   ]
  },
  {
   "cell_type": "code",
   "execution_count": 26,
   "metadata": {},
   "outputs": [
    {
     "name": "stdout",
     "output_type": "stream",
     "text": [
      "Downloading http://yann.lecun.com/exdb/mnist/train-images-idx3-ubyte.gz to ./MNIST\\raw\\train-images-idx3-ubyte.gz\n"
     ]
    },
    {
     "data": {
      "application/vnd.jupyter.widget-view+json": {
       "model_id": "10a5717964064690ac4b8c4a0a074ac0",
       "version_major": 2,
       "version_minor": 0
      },
      "text/plain": [
       "HBox(children=(HTML(value=''), FloatProgress(value=1.0, bar_style='info', layout=Layout(width='20px'), max=1.0…"
      ]
     },
     "metadata": {},
     "output_type": "display_data"
    },
    {
     "name": "stdout",
     "output_type": "stream",
     "text": [
      "Extracting ./MNIST\\raw\\train-images-idx3-ubyte.gz to ./MNIST\\raw\n",
      "Downloading http://yann.lecun.com/exdb/mnist/train-labels-idx1-ubyte.gz to ./MNIST\\raw\\train-labels-idx1-ubyte.gz\n"
     ]
    },
    {
     "data": {
      "application/vnd.jupyter.widget-view+json": {
       "model_id": "65fa54d4a0ae4533902d6563cb31f4c6",
       "version_major": 2,
       "version_minor": 0
      },
      "text/plain": [
       "HBox(children=(HTML(value=''), FloatProgress(value=1.0, bar_style='info', layout=Layout(width='20px'), max=1.0…"
      ]
     },
     "metadata": {},
     "output_type": "display_data"
    },
    {
     "name": "stdout",
     "output_type": "stream",
     "text": [
      "Extracting ./MNIST\\raw\\train-labels-idx1-ubyte.gz to ./MNIST\\raw\n",
      "Downloading http://yann.lecun.com/exdb/mnist/t10k-images-idx3-ubyte.gz to ./MNIST\\raw\\t10k-images-idx3-ubyte.gz\n"
     ]
    },
    {
     "data": {
      "application/vnd.jupyter.widget-view+json": {
       "model_id": "4d7e74e661e04fa7b2dc91033b2587f3",
       "version_major": 2,
       "version_minor": 0
      },
      "text/plain": [
       "HBox(children=(HTML(value=''), FloatProgress(value=1.0, bar_style='info', layout=Layout(width='20px'), max=1.0…"
      ]
     },
     "metadata": {},
     "output_type": "display_data"
    },
    {
     "name": "stdout",
     "output_type": "stream",
     "text": [
      "Extracting ./MNIST\\raw\\t10k-images-idx3-ubyte.gz to ./MNIST\\raw\n",
      "Downloading http://yann.lecun.com/exdb/mnist/t10k-labels-idx1-ubyte.gz to ./MNIST\\raw\\t10k-labels-idx1-ubyte.gz\n"
     ]
    },
    {
     "data": {
      "application/vnd.jupyter.widget-view+json": {
       "model_id": "c59d7260d1e54dfd8e4be6e872de5d47",
       "version_major": 2,
       "version_minor": 0
      },
      "text/plain": [
       "HBox(children=(HTML(value=''), FloatProgress(value=1.0, bar_style='info', layout=Layout(width='20px'), max=1.0…"
      ]
     },
     "metadata": {},
     "output_type": "display_data"
    },
    {
     "name": "stdout",
     "output_type": "stream",
     "text": [
      "Extracting ./MNIST\\raw\\t10k-labels-idx1-ubyte.gz to ./MNIST\\raw\n",
      "Processing...\n"
     ]
    },
    {
     "name": "stderr",
     "output_type": "stream",
     "text": [
      "C:\\anaconda\\lib\\site-packages\\torchvision\\datasets\\mnist.py:480: UserWarning: The given NumPy array is not writeable, and PyTorch does not support non-writeable tensors. This means you can write to the underlying (supposedly non-writeable) NumPy array using the tensor. You may want to copy the array to protect its data or make it writeable before converting it to a tensor. This type of warning will be suppressed for the rest of this program. (Triggered internally at  ..\\torch\\csrc\\utils\\tensor_numpy.cpp:141.)\n",
      "  return torch.from_numpy(parsed.astype(m[2], copy=False)).view(*s)\n"
     ]
    },
    {
     "name": "stdout",
     "output_type": "stream",
     "text": [
      "Done!\n",
      "\n",
      "\n"
     ]
    }
   ],
   "source": [
    "mnist_train = dset.MNIST(\"./\", train=True, \n",
    "    transform = transforms.Compose([\n",
    "        transforms.ToTensor(),\n",
    "        transforms.Normalize(mean=(0.1307,), std=(0.3081,))\n",
    "    ]),\n",
    "    target_transform=None,\n",
    "    download=True)\n",
    "mnist_test = dset.MNIST(\"./\", train=False, \n",
    "    transform=transforms.Compose([\n",
    "        transforms.ToTensor(),\n",
    "        transforms.Normalize(mean=(0.1307,), std=(0.3081,))\n",
    "    ]), target_transform=None, download=True)\n",
    "train_loader = DataLoader(mnist_train, batch_size=batch_size, shuffle=True, drop_last=True)\n",
    "test_loader = DataLoader(mnist_test, batch_size=batch_size, shuffle=False, drop_last=True)"
   ]
  },
  {
   "cell_type": "markdown",
   "metadata": {},
   "source": [
    "## construct datasets and dataloaders for training and testing"
   ]
  },
  {
   "cell_type": "code",
   "execution_count": 30,
   "metadata": {},
   "outputs": [],
   "source": [
    "dataset_train   = dataset(x_train, y_train)\n",
    "dataset_test    = dataset(x_test, y_test)\n",
    "\n",
    "dataloader_train    = torch.utils.data.DataLoader(dataset_train, batch_size=size_minibatch, shuffle=True, drop_last=True, collate_fn=dataset_train.collate_fn)\n",
    "dataloader_test     = torch.utils.data.DataLoader(dataset_test, batch_size=size_minibatch, shuffle=True, drop_last=True, collate_fn=dataset_test.collate_fn)"
   ]
  },
  {
   "cell_type": "markdown",
   "metadata": {},
   "source": [
    "## shape of the data when using the data loader"
   ]
  },
  {
   "cell_type": "code",
   "execution_count": 31,
   "metadata": {},
   "outputs": [
    {
     "name": "stdout",
     "output_type": "stream",
     "text": [
      "************************************************************\n",
      "size of mini-batch of the image: torch.Size([32, 1, 32, 32])\n",
      "************************************************************\n",
      "size of mini-batch of the label: torch.Size([32])\n",
      "************************************************************\n"
     ]
    }
   ],
   "source": [
    "image, label    = next(iter(dataloader_train))\n",
    "print('************************************************************')\n",
    "print('size of mini-batch of the image:', image.shape)\n",
    "print('************************************************************')\n",
    "print('size of mini-batch of the label:', label.shape)\n",
    "print('************************************************************')"
   ]
  },
  {
   "cell_type": "markdown",
   "metadata": {},
   "source": [
    "## class for the neural network "
   ]
  },
  {
   "cell_type": "code",
   "execution_count": 40,
   "metadata": {},
   "outputs": [],
   "source": [
    "class CNN(nn.Module):\n",
    "    def __init__(self):\n",
    "        super(CNN,self).__init__()\n",
    "        self.layer = nn.Sequential(\n",
    "            nn.Conv2d(1, 16, 3, padding=1),\n",
    "            nn.BatchNorm2d(16),\n",
    "            nn.ReLU(),\n",
    "            nn.Conv2d(16, 32, 3,padding=1),\n",
    "            nn.BatchNorm2d(32),\n",
    "            nn.ReLU(),\n",
    "            nn.MaxPool2d(2, 2),           \n",
    "            nn.Conv2d(32, 64, 3,padding=1),\n",
    "            nn.BatchNorm2d(64),\n",
    "            nn.ReLU(),\n",
    "            nn.MaxPool2d(2, 2)        \n",
    "        )\n",
    "        self.fc_layer = nn.Sequential(\n",
    "            nn.Linear(64*7*7, 128),\n",
    "            nn.BatchNorm1d(128),\n",
    "            nn.ReLU(),\n",
    "            nn.Linear(128, 64),\n",
    "            nn.BatchNorm1d(64),\n",
    "            nn.ReLU(),            \n",
    "            nn.Linear(64, 10),\n",
    "        )       \n",
    "    def forward(self,x):\n",
    "        out = self.layer(x)\n",
    "        out = out.view(batch_size, -1)\n",
    "        out = self.fc_layer(out)\n",
    "        return out"
   ]
  },
  {
   "cell_type": "markdown",
   "metadata": {},
   "source": [
    "## build network"
   ]
  },
  {
   "cell_type": "code",
   "execution_count": 41,
   "metadata": {},
   "outputs": [],
   "source": [
    "model = CNN().to(device)\n",
    "loss_func = nn.CrossEntropyLoss().to(device)\n",
    "optimizer = optim.Adam(model.parameters(), lr=learning_rate)\n",
    "scheduler = lr_scheduler.ReduceLROnPlateau(optimizer,threshold=0.1, patience=1, mode='min')"
   ]
  },
  {
   "cell_type": "markdown",
   "metadata": {},
   "source": [
    "## print the defined neural network"
   ]
  },
  {
   "cell_type": "code",
   "execution_count": 42,
   "metadata": {},
   "outputs": [
    {
     "name": "stdout",
     "output_type": "stream",
     "text": [
      "Classifier(\n",
      "  (feature): Sequential(\n",
      "    (0): Conv2d(1, 2, kernel_size=(3, 3), stride=(1, 1), padding=(1, 1))\n",
      "    (1): MaxPool2d(kernel_size=2, stride=2, padding=0, dilation=1, ceil_mode=False)\n",
      "    (2): ReLU()\n",
      "    (3): Conv2d(2, 4, kernel_size=(3, 3), stride=(1, 1), padding=(1, 1))\n",
      "    (4): MaxPool2d(kernel_size=2, stride=2, padding=0, dilation=1, ceil_mode=False)\n",
      "    (5): ReLU()\n",
      "    (6): Conv2d(4, 8, kernel_size=(3, 3), stride=(1, 1), padding=(1, 1))\n",
      "    (7): MaxPool2d(kernel_size=2, stride=2, padding=0, dilation=1, ceil_mode=False)\n",
      "    (8): ReLU()\n",
      "  )\n",
      "  (classifier): Sequential(\n",
      "    (0): Linear(in_features=128, out_features=64, bias=True)\n",
      "    (1): ReLU()\n",
      "    (2): Linear(in_features=64, out_features=10, bias=True)\n",
      "  )\n",
      "  (network): Sequential(\n",
      "    (0): Sequential(\n",
      "      (0): Conv2d(1, 2, kernel_size=(3, 3), stride=(1, 1), padding=(1, 1))\n",
      "      (1): MaxPool2d(kernel_size=2, stride=2, padding=0, dilation=1, ceil_mode=False)\n",
      "      (2): ReLU()\n",
      "      (3): Conv2d(2, 4, kernel_size=(3, 3), stride=(1, 1), padding=(1, 1))\n",
      "      (4): MaxPool2d(kernel_size=2, stride=2, padding=0, dilation=1, ceil_mode=False)\n",
      "      (5): ReLU()\n",
      "      (6): Conv2d(4, 8, kernel_size=(3, 3), stride=(1, 1), padding=(1, 1))\n",
      "      (7): MaxPool2d(kernel_size=2, stride=2, padding=0, dilation=1, ceil_mode=False)\n",
      "      (8): ReLU()\n",
      "    )\n",
      "    (1): Flatten(start_dim=1, end_dim=-1)\n",
      "    (2): Sequential(\n",
      "      (0): Linear(in_features=128, out_features=64, bias=True)\n",
      "      (1): ReLU()\n",
      "      (2): Linear(in_features=64, out_features=10, bias=True)\n",
      "    )\n",
      "  )\n",
      ")\n"
     ]
    }
   ],
   "source": [
    "print(classifier)"
   ]
  },
  {
   "cell_type": "markdown",
   "metadata": {},
   "source": [
    "## compute the prediction"
   ]
  },
  {
   "cell_type": "code",
   "execution_count": 45,
   "metadata": {},
   "outputs": [],
   "source": [
    "def compute_prediction(model, input):\n",
    "\n",
    "    prediction = model(input)\n",
    "\n",
    "    return prediction"
   ]
  },
  {
   "cell_type": "markdown",
   "metadata": {},
   "source": [
    "## compute the loss"
   ]
  },
  {
   "cell_type": "code",
   "execution_count": 46,
   "metadata": {},
   "outputs": [],
   "source": [
    "def compute_loss(prediction, label):\n",
    "\n",
    "    criterion   = nn.CrossEntropyLoss()\n",
    "    loss        = criterion(prediction, label)\n",
    "    loss_value  = loss.item()\n",
    "\n",
    "    return loss, loss_value"
   ]
  },
  {
   "cell_type": "markdown",
   "metadata": {},
   "source": [
    "## compute the accuracy"
   ]
  },
  {
   "cell_type": "code",
   "execution_count": 71,
   "metadata": {},
   "outputs": [],
   "source": [
    "def compute_accuracy(prediction, label):\n",
    "    y_pred = torch.argmax(prediction, dim=1)\n",
    "    return (y_pred == label).to(torch.float).mean().item()"
   ]
  },
  {
   "cell_type": "markdown",
   "metadata": {},
   "source": [
    "## variables for the learning curve"
   ]
  },
  {
   "cell_type": "code",
   "execution_count": 55,
   "metadata": {},
   "outputs": [],
   "source": [
    "loss_mean_train     = np.zeros(num_epoch)\n",
    "loss_std_train      = np.zeros(num_epoch)\n",
    "accuracy_mean_train = np.zeros(num_epoch)\n",
    "accuracy_std_train  = np.zeros(num_epoch)\n",
    "\n",
    "loss_mean_test      = np.zeros(num_epoch)\n",
    "loss_std_test       = np.zeros(num_epoch)\n",
    "accuracy_mean_test  = np.zeros(num_epoch)\n",
    "accuracy_std_test   = np.zeros(num_epoch)"
   ]
  },
  {
   "cell_type": "markdown",
   "metadata": {},
   "source": [
    "## train and test"
   ]
  },
  {
   "cell_type": "code",
   "execution_count": 72,
   "metadata": {},
   "outputs": [
    {
     "name": "stderr",
     "output_type": "stream",
     "text": [
      "100%|██████████████████████████████████████████████████████████████████████████████| 100/100 [1:00:28<00:00, 36.28s/it]\n"
     ]
    }
   ],
   "source": [
    "for i in tqdm(range(num_epoch)):\n",
    "    loss_train_epoch        = []\n",
    "    accuracy_train_epoch    = []\n",
    "\n",
    "    for _,[image,label] in enumerate(train_loader):\n",
    "        x = image.to(device)\n",
    "        y_= label.to(device)\n",
    "      \n",
    "        optimizer.zero_grad()\n",
    "        output = model.forward(x)\n",
    "        loss = loss_func(output, y_)\n",
    "        loss.backward()\n",
    "        optimizer.step()\n",
    "        accuacy_train = compute_accuracy(output, y_)\n",
    "        \n",
    "        loss_train_epoch.append(loss.item())\n",
    "        accuracy_train_epoch.append(accuacy_train)\n",
    "    loss_mean_train[i]      = np.mean(loss_train_epoch)\n",
    "    loss_std_train[i]       = np.std(loss_train_epoch)\n",
    "    \n",
    "    accuracy_mean_train[i] = np.mean(accuracy_train_epoch)\n",
    "    accuracy_std_train[i]   = np.std(accuracy_train_epoch)\n",
    "\n",
    "    loss_test_epoch        = []\n",
    "    accuracy_test_epoch    = []\n",
    "\n",
    "    model.eval()\n",
    "    for _,[image_test,label_test] in enumerate(test_loader):\n",
    "        image_test = image_test.to(device)\n",
    "        label_test = label_test.to(device)\n",
    "        \n",
    "        output_test = model.forward(image_test)\n",
    "        loss_test = loss_func(output_test, label_test)\n",
    "        accuracy_test = compute_accuracy(output_test, label_test)\n",
    "        loss_test_epoch.append(loss_test.item())\n",
    "        accuracy_test_epoch.append(accuracy_test)\n",
    "    \n",
    "    loss_mean_test[i]      = np.mean(loss_test_epoch)\n",
    "    loss_std_test[i]       = np.std(loss_test_epoch)\n",
    "\n",
    "    accuracy_mean_test[i]  = np.mean(accuracy_test_epoch)\n",
    "    accuracy_std_test[i]   = np.std(accuracy_test_epoch)"
   ]
  },
  {
   "cell_type": "markdown",
   "metadata": {},
   "source": [
    "## plot curve"
   ]
  },
  {
   "cell_type": "code",
   "execution_count": 73,
   "metadata": {},
   "outputs": [],
   "source": [
    "def plot_curve_error(data_mean, data_std, x_label, y_label, title):\n",
    "\n",
    "    plt.figure(figsize=(8, 6))\n",
    "    plt.title(title)\n",
    "\n",
    "    alpha = 0.3\n",
    "    \n",
    "    plt.plot(range(len(data_mean)), data_mean, '-', color = 'red')\n",
    "    plt.fill_between(range(len(data_mean)), data_mean - data_std, data_mean + data_std, facecolor = 'blue', alpha = alpha) \n",
    "    \n",
    "    plt.xlabel(x_label)\n",
    "    plt.ylabel(y_label)\n",
    "\n",
    "    plt.tight_layout()\n",
    "    plt.show()"
   ]
  },
  {
   "cell_type": "code",
   "execution_count": 74,
   "metadata": {},
   "outputs": [],
   "source": [
    "def print_curve(data, index):\n",
    "    \n",
    "    for i in range(len(index)):\n",
    "\n",
    "        idx = index[i]\n",
    "        val = data[idx]\n",
    "\n",
    "        print('index = %2d, value = %12.10f' % (idx, val))"
   ]
  },
  {
   "cell_type": "code",
   "execution_count": 75,
   "metadata": {},
   "outputs": [],
   "source": [
    "def get_data_last(data, index_start):\n",
    "\n",
    "    data_last = data[index_start:]\n",
    "\n",
    "    return data_last"
   ]
  },
  {
   "cell_type": "code",
   "execution_count": 76,
   "metadata": {},
   "outputs": [],
   "source": [
    "def get_max_last_range(data, index_start):\n",
    "\n",
    "    data_range = get_data_last(data, index_start)\n",
    "    value = data_range.max()\n",
    "\n",
    "    return value"
   ]
  },
  {
   "cell_type": "code",
   "execution_count": 77,
   "metadata": {},
   "outputs": [],
   "source": [
    "def get_min_last_range(data, index_start):\n",
    "\n",
    "    data_range = get_data_last(data, index_start)\n",
    "    value = data_range.min()\n",
    "\n",
    "    return value"
   ]
  },
  {
   "cell_type": "markdown",
   "metadata": {},
   "source": [
    "---"
   ]
  },
  {
   "cell_type": "markdown",
   "metadata": {},
   "source": [
    "# functions for presenting the results"
   ]
  },
  {
   "cell_type": "markdown",
   "metadata": {},
   "source": [
    "---"
   ]
  },
  {
   "cell_type": "code",
   "execution_count": 78,
   "metadata": {},
   "outputs": [],
   "source": [
    "def function_result_01():\n",
    "\n",
    "    plot_curve_error(loss_mean_train, loss_std_train, 'epoch', 'loss', 'loss (training)')"
   ]
  },
  {
   "cell_type": "code",
   "execution_count": 79,
   "metadata": {},
   "outputs": [],
   "source": [
    "def function_result_02():\n",
    "\n",
    "    plot_curve_error(accuracy_mean_train, accuracy_std_train, 'epoch', 'accuracy', 'accuracy (training)')"
   ]
  },
  {
   "cell_type": "code",
   "execution_count": 80,
   "metadata": {},
   "outputs": [],
   "source": [
    "def function_result_03():\n",
    "    \n",
    "    plot_curve_error(loss_mean_test, loss_std_test, 'epoch', 'loss', 'loss (testing)')"
   ]
  },
  {
   "cell_type": "code",
   "execution_count": 81,
   "metadata": {},
   "outputs": [],
   "source": [
    "def function_result_04():\n",
    "    \n",
    "    plot_curve_error(accuracy_mean_test, accuracy_std_test, 'epoch', 'accuracy', 'accuracy (testing)')"
   ]
  },
  {
   "cell_type": "code",
   "execution_count": 82,
   "metadata": {},
   "outputs": [],
   "source": [
    "def function_result_05():\n",
    "    \n",
    "    data_last = get_data_last(loss_mean_train, -10)\n",
    "    index = np.arange(0, 10)\n",
    "    print_curve(data_last, index)"
   ]
  },
  {
   "cell_type": "code",
   "execution_count": 83,
   "metadata": {},
   "outputs": [],
   "source": [
    "def function_result_06():\n",
    "    \n",
    "    data_last = get_data_last(accuracy_mean_train, -10)\n",
    "    index = np.arange(0, 10)\n",
    "    print_curve(data_last, index)"
   ]
  },
  {
   "cell_type": "code",
   "execution_count": 84,
   "metadata": {},
   "outputs": [],
   "source": [
    "def function_result_07():\n",
    "    \n",
    "    data_last = get_data_last(loss_mean_test, -10)\n",
    "    index = np.arange(0, 10)\n",
    "    print_curve(data_last, index)"
   ]
  },
  {
   "cell_type": "code",
   "execution_count": 85,
   "metadata": {},
   "outputs": [],
   "source": [
    "def function_result_08():\n",
    "    \n",
    "    data_last = get_data_last(accuracy_mean_test, -10)\n",
    "    index = np.arange(0, 10)\n",
    "    print_curve(data_last, index)"
   ]
  },
  {
   "cell_type": "code",
   "execution_count": 86,
   "metadata": {},
   "outputs": [],
   "source": [
    "def function_result_09():\n",
    "    \n",
    "    value = get_max_last_range(accuracy_mean_train, -10)\n",
    "    print('best training accuracy = %12.10f' % (value))"
   ]
  },
  {
   "cell_type": "code",
   "execution_count": 87,
   "metadata": {},
   "outputs": [],
   "source": [
    "def function_result_10():\n",
    "    \n",
    "    value = get_max_last_range(accuracy_mean_test, -10)\n",
    "    print('best testing accuracy = %12.10f' % (value))"
   ]
  },
  {
   "cell_type": "markdown",
   "metadata": {},
   "source": [
    "---"
   ]
  },
  {
   "cell_type": "markdown",
   "metadata": {},
   "source": [
    "# RESULTS"
   ]
  },
  {
   "cell_type": "markdown",
   "metadata": {},
   "source": [
    "---"
   ]
  },
  {
   "cell_type": "markdown",
   "metadata": {},
   "source": [
    "## # 01. plot the training loss curve (mean, std)"
   ]
  },
  {
   "cell_type": "code",
   "execution_count": 88,
   "metadata": {},
   "outputs": [
    {
     "data": {
      "image/png": "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\n",
      "text/plain": [
       "<Figure size 576x432 with 1 Axes>"
      ]
     },
     "metadata": {
      "needs_background": "light"
     },
     "output_type": "display_data"
    }
   ],
   "source": [
    "function_result_01()"
   ]
  },
  {
   "cell_type": "markdown",
   "metadata": {},
   "source": [
    "## # 02. plot the training accuracy curve (mean, std)"
   ]
  },
  {
   "cell_type": "code",
   "execution_count": 89,
   "metadata": {},
   "outputs": [
    {
     "data": {
      "image/png": "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\n",
      "text/plain": [
       "<Figure size 576x432 with 1 Axes>"
      ]
     },
     "metadata": {
      "needs_background": "light"
     },
     "output_type": "display_data"
    }
   ],
   "source": [
    "function_result_02()"
   ]
  },
  {
   "cell_type": "markdown",
   "metadata": {},
   "source": [
    "## # 03. plot the testing loss curve (mean, std)"
   ]
  },
  {
   "cell_type": "code",
   "execution_count": 90,
   "metadata": {},
   "outputs": [
    {
     "data": {
      "image/png": "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\n",
      "text/plain": [
       "<Figure size 576x432 with 1 Axes>"
      ]
     },
     "metadata": {
      "needs_background": "light"
     },
     "output_type": "display_data"
    }
   ],
   "source": [
    "function_result_03()"
   ]
  },
  {
   "cell_type": "markdown",
   "metadata": {},
   "source": [
    "## # 04. plot the testing accuracy curve (mean, std)"
   ]
  },
  {
   "cell_type": "code",
   "execution_count": 91,
   "metadata": {},
   "outputs": [
    {
     "data": {
      "image/png": "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\n",
      "text/plain": [
       "<Figure size 576x432 with 1 Axes>"
      ]
     },
     "metadata": {
      "needs_background": "light"
     },
     "output_type": "display_data"
    }
   ],
   "source": [
    "function_result_04()"
   ]
  },
  {
   "cell_type": "markdown",
   "metadata": {},
   "source": [
    "## # 05. print the training (mean) loss over batches at last 10 epochs"
   ]
  },
  {
   "cell_type": "code",
   "execution_count": 92,
   "metadata": {},
   "outputs": [
    {
     "name": "stdout",
     "output_type": "stream",
     "text": [
      "index =  0, value = 0.0000000000\n",
      "index =  1, value = 0.0000000000\n",
      "index =  2, value = 0.0000000000\n",
      "index =  3, value = 0.0000000000\n",
      "index =  4, value = 0.0000000000\n",
      "index =  5, value = 0.0000000000\n",
      "index =  6, value = 0.0000000000\n",
      "index =  7, value = 0.0000000000\n",
      "index =  8, value = 0.0000000000\n",
      "index =  9, value = 0.0000000000\n"
     ]
    }
   ],
   "source": [
    "function_result_05()"
   ]
  },
  {
   "cell_type": "markdown",
   "metadata": {},
   "source": [
    "## # 06. print the training (mean) accuracy over batches at last 10 epochs"
   ]
  },
  {
   "cell_type": "code",
   "execution_count": 93,
   "metadata": {},
   "outputs": [
    {
     "name": "stdout",
     "output_type": "stream",
     "text": [
      "index =  0, value = 1.0000000000\n",
      "index =  1, value = 1.0000000000\n",
      "index =  2, value = 1.0000000000\n",
      "index =  3, value = 1.0000000000\n",
      "index =  4, value = 1.0000000000\n",
      "index =  5, value = 1.0000000000\n",
      "index =  6, value = 1.0000000000\n",
      "index =  7, value = 1.0000000000\n",
      "index =  8, value = 1.0000000000\n",
      "index =  9, value = 1.0000000000\n"
     ]
    }
   ],
   "source": [
    "function_result_06()"
   ]
  },
  {
   "cell_type": "markdown",
   "metadata": {},
   "source": [
    "## # 07. print the testing (mean) loss over batches at last 10 epochs"
   ]
  },
  {
   "cell_type": "code",
   "execution_count": 94,
   "metadata": {},
   "outputs": [
    {
     "name": "stdout",
     "output_type": "stream",
     "text": [
      "index =  0, value = 0.0546261349\n",
      "index =  1, value = 0.0547270806\n",
      "index =  2, value = 0.0548197309\n",
      "index =  3, value = 0.0548991342\n",
      "index =  4, value = 0.0549944360\n",
      "index =  5, value = 0.0550749360\n",
      "index =  6, value = 0.0551585816\n",
      "index =  7, value = 0.0552450927\n",
      "index =  8, value = 0.0553191627\n",
      "index =  9, value = 0.0554074668\n"
     ]
    }
   ],
   "source": [
    "function_result_07()"
   ]
  },
  {
   "cell_type": "markdown",
   "metadata": {},
   "source": [
    "## # 08. print the testing (mean) accuracy over batches at last 10 epochs"
   ]
  },
  {
   "cell_type": "code",
   "execution_count": 95,
   "metadata": {},
   "outputs": [
    {
     "name": "stdout",
     "output_type": "stream",
     "text": [
      "index =  0, value = 0.9940999812\n",
      "index =  1, value = 0.9940999812\n",
      "index =  2, value = 0.9940999812\n",
      "index =  3, value = 0.9940999812\n",
      "index =  4, value = 0.9940999812\n",
      "index =  5, value = 0.9940999812\n",
      "index =  6, value = 0.9940999812\n",
      "index =  7, value = 0.9940999812\n",
      "index =  8, value = 0.9940999812\n",
      "index =  9, value = 0.9940999812\n"
     ]
    }
   ],
   "source": [
    "function_result_08()"
   ]
  },
  {
   "cell_type": "markdown",
   "metadata": {},
   "source": [
    "## # 09. print the best training (mean) accuracy within the last 10 epochs"
   ]
  },
  {
   "cell_type": "code",
   "execution_count": 96,
   "metadata": {},
   "outputs": [
    {
     "name": "stdout",
     "output_type": "stream",
     "text": [
      "best training accuracy = 1.0000000000\n"
     ]
    }
   ],
   "source": [
    "function_result_09()"
   ]
  },
  {
   "cell_type": "markdown",
   "metadata": {},
   "source": [
    "## # 10. print the best testing (mean) accuracy within the last 10 epochs"
   ]
  },
  {
   "cell_type": "code",
   "execution_count": 97,
   "metadata": {},
   "outputs": [
    {
     "name": "stdout",
     "output_type": "stream",
     "text": [
      "best testing accuracy = 0.9940999812\n"
     ]
    }
   ],
   "source": [
    "function_result_10()"
   ]
  },
  {
   "cell_type": "code",
   "execution_count": null,
   "metadata": {},
   "outputs": [],
   "source": []
  }
 ],
 "metadata": {
  "colab": {
   "authorship_tag": "ABX9TyM0gXqiryv5831mXd12OejK",
   "collapsed_sections": [],
   "name": "assignment_02.ipynb",
   "provenance": []
  },
  "interpreter": {
   "hash": "40d3a090f54c6569ab1632332b64b2c03c39dcf918b08424e98f38b5ae0af88f"
  },
  "kernelspec": {
   "display_name": "Python 3",
   "language": "python",
   "name": "python3"
  },
  "language_info": {
   "codemirror_mode": {
    "name": "ipython",
    "version": 3
   },
   "file_extension": ".py",
   "mimetype": "text/x-python",
   "name": "python",
   "nbconvert_exporter": "python",
   "pygments_lexer": "ipython3",
   "version": "3.8.5"
  }
 },
 "nbformat": 4,
 "nbformat_minor": 4
}
=======
      "name": "assignment_02.ipynb",
      "provenance": [],
      "collapsed_sections": []
    },
    "interpreter": {
      "hash": "40d3a090f54c6569ab1632332b64b2c03c39dcf918b08424e98f38b5ae0af88f"
    },
    "kernelspec": {
      "display_name": "Python 3",
      "language": "python",
      "name": "python3"
    },
    "language_info": {
      "codemirror_mode": {
        "name": "ipython",
        "version": 3
      },
      "file_extension": ".py",
      "mimetype": "text/x-python",
      "name": "python",
      "nbconvert_exporter": "python",
      "pygments_lexer": "ipython3",
      "version": "3.8.5"
    }
  },
  "cells": [
    {
      "cell_type": "markdown",
      "metadata": {
        "id": "K29I-OwCEYzW",
        "outputId": "db8b297c-a4b8-457a-b43f-7570135306c7"
      },
      "source": [
        "# Multi-class classification based on Softmax and Cross-Entropy using pytorch"
      ]
    },
    {
      "cell_type": "markdown",
      "metadata": {
        "id": "pC10p9hA2Dq1"
      },
      "source": [
        "## import libraries"
      ]
    },
    {
      "cell_type": "code",
      "metadata": {
        "id": "fXEluXYG2Dq2"
      },
      "source": [
        "import torch\n",
        "import torch.nn as nn\n",
        "import torch.optim as optim\n",
        "import torchvision.datasets as dset\n",
        "import torchvision.transforms as transforms\n",
        "from torch.utils.data import Dataset\n",
        "from torchvision import datasets, transforms\n",
        "from torch.utils.data import DataLoader\n",
        "from torch.optim import lr_scheduler\n",
        "import numpy as np\n",
        "import matplotlib.pyplot as plt\n",
        "import math\n",
        "from tqdm import tqdm\n",
        "import random\n",
        "import os"
      ],
      "execution_count": 17,
      "outputs": []
    },
    {
      "cell_type": "markdown",
      "metadata": {
        "id": "4jnr5isU2Dq5"
      },
      "source": [
        "## load data"
      ]
    },
    {
      "cell_type": "code",
      "metadata": {
        "id": "_YYx-t8e2Dq6",
        "outputId": "b9b9db82-6f02-4da4-cdc5-a2181b9d3ba6",
        "colab": {
          "base_uri": "https://localhost:8080/",
          "height": 398
        }
      },
      "source": [
        "#directory_data  = '/assignment_06_data.npz'\n",
        "filename_data   = '/assignment_06_data.npz'\n",
        "data            = np.load(os.path.join(filename_data))\n",
        "\n",
        "x_train = data['x_train']\n",
        "y_train = data['y_train']\n",
        "\n",
        "x_test  = data['x_test']\n",
        "y_test  = data['y_test']\n",
        "\n",
        "num_data_train  = x_train.shape[0]\n",
        "num_data_test   = x_test.shape[0]\n",
        "\n",
        "print('*************************************************')\n",
        "print('size of x_train :', x_train.shape)\n",
        "print('size of y_train :', y_train.shape)\n",
        "print('*************************************************')\n",
        "print('size of x_test :', x_test.shape)\n",
        "print('size of y_test :', y_test.shape)\n",
        "print('*************************************************')\n",
        "print('number of training image :', x_train.shape[0])\n",
        "print('height of training image :', x_train.shape[1])\n",
        "print('width of training image :', x_train.shape[2])\n",
        "print('*************************************************')\n",
        "print('number of testing image :', x_test.shape[0])\n",
        "print('height of testing image :', x_test.shape[1])\n",
        "print('width of testing image :', x_test.shape[2])\n",
        "print('*************************************************')"
      ],
      "execution_count": 18,
      "outputs": [
        {
          "output_type": "error",
          "ename": "FileNotFoundError",
          "evalue": "ignored",
          "traceback": [
            "\u001b[0;31m---------------------------------------------------------------------------\u001b[0m",
            "\u001b[0;31mFileNotFoundError\u001b[0m                         Traceback (most recent call last)",
            "\u001b[0;32m<ipython-input-18-51071b93bb9e>\u001b[0m in \u001b[0;36m<module>\u001b[0;34m()\u001b[0m\n\u001b[1;32m      1\u001b[0m \u001b[0;31m#directory_data  = '/assignment_06_data.npz'\u001b[0m\u001b[0;34m\u001b[0m\u001b[0;34m\u001b[0m\u001b[0;34m\u001b[0m\u001b[0m\n\u001b[1;32m      2\u001b[0m \u001b[0mfilename_data\u001b[0m   \u001b[0;34m=\u001b[0m \u001b[0;34m'/assignment_06_data.npz'\u001b[0m\u001b[0;34m\u001b[0m\u001b[0;34m\u001b[0m\u001b[0m\n\u001b[0;32m----> 3\u001b[0;31m \u001b[0mdata\u001b[0m            \u001b[0;34m=\u001b[0m \u001b[0mnp\u001b[0m\u001b[0;34m.\u001b[0m\u001b[0mload\u001b[0m\u001b[0;34m(\u001b[0m\u001b[0mos\u001b[0m\u001b[0;34m.\u001b[0m\u001b[0mpath\u001b[0m\u001b[0;34m.\u001b[0m\u001b[0mjoin\u001b[0m\u001b[0;34m(\u001b[0m\u001b[0mfilename_data\u001b[0m\u001b[0;34m)\u001b[0m\u001b[0;34m)\u001b[0m\u001b[0;34m\u001b[0m\u001b[0;34m\u001b[0m\u001b[0m\n\u001b[0m\u001b[1;32m      4\u001b[0m \u001b[0;34m\u001b[0m\u001b[0m\n\u001b[1;32m      5\u001b[0m \u001b[0mx_train\u001b[0m \u001b[0;34m=\u001b[0m \u001b[0mdata\u001b[0m\u001b[0;34m[\u001b[0m\u001b[0;34m'x_train'\u001b[0m\u001b[0;34m]\u001b[0m\u001b[0;34m\u001b[0m\u001b[0;34m\u001b[0m\u001b[0m\n",
            "\u001b[0;32m/usr/local/lib/python3.7/dist-packages/numpy/lib/npyio.py\u001b[0m in \u001b[0;36mload\u001b[0;34m(file, mmap_mode, allow_pickle, fix_imports, encoding)\u001b[0m\n\u001b[1;32m    414\u001b[0m             \u001b[0mown_fid\u001b[0m \u001b[0;34m=\u001b[0m \u001b[0;32mFalse\u001b[0m\u001b[0;34m\u001b[0m\u001b[0;34m\u001b[0m\u001b[0m\n\u001b[1;32m    415\u001b[0m         \u001b[0;32melse\u001b[0m\u001b[0;34m:\u001b[0m\u001b[0;34m\u001b[0m\u001b[0;34m\u001b[0m\u001b[0m\n\u001b[0;32m--> 416\u001b[0;31m             \u001b[0mfid\u001b[0m \u001b[0;34m=\u001b[0m \u001b[0mstack\u001b[0m\u001b[0;34m.\u001b[0m\u001b[0menter_context\u001b[0m\u001b[0;34m(\u001b[0m\u001b[0mopen\u001b[0m\u001b[0;34m(\u001b[0m\u001b[0mos_fspath\u001b[0m\u001b[0;34m(\u001b[0m\u001b[0mfile\u001b[0m\u001b[0;34m)\u001b[0m\u001b[0;34m,\u001b[0m \u001b[0;34m\"rb\"\u001b[0m\u001b[0;34m)\u001b[0m\u001b[0;34m)\u001b[0m\u001b[0;34m\u001b[0m\u001b[0;34m\u001b[0m\u001b[0m\n\u001b[0m\u001b[1;32m    417\u001b[0m             \u001b[0mown_fid\u001b[0m \u001b[0;34m=\u001b[0m \u001b[0;32mTrue\u001b[0m\u001b[0;34m\u001b[0m\u001b[0;34m\u001b[0m\u001b[0m\n\u001b[1;32m    418\u001b[0m \u001b[0;34m\u001b[0m\u001b[0m\n",
            "\u001b[0;31mFileNotFoundError\u001b[0m: [Errno 2] No such file or directory: '/assignment_06_data.npz'"
          ]
        }
      ]
    },
    {
      "cell_type": "markdown",
      "metadata": {
        "id": "kQRI7M9W2Dq9"
      },
      "source": [
        "## number of classes"
      ]
    },
    {
      "cell_type": "code",
      "metadata": {
        "colab": {
          "base_uri": "https://localhost:8080/"
        },
        "id": "dlEXUMu52Dq9",
        "outputId": "40756d66-bb38-4427-d978-964a1118c0ee"
      },
      "source": [
        "print('*************************************************')\n",
        "print('number of classes :', len(set(y_train)))\n",
        "print('*************************************************')"
      ],
      "execution_count": 14,
      "outputs": [
        {
          "output_type": "stream",
          "name": "stdout",
          "text": [
            "*************************************************\n",
            "number of classes : 10\n",
            "*************************************************\n"
          ]
        }
      ]
    },
    {
      "cell_type": "markdown",
      "metadata": {
        "id": "Gx_ui_2x2Dq-"
      },
      "source": [
        "## hyper-parameters"
      ]
    },
    {
      "cell_type": "code",
      "metadata": {
        "id": "Gq23V1Cj2Dq_"
      },
      "source": [
        "device          = torch.device('cuda' if torch.cuda.is_available() else 'cpu')\n",
        "\n",
        "batch_size = 100\n",
        "learning_rate = 0.001\n",
        "num_epoch = 100\n",
        "weight_decay    = 0.001"
      ],
      "execution_count": 63,
      "outputs": []
    },
    {
      "cell_type": "code",
      "metadata": {
        "id": "r7Hn5HFAB6Zl"
      },
      "source": [
        "class dataset(Dataset):\n",
        "    \n",
        "    def __init__(self, image, label):\n",
        "        \n",
        "        self.image  = image\n",
        "        self.label  = label.astype(np.long)\n",
        "    \n",
        "    def __getitem__(self, index):\n",
        "        \n",
        "        image   = self.image[index, :, :]\n",
        "        label   = self.label[index, ]\n",
        "\n",
        "        image   = torch.FloatTensor(image).unsqueeze(dim=0)\n",
        "        label   = torch.LongTensor([label])\n",
        "\n",
        "        return image, label\n",
        "    \n",
        "    def __len__(self):\n",
        "        \n",
        "        return self.image.shape[0]\n",
        "\n",
        "    def collate_fn(self, batch):\n",
        "        images  = list()\n",
        "        labels  = list()\n",
        "\n",
        "        for b in batch:\n",
        "            images.append(b[0])\n",
        "            labels.append(b[1])\n",
        "\n",
        "        images  = torch.stack(images, dim=0)\n",
        "        labels  = torch.stack(labels, dim=0).squeeze()\n",
        "\n",
        "        return images, labels\n",
        "        "
      ],
      "execution_count": 64,
      "outputs": []
    },
    {
      "cell_type": "markdown",
      "metadata": {
        "id": "cEO1asOL2DrA"
      },
      "source": [
        "## custom data loader for the PyTorch framework"
      ]
    },
    {
      "cell_type": "code",
      "metadata": {
        "id": "px_vcFXJ2DrA"
      },
      "source": [
        "mnist_train = dset.MNIST(\"./\", train=True, \n",
        "    transform = transforms.Compose([\n",
        "        transforms.ToTensor(),\n",
        "        transforms.Normalize(mean=(0.1307,), std=(0.3081,))\n",
        "    ]),\n",
        "    target_transform=None,\n",
        "    download=True)\n",
        "mnist_test = dset.MNIST(\"./\", train=False, \n",
        "    transform=transforms.Compose([\n",
        "        transforms.ToTensor(),\n",
        "        transforms.Normalize(mean=(0.1307,), std=(0.3081,))\n",
        "    ]), target_transform=None, download=True)\n",
        "train_loader = DataLoader(mnist_train, batch_size=batch_size, shuffle=True, drop_last=True)\n",
        "test_loader = DataLoader(mnist_test, batch_size=batch_size, shuffle=False, drop_last=True)"
      ],
      "execution_count": 65,
      "outputs": []
    },
    {
      "cell_type": "markdown",
      "metadata": {
        "id": "bFqR_JDO2DrC"
      },
      "source": [
        "## construct datasets and dataloaders for training and testing"
      ]
    },
    {
      "cell_type": "code",
      "metadata": {
        "id": "XrPWNIXx2DrC"
      },
      "source": [
        "dataset_train   = dataset(x_train, y_train)\n",
        "dataset_test    = dataset(x_test, y_test)\n",
        "\n",
        "dataloader_train    = torch.utils.data.DataLoader(dataset_train, batch_size=batch_size, shuffle=True, drop_last=True, collate_fn=dataset_train.collate_fn)\n",
        "dataloader_test     = torch.utils.data.DataLoader(dataset_test, batch_size=batch_size, shuffle=True, drop_last=True, collate_fn=dataset_test.collate_fn)"
      ],
      "execution_count": 66,
      "outputs": []
    },
    {
      "cell_type": "markdown",
      "metadata": {
        "id": "jilHpFSR2DrD"
      },
      "source": [
        "## shape of the data when using the data loader"
      ]
    },
    {
      "cell_type": "code",
      "metadata": {
        "colab": {
          "base_uri": "https://localhost:8080/"
        },
        "id": "3ATJBhl72DrE",
        "outputId": "a70683ed-e3fb-4741-94d3-fc52c345423d"
      },
      "source": [
        "image, label    = next(iter(dataloader_train))\n",
        "print('************************************************************')\n",
        "print('size of mini-batch of the image:', image.shape)\n",
        "print('************************************************************')\n",
        "print('size of mini-batch of the label:', label.shape)\n",
        "print('************************************************************')"
      ],
      "execution_count": 67,
      "outputs": [
        {
          "output_type": "stream",
          "name": "stdout",
          "text": [
            "************************************************************\n",
            "size of mini-batch of the image: torch.Size([100, 1, 32, 32])\n",
            "************************************************************\n",
            "size of mini-batch of the label: torch.Size([100])\n",
            "************************************************************\n"
          ]
        }
      ]
    },
    {
      "cell_type": "markdown",
      "metadata": {
        "id": "gQnCBDmd2DrE"
      },
      "source": [
        "## class for the neural network "
      ]
    },
    {
      "cell_type": "code",
      "metadata": {
        "id": "vtqo4EY_2DrF"
      },
      "source": [
        "class CNN(nn.Module):\n",
        "    def __init__(self):\n",
        "        super(CNN,self).__init__()\n",
        "        self.layer = nn.Sequential(\n",
        "            nn.Conv2d(1, 16, 3, padding=1),\n",
        "            nn.BatchNorm2d(16),\n",
        "            nn.ReLU(),\n",
        "            nn.Conv2d(16, 32, 3,padding=1),\n",
        "            nn.BatchNorm2d(32),\n",
        "            nn.ReLU(),\n",
        "            nn.MaxPool2d(2, 2),           \n",
        "            nn.Conv2d(32, 64, 3,padding=1),\n",
        "            nn.BatchNorm2d(64),\n",
        "            nn.ReLU(),\n",
        "            nn.MaxPool2d(2, 2)        \n",
        "        )\n",
        "        self.fc_layer = nn.Sequential(\n",
        "            nn.Linear(64*7*7, 128),\n",
        "            nn.BatchNorm1d(128),\n",
        "            nn.ReLU(),\n",
        "            nn.Linear(128, 64),\n",
        "            nn.BatchNorm1d(64),\n",
        "            nn.ReLU(),            \n",
        "            nn.Linear(64, 10),\n",
        "        )       \n",
        "    def forward(self,x):\n",
        "        out = self.layer(x)\n",
        "        out = out.view(batch_size, -1)\n",
        "        out = self.fc_layer(out)\n",
        "        return out"
      ],
      "execution_count": 68,
      "outputs": []
    },
    {
      "cell_type": "markdown",
      "metadata": {
        "id": "MDOO_tlX2DrG"
      },
      "source": [
        "## build network"
      ]
    },
    {
      "cell_type": "code",
      "metadata": {
        "id": "ElqtWN9a2DrH"
      },
      "source": [
        "model = CNN().to(device)\n",
        "loss_func = nn.CrossEntropyLoss().to(device)\n",
        "optimizer = optim.Adam(model.parameters(), lr=learning_rate)\n",
        "scheduler = lr_scheduler.ReduceLROnPlateau(optimizer,threshold=0.1, patience=1, mode='min')"
      ],
      "execution_count": 69,
      "outputs": []
    },
    {
      "cell_type": "markdown",
      "metadata": {
        "id": "z6KOS3L-2DrI"
      },
      "source": [
        "## print the defined neural network"
      ]
    },
    {
      "cell_type": "code",
      "metadata": {
        "colab": {
          "base_uri": "https://localhost:8080/"
        },
        "id": "tdx9gJsD2DrI",
        "outputId": "4dc441e4-d294-46ce-b938-633669ab0312"
      },
      "source": [
        "print(CNN)"
      ],
      "execution_count": 70,
      "outputs": [
        {
          "output_type": "stream",
          "name": "stdout",
          "text": [
            "<class '__main__.CNN'>\n"
          ]
        }
      ]
    },
    {
      "cell_type": "markdown",
      "metadata": {
        "id": "gGmCDXRJ2DrJ"
      },
      "source": [
        "## compute the prediction"
      ]
    },
    {
      "cell_type": "code",
      "metadata": {
        "id": "YHJkQxYl2DrJ"
      },
      "source": [
        "def compute_prediction(model, input):\n",
        "\n",
        "    prediction = model(input)\n",
        "\n",
        "    return prediction"
      ],
      "execution_count": 71,
      "outputs": []
    },
    {
      "cell_type": "markdown",
      "metadata": {
        "id": "BKdCRnrl2DrK"
      },
      "source": [
        "## compute the loss"
      ]
    },
    {
      "cell_type": "code",
      "metadata": {
        "id": "DAxUH3tG2DrL"
      },
      "source": [
        "def compute_loss(prediction, label):\n",
        "    criterion   = nn.CrossEntropyLoss()\n",
        "    loss        = criterion(prediction, label)\n",
        "    loss_value  = loss.item()\n",
        "\n",
        "    return loss, loss_value"
      ],
      "execution_count": 72,
      "outputs": []
    },
    {
      "cell_type": "markdown",
      "metadata": {
        "id": "Zvk5p7J_2DrL"
      },
      "source": [
        "## compute the accuracy"
      ]
    },
    {
      "cell_type": "code",
      "metadata": {
        "id": "SxWekYNA2DrL"
      },
      "source": [
        "def compute_accuracy(prediction, label):\n",
        "    y_pred = torch.argmax(prediction, dim=1)\n",
        "    return (y_pred == label).to(torch.float).mean()"
      ],
      "execution_count": 73,
      "outputs": []
    },
    {
      "cell_type": "markdown",
      "metadata": {
        "id": "HsWoWPzN2DrM"
      },
      "source": [
        "## variables for the learning curve"
      ]
    },
    {
      "cell_type": "code",
      "metadata": {
        "id": "IVvnqfU-2DrM"
      },
      "source": [
        "loss_mean_train     = np.zeros(num_epoch)\n",
        "loss_std_train      = np.zeros(num_epoch)\n",
        "accuracy_mean_train = np.zeros(num_epoch)\n",
        "accuracy_std_train  = np.zeros(num_epoch)\n",
        "\n",
        "loss_mean_test      = np.zeros(num_epoch)\n",
        "loss_std_test       = np.zeros(num_epoch)\n",
        "accuracy_mean_test  = np.zeros(num_epoch)\n",
        "accuracy_std_test   = np.zeros(num_epoch)"
      ],
      "execution_count": 74,
      "outputs": []
    },
    {
      "cell_type": "markdown",
      "metadata": {
        "id": "Lz9yKHyJ2DrM"
      },
      "source": [
        "## train and test"
      ]
    },
    {
      "cell_type": "code",
      "metadata": {
        "colab": {
          "base_uri": "https://localhost:8080/"
        },
        "id": "tE-USYut2DrN",
        "outputId": "864247ad-e2cf-44ef-f920-6750c1965a3f"
      },
      "source": [
        "for i in tqdm(range(num_epoch)):\n",
        "    loss_train_epoch        = []\n",
        "    accuracy_train_epoch    = []\n",
        "\n",
        "    for _,[image,label] in enumerate(train_loader):\n",
        "        x = image.to(device)\n",
        "        y_= label.to(device)\n",
        "      \n",
        "        optimizer.zero_grad()\n",
        "        output = model.forward(x)\n",
        "        loss = loss_func(output, y_)\n",
        "        loss.backward()\n",
        "        optimizer.step()\n",
        "        accuacy_train = compute_accuracy(output, y_)\n",
        "        \n",
        "        loss_train_epoch.append(loss.item())\n",
        "        accuracy_train_epoch.append(accuacy_train)\n",
        "\n",
        "    loss_mean_train[i]      = np.mean(loss_train_epoch)\n",
        "    loss_std_train[i]       = np.std(loss_train_epoch)\n",
        "\n",
        "    accuracy_mean_train[i]  = np.mean(accuracy_train_epoch)\n",
        "    accuracy_std_train[i]   = np.std(accuracy_train_epoch)\n",
        "\n",
        "    loss_test_epoch        = []\n",
        "    accuracy_test_epoch    = []\n",
        "\n",
        "    model.eval()\n",
        "    for _,[image_test,label_test] in enumerate(test_loader):\n",
        "        image_test = image_test.to(device)\n",
        "        label_test = label_test.to(device)\n",
        "        \n",
        "        output_test = model.forward(image_test)\n",
        "        loss_test = loss_func(output_test, label_test)\n",
        "        accuracy_test = compute_accuracy(output_test, label_test)\n",
        "        loss_test_epoch.append(loss_test.item())\n",
        "        accuracy_test_epoch.append(accuracy_test)\n",
        "    \n",
        "    loss_mean_test[i]      = np.mean(loss_test_epoch)\n",
        "    loss_std_test[i]       = np.std(loss_test_epoch)\n",
        "\n",
        "    accuracy_mean_test[i]  = np.mean(accuracy_test_epoch)\n",
        "    accuracy_std_test[i]   = np.std(accuracy_test_epoch)"
      ],
      "execution_count": 75,
      "outputs": [
        {
          "output_type": "stream",
          "name": "stderr",
          "text": [
            "100%|██████████| 100/100 [3:52:19<00:00, 139.40s/it]\n"
          ]
        }
      ]
    },
    {
      "cell_type": "markdown",
      "metadata": {
        "id": "zcT-FVTP2DrO"
      },
      "source": [
        "## plot curve"
      ]
    },
    {
      "cell_type": "code",
      "metadata": {
        "id": "FL5UNgQU2DrO"
      },
      "source": [
        "def plot_curve_error(data_mean, data_std, x_label, y_label, title):\n",
        "\n",
        "    plt.figure(figsize=(8, 6))\n",
        "    plt.title(title)\n",
        "\n",
        "    alpha = 0.3\n",
        "    \n",
        "    plt.plot(range(len(data_mean)), data_mean, '-', color = 'red')\n",
        "    plt.fill_between(range(len(data_mean)), data_mean - data_std, data_mean + data_std, facecolor = 'blue', alpha = alpha) \n",
        "    \n",
        "    plt.xlabel(x_label)\n",
        "    plt.ylabel(y_label)\n",
        "\n",
        "    plt.tight_layout()\n",
        "    plt.show()"
      ],
      "execution_count": 1,
      "outputs": []
    },
    {
      "cell_type": "code",
      "metadata": {
        "id": "8sMBhubI2DrO"
      },
      "source": [
        "def print_curve(data, index):\n",
        "    \n",
        "    for i in range(len(index)):\n",
        "\n",
        "        idx = index[i]\n",
        "        val = data[idx]\n",
        "\n",
        "        print('index = %2d, value = %12.10f' % (idx, val))"
      ],
      "execution_count": 2,
      "outputs": []
    },
    {
      "cell_type": "code",
      "metadata": {
        "id": "sxzLlfUk2DrP"
      },
      "source": [
        "def get_data_last(data, index_start):\n",
        "\n",
        "    data_last = data[index_start:]\n",
        "\n",
        "    return data_last"
      ],
      "execution_count": 3,
      "outputs": []
    },
    {
      "cell_type": "code",
      "metadata": {
        "id": "lC7knYCP2DrP"
      },
      "source": [
        "def get_max_last_range(data, index_start):\n",
        "\n",
        "    data_range = get_data_last(data, index_start)\n",
        "    value = data_range.max()\n",
        "\n",
        "    return value"
      ],
      "execution_count": 4,
      "outputs": []
    },
    {
      "cell_type": "code",
      "metadata": {
        "id": "pjtrXsfo2DrQ"
      },
      "source": [
        "def get_min_last_range(data, index_start):\n",
        "\n",
        "    data_range = get_data_last(data, index_start)\n",
        "    value = data_range.min()\n",
        "\n",
        "    return value"
      ],
      "execution_count": 5,
      "outputs": []
    },
    {
      "cell_type": "markdown",
      "metadata": {
        "id": "947Y-Fjk2DrS"
      },
      "source": [
        "---"
      ]
    },
    {
      "cell_type": "markdown",
      "metadata": {
        "id": "x-MbJQ7e2DrS"
      },
      "source": [
        "# functions for presenting the results"
      ]
    },
    {
      "cell_type": "markdown",
      "metadata": {
        "id": "SU3V72Rc2DrS"
      },
      "source": [
        "---"
      ]
    },
    {
      "cell_type": "code",
      "metadata": {
        "id": "2-QkGGxd2DrT"
      },
      "source": [
        "def function_result_01():\n",
        "\n",
        "    plot_curve_error(loss_mean_train, loss_std_train, 'epoch', 'loss', 'loss (training)')"
      ],
      "execution_count": 6,
      "outputs": []
    },
    {
      "cell_type": "code",
      "metadata": {
        "id": "0H4QXO5U2DrT"
      },
      "source": [
        "def function_result_02():\n",
        "\n",
        "    plot_curve_error(accuracy_mean_train, accuracy_std_train, 'epoch', 'accuracy', 'accuracy (training)')"
      ],
      "execution_count": 7,
      "outputs": []
    },
    {
      "cell_type": "code",
      "metadata": {
        "id": "hGRSSmJ52DrT"
      },
      "source": [
        "def function_result_03():\n",
        "    \n",
        "    plot_curve_error(loss_mean_test, loss_std_test, 'epoch', 'loss', 'loss (testing)')"
      ],
      "execution_count": 8,
      "outputs": []
    },
    {
      "cell_type": "code",
      "metadata": {
        "id": "BQNsVzgz2DrU"
      },
      "source": [
        "def function_result_04():\n",
        "    \n",
        "    plot_curve_error(accuracy_mean_test, accuracy_std_test, 'epoch', 'accuracy', 'accuracy (testing)')"
      ],
      "execution_count": 9,
      "outputs": []
    },
    {
      "cell_type": "code",
      "metadata": {
        "id": "5ra0ZYL32DrU"
      },
      "source": [
        "def function_result_05():\n",
        "    \n",
        "    data_last = get_data_last(loss_mean_train, -10)\n",
        "    index = np.arange(0, 10)\n",
        "    print_curve(data_last, index)"
      ],
      "execution_count": 10,
      "outputs": []
    },
    {
      "cell_type": "code",
      "metadata": {
        "id": "fvCCwYJP2DrV"
      },
      "source": [
        "def function_result_06():\n",
        "    \n",
        "    data_last = get_data_last(accuracy_mean_train, -10)\n",
        "    index = np.arange(0, 10)\n",
        "    print_curve(data_last, index)"
      ],
      "execution_count": 11,
      "outputs": []
    },
    {
      "cell_type": "code",
      "metadata": {
        "id": "MJtPCgPE2DrV"
      },
      "source": [
        "def function_result_07():\n",
        "    \n",
        "    data_last = get_data_last(loss_mean_test, -10)\n",
        "    index = np.arange(0, 10)\n",
        "    print_curve(data_last, index)"
      ],
      "execution_count": 12,
      "outputs": []
    },
    {
      "cell_type": "code",
      "metadata": {
        "id": "gavJXVYG2DrW"
      },
      "source": [
        "def function_result_08():\n",
        "    \n",
        "    data_last = get_data_last(accuracy_mean_test, -10)\n",
        "    index = np.arange(0, 10)\n",
        "    print_curve(data_last, index)"
      ],
      "execution_count": 13,
      "outputs": []
    },
    {
      "cell_type": "code",
      "metadata": {
        "id": "dTH4mbpL2DrW"
      },
      "source": [
        "def function_result_09():\n",
        "    \n",
        "    value = get_max_last_range(accuracy_mean_train, -10)\n",
        "    print('best training accuracy = %12.10f' % (value))"
      ],
      "execution_count": 14,
      "outputs": []
    },
    {
      "cell_type": "code",
      "metadata": {
        "id": "nqe8d3K72DrW"
      },
      "source": [
        "def function_result_10():\n",
        "    \n",
        "    value = get_max_last_range(accuracy_mean_test, -10)\n",
        "    print('best testing accuracy = %12.10f' % (value))"
      ],
      "execution_count": 15,
      "outputs": []
    },
    {
      "cell_type": "markdown",
      "metadata": {
        "id": "CjQKHKdR2DrW"
      },
      "source": [
        "---"
      ]
    },
    {
      "cell_type": "markdown",
      "metadata": {
        "id": "d9VIX3CG2DrX"
      },
      "source": [
        "# RESULTS"
      ]
    },
    {
      "cell_type": "markdown",
      "metadata": {
        "id": "yuF4baYz2DrX"
      },
      "source": [
        "---"
      ]
    },
    {
      "cell_type": "markdown",
      "metadata": {
        "id": "aPz7Loki2DrX"
      },
      "source": [
        "## # 01. plot the training loss curve (mean, std)"
      ]
    },
    {
      "cell_type": "code",
      "metadata": {
        "colab": {
          "base_uri": "https://localhost:8080/",
          "height": 268
        },
        "id": "DbtYPcQT2DrY",
        "outputId": "79d09746-f69c-4648-fab1-5ba077bf7a3c"
      },
      "source": [
        "function_result_01()"
      ],
      "execution_count": 16,
      "outputs": [
        {
          "output_type": "error",
          "ename": "NameError",
          "evalue": "ignored",
          "traceback": [
            "\u001b[0;31m---------------------------------------------------------------------------\u001b[0m",
            "\u001b[0;31mNameError\u001b[0m                                 Traceback (most recent call last)",
            "\u001b[0;32m<ipython-input-16-7ac95f99dd4b>\u001b[0m in \u001b[0;36m<module>\u001b[0;34m()\u001b[0m\n\u001b[0;32m----> 1\u001b[0;31m \u001b[0mfunction_result_01\u001b[0m\u001b[0;34m(\u001b[0m\u001b[0;34m)\u001b[0m\u001b[0;34m\u001b[0m\u001b[0;34m\u001b[0m\u001b[0m\n\u001b[0m",
            "\u001b[0;32m<ipython-input-6-d1dbc22fa3b7>\u001b[0m in \u001b[0;36mfunction_result_01\u001b[0;34m()\u001b[0m\n\u001b[1;32m      1\u001b[0m \u001b[0;32mdef\u001b[0m \u001b[0mfunction_result_01\u001b[0m\u001b[0;34m(\u001b[0m\u001b[0;34m)\u001b[0m\u001b[0;34m:\u001b[0m\u001b[0;34m\u001b[0m\u001b[0;34m\u001b[0m\u001b[0m\n\u001b[1;32m      2\u001b[0m \u001b[0;34m\u001b[0m\u001b[0m\n\u001b[0;32m----> 3\u001b[0;31m     \u001b[0mplot_curve_error\u001b[0m\u001b[0;34m(\u001b[0m\u001b[0mloss_mean_train\u001b[0m\u001b[0;34m,\u001b[0m \u001b[0mloss_std_train\u001b[0m\u001b[0;34m,\u001b[0m \u001b[0;34m'epoch'\u001b[0m\u001b[0;34m,\u001b[0m \u001b[0;34m'loss'\u001b[0m\u001b[0;34m,\u001b[0m \u001b[0;34m'loss (training)'\u001b[0m\u001b[0;34m)\u001b[0m\u001b[0;34m\u001b[0m\u001b[0;34m\u001b[0m\u001b[0m\n\u001b[0m",
            "\u001b[0;31mNameError\u001b[0m: name 'loss_mean_train' is not defined"
          ]
        }
      ]
    },
    {
      "cell_type": "markdown",
      "metadata": {
        "id": "zVXleUrQ2DrY"
      },
      "source": [
        "## # 02. plot the training accuracy curve (mean, std)"
      ]
    },
    {
      "cell_type": "code",
      "metadata": {
        "colab": {
          "base_uri": "https://localhost:8080/",
          "height": 441
        },
        "id": "zoS6bN8E2DrY",
        "outputId": "c06832c4-ac9e-4e50-ab93-14b2b079d3f4"
      },
      "source": [
        "function_result_02()"
      ],
      "execution_count": 54,
      "outputs": [
        {
          "output_type": "display_data",
          "data": {
            "image/png": "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\n",
            "text/plain": [
              "<Figure size 576x432 with 1 Axes>"
            ]
          },
          "metadata": {
            "needs_background": "light"
          }
        }
      ]
    },
    {
      "cell_type": "markdown",
      "metadata": {
        "id": "1ko0uYXL2DrZ"
      },
      "source": [
        "## # 03. plot the testing loss curve (mean, std)"
      ]
    },
    {
      "cell_type": "code",
      "metadata": {
        "colab": {
          "base_uri": "https://localhost:8080/",
          "height": 441
        },
        "id": "YyhWLhA82DrZ",
        "outputId": "1a05872c-f8dd-48e2-893e-00c0f92761df"
      },
      "source": [
        "function_result_03()"
      ],
      "execution_count": 55,
      "outputs": [
        {
          "output_type": "display_data",
          "data": {
            "image/png": "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\n",
            "text/plain": [
              "<Figure size 576x432 with 1 Axes>"
            ]
          },
          "metadata": {
            "needs_background": "light"
          }
        }
      ]
    },
    {
      "cell_type": "markdown",
      "metadata": {
        "id": "6tK2wxOV2Dra"
      },
      "source": [
        "## # 04. plot the testing accuracy curve (mean, std)"
      ]
    },
    {
      "cell_type": "code",
      "metadata": {
        "colab": {
          "base_uri": "https://localhost:8080/",
          "height": 441
        },
        "id": "0UQNEqnO2Dra",
        "outputId": "e7d1520d-2909-40d8-a4fb-7e919e083bf2"
      },
      "source": [
        "function_result_04()"
      ],
      "execution_count": 56,
      "outputs": [
        {
          "output_type": "display_data",
          "data": {
            "image/png": "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\n",
            "text/plain": [
              "<Figure size 576x432 with 1 Axes>"
            ]
          },
          "metadata": {
            "needs_background": "light"
          }
        }
      ]
    },
    {
      "cell_type": "markdown",
      "metadata": {
        "id": "LFx4eO5l2Drb"
      },
      "source": [
        "## # 05. print the training (mean) loss over batches at last 10 epochs"
      ]
    },
    {
      "cell_type": "code",
      "metadata": {
        "colab": {
          "base_uri": "https://localhost:8080/"
        },
        "id": "6ukgpn6J2Drb",
        "outputId": "ec8fc718-48d1-435b-9a4c-dedbbe4852d3"
      },
      "source": [
        "function_result_05()"
      ],
      "execution_count": 57,
      "outputs": [
        {
          "output_type": "stream",
          "name": "stdout",
          "text": [
            "index =  0, value = 0.0063144856\n",
            "index =  1, value = 0.0077946375\n",
            "index =  2, value = 0.0048363090\n",
            "index =  3, value = 0.0049058735\n",
            "index =  4, value = 0.0041984257\n",
            "index =  5, value = 0.0058577641\n",
            "index =  6, value = 0.0047087411\n",
            "index =  7, value = 0.0045563782\n",
            "index =  8, value = 0.0018619496\n",
            "index =  9, value = 0.0049593764\n"
          ]
        }
      ]
    },
    {
      "cell_type": "markdown",
      "metadata": {
        "id": "KyO0JA3x2Drb"
      },
      "source": [
        "## # 06. print the training (mean) accuracy over batches at last 10 epochs"
      ]
    },
    {
      "cell_type": "code",
      "metadata": {
        "id": "Pkq6_STw2Drc",
        "outputId": "1af2d9a6-012d-46bc-dcdb-c6570bae8a54",
        "colab": {
          "base_uri": "https://localhost:8080/"
        }
      },
      "source": [
        "function_result_06()"
      ],
      "execution_count": 58,
      "outputs": [
        {
          "output_type": "stream",
          "name": "stdout",
          "text": [
            "index =  0, value = 0.9980165362\n",
            "index =  1, value = 0.9973665476\n",
            "index =  2, value = 0.9983166456\n",
            "index =  3, value = 0.9984833002\n",
            "index =  4, value = 0.9989000559\n",
            "index =  5, value = 0.9982332587\n",
            "index =  6, value = 0.9984666109\n",
            "index =  7, value = 0.9983665943\n",
            "index =  8, value = 0.9994167089\n",
            "index =  9, value = 0.9986832738\n"
          ]
        }
      ]
    },
    {
      "cell_type": "markdown",
      "metadata": {
        "id": "d7bT-3y02Drc"
      },
      "source": [
        "## # 07. print the testing (mean) loss over batches at last 10 epochs"
      ]
    },
    {
      "cell_type": "code",
      "metadata": {
        "id": "E1gnqAOA2Drc",
        "outputId": "59795714-96c4-4b02-d508-752124e9a9af",
        "colab": {
          "base_uri": "https://localhost:8080/"
        }
      },
      "source": [
        "function_result_07()"
      ],
      "execution_count": 59,
      "outputs": [
        {
          "output_type": "stream",
          "name": "stdout",
          "text": [
            "index =  0, value = 0.0338219983\n",
            "index =  1, value = 0.0342727763\n",
            "index =  2, value = 0.0333780049\n",
            "index =  3, value = 0.0367240548\n",
            "index =  4, value = 0.0355313963\n",
            "index =  5, value = 0.0357272990\n",
            "index =  6, value = 0.0307183266\n",
            "index =  7, value = 0.0323057174\n",
            "index =  8, value = 0.0435667478\n",
            "index =  9, value = 0.0384640074\n"
          ]
        }
      ]
    },
    {
      "cell_type": "markdown",
      "metadata": {
        "id": "7h-ZN9yQ2Drd"
      },
      "source": [
        "## # 08. print the testing (mean) accuracy over batches at last 10 epochs"
      ]
    },
    {
      "cell_type": "code",
      "metadata": {
        "id": "_Q8s89Ou2Drd",
        "outputId": "171b82de-b939-4c20-df46-4f4ca173ba13",
        "colab": {
          "base_uri": "https://localhost:8080/"
        }
      },
      "source": [
        "function_result_08()"
      ],
      "execution_count": 60,
      "outputs": [
        {
          "output_type": "stream",
          "name": "stdout",
          "text": [
            "index =  0, value = 0.9925999641\n",
            "index =  1, value = 0.9924999475\n",
            "index =  2, value = 0.9918000102\n",
            "index =  3, value = 0.9907999635\n",
            "index =  4, value = 0.9921999574\n",
            "index =  5, value = 0.9912000299\n",
            "index =  6, value = 0.9931000471\n",
            "index =  7, value = 0.9936999679\n",
            "index =  8, value = 0.9912999868\n",
            "index =  9, value = 0.9918000102\n"
          ]
        }
      ]
    },
    {
      "cell_type": "markdown",
      "metadata": {
        "id": "PpBSW3Ab2Drd"
      },
      "source": [
        "## # 09. print the best training (mean) accuracy within the last 10 epochs"
      ]
    },
    {
      "cell_type": "code",
      "metadata": {
        "id": "Vtlz2YQ52Dre",
        "outputId": "7b83b7af-c0fb-4862-f1bd-2bc015e56dbe",
        "colab": {
          "base_uri": "https://localhost:8080/"
        }
      },
      "source": [
        "function_result_09()"
      ],
      "execution_count": 61,
      "outputs": [
        {
          "output_type": "stream",
          "name": "stdout",
          "text": [
            "best training accuracy = 0.9994167089\n"
          ]
        }
      ]
    },
    {
      "cell_type": "markdown",
      "metadata": {
        "id": "sMSlMpps2Dre"
      },
      "source": [
        "## # 10. print the best testing (mean) accuracy within the last 10 epochs"
      ]
    },
    {
      "cell_type": "code",
      "metadata": {
        "id": "UoEoPqg42Dre",
        "outputId": "5bc98119-07f3-4337-c443-c843d911896c",
        "colab": {
          "base_uri": "https://localhost:8080/"
        }
      },
      "source": [
        "function_result_10()"
      ],
      "execution_count": 62,
      "outputs": [
        {
          "output_type": "stream",
          "name": "stdout",
          "text": [
            "best testing accuracy = 0.9936999679\n"
          ]
        }
      ]
    },
    {
      "cell_type": "code",
      "metadata": {
        "id": "oq487VZzOAxp"
      },
      "source": [
        ""
      ],
      "execution_count": null,
      "outputs": []
    }
  ]
}
>>>>>>> fd8cd606cb743a1a6e53dddfcef6d5481c55dee4
