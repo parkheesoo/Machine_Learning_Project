{
 "cells": [
  {
   "cell_type": "markdown",
   "metadata": {
    "colab": {
     "base_uri": "https://localhost:8080/"
    },
    "executionInfo": {
     "elapsed": 5,
     "status": "ok",
     "timestamp": 1630597918894,
     "user": {
      "displayName": "Byung-Woo Hong",
      "photoUrl": "",
      "userId": "17273657108187629509"
     },
     "user_tz": -540
    },
    "id": "K29I-OwCEYzW",
    "outputId": "db8b297c-a4b8-457a-b43f-7570135306c7"
   },
   "source": [
    "# Multi-class classification based on Softmax and Cross-Entropy using pytorch"
   ]
  },
  {
   "cell_type": "markdown",
   "metadata": {},
   "source": [
    "## import libraries"
   ]
  },
  {
   "cell_type": "code",
   "execution_count": 1,
   "metadata": {},
   "outputs": [],
   "source": [
    "import torch\n",
    "from torch.autograd import Variable\n",
    "import torch.nn as nn\n",
    "import torch.nn.functional as F\n",
    "import torch.optim as optim\n",
    "from torch.utils.data import DataLoader, TensorDataset\n",
    "from sklearn.datasets import load_digits\n",
    "from sklearn import datasets, model_selection\n",
    "import pandas as pd\n",
    "import numpy as np\n",
    "from tqdm import tqdm\n",
    "from matplotlib import pyplot as plt\n",
    "from matplotlib import cm\n",
    "import os\n",
    "%matplotlib inline "
   ]
  },
  {
   "cell_type": "markdown",
   "metadata": {},
   "source": [
    "## load data"
   ]
  },
  {
   "cell_type": "code",
   "execution_count": 2,
   "metadata": {},
   "outputs": [
    {
     "name": "stdout",
     "output_type": "stream",
     "text": [
      "*************************************************\n",
      "size of x_train : (20000, 32, 32)\n",
      "size of y_train : (20000,)\n",
      "*************************************************\n",
      "size of x_test : (8000, 32, 32)\n",
      "size of y_test : (8000,)\n",
      "*************************************************\n",
      "number of training image : 20000\n",
      "height of training image : 32\n",
      "width of training image : 32\n",
      "*************************************************\n",
      "number of testing image : 8000\n",
      "height of testing image : 32\n",
      "width of testing image : 32\n",
      "*************************************************\n"
     ]
    }
   ],
   "source": [
    "#directory_data  = './data/'\n",
    "filename_data   = 'assignment_06_data.npz'\n",
    "data            = np.load(os.path.join(filename_data))\n",
    "\n",
    "x_train = data['x_train']\n",
    "y_train = data['y_train']\n",
    "\n",
    "x_test  = data['x_test']\n",
    "y_test  = data['y_test']\n",
    "\n",
    "num_data_train  = x_train.shape[0]\n",
    "num_data_test   = x_test.shape[0]\n",
    "\n",
    "print('*************************************************')\n",
    "print('size of x_train :', x_train.shape)\n",
    "print('size of y_train :', y_train.shape)\n",
    "print('*************************************************')\n",
    "print('size of x_test :', x_test.shape)\n",
    "print('size of y_test :', y_test.shape)\n",
    "print('*************************************************')\n",
    "print('number of training image :', x_train.shape[0])\n",
    "print('height of training image :', x_train.shape[1])\n",
    "print('width of training image :', x_train.shape[2])\n",
    "print('*************************************************')\n",
    "print('number of testing image :', x_test.shape[0])\n",
    "print('height of testing image :', x_test.shape[1])\n",
    "print('width of testing image :', x_test.shape[2])\n",
    "print('*************************************************')"
   ]
  },
  {
   "cell_type": "markdown",
   "metadata": {},
   "source": [
    "## number of classes"
   ]
  },
  {
   "cell_type": "code",
   "execution_count": 3,
   "metadata": {},
   "outputs": [
    {
     "name": "stdout",
     "output_type": "stream",
     "text": [
      "*************************************************\n",
      "number of classes : 10\n",
      "*************************************************\n"
     ]
    },
    {
     "data": {
      "text/html": [
       "<div>\n",
       "<style scoped>\n",
       "    .dataframe tbody tr th:only-of-type {\n",
       "        vertical-align: middle;\n",
       "    }\n",
       "\n",
       "    .dataframe tbody tr th {\n",
       "        vertical-align: top;\n",
       "    }\n",
       "\n",
       "    .dataframe thead th {\n",
       "        text-align: right;\n",
       "    }\n",
       "</style>\n",
       "<table border=\"1\" class=\"dataframe\">\n",
       "  <thead>\n",
       "    <tr style=\"text-align: right;\">\n",
       "      <th></th>\n",
       "      <th>0</th>\n",
       "      <th>1</th>\n",
       "      <th>2</th>\n",
       "      <th>3</th>\n",
       "      <th>4</th>\n",
       "      <th>5</th>\n",
       "      <th>6</th>\n",
       "      <th>7</th>\n",
       "      <th>8</th>\n",
       "      <th>9</th>\n",
       "      <th>...</th>\n",
       "      <th>1014</th>\n",
       "      <th>1015</th>\n",
       "      <th>1016</th>\n",
       "      <th>1017</th>\n",
       "      <th>1018</th>\n",
       "      <th>1019</th>\n",
       "      <th>1020</th>\n",
       "      <th>1021</th>\n",
       "      <th>1022</th>\n",
       "      <th>1023</th>\n",
       "    </tr>\n",
       "  </thead>\n",
       "  <tbody>\n",
       "    <tr>\n",
       "      <th>0</th>\n",
       "      <td>0.0</td>\n",
       "      <td>0.0</td>\n",
       "      <td>0.0</td>\n",
       "      <td>0.0</td>\n",
       "      <td>0.0</td>\n",
       "      <td>0.0</td>\n",
       "      <td>0.0</td>\n",
       "      <td>0.0</td>\n",
       "      <td>0.0</td>\n",
       "      <td>0.0</td>\n",
       "      <td>...</td>\n",
       "      <td>0.0</td>\n",
       "      <td>0.000000</td>\n",
       "      <td>0.000000</td>\n",
       "      <td>0.000000</td>\n",
       "      <td>0.000000</td>\n",
       "      <td>0.0</td>\n",
       "      <td>0.0</td>\n",
       "      <td>0.0</td>\n",
       "      <td>0.0</td>\n",
       "      <td>0.0</td>\n",
       "    </tr>\n",
       "    <tr>\n",
       "      <th>1</th>\n",
       "      <td>0.0</td>\n",
       "      <td>0.0</td>\n",
       "      <td>0.0</td>\n",
       "      <td>0.0</td>\n",
       "      <td>0.0</td>\n",
       "      <td>0.0</td>\n",
       "      <td>0.0</td>\n",
       "      <td>0.0</td>\n",
       "      <td>0.0</td>\n",
       "      <td>0.0</td>\n",
       "      <td>...</td>\n",
       "      <td>0.0</td>\n",
       "      <td>0.000000</td>\n",
       "      <td>0.000000</td>\n",
       "      <td>0.000000</td>\n",
       "      <td>0.000000</td>\n",
       "      <td>0.0</td>\n",
       "      <td>0.0</td>\n",
       "      <td>0.0</td>\n",
       "      <td>0.0</td>\n",
       "      <td>0.0</td>\n",
       "    </tr>\n",
       "    <tr>\n",
       "      <th>2</th>\n",
       "      <td>0.0</td>\n",
       "      <td>0.0</td>\n",
       "      <td>0.0</td>\n",
       "      <td>0.0</td>\n",
       "      <td>0.0</td>\n",
       "      <td>0.0</td>\n",
       "      <td>0.0</td>\n",
       "      <td>0.0</td>\n",
       "      <td>0.0</td>\n",
       "      <td>0.0</td>\n",
       "      <td>...</td>\n",
       "      <td>0.0</td>\n",
       "      <td>0.000000</td>\n",
       "      <td>0.000000</td>\n",
       "      <td>0.000000</td>\n",
       "      <td>0.000000</td>\n",
       "      <td>0.0</td>\n",
       "      <td>0.0</td>\n",
       "      <td>0.0</td>\n",
       "      <td>0.0</td>\n",
       "      <td>0.0</td>\n",
       "    </tr>\n",
       "    <tr>\n",
       "      <th>3</th>\n",
       "      <td>0.0</td>\n",
       "      <td>0.0</td>\n",
       "      <td>0.0</td>\n",
       "      <td>0.0</td>\n",
       "      <td>0.0</td>\n",
       "      <td>0.0</td>\n",
       "      <td>0.0</td>\n",
       "      <td>0.0</td>\n",
       "      <td>0.0</td>\n",
       "      <td>0.0</td>\n",
       "      <td>...</td>\n",
       "      <td>0.0</td>\n",
       "      <td>0.000000</td>\n",
       "      <td>0.000000</td>\n",
       "      <td>0.000000</td>\n",
       "      <td>0.000000</td>\n",
       "      <td>0.0</td>\n",
       "      <td>0.0</td>\n",
       "      <td>0.0</td>\n",
       "      <td>0.0</td>\n",
       "      <td>0.0</td>\n",
       "    </tr>\n",
       "    <tr>\n",
       "      <th>4</th>\n",
       "      <td>0.0</td>\n",
       "      <td>0.0</td>\n",
       "      <td>0.0</td>\n",
       "      <td>0.0</td>\n",
       "      <td>0.0</td>\n",
       "      <td>0.0</td>\n",
       "      <td>0.0</td>\n",
       "      <td>0.0</td>\n",
       "      <td>0.0</td>\n",
       "      <td>0.0</td>\n",
       "      <td>...</td>\n",
       "      <td>0.0</td>\n",
       "      <td>0.000000</td>\n",
       "      <td>0.000000</td>\n",
       "      <td>0.000000</td>\n",
       "      <td>0.000000</td>\n",
       "      <td>0.0</td>\n",
       "      <td>0.0</td>\n",
       "      <td>0.0</td>\n",
       "      <td>0.0</td>\n",
       "      <td>0.0</td>\n",
       "    </tr>\n",
       "    <tr>\n",
       "      <th>...</th>\n",
       "      <td>...</td>\n",
       "      <td>...</td>\n",
       "      <td>...</td>\n",
       "      <td>...</td>\n",
       "      <td>...</td>\n",
       "      <td>...</td>\n",
       "      <td>...</td>\n",
       "      <td>...</td>\n",
       "      <td>...</td>\n",
       "      <td>...</td>\n",
       "      <td>...</td>\n",
       "      <td>...</td>\n",
       "      <td>...</td>\n",
       "      <td>...</td>\n",
       "      <td>...</td>\n",
       "      <td>...</td>\n",
       "      <td>...</td>\n",
       "      <td>...</td>\n",
       "      <td>...</td>\n",
       "      <td>...</td>\n",
       "      <td>...</td>\n",
       "    </tr>\n",
       "    <tr>\n",
       "      <th>19995</th>\n",
       "      <td>0.0</td>\n",
       "      <td>0.0</td>\n",
       "      <td>0.0</td>\n",
       "      <td>0.0</td>\n",
       "      <td>0.0</td>\n",
       "      <td>0.0</td>\n",
       "      <td>0.0</td>\n",
       "      <td>0.0</td>\n",
       "      <td>0.0</td>\n",
       "      <td>0.0</td>\n",
       "      <td>...</td>\n",
       "      <td>0.0</td>\n",
       "      <td>0.000000</td>\n",
       "      <td>0.000000</td>\n",
       "      <td>0.000000</td>\n",
       "      <td>0.000000</td>\n",
       "      <td>0.0</td>\n",
       "      <td>0.0</td>\n",
       "      <td>0.0</td>\n",
       "      <td>0.0</td>\n",
       "      <td>0.0</td>\n",
       "    </tr>\n",
       "    <tr>\n",
       "      <th>19996</th>\n",
       "      <td>0.0</td>\n",
       "      <td>0.0</td>\n",
       "      <td>0.0</td>\n",
       "      <td>0.0</td>\n",
       "      <td>0.0</td>\n",
       "      <td>0.0</td>\n",
       "      <td>0.0</td>\n",
       "      <td>0.0</td>\n",
       "      <td>0.0</td>\n",
       "      <td>0.0</td>\n",
       "      <td>...</td>\n",
       "      <td>0.0</td>\n",
       "      <td>0.000000</td>\n",
       "      <td>0.000000</td>\n",
       "      <td>0.000000</td>\n",
       "      <td>0.000000</td>\n",
       "      <td>0.0</td>\n",
       "      <td>0.0</td>\n",
       "      <td>0.0</td>\n",
       "      <td>0.0</td>\n",
       "      <td>0.0</td>\n",
       "    </tr>\n",
       "    <tr>\n",
       "      <th>19997</th>\n",
       "      <td>0.0</td>\n",
       "      <td>0.0</td>\n",
       "      <td>0.0</td>\n",
       "      <td>0.0</td>\n",
       "      <td>0.0</td>\n",
       "      <td>0.0</td>\n",
       "      <td>0.0</td>\n",
       "      <td>0.0</td>\n",
       "      <td>0.0</td>\n",
       "      <td>0.0</td>\n",
       "      <td>...</td>\n",
       "      <td>0.0</td>\n",
       "      <td>0.000000</td>\n",
       "      <td>0.000000</td>\n",
       "      <td>0.000000</td>\n",
       "      <td>0.000000</td>\n",
       "      <td>0.0</td>\n",
       "      <td>0.0</td>\n",
       "      <td>0.0</td>\n",
       "      <td>0.0</td>\n",
       "      <td>0.0</td>\n",
       "    </tr>\n",
       "    <tr>\n",
       "      <th>19998</th>\n",
       "      <td>0.0</td>\n",
       "      <td>0.0</td>\n",
       "      <td>0.0</td>\n",
       "      <td>0.0</td>\n",
       "      <td>0.0</td>\n",
       "      <td>0.0</td>\n",
       "      <td>0.0</td>\n",
       "      <td>0.0</td>\n",
       "      <td>0.0</td>\n",
       "      <td>0.0</td>\n",
       "      <td>...</td>\n",
       "      <td>0.0</td>\n",
       "      <td>0.000000</td>\n",
       "      <td>0.000000</td>\n",
       "      <td>0.000000</td>\n",
       "      <td>0.000000</td>\n",
       "      <td>0.0</td>\n",
       "      <td>0.0</td>\n",
       "      <td>0.0</td>\n",
       "      <td>0.0</td>\n",
       "      <td>0.0</td>\n",
       "    </tr>\n",
       "    <tr>\n",
       "      <th>19999</th>\n",
       "      <td>0.0</td>\n",
       "      <td>0.0</td>\n",
       "      <td>0.0</td>\n",
       "      <td>0.0</td>\n",
       "      <td>0.0</td>\n",
       "      <td>0.0</td>\n",
       "      <td>0.0</td>\n",
       "      <td>0.0</td>\n",
       "      <td>0.0</td>\n",
       "      <td>0.0</td>\n",
       "      <td>...</td>\n",
       "      <td>0.0</td>\n",
       "      <td>0.000873</td>\n",
       "      <td>0.013097</td>\n",
       "      <td>0.015763</td>\n",
       "      <td>0.005055</td>\n",
       "      <td>0.0</td>\n",
       "      <td>0.0</td>\n",
       "      <td>0.0</td>\n",
       "      <td>0.0</td>\n",
       "      <td>0.0</td>\n",
       "    </tr>\n",
       "  </tbody>\n",
       "</table>\n",
       "<p>20000 rows × 1024 columns</p>\n",
       "</div>"
      ],
      "text/plain": [
       "       0     1     2     3     4     5     6     7     8     9     ...  1014  \\\n",
       "0       0.0   0.0   0.0   0.0   0.0   0.0   0.0   0.0   0.0   0.0  ...   0.0   \n",
       "1       0.0   0.0   0.0   0.0   0.0   0.0   0.0   0.0   0.0   0.0  ...   0.0   \n",
       "2       0.0   0.0   0.0   0.0   0.0   0.0   0.0   0.0   0.0   0.0  ...   0.0   \n",
       "3       0.0   0.0   0.0   0.0   0.0   0.0   0.0   0.0   0.0   0.0  ...   0.0   \n",
       "4       0.0   0.0   0.0   0.0   0.0   0.0   0.0   0.0   0.0   0.0  ...   0.0   \n",
       "...     ...   ...   ...   ...   ...   ...   ...   ...   ...   ...  ...   ...   \n",
       "19995   0.0   0.0   0.0   0.0   0.0   0.0   0.0   0.0   0.0   0.0  ...   0.0   \n",
       "19996   0.0   0.0   0.0   0.0   0.0   0.0   0.0   0.0   0.0   0.0  ...   0.0   \n",
       "19997   0.0   0.0   0.0   0.0   0.0   0.0   0.0   0.0   0.0   0.0  ...   0.0   \n",
       "19998   0.0   0.0   0.0   0.0   0.0   0.0   0.0   0.0   0.0   0.0  ...   0.0   \n",
       "19999   0.0   0.0   0.0   0.0   0.0   0.0   0.0   0.0   0.0   0.0  ...   0.0   \n",
       "\n",
       "           1015      1016      1017      1018  1019  1020  1021  1022  1023  \n",
       "0      0.000000  0.000000  0.000000  0.000000   0.0   0.0   0.0   0.0   0.0  \n",
       "1      0.000000  0.000000  0.000000  0.000000   0.0   0.0   0.0   0.0   0.0  \n",
       "2      0.000000  0.000000  0.000000  0.000000   0.0   0.0   0.0   0.0   0.0  \n",
       "3      0.000000  0.000000  0.000000  0.000000   0.0   0.0   0.0   0.0   0.0  \n",
       "4      0.000000  0.000000  0.000000  0.000000   0.0   0.0   0.0   0.0   0.0  \n",
       "...         ...       ...       ...       ...   ...   ...   ...   ...   ...  \n",
       "19995  0.000000  0.000000  0.000000  0.000000   0.0   0.0   0.0   0.0   0.0  \n",
       "19996  0.000000  0.000000  0.000000  0.000000   0.0   0.0   0.0   0.0   0.0  \n",
       "19997  0.000000  0.000000  0.000000  0.000000   0.0   0.0   0.0   0.0   0.0  \n",
       "19998  0.000000  0.000000  0.000000  0.000000   0.0   0.0   0.0   0.0   0.0  \n",
       "19999  0.000873  0.013097  0.015763  0.005055   0.0   0.0   0.0   0.0   0.0  \n",
       "\n",
       "[20000 rows x 1024 columns]"
      ]
     },
     "execution_count": 3,
     "metadata": {},
     "output_type": "execute_result"
    }
   ],
   "source": [
    "print('*************************************************')\n",
    "print('number of classes :', len(set(y_train)))\n",
    "print('*************************************************')\n",
    "x_train = x_train.reshape(20000, 1024)\n",
    "x_test = x_test.reshape(8000,1024)\n",
    "pd.DataFrame(x_train)"
   ]
  },
  {
   "cell_type": "markdown",
   "metadata": {},
   "source": [
    "## hyper-parameters"
   ]
  },
  {
   "cell_type": "code",
   "execution_count": 4,
   "metadata": {},
   "outputs": [],
   "source": [
    "number_epoch    = 1000\n",
    "size_minibatch  = 10\n",
    "learning_rate   = 0.01\n",
    "weight_decay    = 1e-2"
   ]
  },
  {
   "cell_type": "markdown",
   "metadata": {},
   "source": [
    "## custom data loader for the PyTorch framework"
   ]
  },
  {
   "cell_type": "code",
   "execution_count": 5,
   "metadata": {},
   "outputs": [
    {
     "name": "stdout",
     "output_type": "stream",
     "text": [
      "torch.Size([20000, 1024]) torch.Size([20000])\n",
      "torch.Size([8000, 1024]) torch.Size([8000])\n",
      "(tensor([0., 0., 0.,  ..., 0., 0., 0.]), tensor(0))\n"
     ]
    }
   ],
   "source": [
    "y_train = y_train.astype(int)\n",
    "y_test = y_test.astype(int)\n",
    "# 훈련데이터 텐서 변환\n",
    "x_train = torch.from_numpy(x_train).float()\n",
    "y_train = torch.from_numpy(y_train).long()\n",
    "\n",
    "# 테스트데이터 텐서 변환\n",
    "x_test = torch.from_numpy(x_test).float()\n",
    "y_test = torch.from_numpy(y_test).long()\n",
    "\n",
    "# 변환된 텐서의 데이터 건수 확인\n",
    "print(x_train.shape, y_train.shape)\n",
    "print(x_test.shape, y_test.shape)\n",
    "# 설명변수와 목적변수 텐서를 합침\n",
    "train = TensorDataset(x_train,y_train)\n",
    "test = TensorDataset(x_test, y_test)\n",
    "# 텐서의 첫 번째 데이터를 확인\n",
    "print(train[0])\n",
    "\n",
    "# 미니배치 분할\n",
    "train_loader = DataLoader(train, batch_size= 10, shuffle= True)\n",
    "test_loader= DataLoader(test, batch_size = 10, shuffle = True)"
   ]
  },
  {
   "cell_type": "markdown",
   "metadata": {},
   "source": [
    "## shape of the data when using the data loader"
   ]
  },
  {
   "cell_type": "code",
   "execution_count": 6,
   "metadata": {},
   "outputs": [],
   "source": [
    "loss_mean_train     = np.zeros(number_epoch)\n",
    "loss_std_train      = np.zeros(number_epoch)\n",
    "accuracy_mean_train = np.zeros(number_epoch)\n",
    "accuracy_std_train  = np.zeros(number_epoch)\n",
    "\n",
    "loss_mean_test      = np.zeros(number_epoch)\n",
    "loss_std_test       = np.zeros(number_epoch)\n",
    "accuracy_mean_test  = np.zeros(number_epoch)\n",
    "accuracy_std_test   = np.zeros(number_epoch)"
   ]
  },
  {
   "cell_type": "markdown",
   "metadata": {},
   "source": [
    "## class for the neural network "
   ]
  },
  {
   "cell_type": "code",
   "execution_count": 7,
   "metadata": {},
   "outputs": [],
   "source": [
    "# 모형 설계\n",
    "class Net(nn.Module) : \n",
    "    \n",
    "    def __init__(self):\n",
    "        super(Net, self).__init__()\n",
    "        \n",
    "        #입력층\n",
    "        self.fc1 = nn.Linear(1024,256)\n",
    "        #중간층\n",
    "        self.fc2 = nn.Linear(256,256)\n",
    "        self.fc3 = nn.Linear(256,256)\n",
    "        self.fc4 = nn.Linear(256,128)\n",
    "        self.fc5 = nn.Linear(128,128)\n",
    "        \n",
    "        #출력층\n",
    "        self.fc6 = nn.Linear(128,10)\n",
    "    def forward(self, x):\n",
    "        x = F.relu(self.fc1(x))\n",
    "        x = F.relu(self.fc2(x))\n",
    "        x = F.relu(self.fc3(x))\n",
    "        x = F.relu(self.fc4(x))\n",
    "        x = F.relu(self.fc5(x))\n",
    "        x = F.dropout(x, training=self.training)\n",
    "        x = self.fc6(x)\n",
    "        return F.log_softmax(x,dim =1)\n",
    "\n",
    "# 인스턴스 생성\n",
    "model =Net()"
   ]
  },
  {
   "cell_type": "markdown",
   "metadata": {},
   "source": [
    "## build network"
   ]
  },
  {
   "cell_type": "code",
   "execution_count": 8,
   "metadata": {},
   "outputs": [
    {
     "name": "stderr",
     "output_type": "stream",
     "text": [
      "100%|████████████████████████████████████████████████████████████████████████████| 1000/1000 [3:38:35<00:00, 13.12s/it]"
     ]
    },
    {
     "name": "stdout",
     "output_type": "stream",
     "text": [
      "Wall time: 3h 38min 35s\n"
     ]
    },
    {
     "name": "stderr",
     "output_type": "stream",
     "text": [
      "\n"
     ]
    }
   ],
   "source": [
    "%%time\n",
    "# 오차함수 객체\n",
    "criterion = nn.CrossEntropyLoss()\n",
    "optimizer = optim.SGD(model.parameters(), lr = 0.01)\n",
    "\n",
    "# 학습시작\n",
    "for epoch in tqdm(range(1000)):\n",
    "    total_loss = 0\n",
    "    loss_train_epoch        = []\n",
    "    accuracy_train_epoch    = []\n",
    "    for train_x, train_y in train_loader:\n",
    "        \n",
    "        # 계산 그래프 구성\n",
    "        train_x, train_y = torch.autograd.Variable(train_x), torch.autograd.Variable(train_y)\n",
    "        \n",
    "        # 경사 초기화\n",
    "        optimizer.zero_grad()\n",
    "        \n",
    "        # 순전파 계산\n",
    "        output = model.forward(train_x)\n",
    "        \n",
    "        # 오차 계산\n",
    "        loss = criterion(output,train_y)\n",
    "        predicted_classes = torch.argmax(output, 1) \n",
    "        correct_count = (predicted_classes == train_y) # 맞는 개수의 평균을 내면 정확도가 나옴. \n",
    "        accuracy = correct_count.float().mean()\n",
    "        # 역전파 계산\n",
    "        loss.backward()\n",
    "\n",
    "        # 가중치 업데이트\n",
    "        optimizer.step()\n",
    "        loss_train_epoch.append(loss.item())\n",
    "        accuracy_train_epoch.append(accuracy.item())\n",
    "    loss_mean_train[epoch]      = np.mean(loss_train_epoch)\n",
    "    loss_std_train[epoch]       = np.std(loss_train_epoch)\n",
    "\n",
    "    accuracy_mean_train[epoch]  = np.mean(accuracy_train_epoch)\n",
    "    accuracy_std_train[epoch]   = np.std(accuracy_train_epoch)  \n",
    "    \n",
    "    loss_test_epoch        = []\n",
    "    accuracy_test_epoch    = []\n",
    "    for test_x, test_y in test_loader:\n",
    "        \n",
    "        # 계산 그래프 구성\n",
    "        test_x, test_y = torch.autograd.Variable(test_x), torch.autograd.Variable(test_y)\n",
    "        output_test = model.forward(test_x)\n",
    "        \n",
    "        loss_test = criterion(output_test,test_y)\n",
    "        predicted_classes_test = torch.argmax(output_test, 1) \n",
    "        correct_count_test = (predicted_classes_test == test_y) # 맞는 개수의 평균을 내면 정확도가 나옴. \n",
    "        accuracy_test = correct_count_test.float().mean()\n",
    "        loss_test_epoch.append(loss_test.item())\n",
    "        accuracy_test_epoch.append(accuracy_test.item())\n",
    "    loss_mean_test[epoch]      = np.mean(loss_test_epoch)\n",
    "    loss_std_test[epoch]       = np.std(loss_test_epoch)\n",
    "    \n",
    "    accuracy_mean_test[epoch]  = np.mean(accuracy_test_epoch)\n",
    "    accuracy_std_test[epoch]   = np.std(accuracy_test_epoch)"
   ]
  },
  {
   "cell_type": "markdown",
   "metadata": {},
   "source": [
    "## plot curve"
   ]
  },
  {
   "cell_type": "code",
   "execution_count": 9,
   "metadata": {},
   "outputs": [],
   "source": [
    "def plot_curve_error(data_mean, data_std, x_label, y_label, title):\n",
    "\n",
    "    plt.figure(figsize=(8, 6))\n",
    "    plt.title(title)\n",
    "\n",
    "    alpha = 0.3\n",
    "    \n",
    "    plt.plot(range(len(data_mean)), data_mean, '-', color = 'red')\n",
    "    plt.fill_between(range(len(data_mean)), data_mean - data_std, data_mean + data_std, facecolor = 'blue', alpha = alpha) \n",
    "    \n",
    "    plt.xlabel(x_label)\n",
    "    plt.ylabel(y_label)\n",
    "\n",
    "    plt.tight_layout()\n",
    "    plt.show()"
   ]
  },
  {
   "cell_type": "code",
   "execution_count": 10,
   "metadata": {},
   "outputs": [],
   "source": [
    "def print_curve(data, index):\n",
    "    \n",
    "    for i in range(len(index)):\n",
    "\n",
    "        idx = index[i]\n",
    "        val = data[idx]\n",
    "\n",
    "        print('index = %2d, value = %12.10f' % (idx, val))"
   ]
  },
  {
   "cell_type": "code",
   "execution_count": 11,
   "metadata": {},
   "outputs": [],
   "source": [
    "def get_data_last(data, index_start):\n",
    "\n",
    "    data_last = data[index_start:]\n",
    "\n",
    "    return data_last"
   ]
  },
  {
   "cell_type": "code",
   "execution_count": 12,
   "metadata": {},
   "outputs": [],
   "source": [
    "def get_max_last_range(data, index_start):\n",
    "\n",
    "    data_range = get_data_last(data, index_start)\n",
    "    value = data_range.max()\n",
    "\n",
    "    return value"
   ]
  },
  {
   "cell_type": "code",
   "execution_count": 13,
   "metadata": {},
   "outputs": [],
   "source": [
    "def get_min_last_range(data, index_start):\n",
    "\n",
    "    data_range = get_data_last(data, index_start)\n",
    "    value = data_range.min()\n",
    "\n",
    "    return value"
   ]
  },
  {
   "cell_type": "markdown",
   "metadata": {},
   "source": [
    "---"
   ]
  },
  {
   "cell_type": "markdown",
   "metadata": {},
   "source": [
    "# functions for presenting the results"
   ]
  },
  {
   "cell_type": "markdown",
   "metadata": {},
   "source": [
    "---"
   ]
  },
  {
   "cell_type": "code",
   "execution_count": 14,
   "metadata": {},
   "outputs": [],
   "source": [
    "def function_result_01():\n",
    "\n",
    "    plot_curve_error(loss_mean_train, loss_std_train, 'epoch', 'loss', 'loss (training)')"
   ]
  },
  {
   "cell_type": "code",
   "execution_count": 15,
   "metadata": {},
   "outputs": [],
   "source": [
    "def function_result_02():\n",
    "\n",
    "    plot_curve_error(accuracy_mean_train, accuracy_std_train, 'epoch', 'accuracy', 'accuracy (training)')"
   ]
  },
  {
   "cell_type": "code",
   "execution_count": 16,
   "metadata": {},
   "outputs": [],
   "source": [
    "def function_result_03():\n",
    "    \n",
    "    plot_curve_error(loss_mean_test, loss_std_test, 'epoch', 'loss', 'loss (testing)')"
   ]
  },
  {
   "cell_type": "code",
   "execution_count": 17,
   "metadata": {},
   "outputs": [],
   "source": [
    "def function_result_04():\n",
    "    \n",
    "    plot_curve_error(accuracy_mean_test, accuracy_std_test, 'epoch', 'accuracy', 'accuracy (testing)')"
   ]
  },
  {
   "cell_type": "code",
   "execution_count": 18,
   "metadata": {},
   "outputs": [],
   "source": [
    "def function_result_05():\n",
    "    \n",
    "    data_last = get_data_last(loss_mean_train, -10)\n",
    "    index = np.arange(0, 10)\n",
    "    print_curve(data_last, index)"
   ]
  },
  {
   "cell_type": "code",
   "execution_count": 19,
   "metadata": {},
   "outputs": [],
   "source": [
    "def function_result_06():\n",
    "    \n",
    "    data_last = get_data_last(accuracy_mean_train, -10)\n",
    "    index = np.arange(0, 10)\n",
    "    print_curve(data_last, index)"
   ]
  },
  {
   "cell_type": "code",
   "execution_count": 20,
   "metadata": {},
   "outputs": [],
   "source": [
    "def function_result_07():\n",
    "    \n",
    "    data_last = get_data_last(loss_mean_test, -10)\n",
    "    index = np.arange(0, 10)\n",
    "    print_curve(data_last, index)"
   ]
  },
  {
   "cell_type": "code",
   "execution_count": 21,
   "metadata": {},
   "outputs": [],
   "source": [
    "def function_result_08():\n",
    "    \n",
    "    data_last = get_data_last(accuracy_mean_test, -10)\n",
    "    index = np.arange(0, 10)\n",
    "    print_curve(data_last, index)"
   ]
  },
  {
   "cell_type": "code",
   "execution_count": 22,
   "metadata": {},
   "outputs": [],
   "source": [
    "def function_result_09():\n",
    "    \n",
    "    value = get_max_last_range(accuracy_mean_train, -10)\n",
    "    print('best training accuracy = %12.10f' % (value))"
   ]
  },
  {
   "cell_type": "code",
   "execution_count": 23,
   "metadata": {},
   "outputs": [],
   "source": [
    "def function_result_10():\n",
    "    \n",
    "    value = get_max_last_range(accuracy_mean_test, -10)\n",
    "    print('best testing accuracy = %12.10f' % (value))"
   ]
  },
  {
   "cell_type": "markdown",
   "metadata": {},
   "source": [
    "---"
   ]
  },
  {
   "cell_type": "markdown",
   "metadata": {},
   "source": [
    "# RESULTS"
   ]
  },
  {
   "cell_type": "markdown",
   "metadata": {},
   "source": [
    "---"
   ]
  },
  {
   "cell_type": "markdown",
   "metadata": {},
   "source": [
    "## # 01. plot the training loss curve (mean, std)"
   ]
  },
  {
   "cell_type": "code",
   "execution_count": 24,
   "metadata": {},
   "outputs": [
    {
     "data": {
      "image/png": "[encoded data removed]",
      "text/plain": [
       "<Figure size 576x432 with 1 Axes>"
      ]
     },
     "metadata": {
      "needs_background": "light"
     },
     "output_type": "display_data"
    }
   ],
   "source": [
    "function_result_01()"
   ]
  },
  {
   "cell_type": "markdown",
   "metadata": {},
   "source": [
    "## # 02. plot the training accuracy curve (mean, std)"
   ]
  },
  {
   "cell_type": "code",
   "execution_count": 25,
   "metadata": {},
   "outputs": [
    {
     "data": {
      "image/png": "[encoded data removed]",
      "text/plain": [
       "<Figure size 576x432 with 1 Axes>"
      ]
     },
     "metadata": {
      "needs_background": "light"
     },
     "output_type": "display_data"
    }
   ],
   "source": [
    "function_result_02()"
   ]
  },
  {
   "cell_type": "markdown",
   "metadata": {},
   "source": [
    "## # 03. plot the testing loss curve (mean, std)"
   ]
  },
  {
   "cell_type": "code",
   "execution_count": 26,
   "metadata": {},
   "outputs": [
    {
     "data": {
      "image/png": "[encoded data removed]",
      "text/plain": [
       "<Figure size 576x432 with 1 Axes>"
      ]
     },
     "metadata": {
      "needs_background": "light"
     },
     "output_type": "display_data"
    }
   ],
   "source": [
    "function_result_03()"
   ]
  },
  {
   "cell_type": "markdown",
   "metadata": {},
   "source": [
    "## # 04. plot the testing accuracy curve (mean, std)"
   ]
  },
  {
   "cell_type": "code",
   "execution_count": 27,
   "metadata": {},
   "outputs": [
    {
     "data": {
      "image/png": "[encoded data removed]",
      "text/plain": [
       "<Figure size 576x432 with 1 Axes>"
      ]
     },
     "metadata": {
      "needs_background": "light"
     },
     "output_type": "display_data"
    }
   ],
   "source": [
    "function_result_04()"
   ]
  },
  {
   "cell_type": "markdown",
   "metadata": {},
   "source": [
    "## # 05. print the training (mean) loss over batches at last 10 epochs"
   ]
  },
  {
   "cell_type": "code",
   "execution_count": 28,
   "metadata": {},
   "outputs": [
    {
     "name": "stdout",
     "output_type": "stream",
     "text": [
      "index =  0, value = 0.0000152396\n",
      "index =  1, value = 0.0000248857\n",
      "index =  2, value = 0.0000219103\n",
      "index =  3, value = 0.0000520055\n",
      "index =  4, value = 0.0000209351\n",
      "index =  5, value = 0.0000248933\n",
      "index =  6, value = 0.0000542991\n",
      "index =  7, value = 0.0000095319\n",
      "index =  8, value = 0.0000136127\n",
      "index =  9, value = 0.0000330643\n"
     ]
    }
   ],
   "source": [
    "function_result_05()"
   ]
  },
  {
   "cell_type": "markdown",
   "metadata": {},
   "source": [
    "## # 06. print the training (mean) accuracy over batches at last 10 epochs"
   ]
  },
  {
   "cell_type": "code",
   "execution_count": 29,
   "metadata": {},
   "outputs": [
    {
     "name": "stdout",
     "output_type": "stream",
     "text": [
      "index =  0, value = 1.0000000000\n",
      "index =  1, value = 1.0000000000\n",
      "index =  2, value = 1.0000000000\n",
      "index =  3, value = 1.0000000000\n",
      "index =  4, value = 1.0000000000\n",
      "index =  5, value = 1.0000000000\n",
      "index =  6, value = 1.0000000000\n",
      "index =  7, value = 1.0000000000\n",
      "index =  8, value = 1.0000000000\n",
      "index =  9, value = 1.0000000000\n"
     ]
    }
   ],
   "source": [
    "function_result_06()"
   ]
  },
  {
   "cell_type": "markdown",
   "metadata": {},
   "source": [
    "## # 07. print the testing (mean) loss over batches at last 10 epochs"
   ]
  },
  {
   "cell_type": "code",
   "execution_count": 30,
   "metadata": {},
   "outputs": [
    {
     "name": "stdout",
     "output_type": "stream",
     "text": [
      "index =  0, value = 0.4023158185\n",
      "index =  1, value = 0.4048799950\n",
      "index =  2, value = 0.4195344904\n",
      "index =  3, value = 0.3990042470\n",
      "index =  4, value = 0.3986623288\n",
      "index =  5, value = 0.4005517279\n",
      "index =  6, value = 0.4261951874\n",
      "index =  7, value = 0.4143342714\n",
      "index =  8, value = 0.4129611801\n",
      "index =  9, value = 0.3869773261\n"
     ]
    }
   ],
   "source": [
    "function_result_07()"
   ]
  },
  {
   "cell_type": "markdown",
   "metadata": {},
   "source": [
    "## # 08. print the testing (mean) accuracy over batches at last 10 epochs"
   ]
  },
  {
   "cell_type": "code",
   "execution_count": 31,
   "metadata": {},
   "outputs": [
    {
     "name": "stdout",
     "output_type": "stream",
     "text": [
      "index =  0, value = 0.9704999954\n",
      "index =  1, value = 0.9696249946\n",
      "index =  2, value = 0.9703749952\n",
      "index =  3, value = 0.9717499949\n",
      "index =  4, value = 0.9716249949\n",
      "index =  5, value = 0.9716249946\n",
      "index =  6, value = 0.9708749951\n",
      "index =  7, value = 0.9708749951\n",
      "index =  8, value = 0.9709999952\n",
      "index =  9, value = 0.9711249943\n"
     ]
    }
   ],
   "source": [
    "function_result_08()"
   ]
  },
  {
   "cell_type": "markdown",
   "metadata": {},
   "source": [
    "## # 09. print the best training (mean) accuracy within the last 10 epochs"
   ]
  },
  {
   "cell_type": "code",
   "execution_count": 32,
   "metadata": {},
   "outputs": [
    {
     "name": "stdout",
     "output_type": "stream",
     "text": [
      "best training accuracy = 1.0000000000\n"
     ]
    }
   ],
   "source": [
    "function_result_09()"
   ]
  },
  {
   "cell_type": "markdown",
   "metadata": {},
   "source": [
    "## # 10. print the best testing (mean) accuracy within the last 10 epochs"
   ]
  },
  {
   "cell_type": "code",
   "execution_count": 33,
   "metadata": {},
   "outputs": [
    {
     "name": "stdout",
     "output_type": "stream",
     "text": [
      "best testing accuracy = 0.9717499949\n"
     ]
    }
   ],
   "source": [
    "function_result_10()"
   ]
  },
  {
   "cell_type": "code",
   "execution_count": null,
   "metadata": {},
   "outputs": [],
   "source": []
  },
  {
   "cell_type": "code",
   "execution_count": null,
   "metadata": {},
   "outputs": [],
   "source": []
  }
 ],
 "metadata": {
  "colab": {
   "authorship_tag": "ABX9TyM0gXqiryv5831mXd12OejK",
   "collapsed_sections": [],
   "name": "assignment_02.ipynb",
   "provenance": []
  },
  "interpreter": {
   "hash": "40d3a090f54c6569ab1632332b64b2c03c39dcf918b08424e98f38b5ae0af88f"
  },
  "kernelspec": {
   "display_name": "Python 3",
   "language": "python",
   "name": "python3"
  },
  "language_info": {
   "codemirror_mode": {
    "name": "ipython",
    "version": 3
   },
   "file_extension": ".py",
   "mimetype": "text/x-python",
   "name": "python",
   "nbconvert_exporter": "python",
   "pygments_lexer": "ipython3",
   "version": "3.8.5"
  }
 },
 "nbformat": 4,
 "nbformat_minor": 4
}
