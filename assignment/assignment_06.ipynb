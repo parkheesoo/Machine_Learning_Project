{
  "nbformat": 4,
  "nbformat_minor": 0,
  "metadata": {
    "colab": {
      "name": "assignment_02.ipynb",
      "provenance": [],
      "collapsed_sections": []
    },
    "interpreter": {
      "hash": "40d3a090f54c6569ab1632332b64b2c03c39dcf918b08424e98f38b5ae0af88f"
    },
    "kernelspec": {
      "display_name": "Python 3",
      "language": "python",
      "name": "python3"
    },
    "language_info": {
      "codemirror_mode": {
        "name": "ipython",
        "version": 3
      },
      "file_extension": ".py",
      "mimetype": "text/x-python",
      "name": "python",
      "nbconvert_exporter": "python",
      "pygments_lexer": "ipython3",
      "version": "3.8.5"
    }
  },
  "cells": [
    {
      "cell_type": "markdown",
      "metadata": {
        "id": "K29I-OwCEYzW",
        "outputId": "db8b297c-a4b8-457a-b43f-7570135306c7"
      },
      "source": [
        "# Multi-class classification based on Softmax and Cross-Entropy using pytorch"
      ]
    },
    {
      "cell_type": "markdown",
      "metadata": {
        "id": "pC10p9hA2Dq1"
      },
      "source": [
        "## import libraries"
      ]
    },
    {
      "cell_type": "code",
      "metadata": {
        "id": "fXEluXYG2Dq2"
      },
      "source": [
        "import torch\n",
        "import torch.nn as nn\n",
        "import torch.optim as optim\n",
        "import torchvision.datasets as dset\n",
        "import torchvision.transforms as transforms\n",
        "from torch.utils.data import Dataset\n",
        "from torchvision import datasets, transforms\n",
        "from torch.utils.data import DataLoader\n",
        "from torch.optim import lr_scheduler\n",
        "import numpy as np\n",
        "import matplotlib.pyplot as plt\n",
        "import math\n",
        "from tqdm import tqdm\n",
        "import random\n",
        "import os"
      ],
      "execution_count": 17,
      "outputs": []
    },
    {
      "cell_type": "markdown",
      "metadata": {
        "id": "4jnr5isU2Dq5"
      },
      "source": [
        "## load data"
      ]
    },
    {
      "cell_type": "code",
      "metadata": {
        "id": "_YYx-t8e2Dq6",
        "outputId": "b9b9db82-6f02-4da4-cdc5-a2181b9d3ba6",
        "colab": {
          "base_uri": "https://localhost:8080/",
          "height": 398
        }
      },
      "source": [
        "#directory_data  = '/assignment_06_data.npz'\n",
        "filename_data   = '/assignment_06_data.npz'\n",
        "data            = np.load(os.path.join(filename_data))\n",
        "\n",
        "x_train = data['x_train']\n",
        "y_train = data['y_train']\n",
        "\n",
        "x_test  = data['x_test']\n",
        "y_test  = data['y_test']\n",
        "\n",
        "num_data_train  = x_train.shape[0]\n",
        "num_data_test   = x_test.shape[0]\n",
        "\n",
        "print('*************************************************')\n",
        "print('size of x_train :', x_train.shape)\n",
        "print('size of y_train :', y_train.shape)\n",
        "print('*************************************************')\n",
        "print('size of x_test :', x_test.shape)\n",
        "print('size of y_test :', y_test.shape)\n",
        "print('*************************************************')\n",
        "print('number of training image :', x_train.shape[0])\n",
        "print('height of training image :', x_train.shape[1])\n",
        "print('width of training image :', x_train.shape[2])\n",
        "print('*************************************************')\n",
        "print('number of testing image :', x_test.shape[0])\n",
        "print('height of testing image :', x_test.shape[1])\n",
        "print('width of testing image :', x_test.shape[2])\n",
        "print('*************************************************')"
      ],
      "execution_count": 18,
      "outputs": [
        {
          "output_type": "error",
          "ename": "FileNotFoundError",
          "evalue": "ignored",
          "traceback": [
            "\u001b[0;31m---------------------------------------------------------------------------\u001b[0m",
            "\u001b[0;31mFileNotFoundError\u001b[0m                         Traceback (most recent call last)",
            "\u001b[0;32m<ipython-input-18-51071b93bb9e>\u001b[0m in \u001b[0;36m<module>\u001b[0;34m()\u001b[0m\n\u001b[1;32m      1\u001b[0m \u001b[0;31m#directory_data  = '/assignment_06_data.npz'\u001b[0m\u001b[0;34m\u001b[0m\u001b[0;34m\u001b[0m\u001b[0;34m\u001b[0m\u001b[0m\n\u001b[1;32m      2\u001b[0m \u001b[0mfilename_data\u001b[0m   \u001b[0;34m=\u001b[0m \u001b[0;34m'/assignment_06_data.npz'\u001b[0m\u001b[0;34m\u001b[0m\u001b[0;34m\u001b[0m\u001b[0m\n\u001b[0;32m----> 3\u001b[0;31m \u001b[0mdata\u001b[0m            \u001b[0;34m=\u001b[0m \u001b[0mnp\u001b[0m\u001b[0;34m.\u001b[0m\u001b[0mload\u001b[0m\u001b[0;34m(\u001b[0m\u001b[0mos\u001b[0m\u001b[0;34m.\u001b[0m\u001b[0mpath\u001b[0m\u001b[0;34m.\u001b[0m\u001b[0mjoin\u001b[0m\u001b[0;34m(\u001b[0m\u001b[0mfilename_data\u001b[0m\u001b[0;34m)\u001b[0m\u001b[0;34m)\u001b[0m\u001b[0;34m\u001b[0m\u001b[0;34m\u001b[0m\u001b[0m\n\u001b[0m\u001b[1;32m      4\u001b[0m \u001b[0;34m\u001b[0m\u001b[0m\n\u001b[1;32m      5\u001b[0m \u001b[0mx_train\u001b[0m \u001b[0;34m=\u001b[0m \u001b[0mdata\u001b[0m\u001b[0;34m[\u001b[0m\u001b[0;34m'x_train'\u001b[0m\u001b[0;34m]\u001b[0m\u001b[0;34m\u001b[0m\u001b[0;34m\u001b[0m\u001b[0m\n",
            "\u001b[0;32m/usr/local/lib/python3.7/dist-packages/numpy/lib/npyio.py\u001b[0m in \u001b[0;36mload\u001b[0;34m(file, mmap_mode, allow_pickle, fix_imports, encoding)\u001b[0m\n\u001b[1;32m    414\u001b[0m             \u001b[0mown_fid\u001b[0m \u001b[0;34m=\u001b[0m \u001b[0;32mFalse\u001b[0m\u001b[0;34m\u001b[0m\u001b[0;34m\u001b[0m\u001b[0m\n\u001b[1;32m    415\u001b[0m         \u001b[0;32melse\u001b[0m\u001b[0;34m:\u001b[0m\u001b[0;34m\u001b[0m\u001b[0;34m\u001b[0m\u001b[0m\n\u001b[0;32m--> 416\u001b[0;31m             \u001b[0mfid\u001b[0m \u001b[0;34m=\u001b[0m \u001b[0mstack\u001b[0m\u001b[0;34m.\u001b[0m\u001b[0menter_context\u001b[0m\u001b[0;34m(\u001b[0m\u001b[0mopen\u001b[0m\u001b[0;34m(\u001b[0m\u001b[0mos_fspath\u001b[0m\u001b[0;34m(\u001b[0m\u001b[0mfile\u001b[0m\u001b[0;34m)\u001b[0m\u001b[0;34m,\u001b[0m \u001b[0;34m\"rb\"\u001b[0m\u001b[0;34m)\u001b[0m\u001b[0;34m)\u001b[0m\u001b[0;34m\u001b[0m\u001b[0;34m\u001b[0m\u001b[0m\n\u001b[0m\u001b[1;32m    417\u001b[0m             \u001b[0mown_fid\u001b[0m \u001b[0;34m=\u001b[0m \u001b[0;32mTrue\u001b[0m\u001b[0;34m\u001b[0m\u001b[0;34m\u001b[0m\u001b[0m\n\u001b[1;32m    418\u001b[0m \u001b[0;34m\u001b[0m\u001b[0m\n",
            "\u001b[0;31mFileNotFoundError\u001b[0m: [Errno 2] No such file or directory: '/assignment_06_data.npz'"
          ]
        }
      ]
    },
    {
      "cell_type": "markdown",
      "metadata": {
        "id": "kQRI7M9W2Dq9"
      },
      "source": [
        "## number of classes"
      ]
    },
    {
      "cell_type": "code",
      "metadata": {
        "colab": {
          "base_uri": "https://localhost:8080/"
        },
        "id": "dlEXUMu52Dq9",
        "outputId": "40756d66-bb38-4427-d978-964a1118c0ee"
      },
      "source": [
        "print('*************************************************')\n",
        "print('number of classes :', len(set(y_train)))\n",
        "print('*************************************************')"
      ],
      "execution_count": 14,
      "outputs": [
        {
          "output_type": "stream",
          "name": "stdout",
          "text": [
            "*************************************************\n",
            "number of classes : 10\n",
            "*************************************************\n"
          ]
        }
      ]
    },
    {
      "cell_type": "markdown",
      "metadata": {
        "id": "Gx_ui_2x2Dq-"
      },
      "source": [
        "## hyper-parameters"
      ]
    },
    {
      "cell_type": "code",
      "metadata": {
        "id": "Gq23V1Cj2Dq_"
      },
      "source": [
        "device          = torch.device('cuda' if torch.cuda.is_available() else 'cpu')\n",
        "\n",
        "batch_size = 100\n",
        "learning_rate = 0.001\n",
        "num_epoch = 100\n",
        "weight_decay    = 0.001"
      ],
      "execution_count": 63,
      "outputs": []
    },
    {
      "cell_type": "code",
      "metadata": {
        "id": "r7Hn5HFAB6Zl"
      },
      "source": [
        "class dataset(Dataset):\n",
        "    \n",
        "    def __init__(self, image, label):\n",
        "        \n",
        "        self.image  = image\n",
        "        self.label  = label.astype(np.long)\n",
        "    \n",
        "    def __getitem__(self, index):\n",
        "        \n",
        "        image   = self.image[index, :, :]\n",
        "        label   = self.label[index, ]\n",
        "\n",
        "        image   = torch.FloatTensor(image).unsqueeze(dim=0)\n",
        "        label   = torch.LongTensor([label])\n",
        "\n",
        "        return image, label\n",
        "    \n",
        "    def __len__(self):\n",
        "        \n",
        "        return self.image.shape[0]\n",
        "\n",
        "    def collate_fn(self, batch):\n",
        "        images  = list()\n",
        "        labels  = list()\n",
        "\n",
        "        for b in batch:\n",
        "            images.append(b[0])\n",
        "            labels.append(b[1])\n",
        "\n",
        "        images  = torch.stack(images, dim=0)\n",
        "        labels  = torch.stack(labels, dim=0).squeeze()\n",
        "\n",
        "        return images, labels\n",
        "        "
      ],
      "execution_count": 64,
      "outputs": []
    },
    {
      "cell_type": "markdown",
      "metadata": {
        "id": "cEO1asOL2DrA"
      },
      "source": [
        "## custom data loader for the PyTorch framework"
      ]
    },
    {
      "cell_type": "code",
      "metadata": {
        "id": "px_vcFXJ2DrA"
      },
      "source": [
        "mnist_train = dset.MNIST(\"./\", train=True, \n",
        "    transform = transforms.Compose([\n",
        "        transforms.ToTensor(),\n",
        "        transforms.Normalize(mean=(0.1307,), std=(0.3081,))\n",
        "    ]),\n",
        "    target_transform=None,\n",
        "    download=True)\n",
        "mnist_test = dset.MNIST(\"./\", train=False, \n",
        "    transform=transforms.Compose([\n",
        "        transforms.ToTensor(),\n",
        "        transforms.Normalize(mean=(0.1307,), std=(0.3081,))\n",
        "    ]), target_transform=None, download=True)\n",
        "train_loader = DataLoader(mnist_train, batch_size=batch_size, shuffle=True, drop_last=True)\n",
        "test_loader = DataLoader(mnist_test, batch_size=batch_size, shuffle=False, drop_last=True)"
      ],
      "execution_count": 65,
      "outputs": []
    },
    {
      "cell_type": "markdown",
      "metadata": {
        "id": "bFqR_JDO2DrC"
      },
      "source": [
        "## construct datasets and dataloaders for training and testing"
      ]
    },
    {
      "cell_type": "code",
      "metadata": {
        "id": "XrPWNIXx2DrC"
      },
      "source": [
        "dataset_train   = dataset(x_train, y_train)\n",
        "dataset_test    = dataset(x_test, y_test)\n",
        "\n",
        "dataloader_train    = torch.utils.data.DataLoader(dataset_train, batch_size=batch_size, shuffle=True, drop_last=True, collate_fn=dataset_train.collate_fn)\n",
        "dataloader_test     = torch.utils.data.DataLoader(dataset_test, batch_size=batch_size, shuffle=True, drop_last=True, collate_fn=dataset_test.collate_fn)"
      ],
      "execution_count": 66,
      "outputs": []
    },
    {
      "cell_type": "markdown",
      "metadata": {
        "id": "jilHpFSR2DrD"
      },
      "source": [
        "## shape of the data when using the data loader"
      ]
    },
    {
      "cell_type": "code",
      "metadata": {
        "colab": {
          "base_uri": "https://localhost:8080/"
        },
        "id": "3ATJBhl72DrE",
        "outputId": "a70683ed-e3fb-4741-94d3-fc52c345423d"
      },
      "source": [
        "image, label    = next(iter(dataloader_train))\n",
        "print('************************************************************')\n",
        "print('size of mini-batch of the image:', image.shape)\n",
        "print('************************************************************')\n",
        "print('size of mini-batch of the label:', label.shape)\n",
        "print('************************************************************')"
      ],
      "execution_count": 67,
      "outputs": [
        {
          "output_type": "stream",
          "name": "stdout",
          "text": [
            "************************************************************\n",
            "size of mini-batch of the image: torch.Size([100, 1, 32, 32])\n",
            "************************************************************\n",
            "size of mini-batch of the label: torch.Size([100])\n",
            "************************************************************\n"
          ]
        }
      ]
    },
    {
      "cell_type": "markdown",
      "metadata": {
        "id": "gQnCBDmd2DrE"
      },
      "source": [
        "## class for the neural network "
      ]
    },
    {
      "cell_type": "code",
      "metadata": {
        "id": "vtqo4EY_2DrF"
      },
      "source": [
        "class CNN(nn.Module):\n",
        "    def __init__(self):\n",
        "        super(CNN,self).__init__()\n",
        "        self.layer = nn.Sequential(\n",
        "            nn.Conv2d(1, 16, 3, padding=1),\n",
        "            nn.BatchNorm2d(16),\n",
        "            nn.ReLU(),\n",
        "            nn.Conv2d(16, 32, 3,padding=1),\n",
        "            nn.BatchNorm2d(32),\n",
        "            nn.ReLU(),\n",
        "            nn.MaxPool2d(2, 2),           \n",
        "            nn.Conv2d(32, 64, 3,padding=1),\n",
        "            nn.BatchNorm2d(64),\n",
        "            nn.ReLU(),\n",
        "            nn.MaxPool2d(2, 2)        \n",
        "        )\n",
        "        self.fc_layer = nn.Sequential(\n",
        "            nn.Linear(64*7*7, 128),\n",
        "            nn.BatchNorm1d(128),\n",
        "            nn.ReLU(),\n",
        "            nn.Linear(128, 64),\n",
        "            nn.BatchNorm1d(64),\n",
        "            nn.ReLU(),            \n",
        "            nn.Linear(64, 10),\n",
        "        )       \n",
        "    def forward(self,x):\n",
        "        out = self.layer(x)\n",
        "        out = out.view(batch_size, -1)\n",
        "        out = self.fc_layer(out)\n",
        "        return out"
      ],
      "execution_count": 68,
      "outputs": []
    },
    {
      "cell_type": "markdown",
      "metadata": {
        "id": "MDOO_tlX2DrG"
      },
      "source": [
        "## build network"
      ]
    },
    {
      "cell_type": "code",
      "metadata": {
        "id": "ElqtWN9a2DrH"
      },
      "source": [
        "model = CNN().to(device)\n",
        "loss_func = nn.CrossEntropyLoss().to(device)\n",
        "optimizer = optim.Adam(model.parameters(), lr=learning_rate)\n",
        "scheduler = lr_scheduler.ReduceLROnPlateau(optimizer,threshold=0.1, patience=1, mode='min')"
      ],
      "execution_count": 69,
      "outputs": []
    },
    {
      "cell_type": "markdown",
      "metadata": {
        "id": "z6KOS3L-2DrI"
      },
      "source": [
        "## print the defined neural network"
      ]
    },
    {
      "cell_type": "code",
      "metadata": {
        "colab": {
          "base_uri": "https://localhost:8080/"
        },
        "id": "tdx9gJsD2DrI",
        "outputId": "4dc441e4-d294-46ce-b938-633669ab0312"
      },
      "source": [
        "print(CNN)"
      ],
      "execution_count": 70,
      "outputs": [
        {
          "output_type": "stream",
          "name": "stdout",
          "text": [
            "<class '__main__.CNN'>\n"
          ]
        }
      ]
    },
    {
      "cell_type": "markdown",
      "metadata": {
        "id": "gGmCDXRJ2DrJ"
      },
      "source": [
        "## compute the prediction"
      ]
    },
    {
      "cell_type": "code",
      "metadata": {
        "id": "YHJkQxYl2DrJ"
      },
      "source": [
        "def compute_prediction(model, input):\n",
        "\n",
        "    prediction = model(input)\n",
        "\n",
        "    return prediction"
      ],
      "execution_count": 71,
      "outputs": []
    },
    {
      "cell_type": "markdown",
      "metadata": {
        "id": "BKdCRnrl2DrK"
      },
      "source": [
        "## compute the loss"
      ]
    },
    {
      "cell_type": "code",
      "metadata": {
        "id": "DAxUH3tG2DrL"
      },
      "source": [
        "def compute_loss(prediction, label):\n",
        "    criterion   = nn.CrossEntropyLoss()\n",
        "    loss        = criterion(prediction, label)\n",
        "    loss_value  = loss.item()\n",
        "\n",
        "    return loss, loss_value"
      ],
      "execution_count": 72,
      "outputs": []
    },
    {
      "cell_type": "markdown",
      "metadata": {
        "id": "Zvk5p7J_2DrL"
      },
      "source": [
        "## compute the accuracy"
      ]
    },
    {
      "cell_type": "code",
      "metadata": {
        "id": "SxWekYNA2DrL"
      },
      "source": [
        "def compute_accuracy(prediction, label):\n",
        "    y_pred = torch.argmax(prediction, dim=1)\n",
        "    return (y_pred == label).to(torch.float).mean()"
      ],
      "execution_count": 73,
      "outputs": []
    },
    {
      "cell_type": "markdown",
      "metadata": {
        "id": "HsWoWPzN2DrM"
      },
      "source": [
        "## variables for the learning curve"
      ]
    },
    {
      "cell_type": "code",
      "metadata": {
        "id": "IVvnqfU-2DrM"
      },
      "source": [
        "loss_mean_train     = np.zeros(num_epoch)\n",
        "loss_std_train      = np.zeros(num_epoch)\n",
        "accuracy_mean_train = np.zeros(num_epoch)\n",
        "accuracy_std_train  = np.zeros(num_epoch)\n",
        "\n",
        "loss_mean_test      = np.zeros(num_epoch)\n",
        "loss_std_test       = np.zeros(num_epoch)\n",
        "accuracy_mean_test  = np.zeros(num_epoch)\n",
        "accuracy_std_test   = np.zeros(num_epoch)"
      ],
      "execution_count": 74,
      "outputs": []
    },
    {
      "cell_type": "markdown",
      "metadata": {
        "id": "Lz9yKHyJ2DrM"
      },
      "source": [
        "## train and test"
      ]
    },
    {
      "cell_type": "code",
      "metadata": {
        "colab": {
          "base_uri": "https://localhost:8080/"
        },
        "id": "tE-USYut2DrN",
        "outputId": "864247ad-e2cf-44ef-f920-6750c1965a3f"
      },
      "source": [
        "for i in tqdm(range(num_epoch)):\n",
        "    loss_train_epoch        = []\n",
        "    accuracy_train_epoch    = []\n",
        "\n",
        "    for _,[image,label] in enumerate(train_loader):\n",
        "        x = image.to(device)\n",
        "        y_= label.to(device)\n",
        "      \n",
        "        optimizer.zero_grad()\n",
        "        output = model.forward(x)\n",
        "        loss = loss_func(output, y_)\n",
        "        loss.backward()\n",
        "        optimizer.step()\n",
        "        accuacy_train = compute_accuracy(output, y_)\n",
        "        \n",
        "        loss_train_epoch.append(loss.item())\n",
        "        accuracy_train_epoch.append(accuacy_train)\n",
        "\n",
        "    loss_mean_train[i]      = np.mean(loss_train_epoch)\n",
        "    loss_std_train[i]       = np.std(loss_train_epoch)\n",
        "\n",
        "    accuracy_mean_train[i]  = np.mean(accuracy_train_epoch)\n",
        "    accuracy_std_train[i]   = np.std(accuracy_train_epoch)\n",
        "\n",
        "    loss_test_epoch        = []\n",
        "    accuracy_test_epoch    = []\n",
        "\n",
        "    model.eval()\n",
        "    for _,[image_test,label_test] in enumerate(test_loader):\n",
        "        image_test = image_test.to(device)\n",
        "        label_test = label_test.to(device)\n",
        "        \n",
        "        output_test = model.forward(image_test)\n",
        "        loss_test = loss_func(output_test, label_test)\n",
        "        accuracy_test = compute_accuracy(output_test, label_test)\n",
        "        loss_test_epoch.append(loss_test.item())\n",
        "        accuracy_test_epoch.append(accuracy_test)\n",
        "    \n",
        "    loss_mean_test[i]      = np.mean(loss_test_epoch)\n",
        "    loss_std_test[i]       = np.std(loss_test_epoch)\n",
        "\n",
        "    accuracy_mean_test[i]  = np.mean(accuracy_test_epoch)\n",
        "    accuracy_std_test[i]   = np.std(accuracy_test_epoch)"
      ],
      "execution_count": 75,
      "outputs": [
        {
          "output_type": "stream",
          "name": "stderr",
          "text": [
            "100%|██████████| 100/100 [3:52:19<00:00, 139.40s/it]\n"
          ]
        }
      ]
    },
    {
      "cell_type": "markdown",
      "metadata": {
        "id": "zcT-FVTP2DrO"
      },
      "source": [
        "## plot curve"
      ]
    },
    {
      "cell_type": "code",
      "metadata": {
        "id": "FL5UNgQU2DrO"
      },
      "source": [
        "def plot_curve_error(data_mean, data_std, x_label, y_label, title):\n",
        "\n",
        "    plt.figure(figsize=(8, 6))\n",
        "    plt.title(title)\n",
        "\n",
        "    alpha = 0.3\n",
        "    \n",
        "    plt.plot(range(len(data_mean)), data_mean, '-', color = 'red')\n",
        "    plt.fill_between(range(len(data_mean)), data_mean - data_std, data_mean + data_std, facecolor = 'blue', alpha = alpha) \n",
        "    \n",
        "    plt.xlabel(x_label)\n",
        "    plt.ylabel(y_label)\n",
        "\n",
        "    plt.tight_layout()\n",
        "    plt.show()"
      ],
      "execution_count": 1,
      "outputs": []
    },
    {
      "cell_type": "code",
      "metadata": {
        "id": "8sMBhubI2DrO"
      },
      "source": [
        "def print_curve(data, index):\n",
        "    \n",
        "    for i in range(len(index)):\n",
        "\n",
        "        idx = index[i]\n",
        "        val = data[idx]\n",
        "\n",
        "        print('index = %2d, value = %12.10f' % (idx, val))"
      ],
      "execution_count": 2,
      "outputs": []
    },
    {
      "cell_type": "code",
      "metadata": {
        "id": "sxzLlfUk2DrP"
      },
      "source": [
        "def get_data_last(data, index_start):\n",
        "\n",
        "    data_last = data[index_start:]\n",
        "\n",
        "    return data_last"
      ],
      "execution_count": 3,
      "outputs": []
    },
    {
      "cell_type": "code",
      "metadata": {
        "id": "lC7knYCP2DrP"
      },
      "source": [
        "def get_max_last_range(data, index_start):\n",
        "\n",
        "    data_range = get_data_last(data, index_start)\n",
        "    value = data_range.max()\n",
        "\n",
        "    return value"
      ],
      "execution_count": 4,
      "outputs": []
    },
    {
      "cell_type": "code",
      "metadata": {
        "id": "pjtrXsfo2DrQ"
      },
      "source": [
        "def get_min_last_range(data, index_start):\n",
        "\n",
        "    data_range = get_data_last(data, index_start)\n",
        "    value = data_range.min()\n",
        "\n",
        "    return value"
      ],
      "execution_count": 5,
      "outputs": []
    },
    {
      "cell_type": "markdown",
      "metadata": {
        "id": "947Y-Fjk2DrS"
      },
      "source": [
        "---"
      ]
    },
    {
      "cell_type": "markdown",
      "metadata": {
        "id": "x-MbJQ7e2DrS"
      },
      "source": [
        "# functions for presenting the results"
      ]
    },
    {
      "cell_type": "markdown",
      "metadata": {
        "id": "SU3V72Rc2DrS"
      },
      "source": [
        "---"
      ]
    },
    {
      "cell_type": "code",
      "metadata": {
        "id": "2-QkGGxd2DrT"
      },
      "source": [
        "def function_result_01():\n",
        "\n",
        "    plot_curve_error(loss_mean_train, loss_std_train, 'epoch', 'loss', 'loss (training)')"
      ],
      "execution_count": 6,
      "outputs": []
    },
    {
      "cell_type": "code",
      "metadata": {
        "id": "0H4QXO5U2DrT"
      },
      "source": [
        "def function_result_02():\n",
        "\n",
        "    plot_curve_error(accuracy_mean_train, accuracy_std_train, 'epoch', 'accuracy', 'accuracy (training)')"
      ],
      "execution_count": 7,
      "outputs": []
    },
    {
      "cell_type": "code",
      "metadata": {
        "id": "hGRSSmJ52DrT"
      },
      "source": [
        "def function_result_03():\n",
        "    \n",
        "    plot_curve_error(loss_mean_test, loss_std_test, 'epoch', 'loss', 'loss (testing)')"
      ],
      "execution_count": 8,
      "outputs": []
    },
    {
      "cell_type": "code",
      "metadata": {
        "id": "BQNsVzgz2DrU"
      },
      "source": [
        "def function_result_04():\n",
        "    \n",
        "    plot_curve_error(accuracy_mean_test, accuracy_std_test, 'epoch', 'accuracy', 'accuracy (testing)')"
      ],
      "execution_count": 9,
      "outputs": []
    },
    {
      "cell_type": "code",
      "metadata": {
        "id": "5ra0ZYL32DrU"
      },
      "source": [
        "def function_result_05():\n",
        "    \n",
        "    data_last = get_data_last(loss_mean_train, -10)\n",
        "    index = np.arange(0, 10)\n",
        "    print_curve(data_last, index)"
      ],
      "execution_count": 10,
      "outputs": []
    },
    {
      "cell_type": "code",
      "metadata": {
        "id": "fvCCwYJP2DrV"
      },
      "source": [
        "def function_result_06():\n",
        "    \n",
        "    data_last = get_data_last(accuracy_mean_train, -10)\n",
        "    index = np.arange(0, 10)\n",
        "    print_curve(data_last, index)"
      ],
      "execution_count": 11,
      "outputs": []
    },
    {
      "cell_type": "code",
      "metadata": {
        "id": "MJtPCgPE2DrV"
      },
      "source": [
        "def function_result_07():\n",
        "    \n",
        "    data_last = get_data_last(loss_mean_test, -10)\n",
        "    index = np.arange(0, 10)\n",
        "    print_curve(data_last, index)"
      ],
      "execution_count": 12,
      "outputs": []
    },
    {
      "cell_type": "code",
      "metadata": {
        "id": "gavJXVYG2DrW"
      },
      "source": [
        "def function_result_08():\n",
        "    \n",
        "    data_last = get_data_last(accuracy_mean_test, -10)\n",
        "    index = np.arange(0, 10)\n",
        "    print_curve(data_last, index)"
      ],
      "execution_count": 13,
      "outputs": []
    },
    {
      "cell_type": "code",
      "metadata": {
        "id": "dTH4mbpL2DrW"
      },
      "source": [
        "def function_result_09():\n",
        "    \n",
        "    value = get_max_last_range(accuracy_mean_train, -10)\n",
        "    print('best training accuracy = %12.10f' % (value))"
      ],
      "execution_count": 14,
      "outputs": []
    },
    {
      "cell_type": "code",
      "metadata": {
        "id": "nqe8d3K72DrW"
      },
      "source": [
        "def function_result_10():\n",
        "    \n",
        "    value = get_max_last_range(accuracy_mean_test, -10)\n",
        "    print('best testing accuracy = %12.10f' % (value))"
      ],
      "execution_count": 15,
      "outputs": []
    },
    {
      "cell_type": "markdown",
      "metadata": {
        "id": "CjQKHKdR2DrW"
      },
      "source": [
        "---"
      ]
    },
    {
      "cell_type": "markdown",
      "metadata": {
        "id": "d9VIX3CG2DrX"
      },
      "source": [
        "# RESULTS"
      ]
    },
    {
      "cell_type": "markdown",
      "metadata": {
        "id": "yuF4baYz2DrX"
      },
      "source": [
        "---"
      ]
    },
    {
      "cell_type": "markdown",
      "metadata": {
        "id": "aPz7Loki2DrX"
      },
      "source": [
        "## # 01. plot the training loss curve (mean, std)"
      ]
    },
    {
      "cell_type": "code",
      "metadata": {
        "colab": {
          "base_uri": "https://localhost:8080/",
          "height": 268
        },
        "id": "DbtYPcQT2DrY",
        "outputId": "79d09746-f69c-4648-fab1-5ba077bf7a3c"
      },
      "source": [
        "function_result_01()"
      ],
      "execution_count": 16,
      "outputs": [
        {
          "output_type": "error",
          "ename": "NameError",
          "evalue": "ignored",
          "traceback": [
            "\u001b[0;31m---------------------------------------------------------------------------\u001b[0m",
            "\u001b[0;31mNameError\u001b[0m                                 Traceback (most recent call last)",
            "\u001b[0;32m<ipython-input-16-7ac95f99dd4b>\u001b[0m in \u001b[0;36m<module>\u001b[0;34m()\u001b[0m\n\u001b[0;32m----> 1\u001b[0;31m \u001b[0mfunction_result_01\u001b[0m\u001b[0;34m(\u001b[0m\u001b[0;34m)\u001b[0m\u001b[0;34m\u001b[0m\u001b[0;34m\u001b[0m\u001b[0m\n\u001b[0m",
            "\u001b[0;32m<ipython-input-6-d1dbc22fa3b7>\u001b[0m in \u001b[0;36mfunction_result_01\u001b[0;34m()\u001b[0m\n\u001b[1;32m      1\u001b[0m \u001b[0;32mdef\u001b[0m \u001b[0mfunction_result_01\u001b[0m\u001b[0;34m(\u001b[0m\u001b[0;34m)\u001b[0m\u001b[0;34m:\u001b[0m\u001b[0;34m\u001b[0m\u001b[0;34m\u001b[0m\u001b[0m\n\u001b[1;32m      2\u001b[0m \u001b[0;34m\u001b[0m\u001b[0m\n\u001b[0;32m----> 3\u001b[0;31m     \u001b[0mplot_curve_error\u001b[0m\u001b[0;34m(\u001b[0m\u001b[0mloss_mean_train\u001b[0m\u001b[0;34m,\u001b[0m \u001b[0mloss_std_train\u001b[0m\u001b[0;34m,\u001b[0m \u001b[0;34m'epoch'\u001b[0m\u001b[0;34m,\u001b[0m \u001b[0;34m'loss'\u001b[0m\u001b[0;34m,\u001b[0m \u001b[0;34m'loss (training)'\u001b[0m\u001b[0;34m)\u001b[0m\u001b[0;34m\u001b[0m\u001b[0;34m\u001b[0m\u001b[0m\n\u001b[0m",
            "\u001b[0;31mNameError\u001b[0m: name 'loss_mean_train' is not defined"
          ]
        }
      ]
    },
    {
      "cell_type": "markdown",
      "metadata": {
        "id": "zVXleUrQ2DrY"
      },
      "source": [
        "## # 02. plot the training accuracy curve (mean, std)"
      ]
    },
    {
      "cell_type": "code",
      "metadata": {
        "colab": {
          "base_uri": "https://localhost:8080/",
          "height": 441
        },
        "id": "zoS6bN8E2DrY",
        "outputId": "c06832c4-ac9e-4e50-ab93-14b2b079d3f4"
      },
      "source": [
        "function_result_02()"
      ],
      "execution_count": 54,
      "outputs": [
        {
          "output_type": "display_data",
          "data": {
            "image/png": "[encoded data removed]",
            "text/plain": [
              "<Figure size 576x432 with 1 Axes>"
            ]
          },
          "metadata": {
            "needs_background": "light"
          }
        }
      ]
    },
    {
      "cell_type": "markdown",
      "metadata": {
        "id": "1ko0uYXL2DrZ"
      },
      "source": [
        "## # 03. plot the testing loss curve (mean, std)"
      ]
    },
    {
      "cell_type": "code",
      "metadata": {
        "colab": {
          "base_uri": "https://localhost:8080/",
          "height": 441
        },
        "id": "YyhWLhA82DrZ",
        "outputId": "1a05872c-f8dd-48e2-893e-00c0f92761df"
      },
      "source": [
        "function_result_03()"
      ],
      "execution_count": 55,
      "outputs": [
        {
          "output_type": "display_data",
          "data": {
            "image/png": "[encoded data removed]",
            "text/plain": [
              "<Figure size 576x432 with 1 Axes>"
            ]
          },
          "metadata": {
            "needs_background": "light"
          }
        }
      ]
    },
    {
      "cell_type": "markdown",
      "metadata": {
        "id": "6tK2wxOV2Dra"
      },
      "source": [
        "## # 04. plot the testing accuracy curve (mean, std)"
      ]
    },
    {
      "cell_type": "code",
      "metadata": {
        "colab": {
          "base_uri": "https://localhost:8080/",
          "height": 441
        },
        "id": "0UQNEqnO2Dra",
        "outputId": "e7d1520d-2909-40d8-a4fb-7e919e083bf2"
      },
      "source": [
        "function_result_04()"
      ],
      "execution_count": 56,
      "outputs": [
        {
          "output_type": "display_data",
          "data": {
            "image/png": "[encoded data removed]",
            "text/plain": [
              "<Figure size 576x432 with 1 Axes>"
            ]
          },
          "metadata": {
            "needs_background": "light"
          }
        }
      ]
    },
    {
      "cell_type": "markdown",
      "metadata": {
        "id": "LFx4eO5l2Drb"
      },
      "source": [
        "## # 05. print the training (mean) loss over batches at last 10 epochs"
      ]
    },
    {
      "cell_type": "code",
      "metadata": {
        "colab": {
          "base_uri": "https://localhost:8080/"
        },
        "id": "6ukgpn6J2Drb",
        "outputId": "ec8fc718-48d1-435b-9a4c-dedbbe4852d3"
      },
      "source": [
        "function_result_05()"
      ],
      "execution_count": 57,
      "outputs": [
        {
          "output_type": "stream",
          "name": "stdout",
          "text": [
            "index =  0, value = 0.0063144856\n",
            "index =  1, value = 0.0077946375\n",
            "index =  2, value = 0.0048363090\n",
            "index =  3, value = 0.0049058735\n",
            "index =  4, value = 0.0041984257\n",
            "index =  5, value = 0.0058577641\n",
            "index =  6, value = 0.0047087411\n",
            "index =  7, value = 0.0045563782\n",
            "index =  8, value = 0.0018619496\n",
            "index =  9, value = 0.0049593764\n"
          ]
        }
      ]
    },
    {
      "cell_type": "markdown",
      "metadata": {
        "id": "KyO0JA3x2Drb"
      },
      "source": [
        "## # 06. print the training (mean) accuracy over batches at last 10 epochs"
      ]
    },
    {
      "cell_type": "code",
      "metadata": {
        "id": "Pkq6_STw2Drc",
        "outputId": "1af2d9a6-012d-46bc-dcdb-c6570bae8a54",
        "colab": {
          "base_uri": "https://localhost:8080/"
        }
      },
      "source": [
        "function_result_06()"
      ],
      "execution_count": 58,
      "outputs": [
        {
          "output_type": "stream",
          "name": "stdout",
          "text": [
            "index =  0, value = 0.9980165362\n",
            "index =  1, value = 0.9973665476\n",
            "index =  2, value = 0.9983166456\n",
            "index =  3, value = 0.9984833002\n",
            "index =  4, value = 0.9989000559\n",
            "index =  5, value = 0.9982332587\n",
            "index =  6, value = 0.9984666109\n",
            "index =  7, value = 0.9983665943\n",
            "index =  8, value = 0.9994167089\n",
            "index =  9, value = 0.9986832738\n"
          ]
        }
      ]
    },
    {
      "cell_type": "markdown",
      "metadata": {
        "id": "d7bT-3y02Drc"
      },
      "source": [
        "## # 07. print the testing (mean) loss over batches at last 10 epochs"
      ]
    },
    {
      "cell_type": "code",
      "metadata": {
        "id": "E1gnqAOA2Drc",
        "outputId": "59795714-96c4-4b02-d508-752124e9a9af",
        "colab": {
          "base_uri": "https://localhost:8080/"
        }
      },
      "source": [
        "function_result_07()"
      ],
      "execution_count": 59,
      "outputs": [
        {
          "output_type": "stream",
          "name": "stdout",
          "text": [
            "index =  0, value = 0.0338219983\n",
            "index =  1, value = 0.0342727763\n",
            "index =  2, value = 0.0333780049\n",
            "index =  3, value = 0.0367240548\n",
            "index =  4, value = 0.0355313963\n",
            "index =  5, value = 0.0357272990\n",
            "index =  6, value = 0.0307183266\n",
            "index =  7, value = 0.0323057174\n",
            "index =  8, value = 0.0435667478\n",
            "index =  9, value = 0.0384640074\n"
          ]
        }
      ]
    },
    {
      "cell_type": "markdown",
      "metadata": {
        "id": "7h-ZN9yQ2Drd"
      },
      "source": [
        "## # 08. print the testing (mean) accuracy over batches at last 10 epochs"
      ]
    },
    {
      "cell_type": "code",
      "metadata": {
        "id": "_Q8s89Ou2Drd",
        "outputId": "171b82de-b939-4c20-df46-4f4ca173ba13",
        "colab": {
          "base_uri": "https://localhost:8080/"
        }
      },
      "source": [
        "function_result_08()"
      ],
      "execution_count": 60,
      "outputs": [
        {
          "output_type": "stream",
          "name": "stdout",
          "text": [
            "index =  0, value = 0.9925999641\n",
            "index =  1, value = 0.9924999475\n",
            "index =  2, value = 0.9918000102\n",
            "index =  3, value = 0.9907999635\n",
            "index =  4, value = 0.9921999574\n",
            "index =  5, value = 0.9912000299\n",
            "index =  6, value = 0.9931000471\n",
            "index =  7, value = 0.9936999679\n",
            "index =  8, value = 0.9912999868\n",
            "index =  9, value = 0.9918000102\n"
          ]
        }
      ]
    },
    {
      "cell_type": "markdown",
      "metadata": {
        "id": "PpBSW3Ab2Drd"
      },
      "source": [
        "## # 09. print the best training (mean) accuracy within the last 10 epochs"
      ]
    },
    {
      "cell_type": "code",
      "metadata": {
        "id": "Vtlz2YQ52Dre",
        "outputId": "7b83b7af-c0fb-4862-f1bd-2bc015e56dbe",
        "colab": {
          "base_uri": "https://localhost:8080/"
        }
      },
      "source": [
        "function_result_09()"
      ],
      "execution_count": 61,
      "outputs": [
        {
          "output_type": "stream",
          "name": "stdout",
          "text": [
            "best training accuracy = 0.9994167089\n"
          ]
        }
      ]
    },
    {
      "cell_type": "markdown",
      "metadata": {
        "id": "sMSlMpps2Dre"
      },
      "source": [
        "## # 10. print the best testing (mean) accuracy within the last 10 epochs"
      ]
    },
    {
      "cell_type": "code",
      "metadata": {
        "id": "UoEoPqg42Dre",
        "outputId": "5bc98119-07f3-4337-c443-c843d911896c",
        "colab": {
          "base_uri": "https://localhost:8080/"
        }
      },
      "source": [
        "function_result_10()"
      ],
      "execution_count": 62,
      "outputs": [
        {
          "output_type": "stream",
          "name": "stdout",
          "text": [
            "best testing accuracy = 0.9936999679\n"
          ]
        }
      ]
    },
    {
      "cell_type": "code",
      "metadata": {
        "id": "oq487VZzOAxp"
      },
      "source": [
        ""
      ],
      "execution_count": null,
      "outputs": []
    }
  ]
}