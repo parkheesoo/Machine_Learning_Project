{
 "cells": [
  {
   "cell_type": "markdown",
   "metadata": {
    "colab": {
     "base_uri": "https://localhost:8080/"
    },
    "executionInfo": {
     "elapsed": 5,
     "status": "ok",
     "timestamp": 1630597918894,
     "user": {
      "displayName": "Byung-Woo Hong",
      "photoUrl": "",
      "userId": "17273657108187629509"
     },
     "user_tz": -540
    },
    "id": "K29I-OwCEYzW",
    "outputId": "db8b297c-a4b8-457a-b43f-7570135306c7"
   },
   "source": [
    "# Logistic regression for binary classification"
   ]
  },
  {
   "cell_type": "markdown",
   "metadata": {},
   "source": [
    "## import libraries"
   ]
  },
  {
   "cell_type": "code",
   "execution_count": 100,
   "metadata": {},
   "outputs": [],
   "source": [
    "import numpy as np\n",
    "import matplotlib.image as img\n",
    "import matplotlib.pyplot as plt\n",
    "import matplotlib.colors as colors\n",
    "import os"
   ]
  },
  {
   "cell_type": "markdown",
   "metadata": {},
   "source": [
    "## load data"
   ]
  },
  {
   "cell_type": "code",
   "execution_count": 101,
   "metadata": {},
   "outputs": [
    {
     "name": "stdout",
     "output_type": "stream",
     "text": [
      "size of x (image) : (2, 28, 28)\n",
      "size of y (label) : (2,)\n",
      "number of image : 2\n",
      "height of image : 28\n",
      "width of image : 28\n"
     ]
    }
   ],
   "source": [
    "#directory_data  = './data/'\n",
    "filename_data   = 'assignment_02_data.npz'\n",
    "#data            = np.load(os.path.join(directory_data, filename_data))\n",
    "data            = np.load(os.path.join(filename_data))\n",
    "x = data['x']\n",
    "y = data['y']\n",
    "\n",
    "print('size of x (image) :', x.shape)\n",
    "print('size of y (label) :', y.shape)\n",
    "\n",
    "print('number of image :', x.shape[0])\n",
    "print('height of image :', x.shape[1])\n",
    "print('width of image :', x.shape[2])\n",
    "im_0    = x[0,:,:]\n",
    "im_1    = x[1,:,:]\n",
    "label_0 = y[0]"
   ]
  },
  {
   "cell_type": "markdown",
   "metadata": {},
   "source": [
    "## plot data"
   ]
  },
  {
   "cell_type": "code",
   "execution_count": 102,
   "metadata": {},
   "outputs": [],
   "source": [
    "def plot_data2(title1, data1, title2, data2):\n",
    "\n",
    "    fig = plt.figure(figsize=(8,4))\n",
    "\n",
    "    rows = 1\n",
    "    cols = 2\n",
    "\n",
    "    ax1 = fig.add_subplot(rows, cols, 1)\n",
    "    ax1.set_title(title1)\n",
    "    ax1.imshow(data1, cmap='gray', vmin=0, vmax=1)\n",
    "\n",
    "    ax2 = fig.add_subplot(rows, cols, 2)\n",
    "    ax2.set_title(title2)\n",
    "    ax2.imshow(data2, cmap='gray', vmin=0, vmax=1)\n",
    "\n",
    "    plt.tight_layout()\n",
    "    plt.show()"
   ]
  },
  {
   "cell_type": "code",
   "execution_count": 103,
   "metadata": {},
   "outputs": [
    {
     "data": {
      "image/png": "[encoded data removed]",
      "text/plain": [
       "<Figure size 576x288 with 2 Axes>"
      ]
     },
     "metadata": {
      "needs_background": "light"
     },
     "output_type": "display_data"
    }
   ],
   "source": [
    "plot_data2('label: 0', im_0, 'label: 1', im_1)\n",
    "#plot to image"
   ]
  },
  {
   "cell_type": "markdown",
   "metadata": {},
   "source": [
    "## convert gray scale image to color"
   ]
  },
  {
   "cell_type": "code",
   "execution_count": 104,
   "metadata": {},
   "outputs": [
    {
     "name": "stdout",
     "output_type": "stream",
     "text": [
      "(28, 28, 3)\n",
      "(28, 28, 3)\n",
      "(28, 28, 3)\n",
      "(28, 28, 3)\n",
      "(28, 28, 3)\n",
      "(28, 28, 3)\n"
     ]
    }
   ],
   "source": [
    "im_0_red    = np.zeros((im_0.shape[0], im_0.shape[1], 3))\n",
    "im_0_green  = np.zeros((im_0.shape[0], im_0.shape[1], 3))\n",
    "im_0_blue   = np.zeros((im_0.shape[0], im_0.shape[1], 3))\n",
    "\n",
    "im_1_red    = np.zeros((im_1.shape[0], im_1.shape[1], 3))\n",
    "im_1_green  = np.zeros((im_1.shape[0], im_1.shape[1], 3))\n",
    "im_1_blue   = np.zeros((im_1.shape[0], im_1.shape[1], 3))\n",
    "\n",
    "im_0_red[:,:,0]     = im_0\n",
    "im_0_green[:,:,1]   = im_0\n",
    "im_0_blue[:,:,2]    = im_0\n",
    "\n",
    "im_1_red[:,:,0]     = im_1\n",
    "im_1_green[:,:,1]   = im_1\n",
    "im_1_blue[:,:,2]    = im_1\n",
    "\n",
    "print(im_0_red.shape)\n",
    "print(im_0_green.shape)\n",
    "print(im_0_blue.shape)\n",
    "\n",
    "print(im_1_red.shape)\n",
    "print(im_1_green.shape)\n",
    "print(im_1_blue.shape)\n",
    "#convert gray scale image to color"
   ]
  },
  {
   "cell_type": "markdown",
   "metadata": {},
   "source": [
    "## plot color data"
   ]
  },
  {
   "cell_type": "code",
   "execution_count": 105,
   "metadata": {},
   "outputs": [],
   "source": [
    "def plot_data_color3(title1, data1, title2, data2, title3, data3):\n",
    "\n",
    "    fig, axes = plt.subplots(1, 3, constrained_layout=True, figsize=(12, 4))\n",
    "\n",
    "    axes[0].imshow(data1, vmin=0, vmax=1)\n",
    "    axes[0].set(title=title1)\n",
    "    \n",
    "    axes[1].imshow(data2, vmin=0, vmax=1)\n",
    "    axes[1].set(title=title2)\n",
    "    \n",
    "    axes[2].imshow(data3, vmin=0, vmax=1)\n",
    "    axes[2].set(title=title3)\n",
    "\n",
    "    plt.show()"
   ]
  },
  {
   "cell_type": "code",
   "execution_count": 106,
   "metadata": {},
   "outputs": [
    {
     "data": {
      "image/png": "[encoded data removed]",
      "text/plain": [
       "<Figure size 864x288 with 3 Axes>"
      ]
     },
     "metadata": {
      "needs_background": "light"
     },
     "output_type": "display_data"
    }
   ],
   "source": [
    "plot_data_color3('im 0: red', im_0_red, 'im 0: green', im_0_green, 'im 0: blue', im_0_blue)\n",
    "#plot color data"
   ]
  },
  {
   "cell_type": "code",
   "execution_count": 107,
   "metadata": {},
   "outputs": [
    {
     "data": {
      "image/png": "[encoded data removed]",
      "text/plain": [
       "<Figure size 864x288 with 3 Axes>"
      ]
     },
     "metadata": {
      "needs_background": "light"
     },
     "output_type": "display_data"
    }
   ],
   "source": [
    "plot_data_color3('im 1: red', im_1_red, 'im 1: green', im_1_green, 'im 1: blue', im_1_blue)"
   ]
  },
  {
   "cell_type": "markdown",
   "metadata": {},
   "source": [
    "## linear layer"
   ]
  },
  {
   "cell_type": "code",
   "execution_count": 151,
   "metadata": {},
   "outputs": [],
   "source": [
    "def layer_linear(input, weight):\n",
    "    \n",
    "    # fill in the function body\n",
    "    sum = 0\n",
    "    for i in range(784):\n",
    "        sum += input[i] * weight[i]\n",
    "    output = sum\n",
    "    return output"
   ]
  },
  {
   "cell_type": "markdown",
   "metadata": {},
   "source": [
    "## [git commit # 01] % git commit -a -m \"complete the function for linear layer\""
   ]
  },
  {
   "cell_type": "markdown",
   "metadata": {},
   "source": [
    "## activation function : Sigmoid"
   ]
  },
  {
   "cell_type": "code",
   "execution_count": 152,
   "metadata": {},
   "outputs": [],
   "source": [
    "def activation_sigmoid(input):\n",
    "    \n",
    "    # fill in the function body\n",
    "    output = np.exp(-1 * input)\n",
    "    output = 1 / (1 + output)\n",
    "\n",
    "    return output"
   ]
  },
  {
   "cell_type": "markdown",
   "metadata": {},
   "source": [
    "## [git commit # 02] % git commit -a -m \"complete the function for the sigmoid activation\""
   ]
  },
  {
   "cell_type": "markdown",
   "metadata": {},
   "source": [
    "## forward propagation "
   ]
  },
  {
   "cell_type": "code",
   "execution_count": 153,
   "metadata": {},
   "outputs": [],
   "source": [
    "def propagation_forward(input, weight):\n",
    "    \n",
    "    # fill in the function body\n",
    "    output      = layer_linear(input, weight)\n",
    "    prediction  = activation_sigmoid(output)\n",
    "   \n",
    "    return prediction"
   ]
  },
  {
   "cell_type": "markdown",
   "metadata": {},
   "source": [
    "## [git commit # 03] % git commit -a -m \"complete the function for the forward propagation\""
   ]
  },
  {
   "cell_type": "markdown",
   "metadata": {},
   "source": [
    "## compute loss function"
   ]
  },
  {
   "cell_type": "code",
   "execution_count": 160,
   "metadata": {},
   "outputs": [],
   "source": [
    "def compute_loss(input, weight, label):\n",
    "\n",
    "    # fill in the function body\n",
    "    prediction      = np.zeros(2)\n",
    "    loss            = 0\n",
    "    for i in range(2):\n",
    "        prediction = propagation_forward(input[i], weight)\n",
    "        loss += (-1 *(label[i] *np.log(prediction) +(1-label[i])*np.log(1-prediction)))\n",
    "        \n",
    "    loss_average = loss / 2\n",
    "\n",
    "    return loss_average"
   ]
  },
  {
   "cell_type": "markdown",
   "metadata": {},
   "source": [
    "## [git commit # 04] % git commit -a -m \"complete the function for the loss\""
   ]
  },
  {
   "cell_type": "markdown",
   "metadata": {},
   "source": [
    "## compute gradient"
   ]
  },
  {
   "cell_type": "code",
   "execution_count": 161,
   "metadata": {},
   "outputs": [],
   "source": [
    "def compute_gradient(input, weight, label):\n",
    "\n",
    "    # fill in the function body\n",
    "    prediction  = np.zeros(784)\n",
    "    prediction2 = np.zeros(784)\n",
    "    residual = 0;\n",
    "    prediction = (propagation_forward(input[0], weight) - label[0]) * input[0]\n",
    "    prediction2 = (propagation_forward(input[1], weight) - label[1]) * input[1]\n",
    "           \n",
    "    residual = prediction + prediction2\n",
    "    \n",
    "    gradient    = residual / 2\n",
    "    # -------------------------\n",
    "\n",
    "    return gradient"
   ]
  },
  {
   "cell_type": "markdown",
   "metadata": {},
   "source": [
    "## [git commit # 05] % git commit -a -m \"complete the function for the computation of gradient\""
   ]
  },
  {
   "cell_type": "markdown",
   "metadata": {},
   "source": [
    "## initialize weight"
   ]
  },
  {
   "cell_type": "code",
   "execution_count": 162,
   "metadata": {},
   "outputs": [],
   "source": [
    "weight  = np.ones(np.prod(im_0.shape))\n",
    "weight  = weight * 0.001\n",
    "\n",
    "vector_0    = np.matrix.flatten(im_0)\n",
    "vector_1    = np.matrix.flatten(im_1)\n",
    "\n",
    "input   = [vector_0, vector_1]\n",
    "label   = y"
   ]
  },
  {
   "cell_type": "markdown",
   "metadata": {},
   "source": [
    "## hyper-parameters"
   ]
  },
  {
   "cell_type": "code",
   "execution_count": 163,
   "metadata": {},
   "outputs": [],
   "source": [
    "number_iteration    = 1000\n",
    "learning_rate       = 0.01"
   ]
  },
  {
   "cell_type": "markdown",
   "metadata": {},
   "source": [
    "## gradient descent"
   ]
  },
  {
   "cell_type": "code",
   "execution_count": 164,
   "metadata": {},
   "outputs": [],
   "source": [
    "loss_iteration      = np.zeros(number_iteration)\n",
    "pred_0_iteration    = np.zeros(number_iteration) \n",
    "pred_1_iteration    = np.zeros(number_iteration) \n",
    "\n",
    "for i in range(number_iteration):\n",
    "\n",
    "    # fill in the function body\n",
    "    weight  = weight - learning_rate * (compute_gradient(input, weight, label))\n",
    "    loss    = compute_loss(input, weight, label)\n",
    "    pred = [propagation_forward(input[0], weight),propagation_forward(input[1], weight)]\n",
    "    \n",
    "    # -------------------------\n",
    "    loss_iteration[i]   = loss\n",
    "    pred_0_iteration[i] = pred[0]\n",
    "    pred_1_iteration[i] = pred[1]\n",
    "    \n",
    "    # print('iteration = %4d, loss = %5.5f' % (i, loss))"
   ]
  },
  {
   "cell_type": "markdown",
   "metadata": {},
   "source": [
    "## [git commit # 06] % git commit -a -m \"complete the function for the gradient descent\""
   ]
  },
  {
   "cell_type": "markdown",
   "metadata": {},
   "source": [
    "## plot learning curve"
   ]
  },
  {
   "cell_type": "code",
   "execution_count": 165,
   "metadata": {},
   "outputs": [],
   "source": [
    "def plot_curve(title, data):\n",
    "\n",
    "    plt.figure(figsize=(8, 6))\n",
    "    plt.title(title)\n",
    "\n",
    "    plt.plot(data, '-', color='red')\n",
    "    plt.xlabel('iteration')\n",
    "    plt.ylabel('loss')\n",
    "\n",
    "    plt.tight_layout()\n",
    "    plt.show()"
   ]
  },
  {
   "cell_type": "code",
   "execution_count": 166,
   "metadata": {},
   "outputs": [
    {
     "data": {
      "image/png": "[encoded data removed]",
      "text/plain": [
       "<Figure size 576x432 with 1 Axes>"
      ]
     },
     "metadata": {
      "needs_background": "light"
     },
     "output_type": "display_data"
    }
   ],
   "source": [
    "plot_curve('loss', loss_iteration)"
   ]
  },
  {
   "cell_type": "markdown",
   "metadata": {},
   "source": [
    "## plot prediction values"
   ]
  },
  {
   "cell_type": "code",
   "execution_count": 167,
   "metadata": {},
   "outputs": [],
   "source": [
    "def plot_curve2(title, data1, label1, data2, label2):\n",
    "\n",
    "\n",
    "    fig = plt.figure(figsize=(8,6))\n",
    "    plt.title(title)\n",
    "\n",
    "    plt.plot(data1, '-', color='blue', label=label1)\n",
    "    plt.plot(data2, '-', color='red', label=label2)\n",
    "    plt.legend()\n",
    "    plt.tight_layout()\n",
    "\n",
    "    plt.show()"
   ]
  },
  {
   "cell_type": "code",
   "execution_count": 168,
   "metadata": {},
   "outputs": [
    {
     "data": {
      "image/png": "[encoded data removed]",
      "text/plain": [
       "<Figure size 576x432 with 1 Axes>"
      ]
     },
     "metadata": {
      "needs_background": "light"
     },
     "output_type": "display_data"
    }
   ],
   "source": [
    "plot_curve2('prediction', pred_0_iteration, 'im 0', pred_1_iteration, 'im 1')"
   ]
  },
  {
   "cell_type": "markdown",
   "metadata": {},
   "source": [
    "## given iterations at which the values are presented"
   ]
  },
  {
   "cell_type": "code",
   "execution_count": 169,
   "metadata": {},
   "outputs": [],
   "source": [
    "iter0   = 0\n",
    "iter1   = 100\n",
    "iter2   = 200\n",
    "iter3   = 300\n",
    "iter4   = 400\n",
    "iter5   = 500\n",
    "iter6   = 600\n",
    "iter7   = 700\n",
    "iter8   = 800\n",
    "iter9   = 900\n"
   ]
  },
  {
   "cell_type": "markdown",
   "metadata": {},
   "source": [
    "## loss values"
   ]
  },
  {
   "cell_type": "code",
   "execution_count": 170,
   "metadata": {},
   "outputs": [
    {
     "name": "stdout",
     "output_type": "stream",
     "text": [
      "iteration =    0, loss = 0.6329350216\n",
      "iteration =  100, loss = 0.0387987005\n",
      "iteration =  200, loss = 0.0192110507\n",
      "iteration =  300, loss = 0.0127217113\n",
      "iteration =  400, loss = 0.0094994077\n",
      "iteration =  500, loss = 0.0075760710\n",
      "iteration =  600, loss = 0.0062989058\n",
      "iteration =  700, loss = 0.0053894604\n",
      "iteration =  800, loss = 0.0047090685\n",
      "iteration =  900, loss = 0.0041809548\n"
     ]
    }
   ],
   "source": [
    "print('iteration = %4d, loss = %12.10f' % (iter0, loss_iteration[iter0]))\n",
    "print('iteration = %4d, loss = %12.10f' % (iter1, loss_iteration[iter1]))\n",
    "print('iteration = %4d, loss = %12.10f' % (iter2, loss_iteration[iter2]))\n",
    "print('iteration = %4d, loss = %12.10f' % (iter3, loss_iteration[iter3]))\n",
    "print('iteration = %4d, loss = %12.10f' % (iter4, loss_iteration[iter4]))\n",
    "print('iteration = %4d, loss = %12.10f' % (iter5, loss_iteration[iter5]))\n",
    "print('iteration = %4d, loss = %12.10f' % (iter6, loss_iteration[iter6]))\n",
    "print('iteration = %4d, loss = %12.10f' % (iter7, loss_iteration[iter7]))\n",
    "print('iteration = %4d, loss = %12.10f' % (iter8, loss_iteration[iter8]))\n",
    "print('iteration = %4d, loss = %12.10f' % (iter9, loss_iteration[iter9]))"
   ]
  },
  {
   "cell_type": "markdown",
   "metadata": {},
   "source": [
    "## prediction values for im_0"
   ]
  },
  {
   "cell_type": "code",
   "execution_count": 171,
   "metadata": {},
   "outputs": [
    {
     "name": "stdout",
     "output_type": "stream",
     "text": [
      "iteration =    0, pred im0 = 0.4751157638\n",
      "iteration =  100, pred im0 = 0.0294013919\n",
      "iteration =  200, pred im0 = 0.0147619719\n",
      "iteration =  300, pred im0 = 0.0098246200\n",
      "iteration =  400, pred im0 = 0.0073549633\n",
      "iteration =  500, pred im0 = 0.0058749365\n",
      "iteration =  600, pred im0 = 0.0048896397\n",
      "iteration =  700, pred im0 = 0.0041867921\n",
      "iteration =  800, pred im0 = 0.0036602851\n",
      "iteration =  900, pred im0 = 0.0032512118\n"
     ]
    }
   ],
   "source": [
    "print('iteration = %4d, pred im0 = %12.10f' % (iter0, pred_0_iteration[iter0]))\n",
    "print('iteration = %4d, pred im0 = %12.10f' % (iter1, pred_0_iteration[iter1]))\n",
    "print('iteration = %4d, pred im0 = %12.10f' % (iter2, pred_0_iteration[iter2]))\n",
    "print('iteration = %4d, pred im0 = %12.10f' % (iter3, pred_0_iteration[iter3]))\n",
    "print('iteration = %4d, pred im0 = %12.10f' % (iter4, pred_0_iteration[iter4]))\n",
    "print('iteration = %4d, pred im0 = %12.10f' % (iter5, pred_0_iteration[iter5]))\n",
    "print('iteration = %4d, pred im0 = %12.10f' % (iter6, pred_0_iteration[iter6]))\n",
    "print('iteration = %4d, pred im0 = %12.10f' % (iter7, pred_0_iteration[iter7]))\n",
    "print('iteration = %4d, pred im0 = %12.10f' % (iter8, pred_0_iteration[iter8]))\n",
    "print('iteration = %4d, pred im0 = %12.10f' % (iter9, pred_0_iteration[iter9]))"
   ]
  },
  {
   "cell_type": "markdown",
   "metadata": {},
   "source": [
    "## prediction values for im_1"
   ]
  },
  {
   "cell_type": "code",
   "execution_count": 172,
   "metadata": {},
   "outputs": [
    {
     "name": "stdout",
     "output_type": "stream",
     "text": [
      "iteration =    0, pred im1 = 0.5372495936\n",
      "iteration =  100, pred im1 = 0.9533672143\n",
      "iteration =  200, pred im1 = 0.9767250520\n",
      "iteration =  300, pred im1 = 0.9845503666\n",
      "iteration =  400, pred im1 = 0.9884505421\n",
      "iteration =  500, pred im1 = 0.9907828605\n",
      "iteration =  600, pred im1 = 0.9923333612\n",
      "iteration =  700, pred im1 = 0.9934382832\n",
      "iteration =  800, pred im1 = 0.9942653695\n",
      "iteration =  900, pred im1 = 0.9949076094\n"
     ]
    }
   ],
   "source": [
    "print('iteration = %4d, pred im1 = %12.10f' % (iter0, pred_1_iteration[iter0]))\n",
    "print('iteration = %4d, pred im1 = %12.10f' % (iter1, pred_1_iteration[iter1]))\n",
    "print('iteration = %4d, pred im1 = %12.10f' % (iter2, pred_1_iteration[iter2]))\n",
    "print('iteration = %4d, pred im1 = %12.10f' % (iter3, pred_1_iteration[iter3]))\n",
    "print('iteration = %4d, pred im1 = %12.10f' % (iter4, pred_1_iteration[iter4]))\n",
    "print('iteration = %4d, pred im1 = %12.10f' % (iter5, pred_1_iteration[iter5]))\n",
    "print('iteration = %4d, pred im1 = %12.10f' % (iter6, pred_1_iteration[iter6]))\n",
    "print('iteration = %4d, pred im1 = %12.10f' % (iter7, pred_1_iteration[iter7]))\n",
    "print('iteration = %4d, pred im1 = %12.10f' % (iter8, pred_1_iteration[iter8]))\n",
    "print('iteration = %4d, pred im1 = %12.10f' % (iter9, pred_1_iteration[iter9]))"
   ]
  },
  {
   "cell_type": "code",
   "execution_count": 174,
   "metadata": {},
   "outputs": [],
   "source": [
    "def function_result_01(title1,data1,title2, data2):\n",
    "    fig = plt.figure(figsize=(8,4))\n",
    "\n",
    "    rows = 1\n",
    "    cols = 2\n",
    "\n",
    "    ax1 = fig.add_subplot(rows, cols, 1)\n",
    "    ax1.set_title(title1)\n",
    "    ax1.imshow(data1, cmap='gray', vmin=0, vmax=1)\n",
    "\n",
    "    ax2 = fig.add_subplot(rows, cols, 2)\n",
    "    ax2.set_title(title2)\n",
    "    ax2.imshow(data2, cmap='gray', vmin=0, vmax=1)\n",
    "\n",
    "    plt.tight_layout()\n",
    "    plt.show()\n",
    "\n",
    "    pass"
   ]
  },
  {
   "cell_type": "markdown",
   "metadata": {},
   "source": [
    "## [git commit # 07] % git commit -a -m \"complete the function for the function result 01\""
   ]
  },
  {
   "cell_type": "code",
   "execution_count": 180,
   "metadata": {},
   "outputs": [],
   "source": [
    "def function_result_02(title, data):\n",
    "    plt.figure(figsize=(8, 6))\n",
    "    plt.title(title)\n",
    "\n",
    "    plt.plot(data, '-', color='red')\n",
    "    plt.xlabel('iteration')\n",
    "    plt.ylabel('loss')\n",
    "\n",
    "    plt.tight_layout()\n",
    "    plt.show()\n",
    "    pass"
   ]
  },
  {
   "cell_type": "markdown",
   "metadata": {},
   "source": [
    "## [git commit # 08] % git commit -a -m \"complete the function for the function result 02\""
   ]
  },
  {
   "cell_type": "code",
   "execution_count": 181,
   "metadata": {},
   "outputs": [],
   "source": [
    "def function_result_03(title, data):\n",
    "    plt.figure(figsize=(8, 6))\n",
    "    plt.title(title)\n",
    "\n",
    "    plt.plot(data, '-', color='red')\n",
    "    plt.xlabel('iteration')\n",
    "    plt.ylabel('prediction')\n",
    "\n",
    "    plt.tight_layout()\n",
    "    plt.show()\n",
    "    pass"
   ]
  },
  {
   "cell_type": "markdown",
   "metadata": {},
   "source": [
    "## [git commit # 09] % git commit -a -m \"complete the function for the function result 03\""
   ]
  },
  {
   "cell_type": "code",
   "execution_count": 183,
   "metadata": {},
   "outputs": [],
   "source": [
    "def function_result_04(title, data):\n",
    "    plt.figure(figsize=(8, 6))\n",
    "    plt.title(title)\n",
    "\n",
    "    plt.plot(data, '-', color='red')\n",
    "    plt.xlabel('iteration')\n",
    "    plt.ylabel('prediction')\n",
    "\n",
    "    plt.tight_layout()\n",
    "    plt.show()\n",
    "    \n",
    "    pass"
   ]
  },
  {
   "cell_type": "markdown",
   "metadata": {},
   "source": [
    "## [git commit # 10] % git commit -a -m \"complete the function for the function result 04\""
   ]
  },
  {
   "cell_type": "code",
   "execution_count": 189,
   "metadata": {},
   "outputs": [],
   "source": [
    "def function_result_05(loss_iteration):\n",
    "    for i in range(901):\n",
    "        if i%100 == 0:\n",
    "            print('iteration = %4d, loss = %12.10f' % (i, loss_iteration[i]))\n",
    "    pass"
   ]
  },
  {
   "cell_type": "markdown",
   "metadata": {},
   "source": [
    "## [git commit # 11] % git commit -a -m \"complete the function for the function result 05\""
   ]
  },
  {
   "cell_type": "code",
   "execution_count": 191,
   "metadata": {},
   "outputs": [],
   "source": [
    "def function_result_06(pred_iteration):\n",
    "    for i in range(901):\n",
    "        if i%100 == 0:\n",
    "            print('iteration = %4d, pred im0 = %12.10f' % (iter0, pred_0_iteration[iter0]))\n",
    "\n",
    "    pass"
   ]
  },
  {
   "cell_type": "markdown",
   "metadata": {},
   "source": [
    "## [git commit # 12] % git commit -a -m \"complete the function for the function result 06\""
   ]
  },
  {
   "cell_type": "code",
   "execution_count": 45,
   "metadata": {},
   "outputs": [],
   "source": [
    "def function_result_07(*args):\n",
    "\n",
    "    pass"
   ]
  },
  {
   "cell_type": "markdown",
   "metadata": {},
   "source": [
    "## [git commit # 13] % git commit -a -m \"complete the function for the function result 07\""
   ]
  },
  {
   "cell_type": "markdown",
   "metadata": {},
   "source": [
    "---"
   ]
  },
  {
   "cell_type": "markdown",
   "metadata": {},
   "source": [
    "# RESULTS"
   ]
  },
  {
   "cell_type": "markdown",
   "metadata": {},
   "source": [
    "---"
   ]
  },
  {
   "cell_type": "markdown",
   "metadata": {},
   "source": [
    "## # 01. plot the input images (left: image 0, right: image 1)"
   ]
  },
  {
   "cell_type": "code",
   "execution_count": 175,
   "metadata": {},
   "outputs": [
    {
     "data": {
      "image/png": "[encoded data removed]",
      "text/plain": [
       "<Figure size 576x288 with 2 Axes>"
      ]
     },
     "metadata": {
      "needs_background": "light"
     },
     "output_type": "display_data"
    }
   ],
   "source": [
    "function_result_01('label: 0', im_0, 'label: 1', im_1)"
   ]
  },
  {
   "cell_type": "markdown",
   "metadata": {},
   "source": [
    "## # 02. plot the loss curve (x-axis: iteration, y-axis: loss)"
   ]
  },
  {
   "cell_type": "code",
   "execution_count": 177,
   "metadata": {},
   "outputs": [
    {
     "data": {
      "image/png": "[encoded data removed]",
      "text/plain": [
       "<Figure size 576x432 with 1 Axes>"
      ]
     },
     "metadata": {
      "needs_background": "light"
     },
     "output_type": "display_data"
    }
   ],
   "source": [
    "function_result_02('loss', loss_iteration)"
   ]
  },
  {
   "cell_type": "markdown",
   "metadata": {},
   "source": [
    "## # 03. plot the prediction value for image 0 (x-axis: iteration, y-axis: prediction)"
   ]
  },
  {
   "cell_type": "code",
   "execution_count": 182,
   "metadata": {},
   "outputs": [
    {
     "data": {
      "image/png": "[encoded data removed]",
      "text/plain": [
       "<Figure size 576x432 with 1 Axes>"
      ]
     },
     "metadata": {
      "needs_background": "light"
     },
     "output_type": "display_data"
    }
   ],
   "source": [
    "function_result_03('prediction for image 0', pred_0_iteration)"
   ]
  },
  {
   "cell_type": "markdown",
   "metadata": {},
   "source": [
    "## # 04. plot the prediction value for image 1 (x-axis: iteration, y-axis: prediction)"
   ]
  },
  {
   "cell_type": "code",
   "execution_count": 184,
   "metadata": {},
   "outputs": [
    {
     "data": {
      "image/png": "[encoded data removed]",
      "text/plain": [
       "<Figure size 576x432 with 1 Axes>"
      ]
     },
     "metadata": {
      "needs_background": "light"
     },
     "output_type": "display_data"
    }
   ],
   "source": [
    "function_result_04('prediction for image 1', pred_1_iteration)"
   ]
  },
  {
   "cell_type": "markdown",
   "metadata": {},
   "source": [
    "## # 05. print the loss values at iterations 0, 100, 200, 300, 400, 500, 600, 700, 800, 900"
   ]
  },
  {
   "cell_type": "code",
   "execution_count": 190,
   "metadata": {},
   "outputs": [
    {
     "name": "stdout",
     "output_type": "stream",
     "text": [
      "iteration =    0, loss = 0.6329350216\n",
      "iteration =  100, loss = 0.0387987005\n",
      "iteration =  200, loss = 0.0192110507\n",
      "iteration =  300, loss = 0.0127217113\n",
      "iteration =  400, loss = 0.0094994077\n",
      "iteration =  500, loss = 0.0075760710\n",
      "iteration =  600, loss = 0.0062989058\n",
      "iteration =  700, loss = 0.0053894604\n",
      "iteration =  800, loss = 0.0047090685\n",
      "iteration =  900, loss = 0.0041809548\n"
     ]
    }
   ],
   "source": [
    "function_result_05(loss_iteration)"
   ]
  },
  {
   "cell_type": "markdown",
   "metadata": {},
   "source": [
    "## # 06. print the prediction values for image 0 at iterations 0, 100, 200, 300, 400, 500, 600, 700, 800, 900"
   ]
  },
  {
   "cell_type": "code",
   "execution_count": 192,
   "metadata": {},
   "outputs": [
    {
     "name": "stdout",
     "output_type": "stream",
     "text": [
      "iteration =    0, pred im0 = 0.4751157638\n",
      "iteration =    0, pred im0 = 0.4751157638\n",
      "iteration =    0, pred im0 = 0.4751157638\n",
      "iteration =    0, pred im0 = 0.4751157638\n",
      "iteration =    0, pred im0 = 0.4751157638\n",
      "iteration =    0, pred im0 = 0.4751157638\n",
      "iteration =    0, pred im0 = 0.4751157638\n",
      "iteration =    0, pred im0 = 0.4751157638\n",
      "iteration =    0, pred im0 = 0.4751157638\n",
      "iteration =    0, pred im0 = 0.4751157638\n"
     ]
    }
   ],
   "source": [
    "function_result_06(pred_0_iteration)"
   ]
  },
  {
   "cell_type": "markdown",
   "metadata": {},
   "source": [
    "## # 07. print the prediction values for image 1 at iterations 0, 100, 200, 300, 400, 500, 600, 700, 800, 900"
   ]
  },
  {
   "cell_type": "code",
   "execution_count": 35,
   "metadata": {},
   "outputs": [
    {
     "name": "stdout",
     "output_type": "stream",
     "text": [
      "iteration =    0, pred im1 = 0.0000000000\n",
      "iteration =  100, pred im1 = 0.0000000000\n",
      "iteration =  200, pred im1 = 0.0000000000\n",
      "iteration =  300, pred im1 = 0.0000000000\n",
      "iteration =  400, pred im1 = 0.0000000000\n",
      "iteration =  500, pred im1 = 0.0000000000\n",
      "iteration =  600, pred im1 = 0.0000000000\n",
      "iteration =  700, pred im1 = 0.0000000000\n",
      "iteration =  800, pred im1 = 0.0000000000\n",
      "iteration =  900, pred im1 = 0.0000000000\n"
     ]
    }
   ],
   "source": [
    "function_result_07(pred_1_iteration)"
   ]
  }
 ],
 "metadata": {
  "colab": {
   "authorship_tag": "ABX9TyM0gXqiryv5831mXd12OejK",
   "collapsed_sections": [],
   "name": "assignment_02.ipynb",
   "provenance": []
  },
  "interpreter": {
   "hash": "dca0ade3e726a953b501b15e8e990130d2b7799f14cfd9f4271676035ebe5511"
  },
  "kernelspec": {
   "display_name": "Python 3",
   "language": "python",
   "name": "python3"
  },
  "language_info": {
   "codemirror_mode": {
    "name": "ipython",
    "version": 3
   },
   "file_extension": ".py",
   "mimetype": "text/x-python",
   "name": "python",
   "nbconvert_exporter": "python",
   "pygments_lexer": "ipython3",
   "version": "3.8.5"
  }
 },
 "nbformat": 4,
 "nbformat_minor": 4
}
