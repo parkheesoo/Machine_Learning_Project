{
 "cells": [
  {
   "cell_type": "markdown",
   "metadata": {
    "colab": {
     "base_uri": "https://localhost:8080/"
    },
    "executionInfo": {
     "elapsed": 5,
     "status": "ok",
     "timestamp": 1630597918894,
     "user": {
      "displayName": "Byung-Woo Hong",
      "photoUrl": "",
      "userId": "17273657108187629509"
     },
     "user_tz": -540
    },
    "id": "K29I-OwCEYzW",
    "outputId": "db8b297c-a4b8-457a-b43f-7570135306c7"
   },
   "source": [
    "# Logistic regression for binary classification"
   ]
  },
  {
   "cell_type": "markdown",
   "metadata": {},
   "source": [
    "## import libraries"
   ]
  },
  {
   "cell_type": "code",
   "execution_count": 46,
   "metadata": {},
   "outputs": [],
   "source": [
    "import numpy as np\n",
    "import matplotlib.pyplot as plt\n",
    "import os\n",
    "from tqdm import tqdm"
   ]
  },
  {
   "cell_type": "markdown",
   "metadata": {},
   "source": [
    "## load data"
   ]
  },
  {
   "cell_type": "code",
   "execution_count": 47,
   "metadata": {},
   "outputs": [
    {
     "name": "stdout",
     "output_type": "stream",
     "text": [
      "*************************************************\n",
      "size of x_train : (10000, 28, 28)\n",
      "size of y_train : (10000,)\n",
      "*************************************************\n",
      "size of x_test : (1800, 28, 28)\n",
      "size of y_test : (1800,)\n",
      "*************************************************\n",
      "number of training image : 10000\n",
      "height of training image : 28\n",
      "width of training image : 28\n",
      "*************************************************\n",
      "number of testing image : 1800\n",
      "height of testing image : 28\n",
      "width of testing image : 28\n",
      "*************************************************\n"
     ]
    }
   ],
   "source": [
    "#directory_data  = './data/'\n",
    "filename_data   = 'assignment_03_data.npz'\n",
    "data            = np.load(os.path.join(filename_data))\n",
    "\n",
    "x_train = data['x_train']\n",
    "y_train = data['y_train']\n",
    "\n",
    "x_test  = data['x_test']\n",
    "y_test  = data['y_test']\n",
    "\n",
    "print('*************************************************')\n",
    "print('size of x_train :', x_train.shape)\n",
    "print('size of y_train :', y_train.shape)\n",
    "print('*************************************************')\n",
    "print('size of x_test :', x_test.shape)\n",
    "print('size of y_test :', y_test.shape)\n",
    "print('*************************************************')\n",
    "print('number of training image :', x_train.shape[0])\n",
    "print('height of training image :', x_train.shape[1])\n",
    "print('width of training image :', x_train.shape[2])\n",
    "print('*************************************************')\n",
    "print('number of testing image :', x_test.shape[0])\n",
    "print('height of testing image :', x_test.shape[1])\n",
    "print('width of testing image :', x_test.shape[2])\n",
    "print('*************************************************')"
   ]
  },
  {
   "cell_type": "markdown",
   "metadata": {},
   "source": [
    "```console\n",
    "\n",
    "$ git commit -m \"YOUR MESSAGE\" assignment_03.ipynb\n",
    "\n",
    "```"
   ]
  },
  {
   "cell_type": "markdown",
   "metadata": {},
   "source": [
    "## vectorize image data"
   ]
  },
  {
   "cell_type": "code",
   "execution_count": 48,
   "metadata": {},
   "outputs": [
    {
     "name": "stdout",
     "output_type": "stream",
     "text": [
      "(10000, 784)\n",
      "(1800, 784)\n"
     ]
    }
   ],
   "source": [
    "vector_x_train  = x_train.reshape(x_train.shape[0], x_train.shape[1] * x_train.shape[2])\n",
    "vector_x_test   = x_test.reshape(x_test.shape[0], x_test.shape[1] * x_test.shape[2])\n",
    "print(vector_x_train.shape)\n",
    "print(vector_x_test.shape)"
   ]
  },
  {
   "cell_type": "markdown",
   "metadata": {},
   "source": [
    "```console\n",
    "\n",
    "$ git commit -m \"YOUR MESSAGE\" assignment_03.ipynb\n",
    "\n",
    "```"
   ]
  },
  {
   "cell_type": "markdown",
   "metadata": {},
   "source": [
    "## index for each class"
   ]
  },
  {
   "cell_type": "code",
   "execution_count": 49,
   "metadata": {},
   "outputs": [],
   "source": [
    "index_train_0 = range(0, 5000)\n",
    "index_train_1 = range(5000, 10000)\n",
    "\n",
    "index_test_0 = range(0, 900)\n",
    "index_test_1 = range(900, 1800)"
   ]
  },
  {
   "cell_type": "markdown",
   "metadata": {},
   "source": [
    "```console\n",
    "\n",
    "$ git commit -m \"YOUR MESSAGE\" assignment_03.ipynb\n",
    "\n",
    "```"
   ]
  },
  {
   "cell_type": "markdown",
   "metadata": {},
   "source": [
    "## plot data"
   ]
  },
  {
   "cell_type": "code",
   "execution_count": 50,
   "metadata": {},
   "outputs": [],
   "source": [
    "def plot_data_grid(data, index_data, nRow, nCol):\n",
    "\n",
    "    fig, axes = plt.subplots(nRow, nCol, constrained_layout=True, figsize=(nCol * 3, nRow * 3))\n",
    "\n",
    "    for i in range(nRow):\n",
    "        for j in range(nCol):\n",
    "\n",
    "            k       = i * nCol + j\n",
    "            index   = index_data[k]\n",
    "\n",
    "            axes[i, j].imshow(data[index], cmap='gray', vmin=0, vmax=1)\n",
    "            axes[i, j].xaxis.set_visible(False)\n",
    "            axes[i, j].yaxis.set_visible(False)\n",
    "\n",
    "    plt.show()"
   ]
  },
  {
   "cell_type": "code",
   "execution_count": 51,
   "metadata": {},
   "outputs": [],
   "source": [
    "nRow    = 2\n",
    "nCol    = 4\n",
    "nPlot   = nRow * nCol"
   ]
  },
  {
   "cell_type": "code",
   "execution_count": 52,
   "metadata": {},
   "outputs": [
    {
     "data": {
      "image/png": "[encoded data removed]",
      "text/plain": [
       "<Figure size 864x432 with 8 Axes>"
      ]
     },
     "metadata": {
      "needs_background": "light"
     },
     "output_type": "display_data"
    }
   ],
   "source": [
    "index_data_0 = np.array(range(nPlot))\n",
    "plot_data_grid(x_train, index_data_0, nRow, nCol)"
   ]
  },
  {
   "cell_type": "code",
   "execution_count": 53,
   "metadata": {},
   "outputs": [
    {
     "data": {
      "image/png": "[encoded data removed]",
      "text/plain": [
       "<Figure size 864x432 with 8 Axes>"
      ]
     },
     "metadata": {
      "needs_background": "light"
     },
     "output_type": "display_data"
    }
   ],
   "source": [
    "index_data_1 = index_data_0 + 5000\n",
    "plot_data_grid(x_train, index_data_1, nRow, nCol)"
   ]
  },
  {
   "cell_type": "markdown",
   "metadata": {},
   "source": [
    "```console\n",
    "\n",
    "$ git commit -m \"YOUR MESSAGE\" assignment_03.ipynb\n",
    "\n",
    "```"
   ]
  },
  {
   "cell_type": "markdown",
   "metadata": {},
   "source": [
    "## linear layer"
   ]
  },
  {
   "cell_type": "code",
   "execution_count": 54,
   "metadata": {},
   "outputs": [],
   "source": [
    "def layer_linear(input, weight):\n",
    "    sum = 0\n",
    "    for i in range(input.shape[0]):\n",
    "        sum += input[i] * weight[i]\n",
    "    output = sum\n",
    "\n",
    "    return output"
   ]
  },
  {
   "cell_type": "markdown",
   "metadata": {},
   "source": [
    "```console\n",
    "\n",
    "$ git commit -m \"YOUR MESSAGE\" assignment_03.ipynb\n",
    "\n",
    "```"
   ]
  },
  {
   "cell_type": "markdown",
   "metadata": {},
   "source": [
    "## activation function : Sigmoid"
   ]
  },
  {
   "cell_type": "code",
   "execution_count": 55,
   "metadata": {},
   "outputs": [],
   "source": [
    "def activation_sigmoid(input):\n",
    "\n",
    "    output = np.exp(-1 * input)\n",
    "    output = 1 / (1 + output) \n",
    "\n",
    "    return output"
   ]
  },
  {
   "cell_type": "markdown",
   "metadata": {},
   "source": [
    "```console\n",
    "\n",
    "$ git commit -m \"YOUR MESSAGE\" assignment_03.ipynb\n",
    "\n",
    "```"
   ]
  },
  {
   "cell_type": "markdown",
   "metadata": {},
   "source": [
    "## compute prediction by the forward propagation of the neural network"
   ]
  },
  {
   "cell_type": "code",
   "execution_count": 56,
   "metadata": {},
   "outputs": [],
   "source": [
    "def compute_prediction(input, weight):\n",
    "\n",
    "    output      = layer_linear(input, weight)\n",
    "    prediction  = activation_sigmoid(output)\n",
    "\n",
    "    return prediction"
   ]
  },
  {
   "cell_type": "markdown",
   "metadata": {},
   "source": [
    "```console\n",
    "\n",
    "$ git commit -m \"YOUR MESSAGE\" assignment_03.ipynb\n",
    "\n",
    "```"
   ]
  },
  {
   "cell_type": "markdown",
   "metadata": {},
   "source": [
    "## compute loss function"
   ]
  },
  {
   "cell_type": "code",
   "execution_count": 57,
   "metadata": {},
   "outputs": [],
   "source": [
    "def compute_loss(prediction, label):\n",
    "    loss = 0\n",
    "    for i in range(label.shape[0]):\n",
    "        loss += (-1 *(label[i] *np.log(prediction[i]) +(label[i] - 1)*np.log(1-prediction[i])))\n",
    "\n",
    "    loss_average    = loss /label.shape[0]\n",
    "\n",
    "    return loss_average"
   ]
  },
  {
   "cell_type": "markdown",
   "metadata": {},
   "source": [
    "```console\n",
    "\n",
    "$ git commit -m \"YOUR MESSAGE\" assignment_03.ipynb\n",
    "\n",
    "```"
   ]
  },
  {
   "cell_type": "markdown",
   "metadata": {},
   "source": [
    "## compute gradient"
   ]
  },
  {
   "cell_type": "code",
   "execution_count": 58,
   "metadata": {},
   "outputs": [],
   "source": [
    "def compute_gradient(input, prediction, label):\n",
    "    residual = np.zeros(input.shape[1])\n",
    "    for i in range(label.shape[0]):\n",
    "        residual += (prediction[i]- label[i]) * input[i]\n",
    "     \n",
    "    gradient    = residual / input.shape[0]\n",
    "\n",
    "    return gradient"
   ]
  },
  {
   "cell_type": "markdown",
   "metadata": {},
   "source": [
    "```console\n",
    "\n",
    "$ git commit -m \"YOUR MESSAGE\" assignment_03.ipynb\n",
    "\n",
    "```"
   ]
  },
  {
   "cell_type": "markdown",
   "metadata": {},
   "source": [
    "## compute accuracy"
   ]
  },
  {
   "cell_type": "code",
   "execution_count": 59,
   "metadata": {},
   "outputs": [],
   "source": [
    "def compute_accuracy(prediction, label):\n",
    "    bCorrect = 0\n",
    "    threshold   = 0.5\n",
    "    for i in range(len(label)):\n",
    "        if (prediction[i] < threshold and label[i] == 0):\n",
    "            bCorrect+=1\n",
    "        elif (prediction[i] >= threshold and label[i] == 1):\n",
    "            bCorrect+=1\n",
    "            \n",
    "    accuracy    = bCorrect / len(label)\n",
    "\n",
    "    return accuracy"
   ]
  },
  {
   "cell_type": "markdown",
   "metadata": {},
   "source": [
    "```console\n",
    "\n",
    "$ git commit -m \"YOUR MESSAGE\" assignment_03.ipynb\n",
    "\n",
    "```"
   ]
  },
  {
   "cell_type": "markdown",
   "metadata": {},
   "source": [
    "## initialize weight"
   ]
  },
  {
   "cell_type": "code",
   "execution_count": 60,
   "metadata": {},
   "outputs": [
    {
     "name": "stdout",
     "output_type": "stream",
     "text": [
      "number of weights:  784\n"
     ]
    }
   ],
   "source": [
    "length_weight   = vector_x_train.shape[1]\n",
    "weight          = np.ones(length_weight)\n",
    "weight          = weight * 0.001\n",
    "print('number of weights: ', length_weight)"
   ]
  },
  {
   "cell_type": "markdown",
   "metadata": {},
   "source": [
    "```console\n",
    "\n",
    "$ git commit -m \"YOUR MESSAGE\" assignment_03.ipynb\n",
    "\n",
    "```"
   ]
  },
  {
   "cell_type": "markdown",
   "metadata": {},
   "source": [
    "## hyper-parameters"
   ]
  },
  {
   "cell_type": "code",
   "execution_count": 61,
   "metadata": {},
   "outputs": [],
   "source": [
    "number_iteration    = 1000\n",
    "learning_rate       = 0.1"
   ]
  },
  {
   "cell_type": "markdown",
   "metadata": {},
   "source": [
    "## variables for optimization information"
   ]
  },
  {
   "cell_type": "code",
   "execution_count": 62,
   "metadata": {},
   "outputs": [],
   "source": [
    "loss_train_iteration        = np.zeros(number_iteration)\n",
    "loss_test_iteration         = np.zeros(number_iteration)\n",
    "\n",
    "accuracy_train_iteration    = np.zeros(number_iteration)\n",
    "accuracy_test_iteration     = np.zeros(number_iteration)\n",
    "\n",
    "pred_0_train_mean_iteration = np.zeros(number_iteration) \n",
    "pred_0_train_std_iteration  = np.zeros(number_iteration) \n",
    "pred_1_train_mean_iteration = np.zeros(number_iteration) \n",
    "pred_1_train_std_iteration  = np.zeros(number_iteration) \n",
    "\n",
    "pred_0_test_mean_iteration = np.zeros(number_iteration) \n",
    "pred_0_test_std_iteration  = np.zeros(number_iteration) \n",
    "pred_1_test_mean_iteration = np.zeros(number_iteration) \n",
    "pred_1_test_std_iteration  = np.zeros(number_iteration) "
   ]
  },
  {
   "cell_type": "markdown",
   "metadata": {},
   "source": [
    "## gradient descent iterations"
   ]
  },
  {
   "cell_type": "code",
   "execution_count": 64,
   "metadata": {},
   "outputs": [
    {
     "name": "stderr",
     "output_type": "stream",
     "text": [
      "100%|████████████████████████████████████████████████████████████████████████████| 1000/1000 [6:24:30<00:00, 23.07s/it]\n"
     ]
    }
   ],
   "source": [
    "for i in tqdm(range(number_iteration)):\n",
    "\n",
    "    prediction_train    = np.zeros(10000)\n",
    "    prediction_test     = np.zeros(1800)\n",
    "\n",
    "    for j in range(10000):\n",
    "        prediction_train[j] = compute_prediction(vector_x_train[j], weight) \n",
    "    for k in range(1800):\n",
    "        prediction_test[k] = compute_prediction(vector_x_test[k], weight)\n",
    "    \n",
    "    gradient_train      = compute_gradient(vector_x_train, prediction_train, y_train)\n",
    "    weight              = weight - learning_rate * gradient_train\n",
    "    \n",
    "    loss_train          = compute_loss(prediction_train, y_train)\n",
    "    loss_test           = compute_loss(prediction_test, y_test)\n",
    "\n",
    "    accuracy_train      = compute_accuracy(prediction_train, y_train)\n",
    "    accuracy_test       = compute_accuracy(prediction_test, y_test)\n",
    "    \n",
    "    pred_train_0    = prediction_train[index_train_0]\n",
    "    pred_train_1    = prediction_train[index_train_1]\n",
    "\n",
    "    pred_test_0     = prediction_test[index_test_0]\n",
    "    pred_test_1     = prediction_test[index_test_1]\n",
    "\n",
    "    pred_0_train_mean_iteration[i]  = np.mean(pred_train_0)\n",
    "    pred_0_train_std_iteration[i]   = np.std(pred_train_0)\n",
    "    pred_1_train_mean_iteration[i]  = np.mean(pred_train_1)\n",
    "    pred_1_train_std_iteration[i]   = np.std(pred_train_1)\n",
    "\n",
    "    pred_0_test_mean_iteration[i]   = np.mean(pred_train_0)\n",
    "    pred_0_test_std_iteration[i]    = np.std(pred_train_0)\n",
    "    pred_1_test_mean_iteration[i]   = np.mean(pred_train_1)\n",
    "    pred_1_test_std_iteration[i]    = np.std(pred_train_1)\n",
    "\n",
    "    loss_train_iteration[i]         = loss_train\n",
    "    loss_test_iteration[i]          = loss_test\n",
    "\n",
    "    accuracy_train_iteration[i]     = accuracy_train \n",
    "    accuracy_test_iteration[i]      = accuracy_test"
   ]
  },
  {
   "cell_type": "markdown",
   "metadata": {},
   "source": [
    "```console\n",
    "\n",
    "$ git commit -m \"YOUR MESSAGE\" assignment_03.ipynb\n",
    "\n",
    "```"
   ]
  },
  {
   "cell_type": "markdown",
   "metadata": {},
   "source": [
    "## plot curve"
   ]
  },
  {
   "cell_type": "code",
   "execution_count": 65,
   "metadata": {},
   "outputs": [],
   "source": [
    "def plot_curve(data, x_label, y_label, title):\n",
    "    \n",
    "    plt.figure(figsize=(8, 6))\n",
    "    plt.title(title)\n",
    "\n",
    "    plt.plot(range(len(data)), data, '-', color='red')\n",
    "    \n",
    "    plt.xlabel(x_label)\n",
    "    plt.ylabel(y_label)\n",
    "\n",
    "    plt.tight_layout()\n",
    "    plt.show()"
   ]
  },
  {
   "cell_type": "code",
   "execution_count": 66,
   "metadata": {},
   "outputs": [],
   "source": [
    "def plot_curve2(data1, label_data1, data2, label_data2, x_label, y_label, title):\n",
    "    \n",
    "    plt.figure(figsize=(8, 6))\n",
    "    plt.title(title)\n",
    "\n",
    "    plt.plot(range(len(data1)), data1, '-', color = 'blue', label = label_data1)\n",
    "    plt.plot(range(len(data2)), data2, '-', color = 'red', label = label_data2)\n",
    "     \n",
    "    plt.xlabel(x_label)\n",
    "    plt.ylabel(y_label)\n",
    "\n",
    "    plt.tight_layout()\n",
    "    plt.show()"
   ]
  },
  {
   "cell_type": "code",
   "execution_count": 67,
   "metadata": {},
   "outputs": [],
   "source": [
    "def plot_curve_error(data_mean, data_std, x_label, y_label, title):\n",
    "\n",
    "    plt.figure(figsize=(8, 6))\n",
    "    plt.title(title)\n",
    "\n",
    "    alpha = 0.3\n",
    "    \n",
    "    plt.plot(range(len(data_mean)), data_mean, '-', color = 'red')\n",
    "    plt.fill_between(range(len(data_mean)), data_mean - data_std, data_mean + data_std, facecolor = 'blue', alpha = alpha) \n",
    "    \n",
    "    plt.xlabel(x_label)\n",
    "    plt.ylabel(y_label)\n",
    "\n",
    "    plt.tight_layout()\n",
    "    plt.show()"
   ]
  },
  {
   "cell_type": "code",
   "execution_count": 68,
   "metadata": {},
   "outputs": [],
   "source": [
    "def plot_curve_error2(data1_mean, data1_std, data1_label, data2_mean, data2_std, data2_label, x_label, y_label, title):\n",
    "    \n",
    "    plt.figure(figsize=(8, 6))\n",
    "    plt.title(title)\n",
    "\n",
    "    alpha = 0.3\n",
    "\n",
    "    plt.plot(range(len(data1_mean)), data1_mean, '-', color = 'blue', label = data1_label)\n",
    "    plt.fill_between(range(len(data1_mean)), data1_mean - data1_std, data1_mean + data1_std, facecolor = 'blue', alpha = alpha)\n",
    "\n",
    "    plt.plot(range(len(data2_mean)), data2_mean, '-', color = 'red', label = data2_label)\n",
    "    plt.fill_between(range(len(data2_mean)), data2_mean - data2_std, data2_mean + data2_std, facecolor = 'red', alpha = alpha)\n",
    "\n",
    "    plt.xlabel(x_label)\n",
    "    plt.ylabel(y_label)\n",
    "\n",
    "    plt.tight_layout()\n",
    "    plt.show()"
   ]
  },
  {
   "cell_type": "markdown",
   "metadata": {},
   "source": [
    "## loss (training) curve"
   ]
  },
  {
   "cell_type": "code",
   "execution_count": 69,
   "metadata": {},
   "outputs": [
    {
     "data": {
      "image/png": "[encoded data removed]",
      "text/plain": [
       "<Figure size 576x432 with 1 Axes>"
      ]
     },
     "metadata": {
      "needs_background": "light"
     },
     "output_type": "display_data"
    }
   ],
   "source": [
    "plot_curve(loss_train_iteration, 'iteration', 'loss', 'loss (training) curve')"
   ]
  },
  {
   "cell_type": "markdown",
   "metadata": {},
   "source": [
    "```console\n",
    "\n",
    "$ git commit -m \"YOUR MESSAGE\" assignment_03.ipynb\n",
    "\n",
    "```"
   ]
  },
  {
   "cell_type": "markdown",
   "metadata": {},
   "source": [
    "## loss (testing) curve"
   ]
  },
  {
   "cell_type": "code",
   "execution_count": 70,
   "metadata": {},
   "outputs": [
    {
     "data": {
      "image/png": "[encoded data removed]",
      "text/plain": [
       "<Figure size 576x432 with 1 Axes>"
      ]
     },
     "metadata": {
      "needs_background": "light"
     },
     "output_type": "display_data"
    }
   ],
   "source": [
    "plot_curve(loss_test_iteration, 'iteration', 'loss', 'loss (testing) curve')"
   ]
  },
  {
   "cell_type": "markdown",
   "metadata": {},
   "source": [
    "```console\n",
    "\n",
    "$ git commit -m \"YOUR MESSAGE\" assignment_03.ipynb\n",
    "\n",
    "```"
   ]
  },
  {
   "cell_type": "markdown",
   "metadata": {},
   "source": [
    "## accuracy (training) curve"
   ]
  },
  {
   "cell_type": "code",
   "execution_count": 84,
   "metadata": {},
   "outputs": [
    {
     "data": {
      "image/png": "[encoded data removed]",
      "text/plain": [
       "<Figure size 576x432 with 1 Axes>"
      ]
     },
     "metadata": {
      "needs_background": "light"
     },
     "output_type": "display_data"
    }
   ],
   "source": [
    "plot_curve(accuracy_train_iteration, 'iteration', 'accuracy', 'accuracy (training) curve')"
   ]
  },
  {
   "cell_type": "markdown",
   "metadata": {},
   "source": [
    "```console\n",
    "\n",
    "$ git commit -m \"YOUR MESSAGE\" assignment_03.ipynb\n",
    "\n",
    "```"
   ]
  },
  {
   "cell_type": "markdown",
   "metadata": {},
   "source": [
    "## accuracy (testing) curve"
   ]
  },
  {
   "cell_type": "code",
   "execution_count": 85,
   "metadata": {},
   "outputs": [
    {
     "data": {
      "image/png": "[encoded data removed]",
      "text/plain": [
       "<Figure size 576x432 with 1 Axes>"
      ]
     },
     "metadata": {
      "needs_background": "light"
     },
     "output_type": "display_data"
    }
   ],
   "source": [
    "plot_curve(accuracy_test_iteration, 'iteration', 'accuracy', 'accuracy (testing) curve')"
   ]
  },
  {
   "cell_type": "markdown",
   "metadata": {},
   "source": [
    "```console\n",
    "\n",
    "$ git commit -m \"YOUR MESSAGE\" assignment_03.ipynb\n",
    "\n",
    "```"
   ]
  },
  {
   "cell_type": "markdown",
   "metadata": {},
   "source": [
    "## plot prediction values"
   ]
  },
  {
   "cell_type": "code",
   "execution_count": 86,
   "metadata": {},
   "outputs": [
    {
     "data": {
      "image/png": "[encoded data removed]",
      "text/plain": [
       "<Figure size 576x432 with 1 Axes>"
      ]
     },
     "metadata": {
      "needs_background": "light"
     },
     "output_type": "display_data"
    }
   ],
   "source": [
    "plot_curve_error(pred_0_train_mean_iteration, pred_0_train_std_iteration, 'iteration', 'prediction', 'prediction (training : 0)')"
   ]
  },
  {
   "cell_type": "markdown",
   "metadata": {},
   "source": [
    "```console\n",
    "\n",
    "$ git commit -m \"YOUR MESSAGE\" assignment_03.ipynb\n",
    "\n",
    "```"
   ]
  },
  {
   "cell_type": "code",
   "execution_count": 87,
   "metadata": {},
   "outputs": [
    {
     "data": {
      "image/png": "[encoded data removed]",
      "text/plain": [
       "<Figure size 576x432 with 1 Axes>"
      ]
     },
     "metadata": {
      "needs_background": "light"
     },
     "output_type": "display_data"
    }
   ],
   "source": [
    "plot_curve_error(pred_1_train_mean_iteration, pred_1_train_std_iteration, 'iteration', 'prediction', 'prediction (training : 1)')"
   ]
  },
  {
   "cell_type": "markdown",
   "metadata": {},
   "source": [
    "```console\n",
    "\n",
    "$ git commit -m \"YOUR MESSAGE\" assignment_03.ipynb\n",
    "\n",
    "```"
   ]
  },
  {
   "cell_type": "code",
   "execution_count": 88,
   "metadata": {},
   "outputs": [
    {
     "data": {
      "image/png": "[encoded data removed]",
      "text/plain": [
       "<Figure size 576x432 with 1 Axes>"
      ]
     },
     "metadata": {
      "needs_background": "light"
     },
     "output_type": "display_data"
    }
   ],
   "source": [
    "plot_curve_error(pred_0_test_mean_iteration, pred_0_test_std_iteration, 'iteration', 'prediction', 'prediction (testing : 0)')"
   ]
  },
  {
   "cell_type": "markdown",
   "metadata": {},
   "source": [
    "```console\n",
    "\n",
    "$ git commit -m \"YOUR MESSAGE\" assignment_03.ipynb\n",
    "\n",
    "```"
   ]
  },
  {
   "cell_type": "code",
   "execution_count": 89,
   "metadata": {},
   "outputs": [
    {
     "data": {
      "image/png": "[encoded data removed]",
      "text/plain": [
       "<Figure size 576x432 with 1 Axes>"
      ]
     },
     "metadata": {
      "needs_background": "light"
     },
     "output_type": "display_data"
    }
   ],
   "source": [
    "plot_curve_error(pred_1_test_mean_iteration, pred_1_test_std_iteration, 'iteration', 'prediction', 'prediction (testing : 1)')"
   ]
  },
  {
   "cell_type": "markdown",
   "metadata": {},
   "source": [
    "```console\n",
    "\n",
    "$ git commit -m \"YOUR MESSAGE\" assignment_03.ipynb\n",
    "\n",
    "```"
   ]
  },
  {
   "cell_type": "markdown",
   "metadata": {},
   "source": [
    "## print values"
   ]
  },
  {
   "cell_type": "code",
   "execution_count": 90,
   "metadata": {},
   "outputs": [],
   "source": [
    "def print_curve(data, index):\n",
    "\n",
    "    for i in range(len(index)):\n",
    "\n",
    "        idx = index[i]\n",
    "        val = data[idx]\n",
    "\n",
    "        print('index = %4d, value = %12.10f' % (idx, val))"
   ]
  },
  {
   "cell_type": "markdown",
   "metadata": {},
   "source": [
    "## given iterations at which the values are presented"
   ]
  },
  {
   "cell_type": "code",
   "execution_count": 91,
   "metadata": {},
   "outputs": [],
   "source": [
    "index = np.array([0, 100, 200, 300, 400, 500, 600, 700, 800, 900])"
   ]
  },
  {
   "cell_type": "markdown",
   "metadata": {},
   "source": [
    "## training loss"
   ]
  },
  {
   "cell_type": "code",
   "execution_count": 94,
   "metadata": {},
   "outputs": [
    {
     "name": "stdout",
     "output_type": "stream",
     "text": [
      "index =    0, value = 0.0121238227\n",
      "index =  100, value = 0.0027068022\n",
      "index =  200, value = 0.0016410493\n",
      "index =  300, value = 0.0012396639\n",
      "index =  400, value = 0.0010374369\n",
      "index =  500, value = 0.0009207205\n",
      "index =  600, value = 0.0008478786\n",
      "index =  700, value = 0.0008000913\n",
      "index =  800, value = 0.0007676714\n",
      "index =  900, value = 0.0007451718\n"
     ]
    }
   ],
   "source": [
    "print_curve(loss_train_iteration, index)"
   ]
  },
  {
   "cell_type": "markdown",
   "metadata": {},
   "source": [
    "```console\n",
    "\n",
    "$ git commit -m \"YOUR MESSAGE\" assignment_03.ipynb\n",
    "\n",
    "```"
   ]
  },
  {
   "cell_type": "markdown",
   "metadata": {},
   "source": [
    "## testing loss"
   ]
  },
  {
   "cell_type": "code",
   "execution_count": 95,
   "metadata": {},
   "outputs": [
    {
     "name": "stdout",
     "output_type": "stream",
     "text": [
      "index =    0, value = 0.0158426330\n",
      "index =  100, value = 0.0047317476\n",
      "index =  200, value = 0.0031367878\n",
      "index =  300, value = 0.0024429163\n",
      "index =  400, value = 0.0020466147\n",
      "index =  500, value = 0.0017889509\n",
      "index =  600, value = 0.0016082022\n",
      "index =  700, value = 0.0014749533\n",
      "index =  800, value = 0.0013732549\n",
      "index =  900, value = 0.0012936488\n"
     ]
    }
   ],
   "source": [
    "print_curve(loss_test_iteration, index)"
   ]
  },
  {
   "cell_type": "markdown",
   "metadata": {},
   "source": [
    "```console\n",
    "\n",
    "$ git commit -m \"YOUR MESSAGE\" assignment_03.ipynb\n",
    "\n",
    "```"
   ]
  },
  {
   "cell_type": "markdown",
   "metadata": {},
   "source": [
    "## training accuracy"
   ]
  },
  {
   "cell_type": "code",
   "execution_count": 96,
   "metadata": {},
   "outputs": [
    {
     "name": "stdout",
     "output_type": "stream",
     "text": [
      "index =    0, value = 0.9964000000\n",
      "index =  100, value = 0.9973000000\n",
      "index =  200, value = 0.9974000000\n",
      "index =  300, value = 0.9975000000\n",
      "index =  400, value = 0.9974000000\n",
      "index =  500, value = 0.9977000000\n",
      "index =  600, value = 0.9980000000\n",
      "index =  700, value = 0.9983000000\n",
      "index =  800, value = 0.9984000000\n",
      "index =  900, value = 0.9985000000\n"
     ]
    }
   ],
   "source": [
    "print_curve(accuracy_train_iteration, index)"
   ]
  },
  {
   "cell_type": "markdown",
   "metadata": {},
   "source": [
    "```console\n",
    "\n",
    "$ git commit -m \"YOUR MESSAGE\" assignment_03.ipynb\n",
    "\n",
    "```"
   ]
  },
  {
   "cell_type": "markdown",
   "metadata": {},
   "source": [
    "## testing accuracy"
   ]
  },
  {
   "cell_type": "code",
   "execution_count": 97,
   "metadata": {},
   "outputs": [
    {
     "name": "stdout",
     "output_type": "stream",
     "text": [
      "index =    0, value = 0.9988888889\n",
      "index =  100, value = 0.9994444444\n",
      "index =  200, value = 0.9994444444\n",
      "index =  300, value = 1.0000000000\n",
      "index =  400, value = 1.0000000000\n",
      "index =  500, value = 1.0000000000\n",
      "index =  600, value = 1.0000000000\n",
      "index =  700, value = 1.0000000000\n",
      "index =  800, value = 1.0000000000\n",
      "index =  900, value = 1.0000000000\n"
     ]
    }
   ],
   "source": [
    "print_curve(accuracy_test_iteration, index)"
   ]
  },
  {
   "cell_type": "markdown",
   "metadata": {},
   "source": [
    "```console\n",
    "\n",
    "$ git commit -m \"YOUR MESSAGE\" assignment_03.ipynb\n",
    "\n",
    "```"
   ]
  },
  {
   "cell_type": "markdown",
   "metadata": {},
   "source": [
    "## functions for presenting the results"
   ]
  },
  {
   "cell_type": "code",
   "execution_count": 83,
   "metadata": {},
   "outputs": [],
   "source": [
    "def function_results_01(*args):\n",
    "\n",
    "    pass"
   ]
  },
  {
   "cell_type": "code",
   "execution_count": null,
   "metadata": {},
   "outputs": [],
   "source": [
    "def function_results_02(*args):\n",
    "    \n",
    "    pass"
   ]
  },
  {
   "cell_type": "code",
   "execution_count": null,
   "metadata": {},
   "outputs": [],
   "source": [
    "def function_results_03(*args):\n",
    "    \n",
    "    pass"
   ]
  },
  {
   "cell_type": "code",
   "execution_count": null,
   "metadata": {},
   "outputs": [],
   "source": [
    "def function_results_04(*args):\n",
    "    \n",
    "    pass"
   ]
  },
  {
   "cell_type": "code",
   "execution_count": null,
   "metadata": {},
   "outputs": [],
   "source": [
    "def function_results_05(*args):\n",
    "    \n",
    "    pass"
   ]
  },
  {
   "cell_type": "code",
   "execution_count": null,
   "metadata": {},
   "outputs": [],
   "source": [
    "def function_results_06(*args):\n",
    "    \n",
    "    pass"
   ]
  },
  {
   "cell_type": "code",
   "execution_count": null,
   "metadata": {},
   "outputs": [],
   "source": [
    "def function_results_07(*args):\n",
    "    \n",
    "    pass"
   ]
  },
  {
   "cell_type": "code",
   "execution_count": null,
   "metadata": {},
   "outputs": [],
   "source": [
    "def function_results_08(*args):\n",
    "    \n",
    "    pass"
   ]
  },
  {
   "cell_type": "code",
   "execution_count": null,
   "metadata": {},
   "outputs": [],
   "source": [
    "def function_results_09(*args):\n",
    "    \n",
    "    pass"
   ]
  },
  {
   "cell_type": "code",
   "execution_count": null,
   "metadata": {},
   "outputs": [],
   "source": [
    "def function_results_10(*args):\n",
    "    \n",
    "    pass"
   ]
  },
  {
   "cell_type": "code",
   "execution_count": null,
   "metadata": {},
   "outputs": [],
   "source": [
    "def function_results_11(*args):\n",
    "    \n",
    "    pass"
   ]
  },
  {
   "cell_type": "code",
   "execution_count": null,
   "metadata": {},
   "outputs": [],
   "source": [
    "def function_results_12(*args):\n",
    "    \n",
    "    pass"
   ]
  },
  {
   "cell_type": "code",
   "execution_count": null,
   "metadata": {},
   "outputs": [],
   "source": [
    "def function_results_13(*args):\n",
    "    \n",
    "    pass"
   ]
  },
  {
   "cell_type": "code",
   "execution_count": null,
   "metadata": {},
   "outputs": [],
   "source": [
    "def function_results_14(*args):\n",
    "    \n",
    "    pass"
   ]
  },
  {
   "cell_type": "markdown",
   "metadata": {},
   "source": [
    "---"
   ]
  },
  {
   "cell_type": "markdown",
   "metadata": {},
   "source": [
    "# RESULTS"
   ]
  },
  {
   "cell_type": "markdown",
   "metadata": {},
   "source": [
    "---"
   ]
  },
  {
   "cell_type": "markdown",
   "metadata": {},
   "source": [
    "## # 01. plot examples of the input training images for '0'"
   ]
  },
  {
   "cell_type": "code",
   "execution_count": 94,
   "metadata": {},
   "outputs": [
    {
     "data": {
      "image/png": "[encoded data removed]",
      "text/plain": [
       "<Figure size 864x432 with 8 Axes>"
      ]
     },
     "metadata": {
      "needs_background": "light"
     },
     "output_type": "display_data"
    }
   ],
   "source": [
    "function_results_01(...)"
   ]
  },
  {
   "cell_type": "markdown",
   "metadata": {},
   "source": [
    "## # 02. plot examples of the input training images for '1'"
   ]
  },
  {
   "cell_type": "code",
   "execution_count": 95,
   "metadata": {},
   "outputs": [
    {
     "data": {
      "image/png": "[encoded data removed]",
      "text/plain": [
       "<Figure size 864x432 with 8 Axes>"
      ]
     },
     "metadata": {
      "needs_background": "light"
     },
     "output_type": "display_data"
    }
   ],
   "source": [
    "function_results_02(...)"
   ]
  },
  {
   "cell_type": "markdown",
   "metadata": {},
   "source": [
    "## # 03. plot the training loss curve (x-axis: iteration, y-axis: loss)"
   ]
  },
  {
   "cell_type": "code",
   "execution_count": 96,
   "metadata": {},
   "outputs": [
    {
     "data": {
      "image/png": "[encoded data removed]",
      "text/plain": [
       "<Figure size 576x432 with 1 Axes>"
      ]
     },
     "metadata": {
      "needs_background": "light"
     },
     "output_type": "display_data"
    }
   ],
   "source": [
    "function_results_03(...)"
   ]
  },
  {
   "cell_type": "markdown",
   "metadata": {},
   "source": [
    "## # 04. plot the testing loss curve (x-axis: iteration, y-axis: loss)"
   ]
  },
  {
   "cell_type": "code",
   "execution_count": 97,
   "metadata": {},
   "outputs": [
    {
     "data": {
      "image/png": "[encoded data removed]",
      "text/plain": [
       "<Figure size 576x432 with 1 Axes>"
      ]
     },
     "metadata": {
      "needs_background": "light"
     },
     "output_type": "display_data"
    }
   ],
   "source": [
    "function_results_04(...)"
   ]
  },
  {
   "cell_type": "markdown",
   "metadata": {},
   "source": [
    "## # 05. plot the training accuracy curve (x-axis: iteration, y-axis: accuracy)"
   ]
  },
  {
   "cell_type": "code",
   "execution_count": 98,
   "metadata": {},
   "outputs": [
    {
     "data": {
      "image/png": "[encoded data removed]",
      "text/plain": [
       "<Figure size 576x432 with 1 Axes>"
      ]
     },
     "metadata": {
      "needs_background": "light"
     },
     "output_type": "display_data"
    }
   ],
   "source": [
    "function_results_05(...)"
   ]
  },
  {
   "cell_type": "markdown",
   "metadata": {},
   "source": [
    "## # 06. plot the testing accuracy curve (x-axis: iteration, y-axis: accuracy)"
   ]
  },
  {
   "cell_type": "code",
   "execution_count": 99,
   "metadata": {},
   "outputs": [
    {
     "data": {
      "image/png": "[encoded data removed]",
      "text/plain": [
       "<Figure size 576x432 with 1 Axes>"
      ]
     },
     "metadata": {
      "needs_background": "light"
     },
     "output_type": "display_data"
    }
   ],
   "source": [
    "function_results_06(...)"
   ]
  },
  {
   "cell_type": "markdown",
   "metadata": {},
   "source": [
    "## # 07. plot the training prediction curve (mean and std) for image 0 (x-axis: iteration, y-axis: prediction)"
   ]
  },
  {
   "cell_type": "code",
   "execution_count": 100,
   "metadata": {},
   "outputs": [
    {
     "data": {
      "image/png": "[encoded data removed]",
      "text/plain": [
       "<Figure size 576x432 with 1 Axes>"
      ]
     },
     "metadata": {
      "needs_background": "light"
     },
     "output_type": "display_data"
    }
   ],
   "source": [
    "function_results_07(...)"
   ]
  },
  {
   "cell_type": "markdown",
   "metadata": {},
   "source": [
    "## # 08. plot the training prediction curve (mean and std) for image 1 (x-axis: iteration, y-axis: prediction)"
   ]
  },
  {
   "cell_type": "code",
   "execution_count": 101,
   "metadata": {},
   "outputs": [
    {
     "data": {
      "image/png": "[encoded data removed]",
      "text/plain": [
       "<Figure size 576x432 with 1 Axes>"
      ]
     },
     "metadata": {
      "needs_background": "light"
     },
     "output_type": "display_data"
    }
   ],
   "source": [
    "function_results_08(...)"
   ]
  },
  {
   "cell_type": "markdown",
   "metadata": {},
   "source": [
    "## # 09. plot the testing prediction curve (mean and std) for image 0 (x-axis: iteration, y-axis: prediction)"
   ]
  },
  {
   "cell_type": "code",
   "execution_count": 102,
   "metadata": {},
   "outputs": [
    {
     "data": {
      "image/png": "[encoded data removed]",
      "text/plain": [
       "<Figure size 576x432 with 1 Axes>"
      ]
     },
     "metadata": {
      "needs_background": "light"
     },
     "output_type": "display_data"
    }
   ],
   "source": [
    "function_results_09(...)"
   ]
  },
  {
   "cell_type": "markdown",
   "metadata": {},
   "source": [
    "## # 10. plot the testing prediction curve (mean and std) for image 1 (x-axis: iteration, y-axis: prediction)"
   ]
  },
  {
   "cell_type": "code",
   "execution_count": 103,
   "metadata": {},
   "outputs": [
    {
     "data": {
      "image/png": "[encoded data removed]",
      "text/plain": [
       "<Figure size 576x432 with 1 Axes>"
      ]
     },
     "metadata": {
      "needs_background": "light"
     },
     "output_type": "display_data"
    }
   ],
   "source": [
    "function_results_10(...)"
   ]
  },
  {
   "cell_type": "markdown",
   "metadata": {},
   "source": [
    "## # 11. print the training loss at iterations 0, 100, 200, 300, 400, 500, 600, 700, 800, 900"
   ]
  },
  {
   "cell_type": "code",
   "execution_count": 33,
   "metadata": {},
   "outputs": [
    {
     "name": "stdout",
     "output_type": "stream",
     "text": [
      "index =    0, value = 0.0000000000\n",
      "index =  100, value = 0.0000000000\n",
      "index =  200, value = 0.0000000000\n",
      "index =  300, value = 0.0000000000\n",
      "index =  400, value = 0.0000000000\n",
      "index =  500, value = 0.0000000000\n",
      "index =  600, value = 0.0000000000\n",
      "index =  700, value = 0.0000000000\n",
      "index =  800, value = 0.0000000000\n",
      "index =  900, value = 0.0000000000\n"
     ]
    }
   ],
   "source": [
    "function_results_11(...)"
   ]
  },
  {
   "cell_type": "markdown",
   "metadata": {},
   "source": [
    "## # 12. print the testing loss at iterations 0, 100, 200, 300, 400, 500, 600, 700, 800, 900"
   ]
  },
  {
   "cell_type": "code",
   "execution_count": 34,
   "metadata": {},
   "outputs": [
    {
     "name": "stdout",
     "output_type": "stream",
     "text": [
      "index =    0, value = 0.0000000000\n",
      "index =  100, value = 0.0000000000\n",
      "index =  200, value = 0.0000000000\n",
      "index =  300, value = 0.0000000000\n",
      "index =  400, value = 0.0000000000\n",
      "index =  500, value = 0.0000000000\n",
      "index =  600, value = 0.0000000000\n",
      "index =  700, value = 0.0000000000\n",
      "index =  800, value = 0.0000000000\n",
      "index =  900, value = 0.0000000000\n"
     ]
    }
   ],
   "source": [
    "function_results_12(...)"
   ]
  },
  {
   "cell_type": "markdown",
   "metadata": {},
   "source": [
    "## # 13. print the training accuracy at iterations 0, 100, 200, 300, 400, 500, 600, 700, 800, 900"
   ]
  },
  {
   "cell_type": "code",
   "execution_count": 35,
   "metadata": {},
   "outputs": [
    {
     "name": "stdout",
     "output_type": "stream",
     "text": [
      "index =    0, value = 0.0000000000\n",
      "index =  100, value = 0.0000000000\n",
      "index =  200, value = 0.0000000000\n",
      "index =  300, value = 0.0000000000\n",
      "index =  400, value = 0.0000000000\n",
      "index =  500, value = 0.0000000000\n",
      "index =  600, value = 0.0000000000\n",
      "index =  700, value = 0.0000000000\n",
      "index =  800, value = 0.0000000000\n",
      "index =  900, value = 0.0000000000\n"
     ]
    }
   ],
   "source": [
    "function_results_13(...)"
   ]
  },
  {
   "cell_type": "markdown",
   "metadata": {},
   "source": [
    "## # 14. print the testing accuracy at iterations 0, 100, 200, 300, 400, 500, 600, 700, 800, 900"
   ]
  },
  {
   "cell_type": "code",
   "execution_count": 36,
   "metadata": {},
   "outputs": [
    {
     "name": "stdout",
     "output_type": "stream",
     "text": [
      "index =    0, value = 0.0000000000\n",
      "index =  100, value = 0.0000000000\n",
      "index =  200, value = 0.0000000000\n",
      "index =  300, value = 0.0000000000\n",
      "index =  400, value = 0.0000000000\n",
      "index =  500, value = 0.0000000000\n",
      "index =  600, value = 0.0000000000\n",
      "index =  700, value = 0.0000000000\n",
      "index =  800, value = 0.0000000000\n",
      "index =  900, value = 0.0000000000\n"
     ]
    }
   ],
   "source": [
    "function_results_14(...)"
   ]
  }
 ],
 "metadata": {
  "colab": {
   "authorship_tag": "ABX9TyM0gXqiryv5831mXd12OejK",
   "collapsed_sections": [],
   "name": "assignment_02.ipynb",
   "provenance": []
  },
  "interpreter": {
   "hash": "dca0ade3e726a953b501b15e8e990130d2b7799f14cfd9f4271676035ebe5511"
  },
  "kernelspec": {
   "display_name": "Python 3",
   "language": "python",
   "name": "python3"
  },
  "language_info": {
   "codemirror_mode": {
    "name": "ipython",
    "version": 3
   },
   "file_extension": ".py",
   "mimetype": "text/x-python",
   "name": "python",
   "nbconvert_exporter": "python",
   "pygments_lexer": "ipython3",
   "version": "3.8.5"
  }
 },
 "nbformat": 4,
 "nbformat_minor": 4
}
