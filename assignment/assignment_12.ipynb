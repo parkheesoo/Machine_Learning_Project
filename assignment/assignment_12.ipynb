{
 "cells": [
  {
   "cell_type": "markdown",
   "metadata": {
    "colab": {
     "base_uri": "https://localhost:8080/"
    },
    "executionInfo": {
     "elapsed": 5,
     "status": "ok",
     "timestamp": 1630597918894,
     "user": {
      "displayName": "Byung-Woo Hong",
      "photoUrl": "",
      "userId": "17273657108187629509"
     },
     "user_tz": -540
    },
    "id": "K29I-OwCEYzW",
    "outputId": "db8b297c-a4b8-457a-b43f-7570135306c7"
   },
   "source": [
    "# Image Generation via Generative Adversarial Networks"
   ]
  },
  {
   "cell_type": "markdown",
   "metadata": {},
   "source": [
    "## import libraries"
   ]
  },
  {
   "cell_type": "code",
   "execution_count": 1,
   "metadata": {},
   "outputs": [],
   "source": [
    "import torch\n",
    "import torch.nn as nn\n",
    "import torch.nn.functional as F\n",
    "import torchvision\n",
    "from torch.utils.data import Dataset\n",
    "from torch.utils.data import DataLoader\n",
    "from torchvision import datasets, transforms\n",
    "import numpy as np\n",
    "import matplotlib.pyplot as plt\n",
    "import math\n",
    "from tqdm import tqdm\n",
    "import random\n",
    "import os\n",
    "from torchvision.utils import make_grid"
   ]
  },
  {
   "cell_type": "markdown",
   "metadata": {},
   "source": [
    "## load data"
   ]
  },
  {
   "cell_type": "code",
   "execution_count": 2,
   "metadata": {},
   "outputs": [],
   "source": [
    "directory_data  = './'\n",
    "filename_data   = 'assignment_12_data.npz'\n",
    "data            = np.load(os.path.join(directory_data, filename_data))\n",
    "real            = torch.from_numpy(data['real_images']).float()"
   ]
  },
  {
   "cell_type": "markdown",
   "metadata": {},
   "source": [
    "## hyper-parameters"
   ]
  },
  {
   "cell_type": "code",
   "execution_count": 44,
   "metadata": {},
   "outputs": [],
   "source": [
    "device          = torch.device('cuda' if torch.cuda.is_available() else 'cpu')\n",
    "\n",
    "number_epoch    = 100\n",
    "size_minibatch  =3\n",
    "dim_latent      = 3\n",
    "dim_channel     = 1\n",
    "learning_rate_discriminator = 0.001\n",
    "learning_rate_generator     = 0.001"
   ]
  },
  {
   "cell_type": "markdown",
   "metadata": {},
   "source": [
    "## custom data loader for the PyTorch framework"
   ]
  },
  {
   "cell_type": "code",
   "execution_count": 11,
   "metadata": {},
   "outputs": [],
   "source": [
    "class dataset (Dataset):\n",
    "    def  __init__(self, data):\n",
    "\n",
    "        self.data = data\n",
    "\n",
    "    def __getitem__(self, index):\n",
    "\n",
    "        data = self.data[index]\n",
    "        data = torch.FloatTensor(data).unsqueeze(dim=0)\n",
    "\n",
    "        return data\n",
    "  \n",
    "    def __len__(self):\n",
    "        \n",
    "        return self.data.shape[0]"
   ]
  },
  {
   "cell_type": "markdown",
   "metadata": {},
   "source": [
    "## construct datasets and dataloaders for training and testing"
   ]
  },
  {
   "cell_type": "code",
   "execution_count": 12,
   "metadata": {},
   "outputs": [],
   "source": [
    "dataset_real    = dataset(real)\n",
    "dataloader_real = DataLoader(dataset_real, batch_size=size_minibatch, shuffle=True, drop_last=True)"
   ]
  },
  {
   "cell_type": "markdown",
   "metadata": {},
   "source": [
    "## shape of the data when using the data loader"
   ]
  },
  {
   "cell_type": "code",
   "execution_count": 13,
   "metadata": {},
   "outputs": [
    {
     "name": "stdout",
     "output_type": "stream",
     "text": [
      "*******************************************************************\n",
      "shape of the image in the training dataset: torch.Size([1, 32, 32])\n",
      "*******************************************************************\n"
     ]
    }
   ],
   "source": [
    "image_real = dataset_real[0]\n",
    "print('*******************************************************************')\n",
    "print('shape of the image in the training dataset:', image_real.shape)\n",
    "print('*******************************************************************')"
   ]
  },
  {
   "cell_type": "markdown",
   "metadata": {},
   "source": [
    "## class for the neural network "
   ]
  },
  {
   "cell_type": "code",
   "execution_count": 14,
   "metadata": {},
   "outputs": [],
   "source": [
    "class Discriminator(nn.Module): \n",
    "\n",
    "\tdef __init__(self, in_channel=1, out_channel=1, dim_feature=8):\n",
    "        \n",
    "\t\tsuper(Discriminator, self).__init__()\n",
    "\n",
    "\t\tself.in_channel \t= in_channel\n",
    "\t\tself.out_channel\t= out_channel\n",
    "\t\tself.dim_feature\t= dim_feature\n",
    "\t\tthreshold_ReLU \t\t= 0.2\n",
    "\t\t\n",
    "\t\tself.feature = nn.Sequential(\n",
    "\t\t\t# ================================================================================\n",
    "\t\t\tnn.Conv2d(in_channel, dim_feature * 1, kernel_size=3, stride=2, padding=1, bias=True),\n",
    "\t\t\tnn.LeakyReLU(threshold_ReLU, inplace=True),\t\t\t\n",
    "\t\t\t# ================================================================================\n",
    "\t\t\tnn.Conv2d(dim_feature * 1, dim_feature * 2, kernel_size=3, stride=2, padding=1, bias=True),\n",
    "\t\t\tnn.LeakyReLU(threshold_ReLU, inplace=True),\t\t\t\n",
    "\t\t\t# ================================================================================\n",
    "\t\t\tnn.Conv2d(dim_feature * 2, dim_feature * 4, kernel_size=3, stride=2, padding=1, bias=True),\n",
    "\t\t\tnn.LeakyReLU(threshold_ReLU, inplace=True),\t\t\t\n",
    "\t\t\t# ================================================================================\n",
    "\t\t\tnn.Conv2d(dim_feature * 4, dim_feature * 8, kernel_size=3, stride=2, padding=1, bias=True),\n",
    "\t\t\tnn.LeakyReLU(threshold_ReLU, inplace=True),\t\t\t\n",
    "\t\t\t# ================================================================================\n",
    "\t\t\tnn.Conv2d(dim_feature * 8, dim_feature * 16, kernel_size=3, stride=2, padding=1, bias=True),\n",
    "\t\t\tnn.LeakyReLU(threshold_ReLU, inplace=True),\t\t\t\n",
    "\t\t\t# ================================================================================\n",
    "\t\t)\t\n",
    "\t\t\n",
    "\t\tself.classifier = nn.Sequential(\n",
    "\t\t\t# ================================================================================\n",
    "\t\t\tnn.Linear(dim_feature * 16, dim_feature * 8, bias=True),\n",
    "\t\t\tnn.LeakyReLU(threshold_ReLU, inplace=True),\t\t\t\n",
    "\t\t\t# ================================================================================\n",
    "\t\t\tnn.Linear(dim_feature * 8, dim_feature * 4, bias=True),\n",
    "\t\t\tnn.LeakyReLU(threshold_ReLU, inplace=True),\t\t\t\n",
    "\t\t\t# ================================================================================\n",
    "\t\t\tnn.Linear(dim_feature * 4, dim_feature * 2, bias=True),\n",
    "\t\t\tnn.LeakyReLU(threshold_ReLU, inplace=True),\t\t\t\n",
    "\t\t\t# ================================================================================\n",
    "\t\t\tnn.Linear(dim_feature * 2, dim_feature * 1, bias=True),\n",
    "\t\t\tnn.LeakyReLU(threshold_ReLU, inplace=True),\t\t\t\n",
    "\t\t\t# ================================================================================\n",
    "\t\t\tnn.Linear(dim_feature * 1, out_channel, bias=True),\n",
    "\t\t\t# ================================================================================\n",
    "\t\t) \n",
    "\n",
    "\t\tself.network = nn.Sequential(\n",
    "\t\t\tself.feature,\n",
    "\t\t\tnn.Flatten(),\n",
    "\t\t\tself.classifier,\n",
    "\t\t)\n",
    "\n",
    "\t\tself.initialize_weight()\n",
    "\n",
    "\t\t# *********************************************************************\n",
    "\t\t# forward propagation\n",
    "\t\t# *********************************************************************\n",
    "\tdef forward(self, x):\n",
    "\n",
    "\t\ty = self.network.forward(x)\n",
    "\n",
    "\t\treturn y\n",
    "\n",
    "\tdef initialize_weight(self):\n",
    "\t\n",
    "\t\tprint('initialize model parameters :', 'xavier_uniform')\n",
    "\n",
    "\t\tfor m in self.network.modules():\n",
    "\t\t\t\n",
    "\t\t\tif isinstance(m, nn.Conv2d):\n",
    "\t\t\t\t\n",
    "\t\t\t\tnn.init.xavier_uniform_(m.weight)\n",
    "\t\t\t\t\n",
    "\t\t\t\tif m.bias is not None:\n",
    "\n",
    "\t\t\t\t\tnn.init.constant_(m.bias, 1)\n",
    "\t\t\t\t\tpass\n",
    "\t\t\t\t\t\n",
    "\t\t\telif isinstance(m, nn.BatchNorm2d):\n",
    "\t\t\t\t\n",
    "\t\t\t\tnn.init.constant_(m.weight, 1)\n",
    "\t\t\t\tnn.init.constant_(m.bias, 1)\n",
    "\t\t\t\t\n",
    "\t\t\telif isinstance(m, nn.Linear):\n",
    "\t\t\t\t\n",
    "\t\t\t\tnn.init.xavier_uniform_(m.weight)\n",
    "\n",
    "\t\t\t\tif m.bias is not None:\n",
    "\t\t\t\t\t\n",
    "\t\t\t\t\tnn.init.constant_(m.bias, 1)\n",
    "\t\t\t\t\tpass"
   ]
  },
  {
   "cell_type": "code",
   "execution_count": 15,
   "metadata": {},
   "outputs": [],
   "source": [
    "class Generator(nn.Module): \n",
    "\n",
    "\tdef __init__(self, in_channel=1, out_channel=1, dim_feature=8):\n",
    "        \n",
    "\t\tsuper(Generator, self).__init__()\n",
    "\n",
    "\t\tself.in_channel \t= in_channel\n",
    "\t\tself.out_channel\t= out_channel\n",
    "\t\tself.dim_feature\t= dim_feature\n",
    "\t\tthreshold_ReLU \t\t= 0.2\n",
    "\n",
    "\t\tself.network = nn.Sequential(\n",
    "\t\t\t# ================================================================================\n",
    "\t\t\tnn.Upsample(scale_factor=2, mode='bilinear', align_corners=False),\n",
    "\t\t\tnn.Conv2d(in_channel, dim_feature * 8, kernel_size=3, stride=1, padding=1, bias=True),\n",
    "\t\t\tnn.BatchNorm2d(dim_feature * 8),\n",
    "\t\t\tnn.LeakyReLU(threshold_ReLU, inplace=True),\n",
    "\t\t\t# ================================================================================\n",
    "\t\t\tnn.Upsample(scale_factor=2, mode='bilinear', align_corners=False),\n",
    "\t\t\tnn.Conv2d(dim_feature * 8, dim_feature * 4, kernel_size=3, stride=1, padding=1, bias=True),\n",
    "\t\t\tnn.BatchNorm2d(dim_feature * 4),\n",
    "\t\t\tnn.LeakyReLU(threshold_ReLU, inplace=True),\n",
    "\t\t\t# ================================================================================\n",
    "\t\t\tnn.Upsample(scale_factor=2, mode='bilinear', align_corners=False),\n",
    "\t\t\tnn.Conv2d(dim_feature * 4, dim_feature * 2, kernel_size=3, stride=1, padding=1, bias=True),\n",
    "\t\t\tnn.BatchNorm2d(dim_feature * 2),\n",
    "\t\t\tnn.LeakyReLU(threshold_ReLU, inplace=True),\n",
    "\t\t\t# ================================================================================\n",
    "\t\t\tnn.Upsample(scale_factor=2, mode='bilinear', align_corners=False),\n",
    "\t\t\tnn.Conv2d(dim_feature * 2, dim_feature * 1, kernel_size=3, stride=1, padding=1, bias=True),\n",
    "\t\t\tnn.BatchNorm2d(dim_feature * 1),\n",
    "\t\t\tnn.LeakyReLU(threshold_ReLU, inplace=True),\n",
    "\t\t\t# ================================================================================\n",
    "\t\t\tnn.Upsample(scale_factor=2, mode='bilinear', align_corners=False),\n",
    "\t\t\tnn.Conv2d(dim_feature * 1, out_channel, kernel_size=3, stride=1, padding=1, bias=True),\n",
    "\t\t\tnn.BatchNorm2d(out_channel),\n",
    "\t\t\t# ================================================================================\n",
    "\t\t\tnn.Sigmoid(),\n",
    "\t\t\t# ================================================================================\n",
    "\t\t) \t\t\t\n",
    "\n",
    "\t\tself.initialize_weight()\n",
    "\t\t\n",
    "\t\t# *********************************************************************\n",
    "\t\t# forward propagation\n",
    "\t\t# *********************************************************************\n",
    "\tdef forward(self, x):\n",
    "\n",
    "\t\ty = self.network.forward(x)\n",
    "\n",
    "\t\treturn y\n",
    "\n",
    "\tdef initialize_weight(self):\n",
    "\t\n",
    "\t\tprint('initialize model parameters :', 'xavier_uniform')\n",
    "\n",
    "\t\tfor m in self.network.modules():\n",
    "\t\t\t\n",
    "\t\t\tif isinstance(m, nn.Conv2d):\n",
    "\t\t\t\t\n",
    "\t\t\t\tnn.init.xavier_uniform_(m.weight)\n",
    "\t\t\t\t\n",
    "\t\t\t\tif m.bias is not None:\n",
    "\n",
    "\t\t\t\t\tnn.init.constant_(m.bias, 1)\n",
    "\t\t\t\t\tpass\n",
    "\t\t\t\t\t\n",
    "\t\t\telif isinstance(m, nn.BatchNorm2d):\n",
    "\t\t\t\t\n",
    "\t\t\t\tnn.init.constant_(m.weight, 1)\n",
    "\t\t\t\tnn.init.constant_(m.bias, 1)\n",
    "\t\t\t\t\n",
    "\t\t\telif isinstance(m, nn.Linear):\n",
    "\t\t\t\t\n",
    "\t\t\t\tnn.init.xavier_uniform_(m.weight)\n",
    "\n",
    "\t\t\t\tif m.bias is not None:\n",
    "\t\t\t\t\t\n",
    "\t\t\t\t\tnn.init.constant_(m.bias, 1)\n",
    "\t\t\t\t\tpass"
   ]
  },
  {
   "cell_type": "markdown",
   "metadata": {},
   "source": [
    "## build network"
   ]
  },
  {
   "cell_type": "code",
   "execution_count": 16,
   "metadata": {},
   "outputs": [
    {
     "name": "stdout",
     "output_type": "stream",
     "text": [
      "initialize model parameters : xavier_uniform\n",
      "initialize model parameters : xavier_uniform\n"
     ]
    }
   ],
   "source": [
    "generator       = Generator(dim_latent, 1, 8).to(device)\n",
    "discriminator   = Discriminator(dim_channel, 1, 8).to(device)\n",
    "\n",
    "optimizer_generator     = torch.optim.Adam(generator.parameters(), lr=learning_rate_generator, betas=(0.5, 0.999))\n",
    "optimizer_discriminator = torch.optim.Adam(discriminator.parameters(), lr=learning_rate_discriminator, betas=(0.5, 0.999))"
   ]
  },
  {
   "cell_type": "markdown",
   "metadata": {},
   "source": [
    "## compute the prediction"
   ]
  },
  {
   "cell_type": "code",
   "execution_count": 17,
   "metadata": {},
   "outputs": [],
   "source": [
    "def compute_prediction(model, input):\n",
    "\n",
    "    prediction = model(input)\n",
    "\n",
    "    return prediction"
   ]
  },
  {
   "cell_type": "markdown",
   "metadata": {},
   "source": [
    "## compute the loss"
   ]
  },
  {
   "cell_type": "code",
   "execution_count": 18,
   "metadata": {},
   "outputs": [],
   "source": [
    "def compute_loss_discriminator(generator, discriminator, latent, data_real):\n",
    "\n",
    "    data_fake       = compute_prediction(generator, latent)\n",
    "    prediction_real = compute_prediction(discriminator, data_real)\n",
    "    prediction_fake = compute_prediction(discriminator, data_fake)\n",
    "\n",
    "    criterion   = nn.BCEWithLogitsLoss()\n",
    "    \n",
    "    label_real  = torch.ones_like(prediction_real)\n",
    "    label_fake  = torch.zeros_like(prediction_fake)\n",
    "\n",
    "    # ==================================================\n",
    "    # fill up the blank\n",
    "    #    \n",
    "    loss_real = criterion(prediction_real, label_real)\n",
    "    loss_fake = criterion(prediction_fake, label_fake)\n",
    "    # \n",
    "    # ==================================================\n",
    "\n",
    "    loss_discriminator = (loss_real + loss_fake) / 2.0\n",
    "\n",
    "    return loss_discriminator"
   ]
  },
  {
   "cell_type": "code",
   "execution_count": 19,
   "metadata": {},
   "outputs": [],
   "source": [
    "def compute_loss_generator(generator, discriminator, latent):\n",
    "\n",
    "    data_fake       = compute_prediction(generator, latent)\n",
    "    prediction_fake = compute_prediction(discriminator, data_fake)\n",
    "\n",
    "    criterion       = nn.BCEWithLogitsLoss()\n",
    "\n",
    "    label_real      = torch.ones_like(prediction_fake)\n",
    "\n",
    "    # ==================================================\n",
    "    # fill up the blank\n",
    "    #    \n",
    "    loss_generator  = criterion(prediction_fake, label_real)\n",
    "    # \n",
    "    # ==================================================\n",
    "\n",
    "    return loss_generator"
   ]
  },
  {
   "cell_type": "markdown",
   "metadata": {},
   "source": [
    "## compute the accuracy"
   ]
  },
  {
   "cell_type": "code",
   "execution_count": 20,
   "metadata": {},
   "outputs": [],
   "source": [
    "def get_center_index(binary_image):\n",
    "    \n",
    "    area_square = np.sum(binary_image)\n",
    "\n",
    "    height = binary_image.shape[0]\n",
    "    width = binary_image.shape[1]\n",
    "\n",
    "    x = np.linspace(0, width - 1, width)\n",
    "    y = np.linspace(0, height - 1, height)\n",
    "    indices_X, indices_Y = np.meshgrid(x, y)\n",
    "\n",
    "    x_mean = np.sum(binary_image * indices_X) / area_square\n",
    "    y_mean = np.sum(binary_image * indices_Y) / area_square\n",
    "\n",
    "    return (x_mean, y_mean)"
   ]
  },
  {
   "cell_type": "code",
   "execution_count": 21,
   "metadata": {},
   "outputs": [],
   "source": [
    "# create ideal square image which has the same area to the input image\n",
    "def create_label(binary_images):\n",
    "    \n",
    "    label = np.zeros_like(binary_images)\n",
    "    \n",
    "    for i, binary_image in enumerate(binary_images):\n",
    "        \n",
    "        image_height = binary_image.shape[0]\n",
    "        image_width = binary_image.shape[1]\n",
    "\n",
    "        square_image = np.zeros((image_height, image_width))\n",
    "        square_length = np.round(np.sqrt(np.sum(binary_image)))\n",
    "\n",
    "        if square_length == 0:\n",
    "            # when there is no square\n",
    "            return square_image\n",
    "\n",
    "        (square_center_x, square_center_y) = get_center_index(binary_image)\n",
    "\n",
    "        if square_center_x < 0 or square_center_x > image_width - 1 or square_center_y < 0 or square_center_y > image_height - 1:\n",
    "            return square_image\n",
    "\n",
    "        top = np.ceil(square_center_y - square_length / 2)\n",
    "        bottom = np.floor(square_center_y + square_length / 2)\n",
    "        left = np.ceil(square_center_x - square_length / 2)\n",
    "        right = np.floor(square_center_x + square_length / 2)\n",
    "\n",
    "        top = int(top) if top >= 0 else 0\n",
    "        bottom = int(bottom) if bottom <= image_height - 1 else image_height - 1\n",
    "        left = int(left) if left >= 0 else 0\n",
    "        right = int(right) if right <= image_width - 1 else image_width - 1\n",
    "\n",
    "        square_image[top : bottom + 1, left : right + 1] = 1\n",
    "        \n",
    "        label[i] = square_image\n",
    "        \n",
    "    return label"
   ]
  },
  {
   "cell_type": "code",
   "execution_count": 22,
   "metadata": {},
   "outputs": [],
   "source": [
    "def compute_accuracy(prediction):\n",
    "\n",
    "    prediction  = prediction.squeeze(axis=1)\n",
    "    \n",
    "    prediction_binary   = (prediction >= 0.5).cpu().numpy().astype(int)\n",
    "    label               = create_label(prediction_binary).astype(int)\n",
    "    \n",
    "    region_intersection = prediction_binary & label\n",
    "    region_union        = prediction_binary | label\n",
    "\n",
    "    area_intersection   = region_intersection.sum(axis=1).sum(axis=1).astype(float)\n",
    "    area_union          = region_union.sum(axis=1).sum(axis=1).astype(float)\n",
    "\n",
    "    eps         = np.finfo(float).eps\n",
    "    correct     = area_intersection / (area_union + eps)\n",
    "    accuracy    = correct.mean() * 100.0\n",
    "    \n",
    "    return accuracy"
   ]
  },
  {
   "cell_type": "markdown",
   "metadata": {},
   "source": [
    "## variables for the learning curve"
   ]
  },
  {
   "cell_type": "code",
   "execution_count": 23,
   "metadata": {},
   "outputs": [],
   "source": [
    "loss_generator_mean     = np.zeros(number_epoch)\n",
    "loss_generator_std      = np.zeros(number_epoch)\n",
    "loss_discriminator_mean = np.zeros(number_epoch)\n",
    "loss_discriminator_std  = np.zeros(number_epoch)\n",
    "\n",
    "accuracy_mean   = np.zeros(number_epoch)\n",
    "accuracy_std    = np.zeros(number_epoch)"
   ]
  },
  {
   "cell_type": "markdown",
   "metadata": {},
   "source": [
    "## train"
   ]
  },
  {
   "cell_type": "code",
   "execution_count": 24,
   "metadata": {},
   "outputs": [],
   "source": [
    "def train(generator, discriminator, dataloader):\n",
    "\n",
    "    loss_epoch_generator      = []\n",
    "    loss_epoch_discriminator  = []\n",
    "    accuracy_epoch = []\n",
    "    \n",
    "    for index_batch, data_real in enumerate(dataloader):\n",
    "\n",
    "        size_batch  = len(data_real)\n",
    "        data_real   = data_real.to(device)\n",
    "        \n",
    "        latent  = torch.randn(size_batch, dim_latent, device=device)\n",
    "        latent  = torch.reshape(latent, [size_batch, dim_latent, 1, 1])\n",
    "\n",
    "        # ---------------------------------------------------------------------------\n",
    "        #  \n",
    "        # update the generator\n",
    "        #  \n",
    "        # ---------------------------------------------------------------------------\n",
    "        generator.train()\n",
    "        discriminator.eval()\n",
    "\n",
    "        optimizer_generator.zero_grad()\n",
    "        loss_generator = compute_loss_generator(generator, discriminator, latent)\n",
    "        loss_generator.backward()\n",
    "        optimizer_generator.step()\n",
    "\n",
    "        # ---------------------------------------------------------------------------\n",
    "        #  \n",
    "        # update the discriminator\n",
    "        #  \n",
    "        # ---------------------------------------------------------------------------\n",
    "        generator.eval()\n",
    "        discriminator.train()\n",
    "\n",
    "        optimizer_discriminator.zero_grad()\n",
    "        loss_discriminator = compute_loss_discriminator(generator, discriminator, latent, data_real)\n",
    "        loss_discriminator.backward()\n",
    "        optimizer_discriminator.step()\n",
    "\n",
    "        data_fake   = compute_prediction(generator, latent)\n",
    "        accuracy    = compute_accuracy(data_fake)\n",
    "\n",
    "        loss_epoch_generator.append(loss_generator.item())\n",
    "        loss_epoch_discriminator.append(loss_discriminator.item())\n",
    "        accuracy_epoch.append(accuracy)\n",
    "\n",
    "    loss_generator_mean_epoch       = np.mean(loss_epoch_generator)\n",
    "    loss_generator_std_epoch        = np.std(loss_epoch_generator)\n",
    "    \n",
    "    loss_discriminator_mean_epoch   = np.mean(loss_epoch_discriminator)\n",
    "    loss_discriminator_std_epoch    = np.std(loss_epoch_discriminator)\n",
    "\n",
    "    accuracy_mean_epoch             = np.mean(accuracy_epoch)\n",
    "    accuracy_std_epoch              = np.std(accuracy_epoch)\n",
    "\n",
    "    loss_value_generator        = {'mean' : loss_generator_mean_epoch, 'std' : loss_generator_std_epoch}\n",
    "    loss_value_discriminator    = {'mean' : loss_discriminator_mean_epoch, 'std' : loss_discriminator_std_epoch}\n",
    "    accuracy_value              = {'mean' : accuracy_mean_epoch, 'std' : accuracy_std_epoch} \n",
    "\n",
    "    return loss_value_generator, loss_value_discriminator, accuracy_value\n"
   ]
  },
  {
   "cell_type": "markdown",
   "metadata": {},
   "source": [
    "## training epoch"
   ]
  },
  {
   "cell_type": "code",
   "execution_count": 25,
   "metadata": {},
   "outputs": [
    {
     "name": "stderr",
     "output_type": "stream",
     "text": [
      "100%|████████████████████████████████████████████████████████████████████████████████| 100/100 [15:31<00:00,  9.32s/it]\n"
     ]
    }
   ],
   "source": [
    "# ================================================================================\n",
    "# \n",
    "# iterations for epochs\n",
    "#\n",
    "# ================================================================================\n",
    "for i in tqdm(range(number_epoch)):\n",
    "    \n",
    "    # ================================================================================\n",
    "    # \n",
    "    # training\n",
    "    #\n",
    "    # ================================================================================\n",
    "    (loss_value_generator, loss_value_discriminator, accuracy_value) = train(generator, discriminator, dataloader_real)\n",
    "\n",
    "    loss_generator_mean[i]      = loss_value_generator['mean']\n",
    "    loss_generator_std[i]       = loss_value_generator['std']\n",
    "\n",
    "    loss_discriminator_mean[i]  = loss_value_discriminator['mean']\n",
    "    loss_discriminator_std[i]   = loss_value_discriminator['std']\n",
    "\n",
    "    accuracy_mean[i]            = accuracy_value['mean']\n",
    "    accuracy_std[i]             = accuracy_value['std']"
   ]
  },
  {
   "cell_type": "markdown",
   "metadata": {},
   "source": [
    "---"
   ]
  },
  {
   "cell_type": "markdown",
   "metadata": {},
   "source": [
    "# functions for visualizing the results "
   ]
  },
  {
   "cell_type": "markdown",
   "metadata": {},
   "source": [
    "---"
   ]
  },
  {
   "cell_type": "markdown",
   "metadata": {},
   "source": [
    "## plot curve"
   ]
  },
  {
   "cell_type": "markdown",
   "metadata": {},
   "source": []
  },
  {
   "cell_type": "code",
   "execution_count": 26,
   "metadata": {},
   "outputs": [],
   "source": [
    "def plot_image_grid(data, nRow, nCol, filename=None):\n",
    "\n",
    "    size_col = 1.5\n",
    "    size_row = 1.5\n",
    "\n",
    "    fig, axes = plt.subplots(nRow, nCol, constrained_layout=True, figsize=(nCol * size_col, nRow * size_row))\n",
    "    \n",
    "    data = data.detach().cpu()\n",
    "\n",
    "    for i in range(nRow):\n",
    "        for j in range(nCol):\n",
    "\n",
    "            k       = i * nCol + j\n",
    "            image   = np.squeeze(data[k], axis=0)\n",
    "\n",
    "            axes[i, j].imshow(image, cmap='gray', vmin=0, vmax=1)\n",
    "            axes[i, j].xaxis.set_visible(False)\n",
    "            axes[i, j].yaxis.set_visible(False)\n",
    "\n",
    "    plt.show()\n",
    "\n",
    "    if filename is not None:\n",
    "\n",
    "        fig.savefig(filename)\n",
    "        pass"
   ]
  },
  {
   "cell_type": "code",
   "execution_count": 27,
   "metadata": {},
   "outputs": [],
   "source": [
    "def plot_data_grid(data, index_data, nRow, nCol):\n",
    "    \n",
    "    size_col = 1.5\n",
    "    size_row = 1.5\n",
    "\n",
    "    fig, axes = plt.subplots(nRow, nCol, constrained_layout=True, figsize=(nCol * size_col, nRow * size_row))\n",
    "\n",
    "    for i in range(nRow):\n",
    "        for j in range(nCol):\n",
    "\n",
    "            k       = i * nCol + j\n",
    "            index   = index_data[k]\n",
    "\n",
    "            axes[i, j].imshow(data[index], cmap='gray', vmin=0, vmax=1)\n",
    "            axes[i, j].xaxis.set_visible(False)\n",
    "            axes[i, j].yaxis.set_visible(False)\n",
    "\n",
    "    plt.show()"
   ]
  },
  {
   "cell_type": "code",
   "execution_count": 28,
   "metadata": {},
   "outputs": [],
   "source": [
    "def plot_data_tensor_grid(data, index_data, nRow, nCol):\n",
    "    \n",
    "    size_col = 1.5\n",
    "    size_row = 1.5\n",
    "\n",
    "    fig, axes = plt.subplots(nRow, nCol, constrained_layout=True, figsize=(nCol * size_col, nRow * size_row))\n",
    "\n",
    "    data = data.detach().cpu().squeeze(axis=1)\n",
    "\n",
    "    for i in range(nRow):\n",
    "        for j in range(nCol):\n",
    "\n",
    "            k       = i * nCol + j\n",
    "            index   = index_data[k]\n",
    "\n",
    "            axes[i, j].imshow(data[index], cmap='gray', vmin=0, vmax=1)\n",
    "            axes[i, j].xaxis.set_visible(False)\n",
    "            axes[i, j].yaxis.set_visible(False)\n",
    "\n",
    "    plt.show()"
   ]
  },
  {
   "cell_type": "code",
   "execution_count": 29,
   "metadata": {},
   "outputs": [],
   "source": [
    "def plot_curve_error(data_mean, data_std, x_label, y_label, title, filename=None):\n",
    "\n",
    "    fig = plt.figure(figsize=(8, 6))\n",
    "    plt.title(title)\n",
    "\n",
    "    alpha = 0.3\n",
    "    \n",
    "    plt.plot(range(len(data_mean)), data_mean, '-', color = 'red')\n",
    "    plt.fill_between(range(len(data_mean)), data_mean - data_std, data_mean + data_std, facecolor = 'blue', alpha = alpha) \n",
    "    \n",
    "    plt.xlabel(x_label)\n",
    "    plt.ylabel(y_label)\n",
    "\n",
    "    plt.tight_layout()\n",
    "    plt.show()\n",
    "\n",
    "    if filename is not None:\n",
    "\n",
    "        fig.savefig(filename)\n",
    "        pass"
   ]
  },
  {
   "cell_type": "code",
   "execution_count": 30,
   "metadata": {},
   "outputs": [],
   "source": [
    "def print_curve(data, index):\n",
    "    \n",
    "    for i in range(len(index)):\n",
    "\n",
    "        idx = index[i]\n",
    "        val = data[idx]\n",
    "\n",
    "        print('index = %2d, value = %12.10f' % (idx, val))"
   ]
  },
  {
   "cell_type": "code",
   "execution_count": 31,
   "metadata": {},
   "outputs": [],
   "source": [
    "def get_data_last(data, index_start):\n",
    "\n",
    "    data_last = data[index_start:]\n",
    "\n",
    "    return data_last"
   ]
  },
  {
   "cell_type": "code",
   "execution_count": 32,
   "metadata": {},
   "outputs": [],
   "source": [
    "def get_max_last_range(data, index_start):\n",
    "\n",
    "    data_range = get_data_last(data, index_start)\n",
    "    value = data_range.max()\n",
    "\n",
    "    return value"
   ]
  },
  {
   "cell_type": "code",
   "execution_count": 33,
   "metadata": {},
   "outputs": [],
   "source": [
    "def get_min_last_range(data, index_start):\n",
    "\n",
    "    data_range = get_data_last(data, index_start)\n",
    "    value = data_range.min()\n",
    "\n",
    "    return value"
   ]
  },
  {
   "cell_type": "markdown",
   "metadata": {},
   "source": [
    "---"
   ]
  },
  {
   "cell_type": "markdown",
   "metadata": {},
   "source": [
    "# functions for presenting the results"
   ]
  },
  {
   "cell_type": "markdown",
   "metadata": {},
   "source": [
    "---"
   ]
  },
  {
   "cell_type": "code",
   "execution_count": 34,
   "metadata": {},
   "outputs": [],
   "source": [
    "def function_result_01():\n",
    "\n",
    "    print('[plot examples of the real images]')\n",
    "    print('') \n",
    "\n",
    "    nRow = 8\n",
    "    nCol = 6\n",
    "\n",
    "    number_data = len(dataset_real)\n",
    "    step        = np.floor(number_data / (nRow * nCol))\n",
    "    index_data  = np.arange(0, number_data, step)\n",
    "    index_plot  = np.arange(0, nRow * nCol)\n",
    "\n",
    "    data = dataset_real[index_data]\n",
    "    data = data[0]\n",
    "    \n",
    "    plot_data_grid(data, index_plot, nRow, nCol)"
   ]
  },
  {
   "cell_type": "code",
   "execution_count": 35,
   "metadata": {},
   "outputs": [],
   "source": [
    "def function_result_02():\n",
    "\n",
    "    print('[plot examples of the fake images]')\n",
    "    print('') \n",
    "\n",
    "    nRow = 8\n",
    "    nCol = 6\n",
    "    number_latent = nRow * nCol\n",
    "\n",
    "    latent  = torch.randn(number_latent, dim_latent, device=device)\n",
    "    latent  = torch.reshape(latent, [number_latent, dim_latent, 1, 1])\n",
    "\n",
    "    generator.eval()\n",
    "\n",
    "    data_fake   = generator(latent)\n",
    "    filename    = 'fake_image.png'\n",
    "\n",
    "    plot_image_grid(data_fake, nRow, nCol, filename)"
   ]
  },
  {
   "cell_type": "code",
   "execution_count": 36,
   "metadata": {},
   "outputs": [],
   "source": [
    "def function_result_03():\n",
    "\n",
    "    print('[plot the generator loss]')\n",
    "    print('') \n",
    "\n",
    "    plot_curve_error(loss_generator_mean, loss_generator_std, 'epoch', 'loss', 'generator loss', 'loss_generator.png')"
   ]
  },
  {
   "cell_type": "code",
   "execution_count": 37,
   "metadata": {},
   "outputs": [],
   "source": [
    "def function_result_04():\n",
    "    \n",
    "    print('[plot the discriminator loss]')\n",
    "    print('') \n",
    "    \n",
    "    plot_curve_error(loss_discriminator_mean, loss_discriminator_std, 'epoch', 'loss', 'discriminator loss', 'loss_discriminator.png')"
   ]
  },
  {
   "cell_type": "code",
   "execution_count": 38,
   "metadata": {},
   "outputs": [],
   "source": [
    "def function_result_05():\n",
    "    \n",
    "    print('[plot the accuracy]')\n",
    "    print('') \n",
    "    \n",
    "    plot_curve_error(accuracy_mean, accuracy_std, 'epoch', 'accuracy', 'training accuracy', 'training_accuracy.png')"
   ]
  },
  {
   "cell_type": "code",
   "execution_count": 39,
   "metadata": {},
   "outputs": [],
   "source": [
    "def function_result_06():\n",
    "    \n",
    "    print('[print the generator loss at the last 10 epochs]')\n",
    "    print('') \n",
    "\n",
    "    data_last = get_data_last(loss_generator_mean, -10)\n",
    "    index = np.arange(0, 10)\n",
    "    print_curve(data_last, index)"
   ]
  },
  {
   "cell_type": "code",
   "execution_count": 40,
   "metadata": {},
   "outputs": [],
   "source": [
    "def function_result_07():\n",
    "    \n",
    "    print('[print the discriminator loss at the last 10 epochs]')\n",
    "    print('') \n",
    "\n",
    "    data_last = get_data_last(loss_discriminator_mean, -10)\n",
    "    index = np.arange(0, 10)\n",
    "    print_curve(data_last, index)"
   ]
  },
  {
   "cell_type": "code",
   "execution_count": 41,
   "metadata": {},
   "outputs": [],
   "source": [
    "def function_result_08():\n",
    "    \n",
    "    print('[print the accuracy at the last 10 epochs]')\n",
    "    print('') \n",
    "\n",
    "    data_last = get_data_last(accuracy_mean, -10)\n",
    "    index = np.arange(0, 10)\n",
    "    print_curve(data_last, index)"
   ]
  },
  {
   "cell_type": "code",
   "execution_count": 42,
   "metadata": {},
   "outputs": [],
   "source": [
    "def function_result_09():\n",
    "    \n",
    "    print('[print the best accuracy within the last 10 epochs]')\n",
    "    print('') \n",
    "    \n",
    "    value = get_max_last_range(accuracy_mean, -10)\n",
    "    print('best accuracy = %12.10f' % (value))"
   ]
  },
  {
   "cell_type": "markdown",
   "metadata": {},
   "source": [
    "---"
   ]
  },
  {
   "cell_type": "markdown",
   "metadata": {},
   "source": [
    "# RESULTS"
   ]
  },
  {
   "cell_type": "markdown",
   "metadata": {},
   "source": [
    "---"
   ]
  },
  {
   "cell_type": "code",
   "execution_count": 43,
   "metadata": {
    "scrolled": false
   },
   "outputs": [
    {
     "name": "stdout",
     "output_type": "stream",
     "text": [
      "\n",
      "################################################################################\n",
      "#\n",
      "# RESULT # 01\n",
      "#\n",
      "################################################################################\n",
      "\n",
      "[plot examples of the real images]\n",
      "\n"
     ]
    },
    {
     "data": {
      "image/png": "[encoded data removed]",
      "text/plain": [
       "<Figure size 648x864 with 48 Axes>"
      ]
     },
     "metadata": {
      "needs_background": "light"
     },
     "output_type": "display_data"
    },
    {
     "name": "stdout",
     "output_type": "stream",
     "text": [
      "\n",
      "################################################################################\n",
      "#\n",
      "# RESULT # 02\n",
      "#\n",
      "################################################################################\n",
      "\n",
      "[plot examples of the fake images]\n",
      "\n"
     ]
    },
    {
     "data": {
      "image/png": "[encoded data removed]",
      "text/plain": [
       "<Figure size 648x864 with 48 Axes>"
      ]
     },
     "metadata": {
      "needs_background": "light"
     },
     "output_type": "display_data"
    },
    {
     "name": "stdout",
     "output_type": "stream",
     "text": [
      "\n",
      "################################################################################\n",
      "#\n",
      "# RESULT # 03\n",
      "#\n",
      "################################################################################\n",
      "\n",
      "[plot the generator loss]\n",
      "\n"
     ]
    },
    {
     "data": {
      "image/png": "[encoded data removed]",
      "text/plain": [
       "<Figure size 576x432 with 1 Axes>"
      ]
     },
     "metadata": {
      "needs_background": "light"
     },
     "output_type": "display_data"
    },
    {
     "name": "stdout",
     "output_type": "stream",
     "text": [
      "\n",
      "################################################################################\n",
      "#\n",
      "# RESULT # 04\n",
      "#\n",
      "################################################################################\n",
      "\n",
      "[plot the discriminator loss]\n",
      "\n"
     ]
    },
    {
     "data": {
      "image/png": "[encoded data removed]",
      "text/plain": [
       "<Figure size 576x432 with 1 Axes>"
      ]
     },
     "metadata": {
      "needs_background": "light"
     },
     "output_type": "display_data"
    },
    {
     "name": "stdout",
     "output_type": "stream",
     "text": [
      "\n",
      "################################################################################\n",
      "#\n",
      "# RESULT # 05\n",
      "#\n",
      "################################################################################\n",
      "\n",
      "[plot the accuracy]\n",
      "\n"
     ]
    },
    {
     "data": {
      "image/png": "[encoded data removed]",
      "text/plain": [
       "<Figure size 576x432 with 1 Axes>"
      ]
     },
     "metadata": {
      "needs_background": "light"
     },
     "output_type": "display_data"
    },
    {
     "name": "stdout",
     "output_type": "stream",
     "text": [
      "\n",
      "################################################################################\n",
      "#\n",
      "# RESULT # 06\n",
      "#\n",
      "################################################################################\n",
      "\n",
      "[print the generator loss at the last 10 epochs]\n",
      "\n",
      "index =  0, value = 3.8079449835\n",
      "index =  1, value = 3.2010915969\n",
      "index =  2, value = 3.7727945759\n",
      "index =  3, value = 3.9102825346\n",
      "index =  4, value = 3.2369994794\n",
      "index =  5, value = 4.1896279360\n",
      "index =  6, value = 4.2600345750\n",
      "index =  7, value = 4.1628197285\n",
      "index =  8, value = 3.7552310969\n",
      "index =  9, value = 4.0844583506\n",
      "\n",
      "################################################################################\n",
      "#\n",
      "# RESULT # 07\n",
      "#\n",
      "################################################################################\n",
      "\n",
      "[print the discriminator loss at the last 10 epochs]\n",
      "\n",
      "index =  0, value = 0.2356981230\n",
      "index =  1, value = 0.2840670181\n",
      "index =  2, value = 0.2781602856\n",
      "index =  3, value = 0.2513368674\n",
      "index =  4, value = 0.3012053360\n",
      "index =  5, value = 0.2357335618\n",
      "index =  6, value = 0.2448211184\n",
      "index =  7, value = 0.2483188517\n",
      "index =  8, value = 0.2819547502\n",
      "index =  9, value = 0.2752747942\n",
      "\n",
      "################################################################################\n",
      "#\n",
      "# RESULT # 08\n",
      "#\n",
      "################################################################################\n",
      "\n",
      "[print the accuracy at the last 10 epochs]\n",
      "\n",
      "index =  0, value = 90.2818868449\n",
      "index =  1, value = 78.3724724817\n",
      "index =  2, value = 88.0225980985\n",
      "index =  3, value = 89.9512797320\n",
      "index =  4, value = 81.3693569964\n",
      "index =  5, value = 88.1194363592\n",
      "index =  6, value = 75.9614257722\n",
      "index =  7, value = 90.8766759920\n",
      "index =  8, value = 86.6755372603\n",
      "index =  9, value = 87.7660786821\n",
      "\n",
      "################################################################################\n",
      "#\n",
      "# RESULT # 09\n",
      "#\n",
      "################################################################################\n",
      "\n",
      "[print the best accuracy within the last 10 epochs]\n",
      "\n",
      "best accuracy = 90.8766759920\n"
     ]
    }
   ],
   "source": [
    "number_result = 9\n",
    "\n",
    "for i in range(number_result):\n",
    "\n",
    "    title           = '# RESULT # {:02d}'.format(i+1) \n",
    "    name_function   = 'function_result_{:02d}()'.format(i+1)\n",
    "\n",
    "    print('') \n",
    "    print('################################################################################')\n",
    "    print('#') \n",
    "    print(title)\n",
    "    print('#') \n",
    "    print('################################################################################')\n",
    "    print('') \n",
    "\n",
    "    eval(name_function)"
   ]
  },
  {
   "cell_type": "code",
   "execution_count": null,
   "metadata": {},
   "outputs": [],
   "source": []
  },
  {
   "cell_type": "code",
   "execution_count": null,
   "metadata": {},
   "outputs": [],
   "source": []
  }
 ],
 "metadata": {
  "colab": {
   "authorship_tag": "ABX9TyM0gXqiryv5831mXd12OejK",
   "collapsed_sections": [],
   "name": "assignment_02.ipynb",
   "provenance": []
  },
  "interpreter": {
   "hash": "17ed1555cfbb96ddcf655400d6c25a9cebe961c1b69daf25bae91d698acdd2a7"
  },
  "kernelspec": {
   "display_name": "Python 3",
   "language": "python",
   "name": "python3"
  },
  "language_info": {
   "codemirror_mode": {
    "name": "ipython",
    "version": 3
   },
   "file_extension": ".py",
   "mimetype": "text/x-python",
   "name": "python",
   "nbconvert_exporter": "python",
   "pygments_lexer": "ipython3",
   "version": "3.8.5"
  }
 },
 "nbformat": 4,
 "nbformat_minor": 2
}
