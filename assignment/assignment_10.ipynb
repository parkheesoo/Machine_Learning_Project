{
 "cells": [
  {
   "cell_type": "markdown",
   "metadata": {
    "colab": {
     "base_uri": "https://localhost:8080/"
    },
    "executionInfo": {
     "elapsed": 5,
     "status": "ok",
     "timestamp": 1630597918894,
     "user": {
      "displayName": "Byung-Woo Hong",
      "photoUrl": "",
      "userId": "17273657108187629509"
     },
     "user_tz": -540
    },
    "id": "K29I-OwCEYzW",
    "outputId": "db8b297c-a4b8-457a-b43f-7570135306c7"
   },
   "source": [
    "# Image Segmentation by unsupervised Learning"
   ]
  },
  {
   "cell_type": "markdown",
   "metadata": {},
   "source": [
    "## import libraries"
   ]
  },
  {
   "cell_type": "code",
   "execution_count": 627,
   "metadata": {},
   "outputs": [],
   "source": [
    "import torch\n",
    "import torch.nn as nn\n",
    "import torch.nn.functional as F\n",
    "import torchvision\n",
    "from torch.utils.data import Dataset\n",
    "from torch.utils.data import DataLoader\n",
    "from torchvision import datasets, transforms\n",
    "import numpy as np\n",
    "import matplotlib.pyplot as plt\n",
    "import math\n",
    "from tqdm import tqdm\n",
    "import random\n",
    "import os"
   ]
  },
  {
   "cell_type": "markdown",
   "metadata": {},
   "source": [
    "## load data"
   ]
  },
  {
   "cell_type": "code",
   "execution_count": 628,
   "metadata": {},
   "outputs": [],
   "source": [
    "directory_data  = './'\n",
    "filename_data   = 'assignment_10_data.npz'\n",
    "data            = np.load(os.path.join(directory_data, filename_data))\n",
    "image_clean     = torch.from_numpy(data['real_images']).float()"
   ]
  },
  {
   "cell_type": "markdown",
   "metadata": {},
   "source": [
    "## custom data loader for the PyTorch framework"
   ]
  },
  {
   "cell_type": "code",
   "execution_count": 629,
   "metadata": {},
   "outputs": [],
   "source": [
    "class dataset (Dataset):\n",
    "    def  __init__(self, data, std_noise):\n",
    "\n",
    "        noise = torch.randn(data.size()) * std_noise\n",
    "\n",
    "        self.clean  = data\n",
    "        self.noisy  = data + noise \n",
    "\n",
    "    def __getitem__(self, index):\n",
    "\n",
    "        clean   = self.clean[index]\n",
    "        noisy   = self.noisy[index]\n",
    "\n",
    "        clean = torch.FloatTensor(clean).unsqueeze(dim=0)\n",
    "        noisy = torch.FloatTensor(noisy).unsqueeze(dim=0)\n",
    "\n",
    "        return (clean, noisy)\n",
    "  \n",
    "    def __len__(self):\n",
    "        \n",
    "        return self.clean.shape[0]"
   ]
  },
  {
   "cell_type": "code",
   "execution_count": 630,
   "metadata": {},
   "outputs": [],
   "source": [
    "image_train = image_clean[::2]\n",
    "image_test  = image_clean[1::2]\n",
    "\n",
    "dataset_train   = dataset(image_train, 0.5)\n",
    "dataset_test    = dataset(image_test, 0.5)"
   ]
  },
  {
   "cell_type": "markdown",
   "metadata": {},
   "source": [
    "## hyper-parameters"
   ]
  },
  {
   "cell_type": "code",
   "execution_count": 631,
   "metadata": {},
   "outputs": [],
   "source": [
    "device          = torch.device('cuda' if torch.cuda.is_available() else 'cpu')\n",
    "\n",
    "number_epoch    = 1000\n",
    "size_minibatch  = 50\n",
    "learning_rate   = 0.1\n",
    "weight_decay    = 0.0001\n",
    "weight_regular  = 0.0001"
   ]
  },
  {
   "cell_type": "markdown",
   "metadata": {},
   "source": [
    "## construct datasets and dataloaders for training and testing"
   ]
  },
  {
   "cell_type": "code",
   "execution_count": 632,
   "metadata": {},
   "outputs": [],
   "source": [
    "dataloader_train            = DataLoader(dataset_train, batch_size=size_minibatch, shuffle=True, drop_last=True)\n",
    "dataloader_test             = DataLoader(dataset_test, batch_size=size_minibatch, shuffle=False, drop_last=True)"
   ]
  },
  {
   "cell_type": "markdown",
   "metadata": {},
   "source": [
    "## shape of the data when using the data loader"
   ]
  },
  {
   "cell_type": "code",
   "execution_count": 633,
   "metadata": {},
   "outputs": [
    {
     "name": "stdout",
     "output_type": "stream",
     "text": [
      "*******************************************************************\n",
      "shape of the image in the training dataset: torch.Size([1, 32, 32])\n",
      "shape of the label in the training dataset: torch.Size([1, 32, 32])\n",
      "*******************************************************************\n",
      "shape of the image in the testing dataset: torch.Size([1, 32, 32])\n",
      "shape of the label in the testing dataset: torch.Size([1, 32, 32])\n",
      "*******************************************************************\n"
     ]
    }
   ],
   "source": [
    "(image_train, label_train)  = dataset_train[0]\n",
    "(image_test, label_test)    = dataset_test[0]\n",
    "print('*******************************************************************')\n",
    "print('shape of the image in the training dataset:', image_train.shape)\n",
    "print('shape of the label in the training dataset:', label_train.shape)\n",
    "print('*******************************************************************')\n",
    "print('shape of the image in the testing dataset:', image_test.shape)\n",
    "print('shape of the label in the testing dataset:', label_test.shape)\n",
    "print('*******************************************************************')"
   ]
  },
  {
   "cell_type": "markdown",
   "metadata": {},
   "source": [
    "## class for the neural network "
   ]
  },
  {
   "cell_type": "code",
   "execution_count": 634,
   "metadata": {},
   "outputs": [],
   "source": [
    "class Network(nn.Module):\n",
    "    def __init__(self):\n",
    "        super(Network, self).__init__()\n",
    "\n",
    "        def CBR2d(in_channels=1, out_channels=1, kernel_size=3, stride=1, padding=1, bias=True):\n",
    "            layers = []\n",
    "            layers += [nn.Conv2d(in_channels=in_channels, out_channels=out_channels,\n",
    "                                 kernel_size=kernel_size, stride=stride, padding=padding,\n",
    "                                 bias=bias)]\n",
    "            layers += [nn.BatchNorm2d(num_features=out_channels)]\n",
    "            layers += [nn.ReLU()]\n",
    "\n",
    "            cbr = nn.Sequential(*layers)\n",
    "\n",
    "            return cbr\n",
    "\n",
    "        # Contracting path\n",
    "        self.enc1_1 = CBR2d(in_channels=1, out_channels=64)\n",
    "        self.enc1_2 = CBR2d(in_channels=64, out_channels=64)\n",
    "\n",
    "        self.pool1 = nn.MaxPool2d(kernel_size=2)\n",
    "\n",
    "        self.enc2_1 = CBR2d(in_channels=64, out_channels=128)\n",
    "        self.enc2_2 = CBR2d(in_channels=128, out_channels=128)\n",
    "\n",
    "        self.pool2 = nn.MaxPool2d(kernel_size=2)\n",
    "\n",
    "        self.enc3_1 = CBR2d(in_channels=128, out_channels=256)\n",
    "        self.enc3_2 = CBR2d(in_channels=256, out_channels=256)\n",
    "\n",
    "        self.pool3 = nn.MaxPool2d(kernel_size=2)\n",
    "\n",
    "        self.enc4_1 = CBR2d(in_channels=256, out_channels=512)\n",
    "        self.enc4_2 = CBR2d(in_channels=512, out_channels=512)\n",
    "\n",
    "        self.pool4 = nn.MaxPool2d(kernel_size=2)\n",
    "\n",
    "        self.enc5_1 = CBR2d(in_channels=512, out_channels=1024)\n",
    "\n",
    "        # Expansive path\n",
    "        self.dec5_1 = CBR2d(in_channels=1024, out_channels=512)\n",
    "\n",
    "        self.unpool4 = nn.ConvTranspose2d(in_channels=512, out_channels=512,\n",
    "                                          kernel_size=2, stride=2, padding=0, bias=True)\n",
    "\n",
    "        self.dec4_2 = CBR2d(in_channels=2 * 512, out_channels=512)\n",
    "        self.dec4_1 = CBR2d(in_channels=512, out_channels=256)\n",
    "\n",
    "        self.unpool3 = nn.ConvTranspose2d(in_channels=256, out_channels=256,\n",
    "                                          kernel_size=2, stride=2, padding=0, bias=True)\n",
    "\n",
    "        self.dec3_2 = CBR2d(in_channels=2 * 256, out_channels=256)\n",
    "        self.dec3_1 = CBR2d(in_channels=256, out_channels=128)\n",
    "\n",
    "        self.unpool2 = nn.ConvTranspose2d(in_channels=128, out_channels=128,\n",
    "                                          kernel_size=2, stride=2, padding=0, bias=True)\n",
    "\n",
    "        self.dec2_2 = CBR2d(in_channels=2 * 128, out_channels=128)\n",
    "        self.dec2_1 = CBR2d(in_channels=128, out_channels=64)\n",
    "\n",
    "        self.unpool1 = nn.ConvTranspose2d(in_channels=64, out_channels=64,\n",
    "                                          kernel_size=2, stride=2, padding=0, bias=True)\n",
    "\n",
    "        self.dec1_2 = CBR2d(in_channels=2 * 64, out_channels=64)\n",
    "        self.dec1_1 = CBR2d(in_channels=64, out_channels=64)\n",
    "\n",
    "        self.fc = nn.Conv2d(in_channels=64, out_channels=1, kernel_size=1, stride=1, padding=0, bias=True)\n",
    "\n",
    "    def forward(self, x):\n",
    "        enc1_1 = self.enc1_1(x)\n",
    "        enc1_2 = self.enc1_2(enc1_1)\n",
    "        pool1 = self.pool1(enc1_2)\n",
    "\n",
    "        enc2_1 = self.enc2_1(pool1)\n",
    "        enc2_2 = self.enc2_2(enc2_1)\n",
    "        pool2 = self.pool2(enc2_2)\n",
    "\n",
    "        enc3_1 = self.enc3_1(pool2)\n",
    "        enc3_2 = self.enc3_2(enc3_1)\n",
    "        pool3 = self.pool3(enc3_2)\n",
    "\n",
    "        enc4_1 = self.enc4_1(pool3)\n",
    "        enc4_2 = self.enc4_2(enc4_1)\n",
    "        pool4 = self.pool4(enc4_2)\n",
    "\n",
    "        enc5_1 = self.enc5_1(pool4)\n",
    "\n",
    "        dec5_1 = self.dec5_1(enc5_1)\n",
    "\n",
    "        unpool4 = self.unpool4(dec5_1)\n",
    "        cat4 = torch.cat((unpool4, enc4_2), dim=1)\n",
    "        dec4_2 = self.dec4_2(cat4)\n",
    "        dec4_1 = self.dec4_1(dec4_2)\n",
    "\n",
    "        unpool3 = self.unpool3(dec4_1)\n",
    "        cat3 = torch.cat((unpool3, enc3_2), dim=1)\n",
    "        dec3_2 = self.dec3_2(cat3)\n",
    "        dec3_1 = self.dec3_1(dec3_2)\n",
    "\n",
    "        unpool2 = self.unpool2(dec3_1)\n",
    "        cat2 = torch.cat((unpool2, enc2_2), dim=1)\n",
    "        dec2_2 = self.dec2_2(cat2)\n",
    "        dec2_1 = self.dec2_1(dec2_2)\n",
    "\n",
    "        unpool1 = self.unpool1(dec2_1)\n",
    "        cat1 = torch.cat((unpool1, enc1_2), dim=1)\n",
    "        dec1_2 = self.dec1_2(cat1)\n",
    "        dec1_1 = self.dec1_1(dec1_2)\n",
    "\n",
    "        x = self.fc(dec1_1)\n",
    "\n",
    "        return x"
   ]
  },
  {
   "cell_type": "markdown",
   "metadata": {},
   "source": [
    "## build network"
   ]
  },
  {
   "cell_type": "code",
   "execution_count": 635,
   "metadata": {},
   "outputs": [],
   "source": [
    "model       = Network().to(device)\n",
    "optimizer   = torch.optim.SGD(model.parameters(), lr=learning_rate, weight_decay=weight_decay)"
   ]
  },
  {
   "cell_type": "markdown",
   "metadata": {},
   "source": [
    "## compute the prediction"
   ]
  },
  {
   "cell_type": "code",
   "execution_count": 636,
   "metadata": {},
   "outputs": [],
   "source": [
    "def compute_prediction(model, input):\n",
    "    # ==================================================\n",
    "    # fill up the blank\n",
    "    prediction = model(input)\n",
    "    # \n",
    "    # ==================================================\n",
    "\n",
    "    return prediction"
   ]
  },
  {
   "cell_type": "code",
   "execution_count": 637,
   "metadata": {},
   "outputs": [],
   "source": [
    "def compute_estimate(input, prediction):\n",
    "\n",
    "    number_phase = 2 # bi-partitioning\n",
    "    (batch, channel, height, width) = input.size()\n",
    "\n",
    "    estimate = torch.zeros(number_phase, batch, channel).to(device)\n",
    "     \n",
    "    prediction_inside   = prediction\n",
    "    prediction_outside  = 1 - prediction\n",
    "\n",
    "    # ==================================================\n",
    "    # fill up the blank for the estimate of the inside of segmenting region\n",
    "    #\n",
    "    estimate[0] = torch.sum(input.matmul(prediction_inside)) / torch.sum(prediction_inside)\n",
    "    # \n",
    "    # ==================================================\n",
    "    \n",
    "    # ==================================================\n",
    "    # fill up the blank for the estimate of the outside of segmenting region\n",
    "    #\n",
    "    estimate[1] = torch.sum(input.matmul(prediction_outside)) / torch.sum(prediction_outside)\n",
    "    # \n",
    "    # ==================================================\n",
    "    \n",
    "    return estimate"
   ]
  },
  {
   "cell_type": "code",
   "execution_count": 638,
   "metadata": {},
   "outputs": [],
   "source": [
    "def compute_loss_data(input, prediction):\n",
    "\n",
    "    (batch, channel, height, width) = input.size()\n",
    "    estimate = compute_estimate(input, prediction)\n",
    "\n",
    "    prediction_inside   = prediction\n",
    "    prediction_outside  = 1 - prediction\n",
    "\n",
    "    estimate0           = torch.unsqueeze(torch.unsqueeze(estimate[0], dim=-1), dim=-1) \n",
    "    estimate1           = torch.unsqueeze(torch.unsqueeze(estimate[1], dim=-1), dim=-1) \n",
    "    \n",
    "    residual_inside     = torch.square(input - estimate0)\n",
    "    residual_outside    = torch.square(input - estimate1)\n",
    "    \n",
    "    # ==================================================\n",
    "    # fill up the blank for the data fidelity of the inside of segmenting region\n",
    "    #\n",
    "    \n",
    "    fidelity_inside     = torch.sum(torch.matmul(residual_inside, prediction))\n",
    "    # \n",
    "    # ==================================================\n",
    "    \n",
    "    # ==================================================\n",
    "    # fill up the blank for the data fidelity of the inside of segmenting region\n",
    "    #\n",
    "    fidelity_outside    = torch.sum(residual_outside.matmul(prediction_outside))\n",
    "    # \n",
    "    # ==================================================\n",
    "\n",
    "    loss_data       = (fidelity_inside + fidelity_outside) / (batch * channel * height * width) \n",
    "    loss_data_value = loss_data.item()\n",
    "\n",
    "    return loss_data, loss_data_value"
   ]
  },
  {
   "cell_type": "code",
   "execution_count": 639,
   "metadata": {},
   "outputs": [],
   "source": [
    "def compute_regularization(prediction):\n",
    "\n",
    "    (batch, channel, height, width) = prediction.size()\n",
    "   \n",
    "    gradient_height = torch.abs(prediction[:, :, 1:, :] - prediction[:, :, :- 1, :]).sum()\n",
    "    gradient_width  = torch.abs(prediction[:, :, :, 1:] - prediction[:, :, :, :-1]).sum()\n",
    "\n",
    "    loss_regularization         = (gradient_height + gradient_width) / (batch * channel * height * width)\n",
    "    loss_regularization_value   = loss_regularization.item()\n",
    "    \n",
    "    return loss_regularization, loss_regularization_value"
   ]
  },
  {
   "cell_type": "markdown",
   "metadata": {},
   "source": [
    "## compute the loss"
   ]
  },
  {
   "cell_type": "code",
   "execution_count": 640,
   "metadata": {},
   "outputs": [],
   "source": [
    "def compute_loss(input, prediction, alpha):\n",
    "\n",
    "    (loss_data, loss_data_value)              = compute_loss_data(input, prediction)\n",
    "    (loss_regularization, loss_regularization_value)    = compute_regularization(prediction)\n",
    "\n",
    "    # ==================================================\n",
    "    # fill up the blank for the loss that consists of the data fidelity and the regularization with a weight\n",
    "    #\n",
    "    loss        = loss_data + alpha * loss_regularization\n",
    "    # \n",
    "    # ==================================================\n",
    "\n",
    "    loss_value  = loss.item()\n",
    "\n",
    "    return loss, loss_value"
   ]
  },
  {
   "cell_type": "markdown",
   "metadata": {},
   "source": [
    "## compute the accuracy"
   ]
  },
  {
   "cell_type": "code",
   "execution_count": 641,
   "metadata": {},
   "outputs": [],
   "source": [
    "def compute_accuracy(prediction, label):\n",
    "    \n",
    "    prediction  = prediction.squeeze(axis=1)\n",
    "    label       = label.squeeze(axis=1)\n",
    "\n",
    "    prediction_binary   = (prediction >= 0.5).cpu().numpy()\n",
    "    label               = label.bool().cpu().numpy()\n",
    "    \n",
    "    region_intersection = prediction_binary & label\n",
    "    region_union        = prediction_binary | label\n",
    "\n",
    "    area_intersection   = region_intersection.sum(axis=1).sum(axis=1).astype(float)\n",
    "    area_union          = region_union.sum(axis=1).sum(axis=1).astype(float)\n",
    "\n",
    "    eps         = np.finfo(float).eps\n",
    "    correct     = area_intersection / (area_union + eps)\n",
    "    accuracy    = correct.mean() * 100.0\n",
    "    \n",
    "    return accuracy"
   ]
  },
  {
   "cell_type": "markdown",
   "metadata": {},
   "source": [
    "## variables for the learning curve"
   ]
  },
  {
   "cell_type": "code",
   "execution_count": 642,
   "metadata": {},
   "outputs": [],
   "source": [
    "loss_mean_train     = np.zeros(number_epoch)\n",
    "loss_std_train      = np.zeros(number_epoch)\n",
    "accuracy_mean_train = np.zeros(number_epoch)\n",
    "accuracy_std_train  = np.zeros(number_epoch)\n",
    "\n",
    "loss_mean_test      = np.zeros(number_epoch)\n",
    "loss_std_test       = np.zeros(number_epoch)\n",
    "accuracy_mean_test  = np.zeros(number_epoch)\n",
    "accuracy_std_test   = np.zeros(number_epoch)"
   ]
  },
  {
   "cell_type": "markdown",
   "metadata": {},
   "source": [
    "## train"
   ]
  },
  {
   "cell_type": "code",
   "execution_count": 643,
   "metadata": {},
   "outputs": [],
   "source": [
    "def train(model, dataloader):\n",
    "\n",
    "    loss_epoch      = []\n",
    "    accuracy_epoch  = []\n",
    "\n",
    "    model.train()\n",
    "\n",
    "    for index_batch, (clean, noisy) in enumerate(dataloader):\n",
    "\n",
    "        clean = clean.to(device)\n",
    "        noisy = noisy.to(device)\n",
    "        \n",
    "        prediction          = compute_prediction(model, noisy)\n",
    "        loss, loss_value    = compute_loss(noisy, prediction, weight_regular)\n",
    "        accuracy1           = compute_accuracy(prediction, clean)\n",
    "        accuracy2           = compute_accuracy(1 - prediction, clean)\n",
    "        accuracy            = np.maximum(accuracy1, accuracy2)\n",
    "\n",
    "        optimizer.zero_grad()\n",
    "        loss.backward()\n",
    "        optimizer.step()\n",
    "\n",
    "        loss_epoch.append(loss_value)\n",
    "        accuracy_epoch.append(accuracy)\n",
    "\n",
    "    loss_mean_epoch     = np.mean(loss_epoch)\n",
    "    loss_std_epoch      = np.std(loss_epoch)\n",
    "\n",
    "    accuracy_mean_epoch = np.mean(accuracy_epoch)\n",
    "    accuracy_std_epoch  = np.std(accuracy_epoch)\n",
    "\n",
    "    loss        = {'mean' : loss_mean_epoch, 'std' : loss_std_epoch}\n",
    "    accuracy    = {'mean' : accuracy_mean_epoch, 'std' : accuracy_std_epoch}\n",
    "\n",
    "    return (loss, accuracy)    \n"
   ]
  },
  {
   "cell_type": "markdown",
   "metadata": {},
   "source": [
    "## test"
   ]
  },
  {
   "cell_type": "code",
   "execution_count": 644,
   "metadata": {},
   "outputs": [],
   "source": [
    "def test(model, dataloader):\n",
    "\n",
    "    loss_epoch      = []\n",
    "    accuracy_epoch  = []\n",
    "\n",
    "    model.eval()\n",
    "\n",
    "    for index_batch, (clean, noisy) in enumerate(dataloader):\n",
    "\n",
    "        clean = clean.to(device)\n",
    "        noisy = noisy.to(device)\n",
    "        \n",
    "        prediction          = compute_prediction(model, noisy)\n",
    "        loss, loss_value    = compute_loss(noisy, prediction, weight_regular)\n",
    "        accuracy1           = compute_accuracy(prediction, clean)\n",
    "        accuracy2           = compute_accuracy(1 - prediction, clean)\n",
    "        accuracy            = np.maximum(accuracy1, accuracy2)\n",
    "\n",
    "        loss_epoch.append(loss_value)\n",
    "        accuracy_epoch.append(accuracy)\n",
    "\n",
    "    loss_mean_epoch     = np.mean(loss_epoch)\n",
    "    loss_std_epoch      = np.std(loss_epoch)\n",
    "\n",
    "    accuracy_mean_epoch = np.mean(accuracy_epoch)\n",
    "    accuracy_std_epoch  = np.std(accuracy_epoch)\n",
    "\n",
    "    loss        = {'mean' : loss_mean_epoch, 'std' : loss_std_epoch}\n",
    "    accuracy    = {'mean' : accuracy_mean_epoch, 'std' : accuracy_std_epoch}\n",
    "\n",
    "    return (loss, accuracy)    "
   ]
  },
  {
   "cell_type": "markdown",
   "metadata": {},
   "source": [
    "## train and test"
   ]
  },
  {
   "cell_type": "code",
   "execution_count": 645,
   "metadata": {},
   "outputs": [
    {
     "name": "stderr",
     "output_type": "stream",
     "text": [
      "100%|████████████████████████████████████████████████████████████████████████████████████| 3/3 [01:27<00:00, 29.15s/it]\n"
     ]
    }
   ],
   "source": [
    "# ================================================================================\n",
    "# \n",
    "# iterations for epochs\n",
    "#\n",
    "# ================================================================================\n",
    "for i in tqdm(range(3)):\n",
    "    \n",
    "    # ================================================================================\n",
    "    # \n",
    "    # training\n",
    "    #\n",
    "    # ================================================================================\n",
    "    (loss_train, accuracy_train) = train(model, dataloader_train)\n",
    "\n",
    "    loss_mean_train[i]      = loss_train['mean']\n",
    "    loss_std_train[i]       = loss_train['std']\n",
    "\n",
    "    accuracy_mean_train[i]  = accuracy_train['mean']\n",
    "    accuracy_std_train[i]   = accuracy_train['std']\n",
    "\n",
    "    # ================================================================================\n",
    "    # \n",
    "    # testing\n",
    "    #\n",
    "    # ================================================================================\n",
    "    (loss_test, accuracy_test) = test(model, dataloader_test)\n",
    "\n",
    "    loss_mean_test[i]      = loss_test['mean']\n",
    "    loss_std_test[i]       = loss_test['std']\n",
    "\n",
    "    accuracy_mean_test[i]  = accuracy_test['mean']\n",
    "    accuracy_std_test[i]   = accuracy_test['std']"
   ]
  },
  {
   "cell_type": "markdown",
   "metadata": {},
   "source": [
    "---"
   ]
  },
  {
   "cell_type": "markdown",
   "metadata": {},
   "source": [
    "# functions for visualizing the results "
   ]
  },
  {
   "cell_type": "markdown",
   "metadata": {},
   "source": [
    "---"
   ]
  },
  {
   "cell_type": "markdown",
   "metadata": {},
   "source": [
    "## plot curve"
   ]
  },
  {
   "cell_type": "markdown",
   "metadata": {},
   "source": []
  },
  {
   "cell_type": "code",
   "execution_count": 646,
   "metadata": {},
   "outputs": [],
   "source": [
    "def plot_data_grid(data, index_data, nRow, nCol):\n",
    "    \n",
    "    size_col = 1.5\n",
    "    size_row = 1.5\n",
    "\n",
    "    fig, axes = plt.subplots(nRow, nCol, constrained_layout=True, figsize=(nCol * size_col, nRow * size_row))\n",
    "\n",
    "    for i in range(nRow):\n",
    "        for j in range(nCol):\n",
    "\n",
    "            k       = i * nCol + j\n",
    "            index   = index_data[k]\n",
    "\n",
    "            axes[i, j].imshow(data[index], cmap='gray', vmin=0, vmax=1)\n",
    "            axes[i, j].xaxis.set_visible(False)\n",
    "            axes[i, j].yaxis.set_visible(False)\n",
    "\n",
    "    plt.show()"
   ]
  },
  {
   "cell_type": "code",
   "execution_count": 647,
   "metadata": {},
   "outputs": [],
   "source": [
    "def plot_data_tensor_grid(data, index_data, nRow, nCol):\n",
    "    \n",
    "    size_col = 1.5\n",
    "    size_row = 1.5\n",
    "\n",
    "    fig, axes = plt.subplots(nRow, nCol, constrained_layout=True, figsize=(nCol * size_col, nRow * size_row))\n",
    "\n",
    "    data = data.detach().cpu().squeeze(axis=1)\n",
    "\n",
    "    for i in range(nRow):\n",
    "        for j in range(nCol):\n",
    "\n",
    "            k       = i * nCol + j\n",
    "            index   = index_data[k]\n",
    "\n",
    "            axes[i, j].imshow(data[index], cmap='gray', vmin=0, vmax=1)\n",
    "            axes[i, j].xaxis.set_visible(False)\n",
    "            axes[i, j].yaxis.set_visible(False)\n",
    "\n",
    "    plt.show()"
   ]
  },
  {
   "cell_type": "code",
   "execution_count": 648,
   "metadata": {},
   "outputs": [],
   "source": [
    "def plot_curve_error(data_mean, data_std, x_label, y_label, title):\n",
    "\n",
    "    plt.figure(figsize=(8, 6))\n",
    "    plt.title(title)\n",
    "\n",
    "    alpha = 0.3\n",
    "    \n",
    "    plt.plot(range(len(data_mean)), data_mean, '-', color = 'red')\n",
    "    plt.fill_between(range(len(data_mean)), data_mean - data_std, data_mean + data_std, facecolor = 'blue', alpha = alpha) \n",
    "    \n",
    "    plt.xlabel(x_label)\n",
    "    plt.ylabel(y_label)\n",
    "\n",
    "    plt.tight_layout()\n",
    "    plt.show()"
   ]
  },
  {
   "cell_type": "code",
   "execution_count": 649,
   "metadata": {},
   "outputs": [],
   "source": [
    "def print_curve(data, index):\n",
    "    \n",
    "    for i in range(len(index)):\n",
    "\n",
    "        idx = index[i]\n",
    "        val = data[idx]\n",
    "\n",
    "        print('index = %2d, value = %12.10f' % (idx, val))"
   ]
  },
  {
   "cell_type": "code",
   "execution_count": 650,
   "metadata": {},
   "outputs": [],
   "source": [
    "def get_data_last(data, index_start):\n",
    "\n",
    "    data_last = data[index_start:]\n",
    "\n",
    "    return data_last"
   ]
  },
  {
   "cell_type": "code",
   "execution_count": 651,
   "metadata": {},
   "outputs": [],
   "source": [
    "def get_max_last_range(data, index_start):\n",
    "\n",
    "    data_range = get_data_last(data, index_start)\n",
    "    value = data_range.max()\n",
    "\n",
    "    return value"
   ]
  },
  {
   "cell_type": "code",
   "execution_count": 652,
   "metadata": {},
   "outputs": [],
   "source": [
    "def get_min_last_range(data, index_start):\n",
    "\n",
    "    data_range = get_data_last(data, index_start)\n",
    "    value = data_range.min()\n",
    "\n",
    "    return value"
   ]
  },
  {
   "cell_type": "markdown",
   "metadata": {},
   "source": [
    "---"
   ]
  },
  {
   "cell_type": "markdown",
   "metadata": {},
   "source": [
    "# functions for presenting the results"
   ]
  },
  {
   "cell_type": "markdown",
   "metadata": {},
   "source": [
    "---"
   ]
  },
  {
   "cell_type": "code",
   "execution_count": 653,
   "metadata": {},
   "outputs": [],
   "source": [
    "def function_result_01():\n",
    "\n",
    "    print('[plot examples of the training noisy images]')\n",
    "    print('') \n",
    "\n",
    "    nRow = 8\n",
    "    nCol = 6\n",
    "\n",
    "    number_data = len(dataset_train)\n",
    "    step        = np.floor(number_data / (nRow * nCol))\n",
    "    index_data  = np.arange(0, number_data, step)\n",
    "    index_plot  = np.arange(0, nRow * nCol)\n",
    "\n",
    "    _, data     = dataset_train[index_data]\n",
    "    data        = data[0]\n",
    "    \n",
    "    plot_data_grid(data, index_plot, nRow, nCol)"
   ]
  },
  {
   "cell_type": "code",
   "execution_count": 654,
   "metadata": {},
   "outputs": [],
   "source": [
    "def function_result_02():\n",
    "\n",
    "    print('[plot examples of the training ground truth images]')\n",
    "    print('') \n",
    "    \n",
    "    nRow = 8\n",
    "    nCol = 6\n",
    "\n",
    "    number_data = len(dataset_train)\n",
    "    step        = np.floor(number_data / (nRow * nCol))\n",
    "    index_data  = np.arange(0, number_data, step)\n",
    "    index_plot  = np.arange(0, nRow * nCol)\n",
    "\n",
    "    data, _     = dataset_train[index_data]\n",
    "    data        = data[0]\n",
    "    \n",
    "    plot_data_grid(data, index_plot, nRow, nCol)"
   ]
  },
  {
   "cell_type": "code",
   "execution_count": 655,
   "metadata": {},
   "outputs": [],
   "source": [
    "def function_result_03():\n",
    "\n",
    "    print('[plot examples of the training segmentation results]')\n",
    "    print('') \n",
    "\n",
    "    nRow = 8\n",
    "    nCol = 6\n",
    "\n",
    "    number_data = len(dataset_train)\n",
    "    step        = np.floor(number_data / (nRow * nCol))\n",
    "    index_data  = np.arange(0, number_data, step)\n",
    "    index_plot  = np.arange(0, nRow * nCol)\n",
    "\n",
    "    _, data     = dataset_train[index_data] \n",
    "    data        = data[0].unsqueeze(dim=1).to(device)\n",
    "    prediction  = compute_prediction(model, data)\n",
    "    \n",
    "    plot_data_tensor_grid(prediction, index_plot, nRow, nCol)"
   ]
  },
  {
   "cell_type": "code",
   "execution_count": 656,
   "metadata": {},
   "outputs": [],
   "source": [
    "def function_result_04():\n",
    "\n",
    "    print('[plot examples of the testing noisy images]')\n",
    "    print('') \n",
    "    \n",
    "    nRow = 8\n",
    "    nCol = 6\n",
    "\n",
    "    number_data = len(dataset_test)\n",
    "    step        = np.floor(number_data / (nRow * nCol))\n",
    "    index_data  = np.arange(0, number_data, step)\n",
    "    index_plot  = np.arange(0, nRow * nCol)\n",
    "\n",
    "    _, data     = dataset_test[index_data]\n",
    "    data        = data[0]\n",
    "    \n",
    "    plot_data_grid(data, index_plot, nRow, nCol)"
   ]
  },
  {
   "cell_type": "code",
   "execution_count": 657,
   "metadata": {},
   "outputs": [],
   "source": [
    "def function_result_05():\n",
    "\n",
    "    print('[plot examples of the testing ground truth images]')\n",
    "    print('') \n",
    "\n",
    "    nRow = 8\n",
    "    nCol = 6\n",
    "\n",
    "    number_data = len(dataset_test)\n",
    "    step        = np.floor(number_data / (nRow * nCol))\n",
    "    index_data  = np.arange(0, number_data, step)\n",
    "    index_plot  = np.arange(0, nRow * nCol)\n",
    "   \n",
    "    data, _     = dataset_test[index_data]\n",
    "    data        = data[0]\n",
    "    \n",
    "    plot_data_grid(data, index_plot, nRow, nCol)"
   ]
  },
  {
   "cell_type": "code",
   "execution_count": 658,
   "metadata": {},
   "outputs": [],
   "source": [
    "def function_result_06():\n",
    "\n",
    "    print('[plot examples of the testing segmentation results]')\n",
    "    print('') \n",
    "\n",
    "    nRow = 8\n",
    "    nCol = 6\n",
    "\n",
    "    number_data = len(dataset_test)\n",
    "    step        = np.floor(number_data / (nRow * nCol))\n",
    "    index_data  = np.arange(0, number_data, step)\n",
    "    index_plot  = np.arange(0, nRow * nCol)\n",
    "\n",
    "    _, data     = dataset_test[index_data]\n",
    "    data        = data[0].unsqueeze(dim=1).to(device)\n",
    "    prediction  = compute_prediction(model, data)\n",
    "    \n",
    "    plot_data_tensor_grid(prediction, index_plot, nRow, nCol)"
   ]
  },
  {
   "cell_type": "code",
   "execution_count": 659,
   "metadata": {},
   "outputs": [],
   "source": [
    "def function_result_07():\n",
    "\n",
    "    print('[plot the training loss]')\n",
    "    print('') \n",
    "\n",
    "    plot_curve_error(loss_mean_train, loss_std_train, 'epoch', 'loss', 'loss (training)')"
   ]
  },
  {
   "cell_type": "code",
   "execution_count": 660,
   "metadata": {},
   "outputs": [],
   "source": [
    "def function_result_08():\n",
    "\n",
    "    print('[plot the training accuracy]')\n",
    "    print('') \n",
    "    \n",
    "    plot_curve_error(accuracy_mean_train, accuracy_std_train, 'epoch', 'accuracy', 'accuracy (training)')"
   ]
  },
  {
   "cell_type": "code",
   "execution_count": 661,
   "metadata": {},
   "outputs": [],
   "source": [
    "def function_result_09():\n",
    "    \n",
    "    print('[plot the testing loss]')\n",
    "    print('') \n",
    "    \n",
    "    plot_curve_error(loss_mean_test, loss_std_test, 'epoch', 'loss', 'loss (testing)')"
   ]
  },
  {
   "cell_type": "code",
   "execution_count": 662,
   "metadata": {},
   "outputs": [],
   "source": [
    "def function_result_10():\n",
    "    \n",
    "    print('[plot the testing accuracy]') \n",
    "    print('') \n",
    "    \n",
    "    plot_curve_error(accuracy_mean_test, accuracy_std_test, 'epoch', 'accuracy', 'accuracy (testing)')"
   ]
  },
  {
   "cell_type": "code",
   "execution_count": 663,
   "metadata": {},
   "outputs": [],
   "source": [
    "def function_result_11():\n",
    "    \n",
    "    print('[print the training loss at the last 10 epochs]')\n",
    "    print('') \n",
    "\n",
    "    data_last   = get_data_last(loss_mean_train, -10)\n",
    "    index       = np.arange(0, 10)\n",
    "    \n",
    "    print_curve(data_last, index)"
   ]
  },
  {
   "cell_type": "code",
   "execution_count": 664,
   "metadata": {},
   "outputs": [],
   "source": [
    "def function_result_12():\n",
    "    \n",
    "    print('[print the training accuracy at the last 10 epochs]')\n",
    "    print('') \n",
    "    \n",
    "    data_last   = get_data_last(accuracy_mean_train, -10)\n",
    "    index       = np.arange(0, 10)\n",
    "    \n",
    "    print_curve(data_last, index)"
   ]
  },
  {
   "cell_type": "code",
   "execution_count": 665,
   "metadata": {},
   "outputs": [],
   "source": [
    "def function_result_13():\n",
    "    \n",
    "    print('[print the testing loss at the last 10 epochs]')\n",
    "    print('') \n",
    "    \n",
    "    data_last   = get_data_last(loss_mean_test, -10)\n",
    "    index       = np.arange(0, 10)\n",
    "    \n",
    "    print_curve(data_last, index)"
   ]
  },
  {
   "cell_type": "code",
   "execution_count": 666,
   "metadata": {},
   "outputs": [],
   "source": [
    "def function_result_14():\n",
    "    \n",
    "    print('[print the testing accuracy at the last 10 epochs]')\n",
    "    print('') \n",
    "    \n",
    "    data_last   = get_data_last(accuracy_mean_test, -10)\n",
    "    index       = np.arange(0, 10)\n",
    "    \n",
    "    print_curve(data_last, index)"
   ]
  },
  {
   "cell_type": "code",
   "execution_count": 667,
   "metadata": {},
   "outputs": [],
   "source": [
    "def function_result_15():\n",
    "    \n",
    "    print('[print the best training accuracy within the last 10 epochs]')\n",
    "    print('') \n",
    "\n",
    "    value = get_max_last_range(accuracy_mean_train, -10)\n",
    "    print('best training accuracy = %12.10f' % (value))"
   ]
  },
  {
   "cell_type": "code",
   "execution_count": 668,
   "metadata": {},
   "outputs": [],
   "source": [
    "def function_result_16():\n",
    "    \n",
    "    print('[print the best testing accuracy within the last 10 epochs]')\n",
    "    print('') \n",
    "    \n",
    "    value = get_max_last_range(accuracy_mean_test, -10)\n",
    "    print('best testing accuracy = %12.10f' % (value))"
   ]
  },
  {
   "cell_type": "markdown",
   "metadata": {},
   "source": [
    "---"
   ]
  },
  {
   "cell_type": "markdown",
   "metadata": {},
   "source": [
    "# RESULTS"
   ]
  },
  {
   "cell_type": "markdown",
   "metadata": {},
   "source": [
    "---"
   ]
  },
  {
   "cell_type": "code",
   "execution_count": null,
   "metadata": {},
   "outputs": [
    {
     "name": "stdout",
     "output_type": "stream",
     "text": [
      "\n",
      "################################################################################\n",
      "#\n",
      "# RESULT # 01\n",
      "#\n",
      "################################################################################\n",
      "\n",
      "[plot examples of the training noisy images]\n",
      "\n"
     ]
    }
   ],
   "source": [
    "number_result = 16\n",
    "\n",
    "for i in range(number_result):\n",
    "\n",
    "    title           = '# RESULT # {:02d}'.format(i+1) \n",
    "    name_function   = 'function_result_{:02d}()'.format(i+1)\n",
    "\n",
    "    print('') \n",
    "    print('################################################################################')\n",
    "    print('#') \n",
    "    print(title)\n",
    "    print('#') \n",
    "    print('################################################################################')\n",
    "    print('') \n",
    "\n",
    "    eval(name_function)"
   ]
  },
  {
   "cell_type": "code",
   "execution_count": null,
   "metadata": {},
   "outputs": [],
   "source": []
  }
 ],
 "metadata": {
  "colab": {
   "authorship_tag": "ABX9TyM0gXqiryv5831mXd12OejK",
   "collapsed_sections": [],
   "name": "assignment_02.ipynb",
   "provenance": []
  },
  "interpreter": {
   "hash": "17ed1555cfbb96ddcf655400d6c25a9cebe961c1b69daf25bae91d698acdd2a7"
  },
  "kernelspec": {
   "display_name": "Python 3",
   "language": "python",
   "name": "python3"
  },
  "language_info": {
   "codemirror_mode": {
    "name": "ipython",
    "version": 3
   },
   "file_extension": ".py",
   "mimetype": "text/x-python",
   "name": "python",
   "nbconvert_exporter": "python",
   "pygments_lexer": "ipython3",
   "version": "3.8.5"
  }
 },
 "nbformat": 4,
 "nbformat_minor": 2
}
