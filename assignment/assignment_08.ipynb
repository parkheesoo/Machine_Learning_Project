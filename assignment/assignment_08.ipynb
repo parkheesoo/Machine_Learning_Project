{
 "cells": [
  {
   "cell_type": "markdown",
   "metadata": {
    "id": "AQGQXmOpA9J-"
   },
   "source": [
    "# Unsupervised image denoising"
   ]
  },
  {
   "cell_type": "markdown",
   "metadata": {
    "id": "TGBcGR2LA9KI"
   },
   "source": [
    "## Import libraries"
   ]
  },
  {
   "cell_type": "code",
   "execution_count": 2,
   "metadata": {
    "id": "NNpI2DZ6A9KJ"
   },
   "outputs": [],
   "source": [
    "import torch\n",
    "import torchvision\n",
    "from torch.utils.data import Dataset\n",
    "from os import listdir\n",
    "from os.path import join\n",
    "from torchvision.transforms import Compose, ToTensor, ToPILImage, Resize, Lambda, Normalize, Grayscale\n",
    "from torch.utils.data import DataLoader\n",
    "from PIL import Image\n",
    "import matplotlib.pyplot as plt\n",
    "import numpy as np\n",
    "import torch.nn as nn\n",
    "import torch.nn.functional as F\n",
    "import torch.optim as optim\n",
    "from math import log10\n",
    "from tqdm.notebook import tqdm\n",
    "import os"
   ]
  },
  {
   "cell_type": "markdown",
   "metadata": {
    "id": "OU32jTFuA9KM"
   },
   "source": [
    "## Load data"
   ]
  },
  {
   "cell_type": "code",
   "execution_count": 3,
   "metadata": {
    "colab": {
     "base_uri": "https://localhost:8080/"
    },
    "id": "gf-s-8nrA9KN",
    "outputId": "86c744c2-4b9a-45e7-ea60-dcfac7789684"
   },
   "outputs": [
    {
     "name": "stdout",
     "output_type": "stream",
     "text": [
      "*************************************************\n",
      "size of noise_train    :  (2000, 64, 64)\n",
      "*************************************************\n",
      "size of noise_test    :  (900, 64, 64)\n",
      "*************************************************\n",
      "number of training image : 2000\n",
      "height of training image : 64\n",
      "width of training image  : 64\n",
      "*************************************************\n",
      "number of testing image : 900\n",
      "height of testing image : 64\n",
      "width of testing image  : 64\n",
      "*************************************************\n"
     ]
    }
   ],
   "source": [
    "directory_data  = './'\n",
    "filename_data   = 'assignment_08_data.npz'\n",
    "data            = np.load(os.path.join(directory_data, filename_data))\n",
    "\n",
    "\n",
    "original_train = data['original_train'] \n",
    "noise_train    = data['noise_train']\n",
    "\n",
    "original_test = data['original_test'] \n",
    "noise_test    = data['noise_test']\n",
    "\n",
    "print('*************************************************')\n",
    "print('size of noise_train    : ', noise_train.shape)\n",
    "print('*************************************************')\n",
    "print('size of noise_test    : ', noise_test.shape)\n",
    "print('*************************************************')\n",
    "print('number of training image :', noise_train.shape[0])\n",
    "print('height of training image :', noise_train.shape[1])\n",
    "print('width of training image  :', noise_train.shape[2])\n",
    "print('*************************************************')\n",
    "print('number of testing image :', noise_test.shape[0])\n",
    "print('height of testing image :', noise_test.shape[1])\n",
    "print('width of testing image  :', noise_test.shape[2])\n",
    "print('*************************************************')\n"
   ]
  },
  {
   "cell_type": "markdown",
   "metadata": {
    "id": "20TiZsA_A9KO"
   },
   "source": [
    "## Hyper parameters"
   ]
  },
  {
   "cell_type": "code",
   "execution_count": 45,
   "metadata": {
    "id": "KtDynD4nA9KP"
   },
   "outputs": [],
   "source": [
    "device        = torch.device('cuda' if torch.cuda.is_available() else 'cpu')\n",
    "\n",
    "# ==================================================\n",
    "# determine optimal hyper-parameters to obtain best testing performance\n",
    "number_epoch    = 300\n",
    "size_minibatch  = 100\n",
    "learning_rate   = 0.1\n",
    "momentum        = 0.9\n",
    "weight_decay    = 0.0001\n",
    "weight_total_variation = 0.001\n",
    "# =================================================="
   ]
  },
  {
   "cell_type": "markdown",
   "metadata": {
    "id": "9AbHCZPpA9KR"
   },
   "source": [
    "## Costumize dataloader for pytorch"
   ]
  },
  {
   "cell_type": "code",
   "execution_count": 46,
   "metadata": {
    "id": "1UveCjrBA9KS"
   },
   "outputs": [],
   "source": [
    "class dataset (Dataset):\n",
    "    def  __init__(self, original,noise):\n",
    "\n",
    "        self.original = original\n",
    "        self.noise    = noise\n",
    "        \n",
    "    def __getitem__(self, index):\n",
    "\n",
    "        original    = self.original[index]\n",
    "        noise       = self.noise[index]\n",
    "    \n",
    "        original   = torch.FloatTensor(original).unsqueeze(dim=0)\n",
    "        noise      = torch.FloatTensor(noise).unsqueeze(dim=0)\n",
    "\n",
    "\n",
    "        return (original , noise)\n",
    "  \n",
    "    def __len__(self):\n",
    "\n",
    "        return self.original.shape[0]"
   ]
  },
  {
   "cell_type": "markdown",
   "metadata": {
    "id": "357alwWgA9KU"
   },
   "source": [
    "## Construct datasets and dataloaders for training and testing"
   ]
  },
  {
   "cell_type": "code",
   "execution_count": 47,
   "metadata": {
    "id": "b7JDqjSVA9KU"
   },
   "outputs": [],
   "source": [
    "dataset_train = dataset(original_train, noise_train) \n",
    "dataset_test  = dataset(original_test, noise_test) \n",
    "\n",
    "dataloader_train = DataLoader(dataset_train, batch_size=size_minibatch, shuffle=True, drop_last=True, num_workers=0)\n",
    "dataloader_test  = DataLoader(dataset_test,  batch_size=size_minibatch, shuffle=False, drop_last=True, num_workers=0) "
   ]
  },
  {
   "cell_type": "markdown",
   "metadata": {
    "id": "9DQ3_o-VA9KV"
   },
   "source": [
    "## Shape of the data with data loader"
   ]
  },
  {
   "cell_type": "code",
   "execution_count": 48,
   "metadata": {
    "colab": {
     "base_uri": "https://localhost:8080/"
    },
    "id": "hCNL_T-HA9KW",
    "outputId": "6ea9db7a-3120-48d9-945a-8cd325d509aa"
   },
   "outputs": [
    {
     "name": "stdout",
     "output_type": "stream",
     "text": [
      "************************************************************\n",
      "shape of the original image in the training dataset: torch.Size([1, 64, 64])\n",
      "shape of the noisy image in the training dataset: torch.Size([1, 64, 64])\n",
      "************************************************************\n",
      "shape of the original image in the testing dataset: torch.Size([1, 64, 64])\n",
      "shape of the noisy image in the testing dataset: torch.Size([1, 64, 64])\n",
      "************************************************************\n"
     ]
    }
   ],
   "source": [
    "(original_train, noise_train)   = dataset_train[0]\n",
    "(original_test, noise_test)     = dataset_test[0]\n",
    "\n",
    "print('************************************************************')\n",
    "print('shape of the original image in the training dataset:', original_train.shape)\n",
    "print('shape of the noisy image in the training dataset:', noise_train.shape)\n",
    "print('************************************************************')\n",
    "print('shape of the original image in the testing dataset:', original_test.shape)\n",
    "print('shape of the noisy image in the testing dataset:', noise_test.shape)\n",
    "print('************************************************************')"
   ]
  },
  {
   "cell_type": "markdown",
   "metadata": {
    "id": "5Yn9jMLrA9KX"
   },
   "source": [
    "## Class for the neural network"
   ]
  },
  {
   "cell_type": "code",
   "execution_count": 49,
   "metadata": {
    "id": "Esyw9M--A9KY"
   },
   "outputs": [],
   "source": [
    "class Network(nn.Module):\n",
    "    def __init__(self):\n",
    "        super(Network,self).__init__()\n",
    "\n",
    "        # -------------------------------------------------\n",
    "        # Encoder\n",
    "        # -------------------------------------------------\n",
    "        self.e_layer1 = nn.Sequential(\n",
    "                        nn.Conv2d(in_channels=1, out_channels=8, kernel_size=3, stride=1, padding=1, bias=True),  \n",
    "                        nn.MaxPool2d(2,2),\n",
    "                        nn.ReLU(),\n",
    "                        nn.BatchNorm2d(8),\n",
    "        )\n",
    "        \n",
    "        # -------------------------------------------------\n",
    "        # Decoder\n",
    "        # -------------------------------------------------\n",
    "        \n",
    "        self.d_layer1 = nn.Sequential(\n",
    "                        nn.Upsample(scale_factor=2, mode='bilinear', align_corners=False),\n",
    "                        nn.Conv2d(in_channels=8, out_channels=1, kernel_size=3, stride=1, padding=1, bias=True),\n",
    "                        nn.Sigmoid(),\n",
    "        )\n",
    "\n",
    "        \n",
    "        # -------------------------------------------------\n",
    "        # Network\n",
    "        # -------------------------------------------------\n",
    "        self.network = nn.Sequential(\n",
    "                        self.e_layer1,\n",
    "                        self.d_layer1,\n",
    "        )\n",
    "\n",
    "\n",
    "    def forward(self,x):\n",
    "    \n",
    "        out = self.network(x)\n",
    "      \n",
    "        return out\n",
    "\n",
    "    # ======================================================================\n",
    "    # initialize weights\n",
    "    # ======================================================================\n",
    "    def initialize_weight(self):\n",
    "            \n",
    "        for m in self.network.modules():\n",
    "            \n",
    "            if isinstance(m, nn.Conv2d):\n",
    "\n",
    "                nn.init.constant_(m.weight, 0.1) \n",
    "                \n",
    "                if m.bias is not None:\n",
    "\n",
    "                    nn.init.constant_(m.bias, 1)\n",
    "                    pass\n",
    "                    \n",
    "            elif isinstance(m, nn.BatchNorm2d):\n",
    "                \n",
    "                nn.init.constant_(m.weight, 1)\n",
    "                nn.init.constant_(m.bias, 1)\n",
    "                \n",
    "            elif isinstance(m, nn.Linear):\n",
    "                \n",
    "                nn.init.constant_(m.weight, 0.1) \n",
    "\n",
    "                if m.bias is not None:\n",
    "                    \n",
    "                    nn.init.constant_(m.bias, 1)\n",
    "                    pass"
   ]
  },
  {
   "cell_type": "markdown",
   "metadata": {
    "id": "tTptbDGZA9KZ"
   },
   "source": [
    "## Build the network"
   ]
  },
  {
   "cell_type": "code",
   "execution_count": 50,
   "metadata": {
    "id": "6MgUbMJdA9KZ"
   },
   "outputs": [],
   "source": [
    "model = Network().to(device)\n",
    "optimizer = torch.optim.SGD(model.parameters(), lr=learning_rate, momentum=momentum , weight_decay=weight_decay)"
   ]
  },
  {
   "cell_type": "markdown",
   "metadata": {
    "id": "iAMmqhrUA9KZ"
   },
   "source": [
    "## Compute prediction (denoised image)"
   ]
  },
  {
   "cell_type": "code",
   "execution_count": 51,
   "metadata": {
    "id": "7sE58VDWA9Ka"
   },
   "outputs": [],
   "source": [
    "def compute_prediction(model, input):\n",
    "    \n",
    "    # ==================================================\n",
    "    # fill up the blank\n",
    "    prediction = model(input)\n",
    "    # ==================================================\n",
    "    \n",
    "    return prediction"
   ]
  },
  {
   "cell_type": "markdown",
   "metadata": {
    "id": "b4MU2uUwA9Kc"
   },
   "source": [
    "## Compute loss"
   ]
  },
  {
   "cell_type": "code",
   "execution_count": 52,
   "metadata": {
    "id": "SzLZ5_ijB13L"
   },
   "outputs": [],
   "source": [
    "def compute_fidelity(input, prediction):\n",
    "    \n",
    "    mse = nn.MSELoss()\n",
    "    \n",
    "    # ==================================================\n",
    "    # fill up the blank\n",
    "    loss_mse = mse(input, prediction)\n",
    "    # ==================================================\n",
    "    \n",
    "    loss_mse_value = loss_mse.item() \n",
    "    \n",
    "    return loss_mse, loss_mse_value"
   ]
  },
  {
   "cell_type": "code",
   "execution_count": 53,
   "metadata": {
    "id": "-J9-SmZeDDHW"
   },
   "outputs": [],
   "source": [
    "def compute_regularization(data, weight):\n",
    "    \n",
    "    bs_img, c_img, h_img, w_img = data.size()\n",
    "   \n",
    "    tv_height = torch.abs(data[:, :, 1:, :] - data[:, :, :- 1, :]).sum()\n",
    "    tv_width  = torch.abs(data[:, :, :, 1:] - data[:, :, :, :-1]).sum()\n",
    "\n",
    "    total_variation = (tv_height + tv_width) / (bs_img * c_img * h_img * w_img)\n",
    "    \n",
    "    # ==================================================\n",
    "    # fill up the blank\n",
    "    loss_regularization = total_variation * weight\n",
    "    # ==================================================\n",
    "    \n",
    "    loss_regularization_value = loss_regularization.item()\n",
    "     \n",
    "    return loss_regularization, loss_regularization_value"
   ]
  },
  {
   "cell_type": "code",
   "execution_count": 54,
   "metadata": {
    "id": "grQ11S2uA9Kc"
   },
   "outputs": [],
   "source": [
    "def compute_loss(input, prediction, weight):\n",
    "\n",
    "    (loss_fidelity, loss_fidelity_value) = compute_fidelity(input, prediction)\n",
    "    (loss_regularization, loss_regularization_value) = compute_regularization(prediction, weight) \n",
    "\n",
    "    # ==================================================\n",
    "    # fill up the blank\n",
    "    loss = loss_fidelity + loss_regularization\n",
    "    # ==================================================\n",
    "    \n",
    "    loss_value = loss.item()\n",
    "    \n",
    "    return loss, loss_value , loss_fidelity_value, loss_regularization_value"
   ]
  },
  {
   "cell_type": "markdown",
   "metadata": {
    "id": "T1EWYXG6A9Kc"
   },
   "source": [
    "## Compute PSNR metric"
   ]
  },
  {
   "cell_type": "code",
   "execution_count": 55,
   "metadata": {
    "id": "FtVX7nLCA9Kd"
   },
   "outputs": [],
   "source": [
    "def compute_PSNR(mse):\n",
    "\n",
    "    if (mse==0.):\n",
    "        PSNR=100    \n",
    "    else :\n",
    "        PSNR=10*log10(1.0 / mse)\n",
    "        \n",
    "    return PSNR"
   ]
  },
  {
   "cell_type": "markdown",
   "metadata": {
    "id": "vfi3toLTA9Kd"
   },
   "source": [
    "## Variable for the learning curves"
   ]
  },
  {
   "cell_type": "code",
   "execution_count": 56,
   "metadata": {
    "id": "re9vSZWLA9Kd"
   },
   "outputs": [],
   "source": [
    "loss_fidelity_mean_train       = np.zeros(number_epoch)\n",
    "loss_fidelity_std_train        = np.zeros(number_epoch)\n",
    "loss_regularization_mean_train = np.zeros(number_epoch)\n",
    "loss_regularization_std_train  = np.zeros(number_epoch)\n",
    "loss_mean_train                = np.zeros(number_epoch)\n",
    "loss_std_train                 = np.zeros(number_epoch)\n",
    "PSNR_mean_train                = np.zeros(number_epoch)\n",
    "PSNR_std_train                 = np.zeros(number_epoch)\n",
    "\n",
    "loss_fidelity_mean_test       = np.zeros(number_epoch)\n",
    "loss_fidelity_std_test        = np.zeros(number_epoch)\n",
    "loss_regularization_mean_test = np.zeros(number_epoch)\n",
    "loss_regularization_std_test  = np.zeros(number_epoch)\n",
    "loss_mean_test                = np.zeros(number_epoch)\n",
    "loss_std_test                 = np.zeros(number_epoch)\n",
    "PSNR_mean_test                = np.zeros(number_epoch)\n",
    "PSNR_std_test                 = np.zeros(number_epoch)"
   ]
  },
  {
   "cell_type": "markdown",
   "metadata": {
    "id": "M2DK1BgcA9Ke"
   },
   "source": [
    "## Train"
   ]
  },
  {
   "cell_type": "code",
   "execution_count": 57,
   "metadata": {
    "id": "6z6RHIxcA9Ke"
   },
   "outputs": [],
   "source": [
    "def train(model, dataloader):\n",
    "\n",
    "    loss_epoch          = []\n",
    "    loss_fidelity_epoch = []\n",
    "    loss_reg_epoch      = []\n",
    "    psnr_epoch          = []\n",
    "\n",
    "    model.train()\n",
    "\n",
    "    for index_batch, (original, noise) in enumerate(dataloader):\n",
    "\n",
    "        original = original.to(device)\n",
    "        noise    = noise.to(device)\n",
    "        \n",
    "        prediction = compute_prediction(model, noise)\n",
    "        (loss, loss_value, loss_fidelity_value, loss_regularization_value) = compute_loss(noise, prediction, weight_total_variation)\n",
    "        \n",
    "        # ==================================================\n",
    "        # fill up the blank\n",
    "        (mse, mse_value)    = compute_fidelity(original, prediction)\n",
    "        psnr                = compute_PSNR(mse_value)\n",
    "        # ==================================================\n",
    "\n",
    "        optimizer.zero_grad()\n",
    "        loss.backward()\n",
    "        optimizer.step()\n",
    "\n",
    "        loss_epoch.append(loss_value)\n",
    "        loss_fidelity_epoch.append(loss_fidelity_value)\n",
    "        loss_reg_epoch.append(loss_regularization_value)\n",
    "        psnr_epoch.append(psnr)\n",
    "\n",
    "    loss_mean_epoch     = np.mean(loss_epoch)\n",
    "    loss_std_epoch      = np.std(loss_epoch)\n",
    "    \n",
    "    loss_fidelity_mean_epoch     = np.mean(loss_fidelity_epoch)\n",
    "    loss_fidelity_std_epoch      = np.std(loss_fidelity_epoch)\n",
    "    \n",
    "    loss_reg_mean_epoch     = np.mean(loss_reg_epoch)\n",
    "    loss_reg_std_epoch      = np.std(loss_reg_epoch)\n",
    "\n",
    "    psnr_mean_epoch = np.mean(psnr_epoch)\n",
    "    psnr_std_epoch  = np.std(psnr_epoch)\n",
    "\n",
    "    loss                       = {'mean' : loss_mean_epoch, 'std' : loss_std_epoch}\n",
    "    loss_fidelity              = {'mean' : loss_fidelity_mean_epoch, 'std' : loss_fidelity_std_epoch}\n",
    "    loss_regularization        = {'mean' : loss_reg_mean_epoch, 'std' : loss_reg_std_epoch}\n",
    "    psnr                       = {'mean' : psnr_mean_epoch, 'std' : psnr_std_epoch}\n",
    "\n",
    "    return (loss, loss_fidelity, loss_regularization, psnr)    \n"
   ]
  },
  {
   "cell_type": "markdown",
   "metadata": {
    "id": "Z76W6RQWA9Ke"
   },
   "source": [
    "## Test"
   ]
  },
  {
   "cell_type": "code",
   "execution_count": 58,
   "metadata": {
    "id": "c9FO3jlwA9Ke"
   },
   "outputs": [],
   "source": [
    "def test(model, dataloader):\n",
    "\n",
    "    loss_epoch          = []\n",
    "    loss_fidelity_epoch = []\n",
    "    loss_reg_epoch      = []\n",
    "    psnr_epoch          = []\n",
    "\n",
    "    model.eval()\n",
    "\n",
    "    for index_batch, (original, noise) in enumerate(dataloader):\n",
    "\n",
    "        original = original.to(device)\n",
    "        noise    = noise.to(device)\n",
    "\n",
    "        prediction = compute_prediction(model, noise)\n",
    "        (loss, loss_value, loss_fidelity_value, loss_regularization_value) = compute_loss(noise, prediction, weight_total_variation)\n",
    "        \n",
    "        # ==================================================\n",
    "        # fill up the blank\n",
    "        (mse, mse_value)    = compute_fidelity(original, prediction)\n",
    "        psnr                = compute_PSNR(mse_value)\n",
    "        # ==================================================\n",
    "\n",
    "        loss_epoch.append(loss_value)\n",
    "        loss_fidelity_epoch.append(loss_fidelity_value)\n",
    "        loss_reg_epoch.append(loss_regularization_value)\n",
    "        psnr_epoch.append(psnr)\n",
    "\n",
    "    loss_mean_epoch     = np.mean(loss_epoch)\n",
    "    loss_std_epoch      = np.std(loss_epoch)\n",
    "    \n",
    "    loss_fidelity_mean_epoch     = np.mean(loss_fidelity_epoch)\n",
    "    loss_fidelity_std_epoch      = np.std(loss_fidelity_epoch)\n",
    "    \n",
    "    loss_reg_mean_epoch     = np.mean(loss_reg_epoch)\n",
    "    loss_reg_std_epoch      = np.std(loss_reg_epoch)\n",
    "\n",
    "    psnr_mean_epoch = np.mean(psnr_epoch)\n",
    "    psnr_std_epoch  = np.std(psnr_epoch)\n",
    "\n",
    "    loss                       = {'mean' : loss_mean_epoch, 'std' : loss_std_epoch}\n",
    "    loss_fidelity              = {'mean' : loss_fidelity_mean_epoch, 'std' : loss_fidelity_std_epoch}\n",
    "    loss_regularization        = {'mean' : loss_reg_mean_epoch, 'std' : loss_reg_std_epoch}\n",
    "    psnr                       = {'mean' : psnr_mean_epoch, 'std' : psnr_std_epoch}\n",
    "\n",
    "    return (loss, loss_fidelity, loss_regularization, psnr)    \n"
   ]
  },
  {
   "cell_type": "markdown",
   "metadata": {
    "id": "Nl_p_5B2A9Kf"
   },
   "source": [
    "## train and test"
   ]
  },
  {
   "cell_type": "code",
   "execution_count": 59,
   "metadata": {
    "colab": {
     "background_save": true,
     "base_uri": "https://localhost:8080/",
     "height": 48,
     "referenced_widgets": [
      "f4ff3a44008d44e29f2706c5743d3a59",
      "4aee7c4a7b354a24b124ddd2db109bdc",
      "f4874dd5f4e4483e8dbfeb1d4cd69cc2",
      "fbb4b7c08b2c4d80a91de76f6b135672",
      "239c9a46a05049079295e9a024d3dd51",
      "4d8e5ac6a2ad43589b5b4c8339acfffc",
      "9ebf573b91cf4507b36d002daebf66a2",
      "adcb1a0807bc4b8889eb37c4422aec8d",
      "1737c99b4f2a4fa3bf0eb3dfb5451202",
      "4170355366274fbd9f1c59de386dbbe9",
      "2db8838d53f64220a146178527bbdfc6"
     ]
    },
    "id": "-kpLyy6bA9Kf",
    "outputId": "b878d957-0ecd-4359-ccd7-dc9caf28074d"
   },
   "outputs": [
    {
     "data": {
      "application/vnd.jupyter.widget-view+json": {
       "model_id": "4637b56bb8884da0899248e9b96da6da",
       "version_major": 2,
       "version_minor": 0
      },
      "text/plain": [
       "HBox(children=(HTML(value=''), FloatProgress(value=0.0, max=10.0), HTML(value='')))"
      ]
     },
     "metadata": {},
     "output_type": "display_data"
    },
    {
     "name": "stdout",
     "output_type": "stream",
     "text": [
      "\n"
     ]
    },
    {
     "name": "stderr",
     "output_type": "stream",
     "text": [
      "C:\\anaconda\\lib\\site-packages\\numpy\\core\\fromnumeric.py:3372: RuntimeWarning: Mean of empty slice.\n",
      "  return _methods._mean(a, axis=axis, dtype=dtype,\n",
      "C:\\anaconda\\lib\\site-packages\\numpy\\core\\_methods.py:170: RuntimeWarning: invalid value encountered in double_scalars\n",
      "  ret = ret.dtype.type(ret / rcount)\n",
      "C:\\anaconda\\lib\\site-packages\\numpy\\core\\_methods.py:233: RuntimeWarning: Degrees of freedom <= 0 for slice\n",
      "  ret = _var(a, axis=axis, dtype=dtype, out=out, ddof=ddof,\n",
      "C:\\anaconda\\lib\\site-packages\\numpy\\core\\_methods.py:194: RuntimeWarning: invalid value encountered in true_divide\n",
      "  arrmean = um.true_divide(\n",
      "C:\\anaconda\\lib\\site-packages\\numpy\\core\\_methods.py:226: RuntimeWarning: invalid value encountered in double_scalars\n",
      "  ret = ret.dtype.type(ret / rcount)\n"
     ]
    }
   ],
   "source": [
    "# ================================================================================\n",
    "# \n",
    "# iterations for epochs\n",
    "#\n",
    "# ================================================================================\n",
    "for i in tqdm(range(number_epoch)):\n",
    "    \n",
    "    # ================================================================================\n",
    "    # \n",
    "    # training\n",
    "    #\n",
    "    # ================================================================================\n",
    "    (loss_train, loss_fidelity_train, loss_reg_train, psnr_train) = train(model, dataloader_train)\n",
    "\n",
    "    loss_mean_train[i] = loss_train['mean']\n",
    "    loss_std_train[i]  = loss_train['std']\n",
    "    \n",
    "    loss_fidelity_mean_train[i] = loss_fidelity_train['mean']\n",
    "    loss_fidelity_std_train[i]  = loss_fidelity_train['std']\n",
    "    \n",
    "    loss_regularization_mean_train[i] = loss_reg_train['mean']\n",
    "    loss_regularization_std_train[i]  = loss_reg_train['std']\n",
    "\n",
    "    PSNR_mean_train[i]  = psnr_train['mean']\n",
    "    PSNR_std_train[i]   = psnr_train['std']\n",
    "\n",
    "    # ================================================================================\n",
    "    # \n",
    "    # testing\n",
    "    #\n",
    "    # ================================================================================\n",
    "    (loss_test, loss_fidelity_test, loss_reg_test, psnr_test) = test(model, dataloader_test)\n",
    "\n",
    "    loss_mean_test[i] = loss_test['mean']\n",
    "    loss_std_test[i]  = loss_test['std']\n",
    "\n",
    "    loss_fidelity_mean_test[i] = loss_fidelity_test['mean']\n",
    "    loss_fidelity_std_test[i]  = loss_fidelity_test['std']\n",
    "    \n",
    "    loss_regularization_mean_test[i] = loss_reg_test['mean']\n",
    "    loss_regularization_std_test[i]  = loss_reg_test['std']\n",
    "\n",
    "    PSNR_mean_test[i]  = psnr_test['mean']\n",
    "    PSNR_std_test[i]   = psnr_test['std']"
   ]
  },
  {
   "cell_type": "markdown",
   "metadata": {
    "id": "bxek0ypkA9Kf"
   },
   "source": [
    "---"
   ]
  },
  {
   "cell_type": "markdown",
   "metadata": {
    "id": "Q4N32do7A9Kg"
   },
   "source": [
    "# functions for visualizing the results"
   ]
  },
  {
   "cell_type": "markdown",
   "metadata": {
    "id": "cY1ul6ttA9Kg"
   },
   "source": [
    "---"
   ]
  },
  {
   "cell_type": "markdown",
   "metadata": {
    "id": "rgD-FF4MA9Kg"
   },
   "source": [
    "## Plot functions"
   ]
  },
  {
   "cell_type": "code",
   "execution_count": 60,
   "metadata": {
    "id": "V7SzyQnaA9Kg"
   },
   "outputs": [],
   "source": [
    "def plot_data_grid(data, index_data, nRow, nCol):\n",
    "    \n",
    "    fig, axes = plt.subplots(nRow, nCol, constrained_layout=True, figsize=(nCol * 3, nRow * 3))\n",
    "\n",
    "    for i in range(nRow):\n",
    "        for j in range(nCol):\n",
    "\n",
    "            k       = i * nCol + j\n",
    "            index   = index_data[k]\n",
    "\n",
    "            axes[i, j].imshow(data[index], cmap='gray', vmin=0, vmax=1)\n",
    "            axes[i, j].xaxis.set_visible(False)\n",
    "            axes[i, j].yaxis.set_visible(False)\n",
    "\n",
    "    plt.show()"
   ]
  },
  {
   "cell_type": "code",
   "execution_count": 61,
   "metadata": {
    "id": "PVYA6nBGA9Kh"
   },
   "outputs": [],
   "source": [
    "def plot_data_tensor_grid(data, index_data, nRow, nCol):\n",
    "    \n",
    "    fig, axes = plt.subplots(nRow, nCol, constrained_layout=True, figsize=(nCol * 3, nRow * 3))\n",
    "\n",
    "    data = data.detach().cpu().squeeze(axis=1)\n",
    "\n",
    "    for i in range(nRow):\n",
    "        for j in range(nCol):\n",
    "\n",
    "            k       = i * nCol + j\n",
    "            index   = index_data[k]\n",
    "\n",
    "            axes[i, j].imshow(data[index], cmap='gray', vmin=0, vmax=1)\n",
    "            axes[i, j].xaxis.set_visible(False)\n",
    "            axes[i, j].yaxis.set_visible(False)\n",
    "\n",
    "    plt.show()"
   ]
  },
  {
   "cell_type": "code",
   "execution_count": 62,
   "metadata": {
    "id": "r06Lf6UNA9Kh"
   },
   "outputs": [],
   "source": [
    "def plot_curve_error(data_mean, data_std, x_label, y_label, title):\n",
    "\n",
    "    plt.figure(figsize=(8, 6))\n",
    "    plt.title(title)\n",
    "\n",
    "    alpha = 0.3\n",
    "    \n",
    "    plt.plot(range(len(data_mean)), data_mean, '-', color = 'red')\n",
    "    plt.fill_between(range(len(data_mean)), data_mean - data_std, data_mean + data_std, facecolor = 'blue', alpha = alpha) \n",
    "    \n",
    "    plt.xlabel(x_label)\n",
    "    plt.ylabel(y_label)\n",
    "\n",
    "    plt.tight_layout()\n",
    "    plt.show()"
   ]
  },
  {
   "cell_type": "code",
   "execution_count": 63,
   "metadata": {
    "id": "ZBmjFM9tA9Kh"
   },
   "outputs": [],
   "source": [
    "def print_curve(data, index):\n",
    "    \n",
    "    for i in range(len(index)):\n",
    "\n",
    "        idx = index[i]\n",
    "        val = data[idx]\n",
    "\n",
    "        print('index = %2d, value = %12.10f' % (idx, val))"
   ]
  },
  {
   "cell_type": "code",
   "execution_count": 64,
   "metadata": {
    "id": "k5_ePFORA9Ki"
   },
   "outputs": [],
   "source": [
    "def get_data_last(data, index_start):\n",
    "\n",
    "    data_last = data[index_start:]\n",
    "\n",
    "    return data_last"
   ]
  },
  {
   "cell_type": "code",
   "execution_count": 65,
   "metadata": {
    "id": "YFNAv5nnA9Ki"
   },
   "outputs": [],
   "source": [
    "def get_max_last_range(data, index_start):\n",
    "\n",
    "    data_range = get_data_last(data, index_start)\n",
    "    value = data_range.max()\n",
    "\n",
    "    return value"
   ]
  },
  {
   "cell_type": "code",
   "execution_count": 66,
   "metadata": {
    "id": "C0FhjnneA9Ki"
   },
   "outputs": [],
   "source": [
    "def get_min_last_range(data, index_start):\n",
    "\n",
    "    data_range = get_data_last(data, index_start)\n",
    "    value = data_range.min()\n",
    "\n",
    "    return value"
   ]
  },
  {
   "cell_type": "markdown",
   "metadata": {
    "id": "ZR2U5WquA9Kj"
   },
   "source": [
    "---"
   ]
  },
  {
   "cell_type": "markdown",
   "metadata": {
    "id": "SnBT9fWXA9Kj"
   },
   "source": [
    "# functions for presenting the results"
   ]
  },
  {
   "cell_type": "markdown",
   "metadata": {
    "id": "ak9mEQ11A9Kj"
   },
   "source": [
    "---"
   ]
  },
  {
   "cell_type": "code",
   "execution_count": 67,
   "metadata": {
    "id": "6mSysHDcA9Kk"
   },
   "outputs": [],
   "source": [
    "def function_result_01():\n",
    "\n",
    "    print('[plot examples of the training images]')\n",
    "    print('') \n",
    "\n",
    "    nRow = 5 \n",
    "    nCol = 4\n",
    "    index_data  = np.arange(0, nRow * nCol)\n",
    "    image_train = dataset_train.noise[index_data]\n",
    "\n",
    "    plot_data_grid(image_train, index_data, nRow, nCol)"
   ]
  },
  {
   "cell_type": "code",
   "execution_count": 68,
   "metadata": {
    "id": "gG5Dv-BtA9Kk"
   },
   "outputs": [],
   "source": [
    "def function_result_02():\n",
    "\n",
    "    print('[plot examples of the training denoising results]')\n",
    "    print('') \n",
    "\n",
    "    nRow = 5\n",
    "    nCol = 4\n",
    "    index_data          = np.arange(0, nRow * nCol)\n",
    "    image_train         = torch.FloatTensor(dataset_train.noise[index_data]).unsqueeze(dim=1).to(device)\n",
    "    prediction_train    = compute_prediction(model, image_train)\n",
    "    \n",
    "    plot_data_tensor_grid(prediction_train, index_data, nRow, nCol)"
   ]
  },
  {
   "cell_type": "code",
   "execution_count": 69,
   "metadata": {
    "id": "3AOFrS4wA9Kk"
   },
   "outputs": [],
   "source": [
    "def function_result_03():\n",
    "\n",
    "    print('[plot examples of the testing images]')\n",
    "    print('') \n",
    "    \n",
    "    nRow = 5\n",
    "    nCol = 4\n",
    "    index_data = np.arange(0, nRow * nCol)\n",
    "    image_test = dataset_test.noise[index_data]\n",
    "\n",
    "    plot_data_grid(image_test, index_data, nRow, nCol)"
   ]
  },
  {
   "cell_type": "code",
   "execution_count": 70,
   "metadata": {
    "id": "v2jAuO-HA9Kl"
   },
   "outputs": [],
   "source": [
    "def function_result_04():\n",
    "\n",
    "    print('[plot examples of the testing denoising results]')\n",
    "    print('') \n",
    "\n",
    "    nRow = 5\n",
    "    nCol = 4\n",
    "    index_data      = np.arange(0, nRow * nCol)\n",
    "    image_test      = torch.FloatTensor(dataset_test.noise[index_data]).unsqueeze(dim=1).to(device)\n",
    "    prediction_test = compute_prediction(model, image_test)\n",
    "\n",
    "    plot_data_tensor_grid(prediction_test, index_data, nRow, nCol)"
   ]
  },
  {
   "cell_type": "code",
   "execution_count": 71,
   "metadata": {
    "id": "4q_8MOVKA9Kl"
   },
   "outputs": [],
   "source": [
    "def function_result_05():\n",
    "\n",
    "    print('[plot the training loss]')\n",
    "    print('') \n",
    "\n",
    "    plot_curve_error(loss_mean_train, loss_std_train, 'epoch', 'loss', 'training loss')"
   ]
  },
  {
   "cell_type": "code",
   "execution_count": 72,
   "metadata": {
    "id": "N4aH0BefQhUi"
   },
   "outputs": [],
   "source": [
    "def function_result_06():\n",
    "\n",
    "    print('[plot the training fidelity loss]')\n",
    "    print('') \n",
    "\n",
    "    plot_curve_error(loss_fidelity_mean_train, loss_fidelity_std_train, 'epoch', 'loss', 'training loss (fidelity)')"
   ]
  },
  {
   "cell_type": "code",
   "execution_count": 73,
   "metadata": {
    "id": "iBHnNBNcQw9a"
   },
   "outputs": [],
   "source": [
    "def function_result_07():\n",
    "\n",
    "    print('[plot the training regularization loss]')\n",
    "    print('') \n",
    "\n",
    "    plot_curve_error(loss_regularization_mean_train, loss_regularization_std_train, 'epoch', 'loss', 'training loss (regularization)')"
   ]
  },
  {
   "cell_type": "code",
   "execution_count": 74,
   "metadata": {
    "id": "nvRfH6ejA9Kl"
   },
   "outputs": [],
   "source": [
    "def function_result_08():\n",
    "\n",
    "    print('[plot the training PSNR]')\n",
    "    print('') \n",
    "    \n",
    "    plot_curve_error(PSNR_mean_train, PSNR_std_train, 'epoch', 'PSNR', 'training PSNR')"
   ]
  },
  {
   "cell_type": "code",
   "execution_count": 75,
   "metadata": {
    "id": "08ILy67PA9Km"
   },
   "outputs": [],
   "source": [
    "def function_result_09():\n",
    "    \n",
    "    print('[plot the testing loss]')\n",
    "    print('') \n",
    "    \n",
    "    plot_curve_error(loss_mean_test, loss_std_test, 'epoch', 'loss', 'testing loss')"
   ]
  },
  {
   "cell_type": "code",
   "execution_count": 76,
   "metadata": {
    "id": "RzRElUYcREsr"
   },
   "outputs": [],
   "source": [
    "def function_result_10():\n",
    "    \n",
    "    print('[plot the testing fidelity loss]')\n",
    "    print('') \n",
    "    \n",
    "    plot_curve_error(loss_fidelity_mean_test, loss_fidelity_std_test, 'epoch', 'loss', 'testing loss (fidelity)')"
   ]
  },
  {
   "cell_type": "code",
   "execution_count": 77,
   "metadata": {
    "id": "cp0_wwYyRM8f"
   },
   "outputs": [],
   "source": [
    "def function_result_11():\n",
    "    \n",
    "    print('[plot the testing regularization loss]')\n",
    "    print('') \n",
    "    \n",
    "    plot_curve_error(loss_regularization_mean_test, loss_regularization_std_test, 'epoch', 'loss', 'testing loss (regularization)')"
   ]
  },
  {
   "cell_type": "code",
   "execution_count": 78,
   "metadata": {
    "id": "gHDnt4ndA9Km"
   },
   "outputs": [],
   "source": [
    "def function_result_12():\n",
    "    \n",
    "    print('[plot the testing PSNR]') \n",
    "    print('') \n",
    "    \n",
    "    plot_curve_error(PSNR_mean_test, PSNR_std_test, 'epoch', 'PSNR', 'testing PSNR')"
   ]
  },
  {
   "cell_type": "code",
   "execution_count": 79,
   "metadata": {
    "id": "1HlkP764A9Km"
   },
   "outputs": [],
   "source": [
    "def function_result_13():\n",
    "    \n",
    "    print('[print the training loss (mean) at the last 10 epochs]')\n",
    "    print('') \n",
    "\n",
    "    data_last = get_data_last(loss_mean_train, -10)\n",
    "    index = np.arange(0, 10)\n",
    "    print_curve(data_last, index)"
   ]
  },
  {
   "cell_type": "code",
   "execution_count": 80,
   "metadata": {
    "id": "0JAxHIggA9Kn"
   },
   "outputs": [],
   "source": [
    "def function_result_14():\n",
    "    \n",
    "    print('[print the training PSNR (mean) at the last 10 epochs]')\n",
    "    print('') \n",
    "    \n",
    "    data_last = get_data_last(PSNR_mean_train, -10)\n",
    "    index = np.arange(0, 10)\n",
    "    print_curve(data_last, index)"
   ]
  },
  {
   "cell_type": "code",
   "execution_count": 81,
   "metadata": {
    "id": "YHP4nAgxA9Kn"
   },
   "outputs": [],
   "source": [
    "def function_result_15():\n",
    "    \n",
    "    print('[print the testing loss (mean) at the last 10 epochs]')\n",
    "    print('') \n",
    "    \n",
    "    data_last = get_data_last(loss_mean_test, -10)\n",
    "    index = np.arange(0, 10)\n",
    "    print_curve(data_last, index)"
   ]
  },
  {
   "cell_type": "code",
   "execution_count": 82,
   "metadata": {
    "id": "lslaY-A1A9Ko"
   },
   "outputs": [],
   "source": [
    "def function_result_16():\n",
    "    \n",
    "    print('[print the testing PSNR (mean) at the last 10 epochs]')\n",
    "    print('') \n",
    "    \n",
    "    data_last = get_data_last(PSNR_mean_test, -10)\n",
    "    index = np.arange(0, 10)\n",
    "    print_curve(data_last, index)"
   ]
  },
  {
   "cell_type": "code",
   "execution_count": 83,
   "metadata": {
    "id": "G_xYLoXkA9Ko"
   },
   "outputs": [],
   "source": [
    "def function_result_17():\n",
    "    \n",
    "    print('[print the best training PSNR (mean) within the last 10 epochs]')\n",
    "    print('') \n",
    "\n",
    "    value = get_max_last_range(PSNR_mean_train, -10)\n",
    "    print('best training PSNR = %12.10f' % (value))"
   ]
  },
  {
   "cell_type": "code",
   "execution_count": 84,
   "metadata": {
    "id": "-d0Zf7lsA9Ko"
   },
   "outputs": [],
   "source": [
    "def function_result_18():\n",
    "    \n",
    "    print('[print the best testing PSNR (mean) within the last 10 epochs]')\n",
    "    print('') \n",
    "    \n",
    "    value = get_max_last_range(PSNR_mean_test, -10)\n",
    "    print('best testing PSNR = %12.10f' % (value))"
   ]
  },
  {
   "cell_type": "markdown",
   "metadata": {
    "id": "8-Nw6A2jA9Kp"
   },
   "source": [
    "---"
   ]
  },
  {
   "cell_type": "markdown",
   "metadata": {
    "id": "Oa6-Ktz8A9Kp"
   },
   "source": [
    "# RESULTS"
   ]
  },
  {
   "cell_type": "markdown",
   "metadata": {
    "id": "AHREmjnvA9Kp"
   },
   "source": [
    "---"
   ]
  },
  {
   "cell_type": "code",
   "execution_count": 85,
   "metadata": {
    "colab": {
     "base_uri": "https://localhost:8080/",
     "height": 1000
    },
    "id": "3cGBA-ccA9Kp",
    "outputId": "0e1db1d4-602f-45a9-9f4e-4c46df20ac5a"
   },
   "outputs": [
    {
     "name": "stdout",
     "output_type": "stream",
     "text": [
      "\n",
      "################################################################################\n",
      "#\n",
      "# RESULT # 01\n",
      "#\n",
      "################################################################################\n",
      "\n",
      "[plot examples of the training images]\n",
      "\n"
     ]
    },
    {
     "ename": "IndexError",
     "evalue": "index 15 is out of bounds for dimension 0 with size 1",
     "output_type": "error",
     "traceback": [
      "\u001b[1;31m---------------------------------------------------------------------------\u001b[0m",
      "\u001b[1;31mIndexError\u001b[0m                                Traceback (most recent call last)",
      "\u001b[1;32m<ipython-input-85-84f249265125>\u001b[0m in \u001b[0;36m<module>\u001b[1;34m\u001b[0m\n\u001b[0;32m     14\u001b[0m     \u001b[0mprint\u001b[0m\u001b[1;33m(\u001b[0m\u001b[1;34m''\u001b[0m\u001b[1;33m)\u001b[0m\u001b[1;33m\u001b[0m\u001b[1;33m\u001b[0m\u001b[0m\n\u001b[0;32m     15\u001b[0m \u001b[1;33m\u001b[0m\u001b[0m\n\u001b[1;32m---> 16\u001b[1;33m     \u001b[0meval\u001b[0m\u001b[1;33m(\u001b[0m\u001b[0mname_function\u001b[0m\u001b[1;33m)\u001b[0m\u001b[1;33m\u001b[0m\u001b[1;33m\u001b[0m\u001b[0m\n\u001b[0m",
      "\u001b[1;32m<string>\u001b[0m in \u001b[0;36m<module>\u001b[1;34m\u001b[0m\n",
      "\u001b[1;32m<ipython-input-67-53a1600918de>\u001b[0m in \u001b[0;36mfunction_result_01\u001b[1;34m()\u001b[0m\n\u001b[0;32m      7\u001b[0m     \u001b[0mnCol\u001b[0m \u001b[1;33m=\u001b[0m \u001b[1;36m4\u001b[0m\u001b[1;33m\u001b[0m\u001b[1;33m\u001b[0m\u001b[0m\n\u001b[0;32m      8\u001b[0m     \u001b[0mindex_data\u001b[0m  \u001b[1;33m=\u001b[0m \u001b[0mnp\u001b[0m\u001b[1;33m.\u001b[0m\u001b[0marange\u001b[0m\u001b[1;33m(\u001b[0m\u001b[1;36m0\u001b[0m\u001b[1;33m,\u001b[0m \u001b[0mnRow\u001b[0m \u001b[1;33m*\u001b[0m \u001b[0mnCol\u001b[0m\u001b[1;33m)\u001b[0m\u001b[1;33m\u001b[0m\u001b[1;33m\u001b[0m\u001b[0m\n\u001b[1;32m----> 9\u001b[1;33m     \u001b[0mimage_train\u001b[0m \u001b[1;33m=\u001b[0m \u001b[0mdataset_train\u001b[0m\u001b[1;33m.\u001b[0m\u001b[0mnoise\u001b[0m\u001b[1;33m[\u001b[0m\u001b[0mindex_data\u001b[0m\u001b[1;33m]\u001b[0m\u001b[1;33m\u001b[0m\u001b[1;33m\u001b[0m\u001b[0m\n\u001b[0m\u001b[0;32m     10\u001b[0m \u001b[1;33m\u001b[0m\u001b[0m\n\u001b[0;32m     11\u001b[0m     \u001b[0mplot_data_grid\u001b[0m\u001b[1;33m(\u001b[0m\u001b[0mimage_train\u001b[0m\u001b[1;33m,\u001b[0m \u001b[0mindex_data\u001b[0m\u001b[1;33m,\u001b[0m \u001b[0mnRow\u001b[0m\u001b[1;33m,\u001b[0m \u001b[0mnCol\u001b[0m\u001b[1;33m)\u001b[0m\u001b[1;33m\u001b[0m\u001b[1;33m\u001b[0m\u001b[0m\n",
      "\u001b[1;31mIndexError\u001b[0m: index 15 is out of bounds for dimension 0 with size 1"
     ]
    }
   ],
   "source": [
    "number_result = 18\n",
    "\n",
    "for i in range(number_result):\n",
    "\n",
    "    title           = '# RESULT # {:02d}'.format(i+1) \n",
    "    name_function   = 'function_result_{:02d}()'.format(i+1)\n",
    "\n",
    "    print('') \n",
    "    print('################################################################################')\n",
    "    print('#') \n",
    "    print(title)\n",
    "    print('#') \n",
    "    print('################################################################################')\n",
    "    print('') \n",
    "\n",
    "    eval(name_function)"
   ]
  },
  {
   "cell_type": "code",
   "execution_count": null,
   "metadata": {},
   "outputs": [],
   "source": []
  }
 ],
 "metadata": {
  "accelerator": "GPU",
  "colab": {
   "collapsed_sections": [
    "rgD-FF4MA9Kg",
    "SnBT9fWXA9Kj"
   ],
   "name": "assignment_08_solution_latest.ipynb",
   "provenance": []
  },
  "interpreter": {
   "hash": "84bbda367bac7e7bffd9b7890a44d65326aaedad40e5a9021c2651157391b1ef"
  },
  "kernelspec": {
   "display_name": "Python 3",
   "language": "python",
   "name": "python3"
  },
  "language_info": {
   "codemirror_mode": {
    "name": "ipython",
    "version": 3
   },
   "file_extension": ".py",
   "mimetype": "text/x-python",
   "name": "python",
   "nbconvert_exporter": "python",
   "pygments_lexer": "ipython3",
   "version": "3.8.5"
  },
  "widgets": {
   "application/vnd.jupyter.widget-state+json": {
    "1737c99b4f2a4fa3bf0eb3dfb5451202": {
     "model_module": "@jupyter-widgets/controls",
     "model_module_version": "1.5.0",
     "model_name": "ProgressStyleModel",
     "state": {
      "_model_module": "@jupyter-widgets/controls",
      "_model_module_version": "1.5.0",
      "_model_name": "ProgressStyleModel",
      "_view_count": null,
      "_view_module": "@jupyter-widgets/base",
      "_view_module_version": "1.2.0",
      "_view_name": "StyleView",
      "bar_color": null,
      "description_width": ""
     }
    },
    "239c9a46a05049079295e9a024d3dd51": {
     "model_module": "@jupyter-widgets/base",
     "model_module_version": "1.2.0",
     "model_name": "LayoutModel",
     "state": {
      "_model_module": "@jupyter-widgets/base",
      "_model_module_version": "1.2.0",
      "_model_name": "LayoutModel",
      "_view_count": null,
      "_view_module": "@jupyter-widgets/base",
      "_view_module_version": "1.2.0",
      "_view_name": "LayoutView",
      "align_content": null,
      "align_items": null,
      "align_self": null,
      "border": null,
      "bottom": null,
      "display": null,
      "flex": null,
      "flex_flow": null,
      "grid_area": null,
      "grid_auto_columns": null,
      "grid_auto_flow": null,
      "grid_auto_rows": null,
      "grid_column": null,
      "grid_gap": null,
      "grid_row": null,
      "grid_template_areas": null,
      "grid_template_columns": null,
      "grid_template_rows": null,
      "height": null,
      "justify_content": null,
      "justify_items": null,
      "left": null,
      "margin": null,
      "max_height": null,
      "max_width": null,
      "min_height": null,
      "min_width": null,
      "object_fit": null,
      "object_position": null,
      "order": null,
      "overflow": null,
      "overflow_x": null,
      "overflow_y": null,
      "padding": null,
      "right": null,
      "top": null,
      "visibility": null,
      "width": null
     }
    },
    "2db8838d53f64220a146178527bbdfc6": {
     "model_module": "@jupyter-widgets/controls",
     "model_module_version": "1.5.0",
     "model_name": "DescriptionStyleModel",
     "state": {
      "_model_module": "@jupyter-widgets/controls",
      "_model_module_version": "1.5.0",
      "_model_name": "DescriptionStyleModel",
      "_view_count": null,
      "_view_module": "@jupyter-widgets/base",
      "_view_module_version": "1.2.0",
      "_view_name": "StyleView",
      "description_width": ""
     }
    },
    "4170355366274fbd9f1c59de386dbbe9": {
     "model_module": "@jupyter-widgets/base",
     "model_module_version": "1.2.0",
     "model_name": "LayoutModel",
     "state": {
      "_model_module": "@jupyter-widgets/base",
      "_model_module_version": "1.2.0",
      "_model_name": "LayoutModel",
      "_view_count": null,
      "_view_module": "@jupyter-widgets/base",
      "_view_module_version": "1.2.0",
      "_view_name": "LayoutView",
      "align_content": null,
      "align_items": null,
      "align_self": null,
      "border": null,
      "bottom": null,
      "display": null,
      "flex": null,
      "flex_flow": null,
      "grid_area": null,
      "grid_auto_columns": null,
      "grid_auto_flow": null,
      "grid_auto_rows": null,
      "grid_column": null,
      "grid_gap": null,
      "grid_row": null,
      "grid_template_areas": null,
      "grid_template_columns": null,
      "grid_template_rows": null,
      "height": null,
      "justify_content": null,
      "justify_items": null,
      "left": null,
      "margin": null,
      "max_height": null,
      "max_width": null,
      "min_height": null,
      "min_width": null,
      "object_fit": null,
      "object_position": null,
      "order": null,
      "overflow": null,
      "overflow_x": null,
      "overflow_y": null,
      "padding": null,
      "right": null,
      "top": null,
      "visibility": null,
      "width": null
     }
    },
    "4aee7c4a7b354a24b124ddd2db109bdc": {
     "model_module": "@jupyter-widgets/controls",
     "model_module_version": "1.5.0",
     "model_name": "HTMLModel",
     "state": {
      "_dom_classes": [],
      "_model_module": "@jupyter-widgets/controls",
      "_model_module_version": "1.5.0",
      "_model_name": "HTMLModel",
      "_view_count": null,
      "_view_module": "@jupyter-widgets/controls",
      "_view_module_version": "1.5.0",
      "_view_name": "HTMLView",
      "description": "",
      "description_tooltip": null,
      "layout": "IPY_MODEL_4d8e5ac6a2ad43589b5b4c8339acfffc",
      "placeholder": "​",
      "style": "IPY_MODEL_9ebf573b91cf4507b36d002daebf66a2",
      "value": "  2%"
     }
    },
    "4d8e5ac6a2ad43589b5b4c8339acfffc": {
     "model_module": "@jupyter-widgets/base",
     "model_module_version": "1.2.0",
     "model_name": "LayoutModel",
     "state": {
      "_model_module": "@jupyter-widgets/base",
      "_model_module_version": "1.2.0",
      "_model_name": "LayoutModel",
      "_view_count": null,
      "_view_module": "@jupyter-widgets/base",
      "_view_module_version": "1.2.0",
      "_view_name": "LayoutView",
      "align_content": null,
      "align_items": null,
      "align_self": null,
      "border": null,
      "bottom": null,
      "display": null,
      "flex": null,
      "flex_flow": null,
      "grid_area": null,
      "grid_auto_columns": null,
      "grid_auto_flow": null,
      "grid_auto_rows": null,
      "grid_column": null,
      "grid_gap": null,
      "grid_row": null,
      "grid_template_areas": null,
      "grid_template_columns": null,
      "grid_template_rows": null,
      "height": null,
      "justify_content": null,
      "justify_items": null,
      "left": null,
      "margin": null,
      "max_height": null,
      "max_width": null,
      "min_height": null,
      "min_width": null,
      "object_fit": null,
      "object_position": null,
      "order": null,
      "overflow": null,
      "overflow_x": null,
      "overflow_y": null,
      "padding": null,
      "right": null,
      "top": null,
      "visibility": null,
      "width": null
     }
    },
    "9ebf573b91cf4507b36d002daebf66a2": {
     "model_module": "@jupyter-widgets/controls",
     "model_module_version": "1.5.0",
     "model_name": "DescriptionStyleModel",
     "state": {
      "_model_module": "@jupyter-widgets/controls",
      "_model_module_version": "1.5.0",
      "_model_name": "DescriptionStyleModel",
      "_view_count": null,
      "_view_module": "@jupyter-widgets/base",
      "_view_module_version": "1.2.0",
      "_view_name": "StyleView",
      "description_width": ""
     }
    },
    "adcb1a0807bc4b8889eb37c4422aec8d": {
     "model_module": "@jupyter-widgets/base",
     "model_module_version": "1.2.0",
     "model_name": "LayoutModel",
     "state": {
      "_model_module": "@jupyter-widgets/base",
      "_model_module_version": "1.2.0",
      "_model_name": "LayoutModel",
      "_view_count": null,
      "_view_module": "@jupyter-widgets/base",
      "_view_module_version": "1.2.0",
      "_view_name": "LayoutView",
      "align_content": null,
      "align_items": null,
      "align_self": null,
      "border": null,
      "bottom": null,
      "display": null,
      "flex": null,
      "flex_flow": null,
      "grid_area": null,
      "grid_auto_columns": null,
      "grid_auto_flow": null,
      "grid_auto_rows": null,
      "grid_column": null,
      "grid_gap": null,
      "grid_row": null,
      "grid_template_areas": null,
      "grid_template_columns": null,
      "grid_template_rows": null,
      "height": null,
      "justify_content": null,
      "justify_items": null,
      "left": null,
      "margin": null,
      "max_height": null,
      "max_width": null,
      "min_height": null,
      "min_width": null,
      "object_fit": null,
      "object_position": null,
      "order": null,
      "overflow": null,
      "overflow_x": null,
      "overflow_y": null,
      "padding": null,
      "right": null,
      "top": null,
      "visibility": null,
      "width": null
     }
    },
    "f4874dd5f4e4483e8dbfeb1d4cd69cc2": {
     "model_module": "@jupyter-widgets/controls",
     "model_module_version": "1.5.0",
     "model_name": "FloatProgressModel",
     "state": {
      "_dom_classes": [],
      "_model_module": "@jupyter-widgets/controls",
      "_model_module_version": "1.5.0",
      "_model_name": "FloatProgressModel",
      "_view_count": null,
      "_view_module": "@jupyter-widgets/controls",
      "_view_module_version": "1.5.0",
      "_view_name": "ProgressView",
      "bar_style": "",
      "description": "",
      "description_tooltip": null,
      "layout": "IPY_MODEL_adcb1a0807bc4b8889eb37c4422aec8d",
      "max": 200,
      "min": 0,
      "orientation": "horizontal",
      "style": "IPY_MODEL_1737c99b4f2a4fa3bf0eb3dfb5451202",
      "value": 3
     }
    },
    "f4ff3a44008d44e29f2706c5743d3a59": {
     "model_module": "@jupyter-widgets/controls",
     "model_module_version": "1.5.0",
     "model_name": "HBoxModel",
     "state": {
      "_dom_classes": [],
      "_model_module": "@jupyter-widgets/controls",
      "_model_module_version": "1.5.0",
      "_model_name": "HBoxModel",
      "_view_count": null,
      "_view_module": "@jupyter-widgets/controls",
      "_view_module_version": "1.5.0",
      "_view_name": "HBoxView",
      "box_style": "",
      "children": [
       "IPY_MODEL_4aee7c4a7b354a24b124ddd2db109bdc",
       "IPY_MODEL_f4874dd5f4e4483e8dbfeb1d4cd69cc2",
       "IPY_MODEL_fbb4b7c08b2c4d80a91de76f6b135672"
      ],
      "layout": "IPY_MODEL_239c9a46a05049079295e9a024d3dd51"
     }
    },
    "fbb4b7c08b2c4d80a91de76f6b135672": {
     "model_module": "@jupyter-widgets/controls",
     "model_module_version": "1.5.0",
     "model_name": "HTMLModel",
     "state": {
      "_dom_classes": [],
      "_model_module": "@jupyter-widgets/controls",
      "_model_module_version": "1.5.0",
      "_model_name": "HTMLModel",
      "_view_count": null,
      "_view_module": "@jupyter-widgets/controls",
      "_view_module_version": "1.5.0",
      "_view_name": "HTMLView",
      "description": "",
      "description_tooltip": null,
      "layout": "IPY_MODEL_4170355366274fbd9f1c59de386dbbe9",
      "placeholder": "​",
      "style": "IPY_MODEL_2db8838d53f64220a146178527bbdfc6",
      "value": " 3/200 [00:23&lt;26:05,  7.94s/it]"
     }
    }
   }
  }
 },
 "nbformat": 4,
 "nbformat_minor": 2
}
